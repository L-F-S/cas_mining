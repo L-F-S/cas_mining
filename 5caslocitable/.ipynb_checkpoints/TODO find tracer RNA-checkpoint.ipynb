{
 "cells": [
  {
   "cell_type": "markdown",
   "metadata": {},
   "source": [
    "# TODO find tracerRNA"
   ]
  },
  {
   "cell_type": "code",
   "execution_count": null,
   "metadata": {},
   "outputs": [],
   "source": [
    "for index, row in active_working_unknwon_cas9s.iterrows():\n",
    "    s3_dataset=row.Study\n",
    "    s3_genomename=row[\"Genome Name\"]\n",
    "    contig=row.Contig\n",
    "    idd=row[\"Seq ID\"]\n",
    "    print(\"\\n-----------------------------------------------------\\nidd:\",idd,\"\\tgenome\",s3_genomename,\"\\tlen:\",len(row.Seq),\"\\n-----------------------------------------------------\\n\")\n",
    "\n",
    "    \n",
    "    # 1 get CRISPR spacer sequence\n",
    "    repeats_list_for_contig=[]\n",
    "    pilercrCRISPRfilename=CRISPRdir+\"/\"+s3_dataset+\"/\"+s3_genomename+\".fa.pilercr.out\"\n",
    "    #print(mincedCRISPRfilename)\n",
    "    we_are_in_the_right_contig=False\n",
    "    laprossimalinebuona=False\n",
    "    sononelsummary=False\n",
    "    f=open(pilercrCRISPRfilename, \"r\")\n",
    "    n=0\n",
    "    for line in f.readlines():\n",
    "        if line.startswith(\"SUMMARY BY POSITION\"):\n",
    "            sononelsummary=True\n",
    "            \n",
    "        if sononelsummary:\n",
    "            if laprossimalinebuona:\n",
    "            #    print(\"BA\")\n",
    "             #   print(line.split()[-1])\n",
    "                repeats_list_for_contig.append(line.split()[-1])  #2 for repeat, 3 for spacer\n",
    "                we_are_in_the_right_contig=False\n",
    "                laprossimalinebuona=False\n",
    "                sononelsummary=False\n",
    "\n",
    "\n",
    "            if line.startswith(\">\"):\n",
    "#                print(line)\n",
    "                if contig==line.lstrip(\">\").strip():\n",
    "  #                  print(\"contig giust\")\n",
    "                    we_are_in_the_right_contig=True\n",
    "            if we_are_in_the_right_contig:\n",
    "                if line.startswith(\"=\"):\n",
    "  #                  print(\"line giust\")\n",
    "                    laprossimalinebuona=True\n",
    "\n",
    "    f.close()\n",
    "    print(repeats_list_for_contig)  #usually just one!\n",
    "    \n",
    "    # ho la lista di repeats:\n",
    "    #fai tracrRNA\n"
   ]
  }
 ],
 "metadata": {
  "kernelspec": {
   "display_name": "Python 3",
   "language": "python",
   "name": "python3"
  },
  "language_info": {
   "codemirror_mode": {
    "name": "ipython",
    "version": 3
   },
   "file_extension": ".py",
   "mimetype": "text/x-python",
   "name": "python",
   "nbconvert_exporter": "python",
   "pygments_lexer": "ipython3",
   "version": "3.7.3"
  }
 },
 "nbformat": 4,
 "nbformat_minor": 2
}
