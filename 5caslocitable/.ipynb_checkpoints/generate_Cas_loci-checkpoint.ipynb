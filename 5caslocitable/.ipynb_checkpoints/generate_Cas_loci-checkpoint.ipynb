{
 "cells": [
  {
   "cell_type": "code",
   "execution_count": 1,
   "metadata": {},
   "outputs": [],
   "source": [
    "#!/bin/bash\n",
    "# Mon Jul 22 10:50:47 CEST 2019\n",
    "# Made by L-F-S\n",
    "# At the University Of Trento, Italy\n",
    "\n",
    "import os\n",
    "import sys\n",
    "import numpy as np\n",
    "import pandas as pd\n",
    "import matplotlib.pyplot as plt\n",
    "\n",
    "sys.path.insert(0, '/home/lorenzo.signorini/utils/')\n",
    "import filename_discrepancies\n",
    "\n",
    "\n",
    "dataset=\"ZellerG_2014\" #sys.argv[1] #TODO switch test dataset\n",
    "outdir=\"/shares/CIBIO-Storage/CM/scratch/tmp_projects/signorini_cas/Nstep\" #TODO add nstepdir\n",
    "datadir=\"/shares/CIBIO-Storage/CM/scratch/tmp_projects/signorini_cas/\" #TODO add nstepdir\n",
    "annodir=\"/shares/CIBIO-Storage/CM/scratch/tmp_projects/signorini_cas/2casanno/crisprcasanno\"\n"
   ]
  },
  {
   "cell_type": "markdown",
   "metadata": {},
   "source": [
    "# do it for 1 genome first"
   ]
  },
  {
   "cell_type": "code",
   "execution_count": null,
   "metadata": {},
   "outputs": [],
   "source": [
    "# Extract sequence information from GENOMES WITH <cas9> annotation.\n",
    "feature=\"Cas9\"\n",
    "tabellazza=pd.read_csv(datadir+\"/3tabellazza/crisprcas_hits_table.csv\", index_col=0)\n",
    "\n",
    "# OPTIONAL TODO : subsample for a single SGB\n",
    "chosen_SGB=15286  # Cibiobacter SGB\n",
    "single_SGB=tabellazza[tabellazza[\"SGB ID\"]==chosen_SGB]\n",
    "\n",
    "subset_of_genomes=single_SGB \n",
    "\n",
    "genomes_with_that_feature=single_SGB=subset_of_genomes[subset_of_genomes.prokka_cas.str.contains(feature)==True]\n",
    "print(\"Found \", len(genomes_with_that_feature), \" genomes with that feature.\")\n",
    "\n"
   ]
  }
 ],
 "metadata": {
  "kernelspec": {
   "display_name": "Python 3",
   "language": "python",
   "name": "python3"
  },
  "language_info": {
   "codemirror_mode": {
    "name": "ipython",
    "version": 3
   },
   "file_extension": ".py",
   "mimetype": "text/x-python",
   "name": "python",
   "nbconvert_exporter": "python",
   "pygments_lexer": "ipython3",
   "version": "3.7.3"
  }
 },
 "nbformat": 4,
 "nbformat_minor": 2
}
