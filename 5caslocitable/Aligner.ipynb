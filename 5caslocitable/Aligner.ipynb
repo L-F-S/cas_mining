{
 "cells": [
  {
   "cell_type": "code",
   "execution_count": 24,
   "metadata": {},
   "outputs": [],
   "source": [
    "import os\n",
    "from Bio import SeqIO\n",
    "from Bio.Seq import Seq\n",
    "from Bio.SeqRecord import SeqRecord\n",
    "from Bio import AlignIO\n",
    "from Bio.Align.Applications import ClustalwCommandline\n",
    "\n",
    "outpath=\"/shares/CIBIO-Storage/CM/scratch/tmp_projects/signorini_cas/\"\n",
    "feature=\"Cas9\"\n",
    "seqid=\"FBDDNBEO_00645\""
   ]
  },
  {
   "cell_type": "code",
   "execution_count": null,
   "metadata": {},
   "outputs": [],
   "source": [
    "from Bio.Align import AlignInfo\n",
    "from Bio import pairwise2"
   ]
  },
  {
   "cell_type": "code",
   "execution_count": 12,
   "metadata": {},
   "outputs": [],
   "source": [
    "ref_fasta=outpath+\"references/uniprot_working_Cas9s.fasta\"\n",
    "cas9_aa_path=outpath+\"9output/Cas9/FBDDNBEO_00645/Cas9_FBDDNBEO_00645.faa\""
   ]
  },
  {
   "cell_type": "code",
   "execution_count": 21,
   "metadata": {},
   "outputs": [
    {
     "data": {
      "text/plain": [
       "9"
      ]
     },
     "execution_count": 21,
     "metadata": {},
     "output_type": "execute_result"
    }
   ],
   "source": [
    "alignments=[]\n",
    "for row in list(SeqIO.parse(cas9_aa_path,'fasta'))+list(SeqIO.parse(ref_fasta, 'fasta')):\n",
    "    tempseq=SeqRecord(row.seq, id=row.id, description=\"\")\n",
    "    alignments.append(tempseq)\n",
    "\n",
    "SeqIO.write(alignments, outpath+\"9output/\"+feature+\"/\"+seqid+\"/msa.faa\", \"fasta\")"
   ]
  },
  {
   "cell_type": "code",
   "execution_count": 25,
   "metadata": {},
   "outputs": [
    {
     "name": "stdout",
     "output_type": "stream",
     "text": [
      "clustalw -infile=/shares/CIBIO-Storage/CM/scratch/tmp_projects/signorini_cas/9output/Cas9/FBDDNBEO_00645/msa.faa -outfile=/shares/CIBIO-Storage/CM/scratch/tmp_projects/signorini_cas/9output/Cas9/FBDDNBEO_00645/msa.aln\n"
     ]
    },
    {
     "data": {
      "text/plain": [
       "0"
      ]
     },
     "execution_count": 25,
     "metadata": {},
     "output_type": "execute_result"
    }
   ],
   "source": [
    "cline= ClustalwCommandline(\"clustalw\", infile=outpath+\"9output/Cas9/FBDDNBEO_00645/msa.faa\", outfile=outpath+\"9output/\"+feature+\"/\"+seqid+\"/msa.aln\")\n",
    "print(cline)\n",
    "os.system(str(cline))"
   ]
  },
  {
   "cell_type": "code",
   "execution_count": null,
   "metadata": {},
   "outputs": [],
   "source": []
  }
 ],
 "metadata": {
  "kernelspec": {
   "display_name": "Python 3",
   "language": "python",
   "name": "python3"
  },
  "language_info": {
   "codemirror_mode": {
    "name": "ipython",
    "version": 3
   },
   "file_extension": ".py",
   "mimetype": "text/x-python",
   "name": "python",
   "nbconvert_exporter": "python",
   "pygments_lexer": "ipython3",
   "version": "3.7.3"
  }
 },
 "nbformat": 4,
 "nbformat_minor": 2
}
