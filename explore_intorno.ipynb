{
 "cells": [
  {
   "cell_type": "markdown",
   "metadata": {},
   "source": [
    "# find tracerRNA\n"
   ]
  },
  {
   "cell_type": "code",
   "execution_count": 1,
   "metadata": {},
   "outputs": [],
   "source": [
    "# First created Thu Jul 11 09:51:15 CEST 2019\n",
    "# Made by L-F-S\n",
    "# At the University Of Trento, Italy\n",
    "\n",
    "import os\n",
    "import sys\n",
    "import subprocess\n",
    "import numpy as np\n",
    "import pandas as pd\n",
    "import matplotlib.pyplot as plt\n",
    "from Bio import SeqIO\n",
    "from Bio.Seq import Seq\n",
    "from Bio.Alphabet import generic_dna, generic_protein, RNAAlphabet\n",
    "from Bio import pairwise2\n",
    "\n",
    "\n",
    "sys.path.insert(0, '/home/lorenzo.signorini/cas_mining/utils/')\n",
    "import filename_discrepancies\n",
    "import originalpath\n",
    "sys.path.insert(0, '/home/lorenzo.signorini/cas_mining/9casminer_v2/')\n",
    "import locus\n",
    "\n",
    "feature=\"Cas9\" #WARNING!!! CHANGE THIS!!\n",
    "#outpath=\"/shares/CIBIO-Storage/CM/scratch/tmp_projects/signorini_cas/5caslocitable/out/\"+feature+\"/\"\n",
    "datadir=\"/shares/CIBIO-Storage/CM/news/users/lorenzo.signorini/7tracrRNA/\"\n",
    "outdir=\"/shares/CIBIO-Storage/CM/news/users/lorenzo.signorini/9output/\"+feature+\"/\"\n",
    "\n"
   ]
  },
  {
   "cell_type": "code",
   "execution_count": 2,
   "metadata": {
    "scrolled": false
   },
   "outputs": [
    {
     "data": {
      "text/plain": [
       "Index(['Seq ID', 'Seq Description', 'Seq', 'Contig', 'Genome Name', 'Study',\n",
       "       'Sample Name', 'SGB ID', 'Pos', 'pilercr_CRISPR', 'minced_CRISPR',\n",
       "       'prokka_cas1', 'prokka_cas2', 'uSGB', 'Level of estimated taxonomy',\n",
       "       'Estimated taxonomy', 'prokka_cas9'],\n",
       "      dtype='object')"
      ]
     },
     "execution_count": 2,
     "metadata": {},
     "output_type": "execute_result"
    }
   ],
   "source": [
    "# Import data\n",
    "cas_dataset=pd.read_csv(\"/shares/CIBIO-Storage/CM/news/users/lorenzo.signorini/5caslocitable/known_\"+feature+\"_variants_table.csv\", index_col=0)\n",
    "cas_dataset.columns"
   ]
  },
  {
   "cell_type": "code",
   "execution_count": 14,
   "metadata": {},
   "outputs": [],
   "source": [
    "#seqids: AOPFDEBE_00006\n",
    "# FBDDNBEO_00645\n",
    "# HPLHKOKB_00548\n",
    "# LPEAHEHG_01071\n",
    "# CJFLGLGO_01367\n",
    "# AJHGDLDC_00764\n",
    "# HPLHKOKB_00548\n",
    "# LEAPHKCP_01380\n",
    "# DOOEBCFP_00186"
   ]
  },
  {
   "cell_type": "code",
   "execution_count": 3,
   "metadata": {},
   "outputs": [
    {
     "name": "stdout",
     "output_type": "stream",
     "text": [
      "SEQ ID:  FBDDNBEO_00645\n",
      "NODE_2092_length_11346_cov_6.0000_ID_47560\n",
      "ZeeviD_2015\n",
      "ZeeviD_2015__PNP_Main_471__bin.13\n",
      "8770\n",
      "1034\n",
      "[('.', '27', '260')]\n",
      "----------------------------------------------------------------------\n"
     ]
    }
   ],
   "source": [
    "seqid =\"FBDDNBEO_00645\"   # MANUAL INPUT\n",
    "outdir=outdir+seqid+\"/\"\n",
    "if not os.path.exists(outdir):\n",
    "    os.makedirs(outdir)\n",
    "print(\"SEQ ID: \", seqid)\n",
    "print(cas_dataset[cas_dataset[\"Seq ID\"]==seqid][\"Contig\"].iloc[0])\n",
    "print(cas_dataset[cas_dataset[\"Seq ID\"]==seqid][\"Study\"].iloc[0])\n",
    "print(cas_dataset[cas_dataset[\"Seq ID\"]==seqid][\"Genome Name\"].iloc[0])\n",
    "print(cas_dataset[cas_dataset[\"Seq ID\"]==seqid][\"SGB ID\"].iloc[0])\n",
    "print(len(cas_dataset[cas_dataset[\"Seq ID\"]==seqid][\"Seq\"].iloc[0]))\n",
    "print(cas_dataset[cas_dataset[\"Seq ID\"]==seqid][\"minced_CRISPR\"].iloc[0])\n",
    "print(\"----------------------------------------------------------------------\")\n"
   ]
  },
  {
   "cell_type": "markdown",
   "metadata": {},
   "source": [
    "## check there is only 1 Cas9 in that genome.."
   ]
  },
  {
   "cell_type": "code",
   "execution_count": 4,
   "metadata": {},
   "outputs": [
    {
     "data": {
      "text/html": [
       "<div>\n",
       "<style scoped>\n",
       "    .dataframe tbody tr th:only-of-type {\n",
       "        vertical-align: middle;\n",
       "    }\n",
       "\n",
       "    .dataframe tbody tr th {\n",
       "        vertical-align: top;\n",
       "    }\n",
       "\n",
       "    .dataframe thead th {\n",
       "        text-align: right;\n",
       "    }\n",
       "</style>\n",
       "<table border=\"1\" class=\"dataframe\">\n",
       "  <thead>\n",
       "    <tr style=\"text-align: right;\">\n",
       "      <th></th>\n",
       "      <th>Seq ID</th>\n",
       "      <th>Seq Description</th>\n",
       "      <th>Seq</th>\n",
       "      <th>Contig</th>\n",
       "      <th>Genome Name</th>\n",
       "      <th>Study</th>\n",
       "      <th>Sample Name</th>\n",
       "      <th>SGB ID</th>\n",
       "      <th>Pos</th>\n",
       "      <th>pilercr_CRISPR</th>\n",
       "      <th>minced_CRISPR</th>\n",
       "      <th>prokka_cas1</th>\n",
       "      <th>prokka_cas2</th>\n",
       "      <th>uSGB</th>\n",
       "      <th>Level of estimated taxonomy</th>\n",
       "      <th>Estimated taxonomy</th>\n",
       "      <th>prokka_cas9</th>\n",
       "    </tr>\n",
       "  </thead>\n",
       "  <tbody>\n",
       "    <tr>\n",
       "      <td>30968</td>\n",
       "      <td>FBDDNBEO_00645</td>\n",
       "      <td>FBDDNBEO_00645 CRISPR-associated endonuclease ...</td>\n",
       "      <td>MGAEFRHVTSLLLDEDFGEIKTAAGLRRQMRTRKAHKAREKWLERC...</td>\n",
       "      <td>NODE_2092_length_11346_cov_6.0000_ID_47560</td>\n",
       "      <td>ZeeviD_2015__PNP_Main_471__bin.13</td>\n",
       "      <td>ZeeviD_2015</td>\n",
       "      <td>PNP_Main_471</td>\n",
       "      <td>8770</td>\n",
       "      <td>1663 4767</td>\n",
       "      <td>[('ID=CRISPR1', '.', '4')]</td>\n",
       "      <td>[('.', '27', '260')]</td>\n",
       "      <td>[('ID=FBDDNBEO_00644', '776', '1666')]</td>\n",
       "      <td>[('ID=FBDDNBEO_00643', '378', '728')]</td>\n",
       "      <td>Yes</td>\n",
       "      <td>Other</td>\n",
       "      <td>-</td>\n",
       "      <td>('ID=FBDDNBEO_00645', '1663', '4767')</td>\n",
       "    </tr>\n",
       "  </tbody>\n",
       "</table>\n",
       "</div>"
      ],
      "text/plain": [
       "               Seq ID                                    Seq Description  \\\n",
       "30968  FBDDNBEO_00645  FBDDNBEO_00645 CRISPR-associated endonuclease ...   \n",
       "\n",
       "                                                     Seq  \\\n",
       "30968  MGAEFRHVTSLLLDEDFGEIKTAAGLRRQMRTRKAHKAREKWLERC...   \n",
       "\n",
       "                                           Contig  \\\n",
       "30968  NODE_2092_length_11346_cov_6.0000_ID_47560   \n",
       "\n",
       "                             Genome Name        Study   Sample Name  SGB ID  \\\n",
       "30968  ZeeviD_2015__PNP_Main_471__bin.13  ZeeviD_2015  PNP_Main_471    8770   \n",
       "\n",
       "             Pos              pilercr_CRISPR         minced_CRISPR  \\\n",
       "30968  1663 4767  [('ID=CRISPR1', '.', '4')]  [('.', '27', '260')]   \n",
       "\n",
       "                                  prokka_cas1  \\\n",
       "30968  [('ID=FBDDNBEO_00644', '776', '1666')]   \n",
       "\n",
       "                                 prokka_cas2 uSGB Level of estimated taxonomy  \\\n",
       "30968  [('ID=FBDDNBEO_00643', '378', '728')]  Yes                       Other   \n",
       "\n",
       "      Estimated taxonomy                            prokka_cas9  \n",
       "30968                  -  ('ID=FBDDNBEO_00645', '1663', '4767')  "
      ]
     },
     "execution_count": 4,
     "metadata": {},
     "output_type": "execute_result"
    }
   ],
   "source": [
    "genomename=cas_dataset[cas_dataset[\"Seq ID\"]==seqid][\"Genome Name\"].iloc[0]\n",
    "cas_dataset[cas_dataset[\"Genome Name\"]==genomename]"
   ]
  },
  {
   "cell_type": "code",
   "execution_count": 19,
   "metadata": {
    "scrolled": false
   },
   "outputs": [
    {
     "name": "stdout",
     "output_type": "stream",
     "text": [
      "\n",
      "-----------------------------------------------------\n",
      "Cas9 id:\tLPEAHEHG_01071\n",
      "SGB:\t15299\n",
      "Genome Name:\t ChengpingW_2017__AS43raw__bin.51\n",
      "Contig:\tNODE_190_length_65757_cov_25.3876 \n",
      "-----------------------------------------------------\n",
      "\n",
      "..working genomename: ('ChengpingW_2017__AS43raw__bin.51', 'ChengpingW_2017')\n",
      "CRISPR array sequence for LPEAHEHG_01071 Cas9.\n",
      "REPEAT                               SPACER\n",
      "\n",
      "GGGATGATTTACTAATAGCTCTTGGTATGGTATAAT CTTCCGTGCCATTTCCTCTATGACAGAATC\n",
      "GTCATAGTTCCCTAACAGCTCTTGGTATGGTATAAT CTGCCCGGCGACGTGCGTGTGAGCGATACG\n",
      "GTCATAGTTCCCTAATAGCTCTTGGTATGGTATAAT CCTGCCGCCCAATGCCCAGGACAACGAACT\n",
      "GTCATAGTTCCCTAATAGCTCTTGGTATGGTATAAT AACGACTATTCAACGCACGGTAATAGCGCCT\n",
      "unique repeats:\n",
      "repeat  1 :\t GGGATGATTTACTAATAGCTCTTGGTATGGTATAAT\n",
      "repeat  2 :\t GTCATAGTTCCCTAACAGCTCTTGGTATGGTATAAT\n",
      "repeat  3 :\t GTCATAGTTCCCTAATAGCTCTTGGTATGGTATAAT\n",
      "cp /shares/CIBIO-Storage/CM/news/users/lorenzo.signorini/1crisprsearch/out/ChengpingW_2017/ChengpingW_2017__AS43raw__bin.51.fa.minced.out /shares/CIBIO-Storage/CM/news/users/lorenzo.signorini/7tracrRNA/\n",
      "Locus features and positions:  {'Cas9': [11349, 14573], 'Cas1': [10464, 11345], 'Cas2': [10151, 10459], 'CRISPR': [9802, 10102]}\n",
      "++++++++++++++++++++++++++++++++++++++++++++++++++++++++++++++++++++++++++++++++\n",
      "{'Cas9': [11349, 14573], 'Cas1': [10464, 11345], 'Cas2': [10151, 10459], 'CRISPR': [9802, 10102]}\n",
      "Retrieving locus\n",
      "CRISPR si trova [9802, 10102]\n",
      "Cas9 si trova [11349, 14573]\n",
      "Cas2 si trova [10151, 10459]\n",
      "Cas1 si trova [10464, 11345]\n",
      "1074.0 1074\n",
      "Cas locus on minus strand\n",
      "Is Cas9 translated from the genome equal to the orignal annotation? True\n",
      "MKHPYGIGLDIGIASVGWAVVALNENAEPYGLIRCGSRIFDAAEQPNTGESLAAPRREARSTRRRLRRRSLRKADLYELMAQNGLPGRAEIEEAVQAGHLPDIYALRVQALDGPVTAMDFARILLHLMQRRGFRSNRKADDAQKDGKLLQAIDANTRRMEENHYRTVGEMMYRDPVFAEHKRNKSENYLSTVRRDQIVEEAVQLFAAQRQYGAAWASPKMEAEYLTILTRQRSFAEGPGGDSPYRGMQKVGPCALEGKSERRAPKATFAFEYFTLLQKINHIRIAENGVNRILTAEERQELLSACYRTDKLDFARIRKLLALPGEARFNMVRYRENQTAEECEKKEKITVLPCYHKMRKVLNTLRKDHIRSISREQLDAAATALTNPENEEKLRAALEEAQFEPLEVDALMALPSFSGFGHISVKACRKLIPYLEQGLNYNDACKEAGYDFQGNYRGEKSQFLPASTEEMEDITSPVVRRAVAQTIKVVNAIIREQGESPVNIHLELAREMSKNYKQRNELADAMEKNQAENARLMEKLHDLFRGRTITGQTLVKYRLWKEQKEVCAYSLQMMKLDSVITDSSYAEVDHIVPYSRSFDDRRTNKVLVLTSENRKKGDRLPLEYLQGKRREDFIVYTKANVKNYRKRQNLLKEGLSKEESREFIQRNLQDTQYSASFMLNYIRNHLAFADCSAAGKQRVVAVNGAVTAFLRKRWGLSKVRADGDLHHAVDATVIACTTPSMVKRVTEFCKQEETNHVRNEYFPEPWPRFRDELMQRLSACPQENLMQINPVYYQNVDIASIRPVFVSRMPRHKMTGAAHKETIKGRLDDAHTVQRRSITDLKLDKEGEIAGYFNPSSDTLLYNALKEQLTAFGGDGKKAFAEPFFKPRADGTPGAQVRKVKVYDKATSMVAVHEGKGVADNDTMVRIDVYFMPGDGYYWVPIYVADTVKPELPNKAVIAHKNYAEWKEMDEKDFLFSLCPNDLIRVESKRTMKFKVQNKDSTLEKEMQTNGDMVYFEGGNISGGSITVATHDGAYMVESLGLKTLQKVQKYQVDALGNYTLVKKEKRQYFPAQRR\n",
      "++++++++++++++++++++++++++++++++++++++++++++++++++++++++++++++++++++++++++++++++\n",
      "MKHPYGIGLDIGIASVGWAVVALNENAEPYGLIRCGSRIFDAAEQPNTGESLAAPRREARSTRRRLRRRSLRKADLYELMAQNGLPGRAEIEEAVQAGHLPDIYALRVQALDGPVTAMDFARILLHLMQRRGFRSNRKADDAQKDGKLLQAIDANTRRMEENHYRTVGEMMYRDPVFAEHKRNKSENYLSTVRRDQIVEEAVQLFAAQRQYGAAWASPKMEAEYLTILTRQRSFAEGPGGDSPYRGMQKVGPCALEGKSERRAPKATFAFEYFTLLQKINHIRIAENGVNRILTAEERQELLSACYRTDKLDFARIRKLLALPGEARFNMVRYRENQTAEECEKKEKITVLPCYHKMRKVLNTLRKDHIRSISREQLDAAATALTNPENEEKLRAALEEAQFEPLEVDALMALPSFSGFGHISVKACRKLIPYLEQGLNYNDACKEAGYDFQGNYRGEKSQFLPASTEEMEDITSPVVRRAVAQTIKVVNAIIREQGESPVNIHLELAREMSKNYKQRNELADAMEKNQAENARLMEKLHDLFRGRTITGQTLVKYRLWKEQKEVCAYSLQMMKLDSVITDSSYAEVDHIVPYSRSFDDRRTNKVLVLTSENRKKGDRLPLEYLQGKRREDFIVYTKANVKNYRKRQNLLKEGLSKEESREFIQRNLQDTQYSASFMLNYIRNHLAFADCSAAGKQRVVAVNGAVTAFLRKRWGLSKVRADGDLHHAVDATVIACTTPSMVKRVTEFCKQEETNHVRNEYFPEPWPRFRDELMQRLSACPQENLMQINPVYYQNVDIASIRPVFVSRMPRHKMTGAAHKETIKGRLDDAHTVQRRSITDLKLDKEGEIAGYFNPSSDTLLYNALKEQLTAFGGDGKKAFAEPFFKPRADGTPGAQVRKVKVYDKATSMVAVHEGKGVADNDTMVRIDVYFMPGDGYYWVPIYVADTVKPELPNKAVIAHKNYAEWKEMDEKDFLFSLCPNDLIRVESKRTMKFKVQNKDSTLEKEMQTNGDMVYFEGGNISGGSITVATHDGAYMVESLGLKTLQKVQKYQVDALGNYTLVKKEKRQYFPAQRR\n",
      "MKHPYGIGLDIGIASVGWAVVALNENAEPYGLIRCGSRIFDAAEQPNTGESLAAPRREARSTRRRLRRRSLRKADLYELMAQNGLPGRAEIEEAVQAGHLPDIYALRVQALDGPVTAMDFARILLHLMQRRGFRSNRKADDAQKDGKLLQAIDANTRRMEENHYRTVGEMMYRDPVFAEHKRNKSENYLSTVRRDQIVEEAVQLFAAQRQYGAAWASPKMEAEYLTILTRQRSFAEGPGGDSPYRGMQKVGPCALEGKSERRAPKATFAFEYFTLLQKINHIRIAENGVNRILTAEERQELLSACYRTDKLDFARIRKLLALPGEARFNMVRYRENQTAEECEKKEKITVLPCYHKMRKVLNTLRKDHIRSISREQLDAAATALTNPENEEKLRAALEEAQFEPLEVDALMALPSFSGFGHISVKACRKLIPYLEQGLNYNDACKEAGYDFQGNYRGEKSQFLPASTEEMEDITSPVVRRAVAQTIKVVNAIIREQGESPVNIHLELAREMSKNYKQRNELADAMEKNQAENARLMEKLHDLFRGRTITGQTLVKYRLWKEQKEVCAYSLQMMKLDSVITDSSYAEVDHIVPYSRSFDDRRTNKVLVLTSENRKKGDRLPLEYLQGKRREDFIVYTKANVKNYRKRQNLLKEGLSKEESREFIQRNLQDTQYSASFMLNYIRNHLAFADCSAAGKQRVVAVNGAVTAFLRKRWGLSKVRADGDLHHAVDATVIACTTPSMVKRVTEFCKQEETNHVRNEYFPEPWPRFRDELMQRLSACPQENLMQINPVYYQNVDIASIRPVFVSRMPRHKMTGAAHKETIKGRLDDAHTVQRRSITDLKLDKEGEIAGYFNPSSDTLLYNALKEQLTAFGGDGKKAFAEPFFKPRADGTPGAQVRKVKVYDKATSMVAVHEGKGVADNDTMVRIDVYFMPGDGYYWVPIYVADTVKPELPNKAVIAHKNYAEWKEMDEKDFLFSLCPNDLIRVESKRTMKFKVQNKDSTLEKEMQTNGDMVYFEGGNISGGSITVATHDGAYMVESLGLKTLQKVQKYQVDALGNYTLVKKEKRQYFPAQRR\n",
      "||||||||||||||||||||||||||||||||||||||||||||||||||||||||||||||||||||||||||||||||||||||||||||||||||||||||||||||||||||||||||||||||||||||||||||||||||||||||||||||||||||||||||||||||||||||||||||||||||||||||||||||||||||||||||||||||||||||||||||||||||||||||||||||||||||||||||||||||||||||||||||||||||||||||||||||||||||||||||||||||||||||||||||||||||||||||||||||||||||||||||||||||||||||||||||||||||||||||||||||||||||||||||||||||||||||||||||||||||||||||||||||||||||||||||||||||||||||||||||||||||||||||||||||||||||||||||||||||||||||||||||||||||||||||||||||||||||||||||||||||||||||||||||||||||||||||||||||||||||||||||||||||||||||||||||||||||||||||||||||||||||||||||||||||||||||||||||||||||||||||||||||||||||||||||||||||||||||||||||||||||||||||||||||||||||||||||||||||||||||||||||||||||||||||||||||||||||||||||||||||||||||||||||||||||||||||||||||||||||||||||||||||||||||||||||||||||||||||||||||||||||||||||||||||||||||||||||||||||||||||||||||||||||||||||||||||||||||||||||||||||||||||||||||||||||||||||||||||||||||||||||||||||||||||||||||||||||||||||||||||||||||||||||||||||||||||||||||||||\n",
      "MKHPYGIGLDIGIASVGWAVVALNENAEPYGLIRCGSRIFDAAEQPNTGESLAAPRREARSTRRRLRRRSLRKADLYELMAQNGLPGRAEIEEAVQAGHLPDIYALRVQALDGPVTAMDFARILLHLMQRRGFRSNRKADDAQKDGKLLQAIDANTRRMEENHYRTVGEMMYRDPVFAEHKRNKSENYLSTVRRDQIVEEAVQLFAAQRQYGAAWASPKMEAEYLTILTRQRSFAEGPGGDSPYRGMQKVGPCALEGKSERRAPKATFAFEYFTLLQKINHIRIAENGVNRILTAEERQELLSACYRTDKLDFARIRKLLALPGEARFNMVRYRENQTAEECEKKEKITVLPCYHKMRKVLNTLRKDHIRSISREQLDAAATALTNPENEEKLRAALEEAQFEPLEVDALMALPSFSGFGHISVKACRKLIPYLEQGLNYNDACKEAGYDFQGNYRGEKSQFLPASTEEMEDITSPVVRRAVAQTIKVVNAIIREQGESPVNIHLELAREMSKNYKQRNELADAMEKNQAENARLMEKLHDLFRGRTITGQTLVKYRLWKEQKEVCAYSLQMMKLDSVITDSSYAEVDHIVPYSRSFDDRRTNKVLVLTSENRKKGDRLPLEYLQGKRREDFIVYTKANVKNYRKRQNLLKEGLSKEESREFIQRNLQDTQYSASFMLNYIRNHLAFADCSAAGKQRVVAVNGAVTAFLRKRWGLSKVRADGDLHHAVDATVIACTTPSMVKRVTEFCKQEETNHVRNEYFPEPWPRFRDELMQRLSACPQENLMQINPVYYQNVDIASIRPVFVSRMPRHKMTGAAHKETIKGRLDDAHTVQRRSITDLKLDKEGEIAGYFNPSSDTLLYNALKEQLTAFGGDGKKAFAEPFFKPRADGTPGAQVRKVKVYDKATSMVAVHEGKGVADNDTMVRIDVYFMPGDGYYWVPIYVADTVKPELPNKAVIAHKNYAEWKEMDEKDFLFSLCPNDLIRVESKRTMKFKVQNKDSTLEKEMQTNGDMVYFEGGNISGGSITVATHDGAYMVESLGLKTLQKVQKYQVDALGNYTLVKKEKRQYFPAQRR\n",
      "  Score=1074\n",
      "\n",
      "let's now blast the repeat against  the genome\n",
      "Build blast database with:\n",
      "/home/lorenzo.signorini/ncbi-blast-2.10.0+/bin/makeblastdb -in /shares/CIBIO-Storage/CM/news/users/lorenzo.signorini/7tracrRNA/tempblastdb -parse_seqids  -dbtype nucl\n",
      "Run blastn of query file agianst all contigs\n",
      "/home/lorenzo.signorini/ncbi-blast-2.10.0+/bin/blastn -out /shares/CIBIO-Storage/CM/news/users/lorenzo.signorini/7tracrRNA/temp.blastout -outfmt \"6  qseqid sseqid pident qlen length mismatch gapopen qseq sseq sstart send evalue sstrand\" -query temp_repeat_seq -db /shares/CIBIO-Storage/CM/news/users/lorenzo.signorini/7tracrRNA/tempblastdb -evalue 0.001 -word_size 11 -penalty -2\n"
     ]
    }
   ],
   "source": [
    "cas9_aa=cas_dataset[cas_dataset[\"Seq ID\"]==seqid][\"Seq\"].iloc[0]\n",
    "dataset=cas_dataset[cas_dataset[\"Seq ID\"]==seqid][\"Study\"].iloc[0]\n",
    "genomename=cas_dataset[cas_dataset[\"Seq ID\"]==seqid][\"Genome Name\"].iloc[0]\n",
    "SGB=cas_dataset[cas_dataset[\"Seq ID\"]==seqid][\"SGB ID\"].iloc[0]\n",
    "contigname=cas_dataset[cas_dataset[\"Seq ID\"]==seqid][\"Contig\"].iloc[0]\n",
    "samplename = genomename.split(\"__\")[1]\n",
    "\n",
    "print(\"\\n-----------------------------------------------------\\n\"+feature+\" id:\\t\"+seqid+\"\\nSGB:\\t\"+str(SGB)+\"\\nGenome Name:\\t\",\\\n",
    "      genomename+\"\\nContig:\\t\"+cas_dataset[cas_dataset[\"Seq ID\"]==seqid][\"Contig\"].iloc[0],\"\\n-----------------------------------------------------\\n\")\n",
    "\n",
    "print(\"..working genomename:\", filename_discrepancies.get_originalsamplename_froms3name_of_genome(genomename,dataset))\n",
    "########################################################################\n",
    "\n",
    "# get CRISPR spacer and repeat sequence\n",
    "\n",
    "cr=locus.CRISPRarray(feature=feature, contigname=contigname, genomename=genomename, datasetname=dataset)\n",
    "cr.get_CRISPR_array()\n",
    "spacers=cr.spacers\n",
    "repeats=cr.repeats\n",
    "repeat_start_pos=cr.repstartpos\n",
    "unique_repeats=np.unique(repeats)\n",
    "# print repeats\n",
    "\n",
    "CRISPRheader=\"REPEAT\"+\" \"*(len(cr.repeats[0])-len(\"REPEAT\"))+\" SPACER\"+\" \"*(len(cr.spacers)-len(\"SPACERS\"))+\"\\n\"\n",
    "print(\"CRISPR array sequence for \"+ seqid+\" \"+feature+\".\")                                         \n",
    "print(CRISPRheader)                                                     \n",
    "CRISPRarraysequence=\"\"                                                  \n",
    "for i in range(len(cr.repeats)):                      \n",
    "    try:                                                                \n",
    "        cr.spacers[i]                                 \n",
    "        line=cr.repeats[i]+\" \"+cr.spacers[i]\n",
    "        print(line)                                                     \n",
    "        CRISPRarraysequence+=line+\"\\n\"                                  \n",
    "    except:                                                             \n",
    "        break\n",
    "                                                                        #\n",
    "\n",
    "print(\"unique repeats:\")\n",
    "for i in range(len(unique_repeats)):\n",
    "    print(\"repeat \",str(i+1),\":\\t\",unique_repeats[i])\n",
    "print(\"cp \"+cr.path+\" \"+datadir)\n",
    "\n",
    "\n",
    "# get whole locus sequence todo this could become a function of its own, dentro utils, gli dai seqid della cas e ti dà tt il locus\n",
    "\n",
    "# > get start and stop position of all Cass. questo devi metterlo nella tabella di cas non ci sono santi.\n",
    "cas_position={feature:[int(n) for n in cas_dataset[cas_dataset[\"Seq ID\"]==seqid][\"Pos\"].iloc[0].split()],\\\n",
    "              \"Cas1\":[int(n) for n in eval(cas_dataset[cas_dataset[\"Seq ID\"]==seqid][\"prokka_cas1\"].iloc[0])[0][1:]],\\\n",
    "              \"Cas2\":[int(n) for n in eval(cas_dataset[cas_dataset[\"Seq ID\"]==seqid][\"prokka_cas2\"].iloc[0])[0][1:]],\\\n",
    "              \"CRISPR\":[int(n) for n in eval(cas_dataset[cas_dataset[\"Seq ID\"]==seqid][\"minced_CRISPR\"].iloc[0])[0][1:]]\n",
    "             }\n",
    "print(\"Locus features and positions: \", cas_position)\n",
    "# so già che all casses inside here are on the same contig which is 'contig', xke le ho estratte per essere così\n",
    "# FALSO! è cosi in cas_dataset, non in tabellazzza! mi ero confuso! trovato il bug!\n",
    "\n",
    "full_genome_full_path, annotation_folder=originalpath.print_path(genomename)\n",
    "\n",
    "print(\"+\"*80)\n",
    "print(cas_position)\n",
    "print(\"Retrieving locus\")\n",
    "#print(\"Copying file ot output...\")\n",
    "#print(\"cp \"+genomefilename+\" \"+datadir)\n",
    "\n",
    "# access contig:\n",
    "\n",
    "for record in SeqIO.parse(full_genome_full_path,\"fasta\"):  #c'è modo di non fare questo 'ciclo'?\n",
    "    if record.id.startswith(contigname):\n",
    "        #test se effettivamente la seq di cas è dove voglio io\n",
    "\n",
    "        SeqIO.write(record, datadir+\"tempblastdb\", \"fasta\")\n",
    "        print(\"CRISPR si trova\", cas_position[\"CRISPR\"])\n",
    "        print(\"Cas9 si trova\", cas_position[feature])\n",
    "        print(\"Cas2 si trova\", cas_position[\"Cas2\"])\n",
    "        print(\"Cas1 si trova\", cas_position[\"Cas1\"])\n",
    "\n",
    "        #estrai la posizione di cas9 dal contig, e traducila\n",
    "        cas9start=cas_position[feature][0]\n",
    "        cas9stop=cas_position[feature][1]\n",
    "        cas9_nnseq=record.seq[cas9start-1:cas9stop-3] #gff should have a 1-based positional annotation (ma sto andando a occhio finchè non sono uguali, è già un oggetto Bio.Seq\n",
    "\n",
    "        my_translated_cas9=cas9_nnseq.transcribe().translate()\n",
    "\n",
    "  \n",
    "        print(len(cas9_nnseq)/3,len(cas9_aa))\n",
    "\n",
    "\n",
    "        if my_translated_cas9==cas9_aa:\n",
    "            print(\"Cas locus on plus strand\")\n",
    "            plus=True\n",
    "        if not my_translated_cas9==cas9_aa:\n",
    "            #proviamo col reverse complement\n",
    "            cas9_nnseq=record.seq[cas9start+2:cas9stop]\n",
    "            my_translated_cas9=cas9_nnseq.reverse_complement().transcribe().translate()\n",
    "            print(\"Cas locus on minus strand\")\n",
    "        print(\"Is Cas9 translated from the genome equal to the orignal annotation?\", my_translated_cas9==cas9_aa)\n",
    "        print(my_translated_cas9)\n",
    "        print(\"+\"*80)\n",
    "        print(cas9_aa)\n",
    "        \n",
    "        alignments = pairwise2.align.localxx(my_translated_cas9,cas9_aa)\n",
    "        print(pairwise2.format_alignment(*alignments[0]))\n",
    "        \n",
    "        #save .faa aminoacid sequence to output: (commented out as not to overlap with get_ID_info)\n",
    "      #  if my_translated_cas9==cas9_aa:\n",
    "       #     print(\"SAVING aminoacid sequence to file in \"+outdir+\"...\")\n",
    "        #    cas9aafilename=str(SGB)+\"__\"+seqid+\"__\"+genomename+\".\"+feature+\".faa\"\n",
    "         #   f=open(outdir+cas9aafilename,\"w\") #TODO dir\n",
    "          #  f.write(\">\"+seqid+\"\\n\"+cas9_aa)\n",
    "           # f.close()\n",
    "\n",
    "        #opzione 1 blast\n",
    "      #1. salva np.uniq(repeats) in un fasta file: build temporary query file for blastn search\n",
    "\n",
    "        print(\"let's now blast the repeat against  the genome\")\n",
    "        os.chdir(datadir)\n",
    "        tempfile=open(\"temp_repeat_seq\", \"w\")\n",
    "        tempfile.close()\n",
    "        tempfile=open(\"temp_repeat_seq\", \"a\")\n",
    "\n",
    "        for n, repeat in enumerate([Seq(sequence) for sequence in np.unique(repeats)]):\n",
    "            tempfile.write(\">rpt\"+str(n+1)+\"|\"+contigname+\"|\"+genomename+\"|\"+seqid+\"\\n\"+str(repeat)+\"\\n\") \n",
    "        tempfile.close()\n",
    "\n",
    "        #2. Blast query file against db\n",
    "\n",
    "        #3. make db file\n",
    "        print(\"Build blast database with:\")\n",
    "        dbfile=datadir+\"tempblastdb\"\n",
    "        print(\"/home/lorenzo.signorini/ncbi-blast-2.10.0+/bin/makeblastdb -in \"+dbfile+\" -parse_seqids  -dbtype nucl\")\n",
    "        os.popen(\"makeblastdb -in \"+dbfile+\" -parse_seqids  -dbtype nucl\")\n",
    "\n",
    "\n",
    "        print(\"Run blastn of query file agianst all contigs\")\n",
    "        blastoutfile=datadir+\"temp.blastout\"\n",
    "        blastn_command = \"/home/lorenzo.signorini/ncbi-blast-2.10.0+/bin/blastn -out \"+blastoutfile+\" -outfmt \\\"6  qseqid sseqid pident qlen length mismatch gapopen qseq sseq sstart send evalue sstrand\\\" -query temp_repeat_seq -db \"+dbfile+\" -evalue 0.001 -word_size 11 -penalty -2\"  #MANUAL INPUT\n",
    "        print(blastn_command)\n",
    "        os.popen(blastn_command)\n",
    "       # os.chdir(datadir)\n",
    "      #  subprocess.call(blastn_command) does not work\n"
   ]
  },
  {
   "cell_type": "code",
   "execution_count": 9,
   "metadata": {
    "scrolled": false
   },
   "outputs": [
    {
     "name": "stdout",
     "output_type": "stream",
     "text": [
      "\n",
      "-----------------------------------------------------\n",
      "Parsing BLAST output, looking for hit which are NOT the same repeats\n",
      "i.e. not starting with: ['9802', '9868', '9934', '10000', '10067'] :\n",
      "-----------------------------------------------------\n",
      "\n"
     ]
    },
    {
     "ename": "NameError",
     "evalue": "name 'blastoutfile' is not defined",
     "output_type": "error",
     "traceback": [
      "\u001b[0;31m---------------------------------------------------------------------------\u001b[0m",
      "\u001b[0;31mNameError\u001b[0m                                 Traceback (most recent call last)",
      "\u001b[0;32m<ipython-input-9-bd5c915c4016>\u001b[0m in \u001b[0;36m<module>\u001b[0;34m\u001b[0m\n\u001b[1;32m      1\u001b[0m \u001b[0;31m#4. parse blast output: only print output if it is NOT one of the old repeats.\u001b[0m\u001b[0;34m\u001b[0m\u001b[0;34m\u001b[0m\u001b[0;34m\u001b[0m\u001b[0m\n\u001b[1;32m      2\u001b[0m \u001b[0mprint\u001b[0m\u001b[0;34m(\u001b[0m\u001b[0;34m\"\\n-----------------------------------------------------\\nParsing BLAST output, looking for hit which are NOT the same repeats\\ni.e. not starting with:\"\u001b[0m\u001b[0;34m,\u001b[0m \u001b[0mrepeat_start_pos\u001b[0m\u001b[0;34m,\u001b[0m\u001b[0;34m\":\\n-----------------------------------------------------\\n\"\u001b[0m\u001b[0;34m)\u001b[0m\u001b[0;34m\u001b[0m\u001b[0;34m\u001b[0m\u001b[0m\n\u001b[0;32m----> 3\u001b[0;31m \u001b[0mf\u001b[0m\u001b[0;34m=\u001b[0m\u001b[0mopen\u001b[0m\u001b[0;34m(\u001b[0m\u001b[0mblastoutfile\u001b[0m\u001b[0;34m,\u001b[0m\u001b[0;34m\"r\"\u001b[0m\u001b[0;34m)\u001b[0m\u001b[0;34m\u001b[0m\u001b[0;34m\u001b[0m\u001b[0m\n\u001b[0m\u001b[1;32m      4\u001b[0m \u001b[0;32mfor\u001b[0m \u001b[0mline\u001b[0m \u001b[0;32min\u001b[0m \u001b[0mf\u001b[0m\u001b[0;34m.\u001b[0m\u001b[0mreadlines\u001b[0m\u001b[0;34m(\u001b[0m\u001b[0;34m)\u001b[0m\u001b[0;34m:\u001b[0m\u001b[0;34m\u001b[0m\u001b[0;34m\u001b[0m\u001b[0m\n\u001b[1;32m      5\u001b[0m     \u001b[0mstart_pos\u001b[0m\u001b[0;34m=\u001b[0m\u001b[0mline\u001b[0m\u001b[0;34m.\u001b[0m\u001b[0msplit\u001b[0m\u001b[0;34m(\u001b[0m\u001b[0;34m\"\\t\"\u001b[0m\u001b[0;34m)\u001b[0m\u001b[0;34m[\u001b[0m\u001b[0;36m9\u001b[0m\u001b[0;34m]\u001b[0m\u001b[0;34m\u001b[0m\u001b[0;34m\u001b[0m\u001b[0m\n",
      "\u001b[0;31mNameError\u001b[0m: name 'blastoutfile' is not defined"
     ]
    }
   ],
   "source": [
    "#4. parse blast output: only print output if it is NOT one of the old repeats.\n",
    "print(\"\\n-----------------------------------------------------\\nParsing BLAST output, looking for hit which are NOT the same repeats\\ni.e. not starting with:\", repeat_start_pos,\":\\n-----------------------------------------------------\\n\")\n",
    "f=open(blastoutfile,\"r\")\n",
    "for line in f.readlines():\n",
    "    start_pos=line.split(\"\\t\")[9]\n",
    "    if start_pos not in repeat_start_pos:\n",
    "        if str(int(start_pos)+1) not in repeat_start_pos:\n",
    "            if str(int(start_pos)-1) not in repeat_start_pos:\n",
    "                print(line) "
   ]
  },
  {
   "cell_type": "markdown",
   "metadata": {},
   "source": [
    "## extract sequences"
   ]
  },
  {
   "cell_type": "code",
   "execution_count": 9,
   "metadata": {},
   "outputs": [],
   "source": [
    "# manual input\n",
    "# COSA NON SO A PRIORI: l'orientamento del CRISPRarray (e quindi dell'antirepeat)\n",
    "# COSA SO A PRIORI: una cosa sullo strand + si legge SEMPRE E SOLO da SINISTRA VERSO DESTRA\n",
    "#     una cosa sullo strand - si legge SEMPRE E SOLO da DESTRA VERSO SINISTRA\n",
    "# il DNA, come molecola, è polarizzato. LE basi sono come un parcheggio a spina di pesce,\n",
    "# con un angolo e\n",
    "# quindi una direzione.\n",
    "# COSA DEVO TROVARE: il match della repeat (LA SECONDA FRA LE DUE SEQUENZE NEL BLAST), e un terminatore nelle sue vicinanze. \n",
    "# SE è alla sua DESTRA\n",
    "# devo prendere il filamento sullo strand + \n",
    "# (che potrebbe essere SIA la repeat che ha matchato il BLAST\n",
    "# direttamente SIA il suo reverse complement. NOn lo so prima xke nn so dove stia\n",
    "# (== su che strand e in che direzuione sia scritto) CRISPR, lo\n",
    "# indurrò a posteriori)\n",
    "# ; SE è  a SINISTRA,\n",
    "# devo prendere il filamento sullo strand -.\n",
    "#\n",
    "# devo, dunque, SCEGLIERE se l'antirepeat è la matched repeat o il suo rev complement \n",
    "# a seconda di DOVE STA IL TERMINATORE\n",
    "# così facendo, identificherò anche l'orinetamento del CRISPR\n",
    "#\n",
    "#ESEMPIO\n",
    "#  se .la matched repeat  è sullos trand - VUOL DIRE CHE VA LETTA DA DESTRA VERSO SINISTRA\n",
    "# e bisogna vedere dove sara il terminator:\n",
    "# se è A DESTRA della matched e sullo strnaad + (== si legge da sinistra)\n",
    "# , allora l'antirepeat sarà effettivamente il reverse complement della matched repeat\n",
    "#, se  è  A SINISTRA della matched e sullo strand -(==si legge da destra), allora\n",
    "# il mio antirepeat è in effetti la matched_repeat, e quindi probabilmente il CRISPRarray( essendo palindromo)\n",
    "# è stato annotato sullo strand opposto. \n",
    "# Se il terminatore è A DESTRA della matched (sempre nel caso matched  su -)\n",
    "# e sullo strand - allora è un terminatore SBAGLIATO\n",
    "#\n",
    "# FILL IN INPUTS MANUALLY in the lines with the 'manual input' comment!\n",
    "mstrand=-1  #manual input: strand of matched repeat\n",
    "matched_rep_start=8422  #manual input ALWAYS input the smaller number here, even if ti matches on - strand\n",
    "matched_rep_stop=8456   #manual input\n",
    "\n"
   ]
  },
  {
   "cell_type": "code",
   "execution_count": 10,
   "metadata": {},
   "outputs": [],
   "source": [
    "##### other seqids\n",
    "##    seqid   #    mached_rep_start   # matched _rep_stop\n",
    "#AOPFDEBE_00006          6358         6376\n",
    "#HPLHKOKB_00548          1514         1541\n",
    "#FBDDNBEO_00645         297            318\n",
    "#LPEAHEHG_01071         14729         14751            +1\n",
    "#CJFLGLGO_01367         49347         49380            +1    \n",
    "# HPLHKOKB_00548        1541        1514                -1\n",
    "# LEAPHKCP_01380       "
   ]
  },
  {
   "cell_type": "code",
   "execution_count": 11,
   "metadata": {},
   "outputs": [
    {
     "data": {
      "text/plain": [
       "array(['ATTATATCGCATTTTTGTTGGAAAGGAAGCGATAAC'], dtype='<U36')"
      ]
     },
     "execution_count": 11,
     "metadata": {},
     "output_type": "execute_result"
    }
   ],
   "source": [
    "unique_repeats"
   ]
  },
  {
   "cell_type": "code",
   "execution_count": 12,
   "metadata": {},
   "outputs": [
    {
     "name": "stdout",
     "output_type": "stream",
     "text": [
      "matched rep fwd: TTATCGGCTTCCTTTCCAACAAAAACGCAAATAAT matched rep rev:  ATTATTTGCGTTTTTGTTGGAAAGGAAGCCGATAA\n"
     ]
    },
    {
     "data": {
      "text/plain": [
       "35"
      ]
     },
     "execution_count": 12,
     "metadata": {},
     "output_type": "execute_result"
    }
   ],
   "source": [
    "# this is the sequence MATCHING the repeat (NOT the repeat itself):\n",
    "matched_rep=Seq(\"ATTATTTGCGTTTTTGTTGGAAAGGAAGCCGATAA\")  #manual input (remove gaps if present)\n",
    "# siccome non mi interessa per ora sapere il verso del CRISPRarray, facciamo che la matchedrepeat e il su revocm\n",
    "# li chiamo matched_rpt_fwd e matched_rpt_rev:\n",
    "\n",
    "matched_rpt_fwd=matched_rep if mstrand == 1 else  matched_rep.reverse_complement()\n",
    "matched_rpt_rev=matched_rep if mstrand== -1 else matched_rep.reverse_complement()\n",
    "\n",
    "#rpts which match:\n",
    "rpt=Seq(unique_repeats[0])  #manual input #TODO unique_repeats non e' una lista ordinata:la posizione non e' per forza quella giusta\n",
    "initial_repeat=rpt\n",
    "\n",
    "#this should go frombo to bo  = x nt  (x+1)\n",
    "#`fwd and rvrs are referred to the strand.\n",
    "print(\"matched rep fwd:\", matched_rpt_fwd,\"matched rep rev: \", matched_rpt_rev)\n",
    "len(matched_rpt_fwd)\n",
    "\n"
   ]
  },
  {
   "cell_type": "code",
   "execution_count": 13,
   "metadata": {},
   "outputs": [
    {
     "data": {
      "text/plain": [
       "'9311__LEAPHKCP_01380__BritoIL_2016__M2.36.ST__bin.48.terminators'"
      ]
     },
     "execution_count": 13,
     "metadata": {},
     "output_type": "execute_result"
    }
   ],
   "source": [
    "str(SGB)+\"__\"+seqid+\"__\"+genomename+\".terminators\""
   ]
  },
  {
   "cell_type": "code",
   "execution_count": 14,
   "metadata": {
    "scrolled": true
   },
   "outputs": [
    {
     "name": "stdout",
     "output_type": "stream",
     "text": [
      "GATCTGACGATGAAATCGCTGTCAGCCGTCAGCATTATCCAATACGACACGGCGCTGAAATCGCTGATTGAATACGGACGCACGATTAACTTGGGCGTCGTGGCTTTGATGAAAAACGGCGATTTGCAGATCCCCCGCGACCCTCAGCTGAAGCCCGAAGCCCGTCGCGCTTTGGCGGTTGTTATCGGGTCGGATACGGGGCTGGTCGGCAAAATGAACCGCGAAGTTGTGCAGTACGCGCAGGATTTTCTGCGTCAAAAGGGCTTTACGCTGGACCAAGTGAACTTTATCGCCGTCGGACGTCAAATCATCGGTCAGCTGATGCGCGGCAAGCAAAACGTCATTGAAGCCTATCCTGTTTCAAATTCGGTCAAGGCGGTCAGCAAAACGGCGGCTTCCGTTCTGATTACGGCGGACAAATACATTCATACGCACCACGTGACGCACGTTTACGTTTTTTACAGCGAAAAACGCGGCGTCAGCGTGTCCGCGACGGAAACGTTGCTGATGCCGCTGGGAACGGAGTGGATGGAACGGCTGAAAAAACGCGGATGGCCCGGACGCAATCTGCCGACGTACACTTTGCCGCCCGAAAAGATTTACTCCGCCCTGCTCAAAGAGCGCTTGCTGATTGAACTGTCCACCGCGATAACGGAAGCGTTGTCCGCCGAGCATCACATGCGTTTGACGACGATGCAGGCGGCGGAAAAGAACATTGACGAAAACTTGGAAGCGATGAACTTGCAGTATCAGCAGATGCGGCAGGAAAACATCACGACCGAACTGCTGGACGTCGTCAACGGCGCCGAAGCAATGAGAAAGAAAAAGTGATGCCGCGCTTGATTCGGGAAATCCGCCGCAGGACGCGCCATGTTTTGCCGCCTTTGTTTTGGCTGGTGCTGACATTTTATTTCGGATGGCACGCAGTCAACGGCGAACGCGGCCTGCGCCGCATGTTTGAACTGAAGCAGGAAATCGCGATTGCCAAGCAAGTCGCCGAGGAAATCGCTTTGCGCCGCGCGGAAATGGAGCAAAAAGTCCGCATGCTGTCCCCGCAAAGCATTGATGTCGATATGCTGGAAGAATCCGCCCGCTCCATGCTGAACATGGGGCAGGACGGCGATTATATCATTTTAGAAGGTTCTGAATAATCAAATCGGCATCGGGGATGTATTTGAACGTCAAAAACACGGCGATTGCCGCGTAAATGCCCGCAAACACGTCGTCCAGCATAACCCCCGTTGCGCTGTGAAGCTTGGAGTCCGCCCAGCAAGCGGGGTAGGGCTTGGTAATGTCAAACAGGCGGAAAAAGAAAAACGCCGCCGCATACCCCGTAACCGTCATCGGCGCGACCGTCAAAGCCAGCCATTGCCCGACCACTTCGTCAATGACAATCAATCCGGGGTCTTCGACTTTCAATTCGTTCATGACGACTTTTGCCGCCCAAACACCGATGAAATAGACGGCGACGCTTGCAATCAGCAGTCCCGTCAATCCCGTGTAGTGCATCAGCGCCCAGCCGAACGGCAAAGCCGCCAACGATCCGAACGTTCCCGATGCGACGGGGGCTTTCCCTGAACCGAACCACGTCCCCAAGATAAAAGCGGCTTTTGTTTTTGCGGTCATTTTTTGCCTTTCGATAAAAAAAAGTTTTAAAACGCTTTTATCATATAGTATGATTCCCGAAAAGACAAAAAGGATTCTTGCGACTGTGGACAAAGAAACAACAAATCACAAATCGTCATTGTTCCGCCGCTGGTTCAAACCGCGGGAAGTTTTAATTCGCACGGACGCGGACGTCAGATGTTTCCGTGTCCCCGCGTGGACACAGGCGGCGGCTGTCGGAACGTTGGCCGCCGTAGGGCTGTGGGGCGTGTTTGCATCGGGATGTTTTTTCAATACGGCCAGACTTTTGTCAGAACAGGACAAACGTGCGCGCACCGCAACGCAGGCGTATCAGATTTTGTTGGGCGAAGTCAACGCTTTGAACGGTTACTTTGAAAAAATAGCCGATGAACTGAATTCAAACTATGCCGAATTGGATCGACTGCGGGAAATGAACGTTCCCGCCTCATCCGTTGTCCGGAAACAACAGTTTGATGAAAGTGTCGATGCGGAGGATGTCGAAAACGAAGAAAACGCGGTGCAGGAGCGGCGCGCATTGCTGCGGGCGCAGACCGATGCCGTCAGAGCCAGACTGGTCGAGCTTGCGCGATCTCCCGTTTCGGCAGAGGCGGGATTGTACAAAGCGGCTTTGCAGCGCGACTTGGCCATGGCGGATTCCGAGGTCTTGCGCGACAGAGTGCGCAAACTGGAAAGCTTGGTTTCCGCCATGCAGGATACGCAGGTTTTGGCGTTCAGAAAAATGGCGTCCGTCGCCAACGAAAATATCAATGCCATTGAAAACGGCTTGAATGATGTCGGTCAATCTTTGCAGGCGGCGGGACTGGGGATGAATTCCCTGCTGGGGCGGATTCGCCGCGACAAGGAAAAAACAGGCGTCGGCGGTCCGTTTATTCCCGCTCCGATGCCGCACAAAGGAAACAGGCTGAATATTGCGCTGGCCGGCTTGAATCAACGGCTGGATAAACTATATGATTTAACGGCACTGCAGAATGCTTTGCCGATTGGGAAACCCATCAGCCGAATCCGTGTAACGTCGCCGTTCGGCGCGCGCGAAGACCCGTTCCAAGGCGTCCCCGCGCGGCACGAAGCCGTCGATTTGGGTGGCATGACGGGCGAGCCTGTTCATACAACCGCTCCCGGCAAGGTGATTCGCGCGGGGCGGTGGGGATGGTACGGAAATATGGTCGAAATTGATCATGGGTTGGGATTCAGAACGCGTTATGCCCATATGGACAAGATTCTTGTCACAAAAGGCGATGCCGTGCGCACGGGCGATCAAATCGGAACGGTCGGCAGCACGGGGCGCAGTTCGGGGTCTCATTTGCATTATGAAATCCGCGTCAAGGGGTATGCCGTGGATCCGATGAGTTTTATGAAGGCGGAAAGAAATGTTTTCAAAGATTAAACACGAAAGCGGAGCTAAAGTTCTGAATAACGACAGACGTCCCAAATCACCGACGATTATCAGTTCGGATTTGACGATAACGGGCGATTTGGTCAGCGAAGGTGAGGTTCATATTGACGGTATTGTCGAAGGCGATATCCGTTGCCGGCTGTTGGTTGTCGGCGTAAACGCGCGAATTACGGGCGCCATTCAAGCCGATGTTGCGAAAGTGCATGGGAACGTAAACGGTTTGCTGTGCGCGCGTTCGGTGTTTTTGGCGACGACGGCAAAAGTAACGGGTGATATAACGCACGAACGTTTGGAAATCGAACAAGGCGCGTATCTGGAAGGAAACTGCCGTCACATGGACGACCCGATTCCGGCGGAACAGGGGCCTGTCGATCTGATGCTGACGGATGAACGCAAAAACGCGAAAAAATAATTCATGAATGACGAAACCGATTTTCACCGCCGCAGAAAAGCGTTCGTTTTGCTGACGGATGCCGGTATTTTGCTGGCGCAGGACGGGTTTGCGGGGTCTCATGCGGATTTGCTGAAGCAGGCGGGCTTTGTCGAAAGTCAAGCGCGTCTGATTATCGAAAGCATGCCTCGCGGATATGCTTTGGATGGAAACGTGTATTTTTATCAAGGGGCGGACTTTGACCCGTTAAGCGATGAAAATCGCAAAACGGCAAGGCTGTGGTTGCCGTTTTTCAAACAAAACGGGCTGCTGACGGGAACGGCTTTTGACGGGATGCGGCGCGGGGCTGTCGGACGGCCGTGGCAACCCGTTCGGAATTTGTGATTTTTTTTCATTAACGCTTTGACGTGAGGGGGGCTTTTGGGCTATTCTTGCGTCAAACATTGTTTTTTACATTTGGAAAAGGATTTTTCGATGTCTTTACCTCTTATGCCCAAAGCGACCGCCGTTTGGTTGGTCGACAACACCGCGTTGACGTTTGAACAGATTGCCGATTTCTGCGGGATGCATTCCTTGGAAATTCAAGCGATTGCCGATGGCGATGTCGGATCGTCCATGATGGGACAAAGTCCGATTGCCAACGGTCAGCTGACCGCTGAGGAAATCAAACGCTGTGAAGCCGATCCGAAAGCATCGCTGAAGCTGAATGAAAGCGATTTGCCTGCACTGTCCGTCCGTTCCAAAGGGGCGCGCTATACTCCGATGGCAAAACGGCAGGACAAACCCGATGCGATTGCGTGGATTTTGAAACATCATCCCGAATTGTCCGACGCGCAAATCCGCAAGCTGTTGGGAACGACGAACAATTCGATTGACGCCATTCGCAACAGAACACATTGGAACATGGCGAACATCAAGGCGCGCAACCCCGTTTTGCTGGGACTGTGCACGGAAATCGATTTGAAAAAAGCGGTTGAAGTCGCGCCGAAGTCTTTGAAAAACGAAGCGGCTCCTTTGGATGTCGAAGACGCCGAAGAATAAGGATGAAAAACGATGACCGATGAAGTCAAAGATGTAAACGGCGTTGATGCCGCCAGACTGTTGAGCTATATCGAACGCGTCGAACGGCTGGAGGAGGAAAAAAAAGCTTTGGCGAACGATATCAAAGAAGTGTTCGAGGAAGCCAAATCCGCCAATTTCGATGTCAAAGCCTTGAAGGCCATTTTAAAAATCCGCAAACAGGATGAAATGGAACGGCAGGAGGAGGAATTCATGTTGGAAACGTACAAACGTGCGTTGGGCATGGATTAAGATTTTTCGATAAAACAAAACAGGCGAAAGTTTTTAACCTTCGCCTGTTTTTTATGTGTTTTGAAAGGGGTAAAAAAGTGCCGCCGCCTTTAGGGGAAAAGGCGGCGGCTTTCAGATTCCTTTAAGGGGTTGGAGGACGCAATTAGGGGGTTGCGTCAAAGGAATACTGAACTTGCAAACCCAACACGTGGGCTGTTGTCTGGTACTTGGCATCAATCGGATCAACCGAATGAACATTGCTCAAGCTGTGACGGTCGTTGTGTACAGAATAATGCGGCAAATACAGGAACATATACCCCATATCGAACGTCCAAGCGTTTTTCTTGTAGCTGGCGCCGACGGCAAATTCCCAACGGTCGTTGTCGGCAATCGCTGTTGTGCGTTCGTGCGAATTGGGAACGGGGCTTTCGTCAAAACCGATACCCGTGCGGAACGTCCAGTTTTCGGAATGATAATAGTCCATGCCGATGCTGATGTCCCAGGTGTTTTTCCAACGCTGGGCAACTTCCACAGGAGAGGCGAAGTTTTTAATCCGCAACGCGTCAAACCGAGTCCAGCGCGTCCATTTGGCACCTGCGCTCAAACCGATTTTGTCGTTCAGCTTGTGGAACGCGGACAGGGAAACCAGTTCGGGAGCGTCCATGGGCAAAGTTGCAGGAACGGTTTTATTCAAATAGCCTTTCATTATATCAAAGTCGCCTTTGATCTGATGCTGTGAACGCGAACGGTATGCAATGCCCGCGCGGGTGTTTTTGGTGAATTCGTACATTGCGCCGACATTCAAACCCCATCCCCAGTCTTCCAAATCGAATTCATTTTCAAATTTTACGCCCGGGGCAATCGTTTTCGATGATGTCAAATCGACATTGGCGTTGCGCGCGAAAATGCCCAAGCCCAACGACAATTTGTCGGTCGCTTTGACGGCAACGGCGGTCGAATAGTCGATAACGGACAATTCGGAATTGATGCCGTGATCCGTGCCGATCCAATCCTTGGGGTATTCAATCGCCAGACCGAACGGAACATAAACGCCGAAACCGACGGCAACGCGGTCGCTGACCTTGTATTGCGCAAAAAAGTTGGGAACGGCGGTTGTAACGTCAACGTTCGTCGAATCGGCGACGCCGCTGTAAAAACCGCTGCGATAAGCTCCTTTGACATCCGAATGTAAATTGATGACGGAAATGCCCGCCTGCATACCCGTTCCGCCCAGCGTCATACCCGCAGGGTTGTACGCCAAAGCGGAATAGTCGTCGCCGACGACACCGCCGCCCGCGTAAGCTCTACCCAAGCCGGCAACGCTGAAATCATTTAACTGCCAACCTGCGGCGTTGGCGGAAGTGGAGGCGCAAACACCTGTCAACGCCAAAGCAATAATTTTAGAAGTGGTCTTAGCCATCGGCTTTATCCTTGGTTTCCTTTTTGTAAAGGGCGATAATCGAACGCGTTTGTTTAATCATCAGGGAAATCAGTTTGTCGATTTCCTTGTTCCCATAGTCTTGCCATTTAACGTGCTTCAGCACGGTTTGTTTGCGGACTTTGAACGAAAACAGCGACGCGAACAGCGGGAACGTGTACAGCGTGATTTCCTCAATCGTCGCGTTGTCCGTCGCGGCGGTCGCTTTGATAATCAAATCCGCGAAAATTTTGTGAATCGGGAAAATCAATCCTTCGTACAGCGTGGAAAACTCCTCGCCCGGATTGGCGTATTCATGCAAAAACACTGTCACCGCTTCATCGGGCAGCTGTGTGGAATACAACAGCTCTCCCAACGATTTCAAAATGCCGCACAAAGCCGTTTCCGCCTGTTCGGGCGTTGAATTTTTGTCGCTCAATACCGCGACGGCCGATTCAATCGTTTCGTCAACCGCCGTCCTGACACCGTGAACGATATTTTCCAAAACAGCACGGTACAGCCCTTGTTTGCCGCCGAAATAATAGGCGATTGCGGAAATGTTCACATCCGCGGCGCGGGCGATTTCACGGGTTGATGTTTCCGTGTATCCTTTGTCCGCGAAGACGGCGGTCGCTTTTTCCAACAAACGTTCTTTTGAATCCGTAGGCATCGAAAGAGCTGTCCTTTTGTTTAACGAAACAGTGCCACTTTAGCATATAAAAATTAAAAGTCAATCAATCGTTTGAATTTTTTTTGAGTAAAGAGCTTATTCGCTCAAAAGCCTTTGTTCTTCAACGGGTTGGACGGTTATTGCGCCGACGGGGCAGGCGATTTTACACGCTCCGCAGCCGATGCAAAGGTCGGAATCAAAGCGGGGAAAGTCTTCAAAGCGTTCTTTTTTGACGGCGTGTTTCGGGCATTTCATCACGCACAGCCCGCATTTGACGCATTTCGATTCGTCAACGCCCGCCAATCCCGTTTGGGTGCGCCGTTTATCGGACAGGCTCAAACGGCGAATCGCTCCAGACGGGCAGACGTCGCCGCATTTATGGCAGTCGAACGCGCAAAAGTTTTCCGATAAATCGATATGAACGGCGGGATAATCCGAATCGGCTTTTTTCAAAATCTTCATCGGGCAGTTTTGAACGCATAAATTGCAGTTCAAGCAGTTGTTGGCGAACTTTTCGGGACTGCGCGCGCCCGCGGGAAGGATGACGCTTTTGACTCTTGCCGCGATTTTTTTGCTTACAATCGCGCCGCTTTTGAACGCCAGAACGGCAAACGCCGCCAATCCCGCCCCGCCGATTAACATTTTGCGGCGGCTTTCGTTCATTGCCAGCGGATAGGCGGGAATCCTGCCGAACCGAATCCCGCCGCGCCCGCATACGCCCATGCACTTGAAGCATTTGATACAGGTTTCGTTGTCGACTTTTTTATTCTTGTAATCAATGCTGCCCGTCGGACATTTCACCGCGCACATGCCGCAGGGAACGCATTTGCGGTTGTCAATGCCGACTTGAAAAAACGAATGTTTGGCAATCAAGCCCAGCACCGCCCCGACGGGACAGATATGAACGCAGAAAAAACGTTTGCCGAACGCAACGAACAGCGCCAGAACGACCGCCGCCCCGATGCCGAGGTAAGTGCCGCTTGCCGCCGAACCGAACAGGGTGTAGGGGTCAATATAGCGCACAACCGCTGCCGATCCGCCGATTAAAACGCCGAACACCAAAGCGGCAAGAACGTATTTGAACGGATTGCTTTTGCGCACGGGGATTTTGCGGCGAAACAGCAGACCGACAATCTCTTGCACCAAACCGAGGGGACACAGCGTCGAACAGTAGATTCTGCCGAACAACAGCGTCAAAACAATGATTCCCGCAAACAGGCAGGCGGCAAACACCGTGCCGTCCAGAAGCGTCCTTTGCAAAGCGGCGGTGAATTGAACGTCAAGGATTTTGACGGGGTAGTCTTTGCCCGAAAACAGTAAAACAACAGCGCCCAAGGCAATCAGCGCGACGACAAAGCGCAGGTATTTCAAAGCTTTCATATCAACCGCTCCTTCTTACAAACCGCAGATAATCGTGACGCTGCACACCATAATCGTGCCGCCCGCGATTTCAAAGTGTACAATTTAGGGTTCACTCTAAGTCAAGAGAAAAATAAACGGCAAAATGAAAAGGGGGTGACGCGCGGTCAGCCCCCTTTTCTTCTGAGGGGACGGCTACCCCGATACAAGACCGGATCGCCGTTGCCCCACTCGGAAAACTTTCGTTTCGATTATTATCGGCTTCCTTTCCAACAAAAACGCAAATAATCCGTGTTTTCCGTAAAAAAGATATTGCCATAAGTTTTTTTATGCGTCAAGCTGTTATTAAATCTATTTTTAAGCGAGGACATTATGGAAAAACGGATTTTCGGTTTCGATATAGGAATTGCGTCGCTGGGATGGGCTGTTGTTGATTTTGACGACACAGCCGAACCCGAAAACAATATTTATCCGACGGGGAAAATTGTCAAGTCGGGGGTGCGCTGTTTCCCCGTTGCCGAAAATCCAAAGGACGGCAGTTCTTTGGCCTTTCCGCGTCGTCAAAAGCGTTCGCAGCGCAAATTGTGCCGCCGCAAAGCCAGACGAATGGCGGGCATCAAAAGCTTGTTCGTCGCAAACGGTTTGATTGACAGGGCTTCTTTGTTTAATGAGAAAGAAAATATCTACAAAGCGCGCGACAAAGCCGACGTTTGGGATTTGCGCGTCAAAGCCTTGACCGAAAAACTGACAACGGTTGAATTTATCCGCGTTTTAACTCATTTGGCAAAACATCGCGGCTTTAAATCCTACCGTATCGCGTCGGAAAAGGCGGACAAGGAAAACGGCAAGGTTTTGGAAGCGGTCAAAGCAAACAGAGTTTTGCTGGAAAACGGCAAAACTCTGGCGCAAATCATTGTCGAAAAGGGCGGCAAAAAACGCAACAGAGATGATAGAGAAGGCAAATCGACTTATGAAAACTCGATTCCACGCGACGAAATCGAACGGGAAACAAAACTGATTTTTGAAAAACAGCGTGAATTGGGCTTGACTGCGGCGACCGAAAAATTGCAACGGGATTTTGTGGAAATTGCTTTTCGTTTCCGTAAAATCAACGGTAAAAAAATTGAAAAAATGATTGGCAAATGTCTGTTTGAAAAAGACGAACCCCGCTCGCCGAAAAACGCGCCGTCCGCCGAATTTTTTGTGGCGTGGACGAAAATCAACAACTGCCATGTTCGGGATAATGACGGCAAATTACGCTTTTTGACGCAAGAGGAGAAAGACGCCGCTTTTGAACTGCTGAAAAACAAAAAAGAAGTCAAGTACGCGGATATCCGCAAAAAGCTTTTTCCGAATCGTCCGGACATTCGGTTTGCAGATGTGGAATACAATCCGAAGCCTGTTTTTGACAAGAAAACAGGTGAAATCAAAGAATTACCCGAACCCGAAAGCTTGAAATTTTTTGCGCTGAAAGGGTGGCACGATTTAAAAAGCGCGATTGACGTTTCCGCTTATCCGAATGAACGGTTGGACAAAGCGGTCACCGTGATTGCCACGCAAAAAAACGATGCCGATATTTCAAAAGAGCTGAAAAATCTGGGGTTTTCCGCTTCGGATGTTGAAAATTTGGCGGGATTGTCCTTTTCAAAATTCATCAGCTTGTCATTAACAGCATTATATAAAATTCTGCCCGAGATGCAGGCGGGCAAAAAATACAACGAAGCCTGTGAAGCCGTCGGATACGACTTTAAATCGACAGGGGGAAGCTTTGCCGCGCAAAAGGGAAAATTCCTGCCGCCGATTCCCGAATCTTTGGCAACGACCGTTCCTGTCGTCAACCGTGCAATGGCTCAATTCCGCAAAGTGTACAATGCCTTGGTGCGCGAATACGGCACGCCCGATCAAATCAATGTCGAACTGGCGCGCGATGTTTATAACAACCATGACGAGCGCCGAGAAATTGCCGACAGGCAAAACGAATATGCAGAAGCAAAGAAAAAGGTCAAAGCATCGGCGTGCAGCAAATTGGAGTTGGCCGATATCAGCGGACGCGATTTGCTGAAGTTCCTTTTGTACGAACAACAGGACGGCAAGTGTGTTTATTCCGGCGAAAAGCTGGACTTGCACAGATTGGTGGAACAGGATTACTGCGATGTGGATCACATCATTCCGTATTCCCGTTCTTTGGACAATTCGCAAAACAACAAAGTTTTATGCTTGTCGCGCGAAAATCGGCAAAAATCGGATAAAACACCGTTGGAATACATTACAGATCCCGTAAAACAAGCTGAATTTATCGCCCGCGTCAAAGCCATGAAAGGATTGGGTTCTAAAAAACGGGACAGGCTGCTGCTTCGCGACTTTAATGAAAAAGATGTCGATTTCAGAGAACGCAATATCAACGACACGCGGTATATGGCGCGTTACATTATGAAATATCTGGACGACTGCATAGATTTTTCGCAAAGCAAGGCGGATGTCAAAGACCGCGTCCAAGCCCGAAACGGAGCGTTGACGGACTTTTTGCGTCATCAATGGGGATTGAAAAAAAATCGTTCCGAAAGCGACAAACATCACGCACAGGATGCGATTGTCATCGCGTGCGCGACCAACGGGTATACGCAGTATCTGGCTCATCTGTCGAAAATTTTTGAAAACAAGCAAGCTTATGCCAACAAGTACGGCGAACCATGGTACAAGGCATTTAAACAACATGTCAAACAGCCGTGGGACGGATTTTATCAAGACGTTCAAGCATCGCTGGCGGAAATTTTTGTTTCCCGCCCTCCACGCAAAAACGCGACGGGGGAAATTCATCAAGATACCGTTCATACACTCAACCCGAAAAAGAAAAACAGGCGGGGTGAACTTGTATACAGCGCAAAGGACGTTAAATCTGGATTAAATGTTCGCGGCGGAATGGCGGGCAATAGCAATATGTTCCGTTGTGATGTTTTTGAAAAAGGCGGACGATTTTTTATCGTTCCGGTGTATTTGGCGGATTTCTGTGAAAAAAACAGATCAGATTGTTTCTGTCCGAAAGATAAAGAGCATGAAAAACCCGATGAAACATATAAGTTTTTGTTTAGCGTGTTTAAAGATGATTATCTTTCTATAGAAACGAATAAAGGAGAAAAATTTTATGGTTATATGAACCAATATATAACCTCTACTGGACAATTTTATATAGGTTCAAATGATTCATCACCAATGTACTCAATATCCACATCTTCATTTGAAAAACAGGATATTTTATTGTATCGCATTGGCGAAAAATTTGAAAAATGTTCTGTTGTTGACTTTGATTCGGAAAAACAAGAAATGAAAGTAGCTTCTTTAGAAGACGGCTCTATTCACAAAATCAAAGCTTCTGCAAAAGTAAATAAGAAAGGAGAGGTTCAAAAAATTTATAAAACAGATAAGCCCTATGAAAAATTAGATAAAGGAAAAACAATCAGCTCAGCTACTTTTAAGAGAATACGAAAATACCAAGTTGATCCTTTGGGACGGTATGTCGAGGTCAAATCCGAAATCAGACTGCCGCTGAATATCAAAAAAGGAAAAGCGTAATGGCTTGGCGTGTCGTTCAAATCACTTCCGCCTGCAAACTGTCCGTCAAAAACAGGCAGCTGCTTTACGAACCGACTGACGGGGAAACGGTAACGCTTCCATTGGAGGATATTGCCGTCGTTATTTTGGAAAGCAAACATATTTTAATGACTTCGACTTTGCTTGCCGAACTGGCGGAATACGGAGTTTGTCTGTTTACATGCGACGGAACGCACACGCCGAACGGGGTTTATACGGCTTTCGGCAATCATTCCAGACACAGCGCGGTGGCAAATCTGCAAATTGAGGCATCCGAACCGCTAAAAAAGCGACTGTGGCAGAAAATCGTCAAAGCCAAAATCCGCAATCAAGCCGAAGTATTACGCCGCGTCGGCAATCGTTATGGTGATAAATTGGACGAGATTGCAAAAAATATCCAATCGGGCGACACGACAAACGGCGAAGCGTTTGCTGCGGGACTTTACTGGGACAATTTATTCGACAATTTCAAACGCCACGATGTCGATATCACCAATGCCGCATTGAATTACGGATATGCCATTGTTCGCGGGGCTATTGCCCGCAGTTTGGTCGGTGCAGGACTGTTGCCGTGTTTCGGATTGCACCACGCCAATAAACTGAACGCGTTCAATCTGGCGGACGATATGATTGAACCGTTCCGCGCTTTTGTCGATTGGGCGGTTGTCAAAGCCGATTTGGGCGAAAAAGCCTCTTTGGAAAAACAGGACAAACAGTTGCTTGTGTCCGTACTGACGCGCAACTGTTCCTATGATGGCGAGGAAACGACGATTTTAAAAGCGATTGAACAAACGGCGTATTCTCTGGTCAACGCGTTTAAGGACAAAGAAGCTAAATCGCTTGTTCTGCCAGAATTTTCAAAAGCCCCGCTGTTCGAGTAAAAAATATGGCGCAACTGGGGGAAAGATATATGCGCATACTGGTCTTTTTCGACTTGCCCGTCAAAACAAAAGCAGAACGGCGGCGCGCGACTCGATTCAGAAAGGATTTGATTGACGACGGTTACATCATGCTGCAACTATCCGTTTATTCGCGCATCTGCAAAGGTGAAGATACTGCGGAAAAGCACAAAAAACGGCTGAAATCCTTGGTTCCAGAAGACGGAAGCGTACGTGTTCTGTCGGTTACGGAAAAACAATACGCGTCCATGGATATTTTGGTCGGCCTGCCGAAAAAAACGGAAAAAATCGGGGCGGAACAGCTGGTTTTACTGTGATTTTTCACTTGGAAAATATTGAAAAAGCCTTTGTTTTTCAAAGGCTTTTTCTTAATGGATTATATCGCATTTTTGTTGGAAAGGAAGCGATAACTTGTTTTGGCGGCGTTGAACGCGTCGGCGAATTATATCGCATTTTTGTTGGAAAGGAAGCGATAACATTAAGTGGGTTGATTATTACTGATATTTGATTATATCGCATTTTTGTTGGAAAGGAAGCGATAACATACGGTTGAAGTCATTGCCGCAAGTTCAGATTATATCGCATTTTTGTTGGAAAGGAAGCGATAACCTTTGATTTTCATTTGTTTTACTCCTTTTCATTATATCGCATTTTTGTTGGAAAGGAAGCGATAACAACATGGACGGTTACCTGTTGAAGCGTATCATTATATCGCATTTTTGTTGGAAAGGAAGCGATAACCGGGGTCCCTTACGGGGCCCCTTGGTGTAGATTATATCGCATTTTTGTTGGAAAGGAAGCGATAACGCTTTCAAAGACGCTATTTCCTTGTCTTTTATTATATCGCATTTTTGTTGGAAAGGAAGCGATAACCGCGGAAACGGGCGTATTCGGAAAGGTATCATTATATCGCATTTTTGTTGGAAAGGAAGCGATAACTGTAAATCAAATCGTACGCACGAAACGGAAATTATATCGCATTTTTGTTGGAAAGGAAGCGATAACCTTTCGCAGTTTCGTTATCCACTAAAGCTAATTATATCGCATTTTTGTTGGAAAGGAAGCGATAACTGGCGGGCTTGGGTCTGATTTTGTGGTATAATTATATCGCATTTTTGTTGGAAAGGAAGCGATAACAAACGGGCGCGCAGTATGATGCGGTTGTGATTATATCGCATTTTTGTTGGAAAGGAAGCGATAACCCCGCGACAATCGCACCGCCTGCGTTCGCGATTATATCGCATTTTTGTTGGAAAGGAAGCGATAACAGAACAAACATATTATCCACGCAAGAAAGGAATTATATCGCATTTTTGTTGGAAAGGAAGCGATAACAATGGCGCTCGACTTTGTTTCGAAGTTTAGATTATATCGCATTTTTGTTGGAAAGGAAGCGATAACTCGTTAGAGTTGCGCGGGAGGGTATCAACGATTATATCGCATTTTTGTTGGAAAGGAAGCGATAACTTTTTATAAGTTAGCTTTACCCTGCTAAAGATTATATCGCATTTTTGTTGGAAAGGAAGCGATAACCGACGCGCCCTTGGCATCGATTGAAAGACGATTATATCGCATTTTTGTTGGAAAGGAAGCGATAACCTGTACACGAACGGCGACGGTGCGGGCTTCATTATATCGCATTTTTGTTGGAAAGGAAGCGATAACGTCCTTGCCGTGCTTATAAACACAATAGTCATTATATCGCATTTTTGTTGGAAAGGAAGCGATAACTCCGCAGTCCTGCGGTTGTTTCGGCGACCGATTATATCGCATTTTTGTTGGAAAGGAAGCGATAACCTTTTTGAAAAAAAAGGGGAGGGAGGGAGCTCAATCGAACTTGACGGGACGCCAGTTGTAGCGGTCGGACAAGGGCTTTTCTTTTTTGCGCAAAACGAAGTTTTTAAACCTGTGCCACAGTGATTTTTTCGGGCGCAGAAGAGCGATATTGCGGTGTAAAATTTCCTCCAGCATGGCGAACGACACGACGTCGTTTTCAAAGTTTCCCGTTACACAGCCGCAGGTGAAGCGGTGGCAGTTGTTGAACAAAACGTTGTACGGCGTTTTTTCGTTGATGTGCTTTTTCGCCCGCTTTGCGATTATCGGCGCGGCAAGCACGATGTCCGTTTTTTCAAAGCAAGCCGTGTAAATGCGGTTGGAGTCGGGGTTCGTTCCGGGCGGAAAGAAAGTCTTGGGCGATTCGACGCGGATTTGACTGTGACGGTTCAAACTGACGATTTTCCCGTCGCCGATATACACGCCCGTGTGTTCCAACAGCAAGCCCAAGTCACACTTCATGATACAGCCGACGACGGGCTTGACATCGGGCGAACGCAGGGTTTTATAACGTTTTTTGCGGAAGTTTTTCCGCAGCATGACCATAAATCGGCGGCTTTTGTTCAACGGTTTTCTCCTTTTGAACAGCATTTTACGGCTTTTTGTGCTTTTTTGAAGAAAAAAGATTTTTTGAATTCGGAAATTATGTATTATAGCAAAAACACACGCCCGAATCGGCGCGGCTTTTGAACAGAAGGATTTGATATGGAAACAACGCCCCACCCCTTGCTGGAACTGAAGAACGTTACCAAGTTTTTCGGGTCGAACAAAGTTTTGGACGATGTGGATTTAACCATTAACGACGGCGAGTTTTTGACGCTTTTGGGACCGTCGGGCTGCGGCAAGACGACTTTGTTGCGCCTGATTGCGGGATTCGAGCGCCCGACATCGGGCAAAATCATTATGAACGGCAAGGAAATATCCCACTTGCCGCCCAACCGCCGCTTTGTCAACACCGTGTTTCAGCAGTACGCTTTGTTTCCGCACATGACCGTGTTCGACAACGTCGCTTTCGGTTTGCAGATGAAGGGCTTGCCCGACGAAGAAATCGAAATCGAAGTCTTCAGCGCGCTGGAAAAAGTCAAAATGCACCAGTTCTATCTGCGCTATCCGTCCGAACTGTCCAGCGGTCAGCAGCAAAGGGTCGCTATGGCGCGCGCGTTCATCAACAATCCGAAAGTCCTGCTGTTGGACGAACCGTTGTCCGCTTTGGATTACAAACTGCGGCAGGAAATGCAGATTGAACTGAAAGAGCTTCAGCGCGATTTGGGCGTTACGTTCGTGTATGTAACGCATGACCAAGAGGAAGCGCTCTCCATGTCCGACCGCGTCGCCGTTTTGAACGAAGGCATGATCGAGCAGGTCGGCACGCCGATTCAAATCTACGAAGAGCCGAAAAATATGTTTGTCGCCAAATTCGTCGGCGAAATCAACGTGTTCGACGGCATGATTATCAAAGTCGAAGCCGACACGTTCGACACGATTGTCGAAGGCATGTTCTACCGTTTGCGCAAACCGTCGACGTTCGATGTCAGCCGCGGCGGAAAAATCAAAGTCTTGCTGCGACCCGAGGACATGGTGGTCAGCAAAGTCAACGACCCCGAAGCCGAAGCCCCCGAAAACGCGTTGCGCGGGGTTATCAGCCACTTGGTTTACAAAGGGCGCACGATTGATTTGTGGATTCAGACGGCGGGCGGCAATATGGTGATGGCGACGCAGTTCTTTAACGAAGATGATCCCGAAATCATCTATCAAGCCGACGACGTCGTAAACGTCAGCTGGATTAAAGATTGGGAGGTCATTCTGCCCGATGCTTAAAACCGCGGACAATTTCTGCCGCACGGCGGTGCTGTACTTTATTTTCATCTGGTTCGGGGTGATGGTGTTCGCGCCGAACCTGCTGGTGCTGCTGGCAAGCTTTTTGACCAAAGAACCCGTTTGGTTCCTGCGTCTGCCGCTGAATTTGCAGGCGTACAGGGCTTTGGGCGACGCGGCTTTGCTGACGGTGATTTTGAAATCCGTCGGCTTGGCGTTCGTCACGACGCTGTTTTGTTTGCTGATCGGCTATCCGTTCACTTACTTCATCGCTCGGTTTTCCAAGGAAACGCGCGCGCTGTTTTTGATGCTGATTGTCG\n"
     ]
    }
   ],
   "source": [
    "for record in SeqIO.parse(full_genome_full_path, \"fasta\"):\n",
    "    if record.id==contigname:\n",
    "        contigseq=record.seq\n",
    "        print(contigseq)"
   ]
  },
  {
   "cell_type": "code",
   "execution_count": 15,
   "metadata": {},
   "outputs": [
    {
     "name": "stdout",
     "output_type": "stream",
     "text": [
      "   1177  Rnamotif - GCGGGCATTTACGCGGCAATCGCCGTGTTTTTGACGTTC -10.00\n",
      "\n",
      "   2355      Both - GATATTTTCGTTGGCGACGGACGCCATTTTTCTGAACG -6.90\n",
      "\n",
      "   3685      Both - TTTGTTTGAAAAACGGCAACCACAGCCTTGCCGTTTTGCGATTTTCAT -10.10\n",
      "\n",
      "   3689      Both + AAATCGCAAAACGGCAAGGCTGTGGTTGCCGTTTTTCAAACAA -8.80\n",
      "\n",
      "   4750     Erpin - CACATAAAAAACAGGCGAAGGTTAAAAACTTTCGCCTGTTTTGTTTTATCG -11.60\n",
      "\n",
      "   4752      Both + ATAAAACAAAACAGGCGAAAGTTTTTAACCTTCGCCTGTTTTTTATGTGTT -11.60\n",
      "\n",
      "   4753      Both - CATAAAAAACAGGCGAAGGTTAAAAACTTTCGCCTGTTTTGTTTTA -11.20\n",
      "\n",
      "   4811      Both + GGTAAAAAAGTGCCGCCGCCTTTAGGGGAAAAGGCGGCGGCTTTCAGATTCCTT -16.90\n",
      "\n",
      "   5467  Rnamotif + ACGGTATGCAATGCCCGCGCGGGTGTTTTTGGTGAAT -4.80\n",
      "\n",
      "   5760  Rnamotif - AGCGACCGCGTTGCCGTCGGTTTCGGCGTTTATGTTCCGT -6.20\n",
      "\n",
      "   6941  Rnamotif + GACGGTTATTGCGCCGACGGGGCAGGCGaTTTTACACGCTC -6.30\n",
      "\n",
      "   7846      Both - AAATACGTTCTTGCCGCTTTGGTGTTCGGCGTTTTAATCGGCG -4.60\n",
      "\n",
      "   8305     Erpin - CCTCAGAAGAAAAGGGGGCTGACCGCGCGTCACCCCCTTTTCATTTTGCCGT NA\n",
      "\n",
      "   8307      Both + GGCAAAATGAAAAGGGGGTGACGCGCGGTCAGCCCCCTTTTCTTCTGAGGGG -13.10\n",
      "\n",
      "   9133  Rnamotif - TTTGTTTCCCGTTCGATTTCGTCGCGTGGAATCGAGTTTTCATAAGTC -5.00\n",
      "\n",
      "   9314  Rnamotif - GCGCGTTTTTCGGCGAGCGGGGTTCGTCTTTTTCAAACAG -7.90\n",
      "\n",
      "   9840      Both - TCGTTGTATTTTTTGCCCGCCTGCATCTCGGGCAGAaTTTTATATAATG -11.00\n",
      "\n",
      "  12984      Both - CATTAAGAAAAAGCCTTTGAAAAACAAAGGCTTTTTCAATATTTT -10.40\n",
      "\n",
      "  12986      Both + AATATTGAAAAAGCCTTTGTTTTTCAAAGGCTtTTTCTTAATGGAT -10.90\n",
      "\n",
      "  13736  Rnamotif + GGGTCTGATTTTGTGGTATAATTATATCGCATTTTTGTTGGAA -6.30\n",
      "\n",
      "  13800  Rnamotif + GCGCAGTATGATGCGGTTGTGATTATATCGCATTTTTGTTGGAA -5.40\n",
      "\n",
      "  15140  Rnamotif - TGTTCAAAAGCCGCGCCGATTCGGGCGTGTGTTTTTGCTAT -11.00\n",
      "\n",
      "  16504  Rnamotif + ATCCGTCGGCTTGGCGTTCGTCACGACGCTGTTTTGTTTGCTG -5.90\n"
     ]
    }
   ],
   "source": [
    "# print terminators\n",
    "\n",
    "f=open(datadir+str(SGB)+\"__\"+seqid+\"__\"+genomename+\".terminators\") \n",
    "for line in f.readlines():\n",
    "    if line.strip().startswith(\"\"): #manual input\n",
    "        print(line)\n",
    "f.close()"
   ]
  },
  {
   "cell_type": "code",
   "execution_count": 21,
   "metadata": {},
   "outputs": [],
   "source": [
    "#FBDDNBEO_00645  319\n",
    "#LPEAHEHG_01071 14653\n",
    "#CJFLGLGO_01367 49290\n",
    "#Aadadssada            6865\n",
    "# HPLHKOKB_00548  1649\n"
   ]
  },
  {
   "cell_type": "code",
   "execution_count": 16,
   "metadata": {},
   "outputs": [
    {
     "name": "stdout",
     "output_type": "stream",
     "text": [
      "Strand OK\n",
      "antirepeat:  ATTATTTGCGTTTTTGTTGGAAAGGAAGCCGATAA\n",
      "Is antirepeat the reverse complement of original repeat? (WARNING: original repeat is just the initial annotation, may not be the correct orientation of the repeat!) False\n",
      "terminator length:  52\n",
      "terminator start and stop: 8305 8357\n",
      "tracr strand= -1\n",
      "CRISPR strand= -1\n",
      "Repeat: GTTATCGCTTCCTTTCCAACAAAAATGCGATATAAT \t(original repeat:\t ATTATATCGCATTTTTGTTGGAAAGGAAGCGATAAC)\n"
     ]
    }
   ],
   "source": [
    "#29/01/2020\n",
    "def get_real_repeat(rpt, crisprstrand):\n",
    "    return rpt if crisprstrand == 1 else rpt.reverse_complement()\n",
    "#29/01/2020 final fix\n",
    "\n",
    "tstrand=-1  #manual input, terminator strand. TODO CHECK che se lo strand è -1 allora è <matched rep (tracrRNA on - strand),e viceversa\n",
    "\n",
    "terminator_start=8305 #manual input N.b. this is always the smallest position (between start and end)\n",
    "terminator=Seq(\"CCTCAGAAGAAAAGGGGGCTGACCGCGCGTCACCCCCTTTTCATTTTGCCGT\".upper()) #manual input\n",
    "terminator_end=terminator_start+len(terminator)\n",
    "if tstrand==1:  # if terminator on + strand\n",
    "    if matched_rep_stop<terminator_start: # check that term is on the RIGHT SIDE of the repeat\n",
    "        print(\"Strand OK\")\n",
    "        antirepeat=matched_rpt_fwd\n",
    "        print(\"Is antirepeat the reverse complement of original repeat? (WARNING: original repeat is just the initial annotation, may not be the correct orientation of the repeat!)\", True if mstrand == -1 else False)        \n",
    "        tracrstrand=tstrand\n",
    "        print(\"antirepeat: \",antirepeat)\n",
    "        crisprstrand =  -mstrand #-mstrand if mstrand == tstrand else -mstrand\n",
    "        rpt=get_real_repeat(rpt, crisprstrand)\n",
    "    else:\n",
    "        print(\"STRAND NOT OK\", matched_rep_start, matched_rep_stop)\n",
    "elif tstrand==-1:\n",
    "    if matched_rep_start>terminator_start: # check that term is on the LEFT SIDE of the repeat\n",
    "        print(\"Strand OK\")\n",
    "        antirepeat=matched_rpt_rev\n",
    "        tracrstrand=tstrand\n",
    "        #todo rpt= ?\n",
    "        print(\"antirepeat: \",antirepeat)\n",
    "        crisprstrand = mstrand # cioé: mstrand if mstrand == tstrand else mstrand\n",
    "        rpt=get_real_repeat(rpt, crisprstrand)\n",
    "        print(\"Is antirepeat the reverse complement of original repeat? (WARNING: original repeat is just the initial annotation, may not be the correct orientation of the repeat!)\", False if mstrand == -1 else True)        \n",
    "    else:\n",
    "        print(\"STRAND NOT OK\", matched_rep_start, matched_rep_stop)\n",
    "else:\n",
    "    print(\"input t strand please\")\n",
    "\n",
    "\n",
    "print(\"terminator length: \", len(terminator))\n",
    "print(\"terminator start and stop:\",terminator_start, terminator_end)\n",
    "#print(\"nb start and stop are just the position from smallest to biggest, without direction. Pay attention when working on minus strand\")\n",
    "print(\"tracr strand=\",tracrstrand)\n",
    "print(\"CRISPR strand=\", crisprstrand)\n",
    "print(\"Repeat:\", rpt,\"\\t(original repeat:\\t\", initial_repeat+\")\")"
   ]
  },
  {
   "cell_type": "markdown",
   "metadata": {},
   "source": [
    "str(rpt)"
   ]
  },
  {
   "cell_type": "code",
   "execution_count": 25,
   "metadata": {},
   "outputs": [
    {
     "name": "stdout",
     "output_type": "stream",
     "text": [
      "forward, 150 nt TTATAGACTTCCTTTCCAAATCAGACATAAAATAACAAAAGTTCTCTGATTAAGAGAATATTACGGAATGCTGTTTCCGTCAAGTGGAATTTTTACTTTCGGAATAAGACGCCTGAGATTGCAGTTTTCCCGGACAGTGAAAGAAAAAGC\n",
      "reverese, 150nt ATGTCTGATTTGGAAAGGAAGTCTATAATAATCGAAGTTTTCTTTACGAGTAGGGCTCTGACGTCTCATATAATATATGAGGCGTCATCCTTTAAATAATTGTCCCACAGCAAGTTGCAGTTTCTCAAGCAGCAGCAAAGTTAATGTTTT\n"
     ]
    }
   ],
   "source": [
    "print(\"forward, 150 nt\",contigseq[matched_rep_start-1:matched_rep_start+149])\n",
    "print(\"reverese, 150nt\", contigseq[matched_rep_stop-150:matched_rep_stop].reverse_complement())"
   ]
  },
  {
   "cell_type": "code",
   "execution_count": 64,
   "metadata": {},
   "outputs": [
    {
     "name": "stdout",
     "output_type": "stream",
     "text": [
      "test antirepeat:  ATTATTTGCGTTTTTGTTGGAAAGGAAGCCGATAA 35 True\n",
      "test terminator:  CCTCAGAAGAAAAGGGGGCTGACCGCGCGTCACCCCCTTTTCATTTTGCCGT 52 True\n",
      "pre tracrRNA: ATTATTTGCGTTTTTGTTGGAAAGGAAGCCGATAATAATCGAAACGAAAGTTTTCCGAGTGGGGCAACGGCGATCCGGTCTTGTATCGGGGTAGCCGTCCCCTCAGAAGAAAAGGGGGCTGACCGCGCGTCACCCCCTTTTCATTTTGCCG 151\n",
      "mario sequence: TAATCGAAACGAAAGTTTTCCGAGTGGGGCAACGGCGATCCGGTCTTGTATCGGGGTAGCCGTC 64\n"
     ]
    }
   ],
   "source": [
    "# Open genome and extract the whole sequence\n",
    "# find this inside the genome, and link it to the thing found by ARNold:\n",
    "\n",
    "#I need to specify BOTH the strand and the direction\n",
    "#if strand is +, then the actual antirepeat is going to be what i called antirepeat \n",
    "#only if the repeat blast matched on the minus strand (vedi schema), e vari ncastri complciati\"    # temP: matched reè start -1:matched rep stop\n",
    "\n",
    "for record in SeqIO.parse(full_genome_full_path, \"fasta\"):\n",
    "    if record.id==contigname:\n",
    "        contigseq=record.seq\n",
    "\n",
    "#check antirepeat\n",
    "extracted_antirepeat =  contigseq[matched_rep_start-1:matched_rep_stop] if tracrstrand==1 else contigseq[matched_rep_start-1:matched_rep_stop].reverse_complement()\n",
    "print(\"test antirepeat: \", antirepeat, len(antirepeat), extracted_antirepeat==antirepeat) # -1 why? Indexing diverso evidentemente col blastout, vbb\n",
    "\n",
    "# check terminator\n",
    "extracted_terminator =  contigseq[terminator_start-1:terminator_end-1] if tracrstrand==1 else contigseq[terminator_start-1:terminator_end-1].reverse_complement()\n",
    "print(\"test terminator: \" ,terminator, len(terminator), extracted_terminator==terminator)\n",
    "\n",
    "\n",
    "pre_tracrRNA= contigseq[matched_rep_start:terminator_end] if tracrstrand==1 else contigseq[terminator_start:matched_rep_stop].reverse_complement()\n",
    "print(\"pre tracrRNA:\", pre_tracrRNA, len(pre_tracrRNA))\n",
    "\n",
    "# add mario\n",
    "mario= contigseq[matched_rep_stop:terminator_start-1] if tracrstrand==1 else contigseq[terminator_end:matched_rep_start-1].reverse_complement()\n",
    "print(\"mario sequence:\",  mario, len(mario))  # ho fatto i check, il -1 sopra è giusto"
   ]
  },
  {
   "cell_type": "code",
   "execution_count": 65,
   "metadata": {},
   "outputs": [
    {
     "name": "stdout",
     "output_type": "stream",
     "text": [
      "AUUAUUUGCGUUUUUGUUGGAAAGGAAGCCGAUAAUAAUCGAAACGAAAGUUUUCCGAGUGGGGCAACGGCGAUCCGGUCUUGUAUCGGGGUAGCCGUCCCCUCAGAAGAAAAGGGGGCUGACCGCGCGUCACCCCCUUUUCAUUUUGCCG\n"
     ]
    }
   ],
   "source": [
    "print(pre_tracrRNA.transcribe())"
   ]
  },
  {
   "cell_type": "code",
   "execution_count": 66,
   "metadata": {},
   "outputs": [
    {
     "name": "stdout",
     "output_type": "stream",
     "text": [
      "AUUAUUUGCGUUUUUGUUGGAAAGGAAGCCGAUAA\n"
     ]
    }
   ],
   "source": [
    "print(extracted_antirepeat.transcribe())"
   ]
  },
  {
   "cell_type": "code",
   "execution_count": 67,
   "metadata": {
    "scrolled": true
   },
   "outputs": [
    {
     "name": "stdout",
     "output_type": "stream",
     "text": [
      "8357 8456\n"
     ]
    }
   ],
   "source": [
    "print(terminator_end, matched_rep_stop)"
   ]
  },
  {
   "cell_type": "code",
   "execution_count": 68,
   "metadata": {},
   "outputs": [
    {
     "name": "stdout",
     "output_type": "stream",
     "text": [
      "GTTATCG-CTTCCTTTCCAACAAAAATGCG-ATA-TAAT\n",
      " |||||| ||||||||||||||||||  || | | ||||\n",
      "-TTATCGGCTTCCTTTCCAACAAAAA--CGCA-AATAAT\n",
      "  Score=32\n",
      "\n",
      "rpt length: 36\n"
     ]
    }
   ],
   "source": [
    "# Now, align with the rest of the stuff to see what's up\n",
    "# first up, with the repeat, lets take the rpt3, which has only got 1 mismatch\n",
    "# x AOPFDEBE: extracted antirepeat: matched_stop+11\n",
    "\n",
    "alignments = pairwise2.align.localxx(rpt, extracted_antirepeat.reverse_complement())  #29/01/2020 fixed\n",
    "print(pairwise2.format_alignment(*alignments[0]))\n",
    "print(\"rpt length:\", len(rpt))\n"
   ]
  },
  {
   "cell_type": "code",
   "execution_count": 69,
   "metadata": {},
   "outputs": [
    {
     "name": "stdout",
     "output_type": "stream",
     "text": [
      "G-TTAT---CG-CTTCCTTTCCAACAAAAATGCG-ATA-TAAT\n",
      "  ||||   || ||||||||||||||||||  || | | ||||\n",
      "-ATTATTATCGGCTTCCTTTCCAACAAAAA--CGCA-AATAAT\n",
      "  Score=32\n",
      "\n"
     ]
    }
   ],
   "source": [
    "# align antirepat + mario with repeat\n",
    "alignments = pairwise2.align.globalxx( rpt,(antirepeat+mario[:4]).reverse_complement())\n",
    "print(pairwise2.format_alignment(*alignments[0]))"
   ]
  },
  {
   "cell_type": "code",
   "execution_count": 70,
   "metadata": {
    "scrolled": true
   },
   "outputs": [
    {
     "name": "stdout",
     "output_type": "stream",
     "text": [
      "\n",
      "----------------------------------------------------------------------\n",
      "         tracrRNA sequence for Cas9 protein id LEAPHKCP_01380\n",
      "----------------------------------------------------------------------\n",
      "- contig name: NODE_1601_length_16622_cov_6.41836\n",
      "- Dataset: BritoIL_2016\n",
      "- Bin: BritoIL_2016__M2.36.ST__bin.48\n",
      "- SGB: 9311\n",
      "----------------------------------------------------------------------\n",
      "- Length: 151\n",
      "- position: 8357 8456\n",
      "- Sequence: \n",
      "\tAUUAUUUGCGUUUUUGUUGGAAAGGAAGCCGAUAAUAAUCGAAACGAAAGUUUUCCGAGUGGGGCAACGGCGAUCCGGUCUUGUAUCGGGGUAGCCGUCCCCUCAGAAGAAAAGGGGGCUGACCGCGCGUCACCCCCUUUUCAUUUUGCCG\n",
      "- tracrRNA strand: -1\n",
      "- CRISPRarray real strand: -1\n",
      " - chosen repeat:\n",
      "GTTATCGCTTCCTTTCCAACAAAAATGCGATATAAT\n"
     ]
    }
   ],
   "source": [
    "# I would probably say that the tracr is just, simply la parte di pre_tracrRNA la cui antirepeat si lega alla repeat, \n",
    "# che, in questo caso, è tutta.\n",
    "tracrRNA = pre_tracrRNA\n",
    "\n",
    "line=\"\\n----------------------------------------------------------------------\"+\"\\n\"+\\\n",
    "\"         tracrRNA sequence for \"+ feature+\" protein id \"+ seqid+\"\\n\"+\\\n",
    "\"----------------------------------------------------------------------\\n\"+\\\n",
    "\"- contig name: \"+ cas_dataset[cas_dataset[\"Seq ID\"]==seqid][\"Contig\"].iloc[0]+\"\\n\"+\\\n",
    "\"- Dataset: \"+cas_dataset[cas_dataset[\"Seq ID\"]==seqid][\"Study\"].iloc[0]+\"\\n\"+\\\n",
    "\"- Bin: \"+ cas_dataset[cas_dataset[\"Seq ID\"]==seqid][\"Genome Name\"].iloc[0]+\"\\n\"+\\\n",
    "\"- SGB: \"+ str(cas_dataset[cas_dataset[\"Seq ID\"]==seqid][\"SGB ID\"].iloc[0])+\"\\n\"+\\\n",
    "\"----------------------------------------------------------------------\\n\"+\\\n",
    "\"- Length: \"+ str(len(tracrRNA))+\"\\n- position: \"+ str(terminator_end)+\" \"+str(matched_rep_stop)+\"\\n\"+\\\n",
    "\"- Sequence: \\n\\t\"+str(tracrRNA.transcribe())+\"\\n\"+\\\n",
    "\"- tracrRNA strand: \"+ str(tracrstrand)+\"\\n\"+\\\n",
    "\"- CRISPRarray real strand: \"+ str(crisprstrand)+\"\\n\"+\\\n",
    "\" - chosen repeat:\\n\"+ str(rpt) \n",
    "print(line)\n",
    "\n"
   ]
  },
  {
   "cell_type": "code",
   "execution_count": 71,
   "metadata": {},
   "outputs": [],
   "source": [
    "# Write output to file\n",
    "#if not os.path.exists(outdir):\n",
    " #   os.makedirs(outdir)\n",
    "#f=open(outdir+\"/\"+\"tracrRNA_\"+seqid+\".txt\",\"w\")\n",
    "#f.write(line)\n",
    "#f.close()\n",
    "\n"
   ]
  },
  {
   "cell_type": "code",
   "execution_count": 72,
   "metadata": {},
   "outputs": [
    {
     "name": "stdout",
     "output_type": "stream",
     "text": [
      "To save all output  using get_ID_info (recomended)\n",
      "get_ID_info LEAPHKCP_01380 -t AUUAUUUGCGUUUUUGUUGGAAAGGAAGCCGAUAAUAAUCGAAACGAAAGUUUUCCGAGUGGGGCAACGGCGAUCCGGUCUUGUAUCGGGGUAGCCGUCCCCUCAGAAGAAAAGGGGGCUGACCGCGCGUCACCCCCUUUUCAUUUUGCCG -s -1 -c -1 -r GTTATCGCTTCCTTTCCAACAAAAATGCGATATAAT -v -d\n"
     ]
    }
   ],
   "source": [
    "print(\"To save all output  using get_ID_info (recomended)\")\n",
    "print(\"get_ID_info \"+seqid+\" \"+\"-t \"+str(tracrRNA.transcribe())+\" -s \"+str(tracrstrand)+\" -c \"+str(crisprstrand)+\" -r \"+str(rpt)+\" -v -d\")"
   ]
  },
  {
   "cell_type": "code",
   "execution_count": null,
   "metadata": {},
   "outputs": [],
   "source": [
    "# AOPFDEBE_00006:\n",
    "get_ID_info AOPFDEBE_00006 -v -d -t GACGAUUUGAGAAGCAACCGUUUAUAUAAUAAAGAAUAUUUUCUGUGGGGUUCUACGAUUAUGUAUCCCCUGAAACCGUCCCCCUGCGGGGACGGUUUCUGUUGUAU -s - -c -1  -r GTTATAGGTTGCTTCTCAAATCGTCTTTGGTATAAT\n",
    "# CJFLGLGO_01367:\n",
    "get_ID_info CJFLGLGO_01367 -t UUAUAACAUACCAAGAACAAUUGGGUUACUACAAAAAGGUAGAAAACCGAAAAGCUCUGACGGCUCCUUUUUGGAGCCGUUAUCUUUUUC -s -1 -c 1 -r ATTGTAGTTCCCTAATTTTTCTTGGTATGTTATAAT -v -d\n",
    "# AJHGDLDC_00764:\n",
    "get_ID_info AJHGDLDC_00764 -t UUAUACCAUACCAAGAACUAUUAUGGUUGCUAUGAUAAGGUCAUAGGACCGUAAAGCUCUGACGCCCUGCUAUUUGGCAGGGCGUCAUCUUUUUUGCC -s -1 -c 1 -r ATCATAGTTCCCTAATAGCTCTTGGTATGGTATAAT -v -d\n",
    "# LPEAHEHG_01071:\n",
    "get_ID_info LPEAHEHG_01071 -t UUAUACCAUACCAAGAACUAUUAUGGUUGCUAUGAUAAGGUCAUAGGACCGUAAAGCUCUGACGCCCUGUCCUAGGACAGGGCGUCAUCUUUUUUGUC -s -1 -c 1 -r GGGATGATTTACTAATAGCTCTTGGTATGGTATAAT -v -d\n",
    "# LEAPHKCP_01380 \n",
    "get_ID_info LEAPHKCP_01380 -t AUUAUUUGCGUUUUUGUUGGAAAGGAAGCCGAUAAUAAUCGAAACGAAAGUUUUCCGAGUGGGGCAACGGCGAUCCGGUCUUGUAUCGGGGUAGCCGUCCCCUCAGAAGAAAAGGGGGCUGACCGCGCGUCACCCCCUUUUCAUUUUGCCG -s -1 -c -1 -r GTTATCGCTTCCTTTCCAACAAAAATGCGATATAAT -v -d"
   ]
  }
 ],
 "metadata": {
  "kernelspec": {
   "display_name": "Python 3",
   "language": "python",
   "name": "python3"
  },
  "language_info": {
   "codemirror_mode": {
    "name": "ipython",
    "version": 3
   },
   "file_extension": ".py",
   "mimetype": "text/x-python",
   "name": "python",
   "nbconvert_exporter": "python",
   "pygments_lexer": "ipython3",
   "version": "3.7.3"
  }
 },
 "nbformat": 4,
 "nbformat_minor": 2
}
