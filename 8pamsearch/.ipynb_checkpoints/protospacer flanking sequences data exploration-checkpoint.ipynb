{
 "cells": [
  {
   "cell_type": "markdown",
   "metadata": {},
   "source": [
    "# protospacer flanking sequences data exploration"
   ]
  },
  {
   "cell_type": "code",
   "execution_count": 3,
   "metadata": {},
   "outputs": [],
   "source": [
    "# 05/07\n",
    "# Made by L-F-S\n",
    "# At the University Of Trento, Italy\n",
    "\n",
    "import os\n",
    "\n",
    "import sys\n",
    "import pandas as pd\n",
    "import matplotlib.pyplot as plt\n",
    "from Bio import SeqIO\n",
    "from Bio.Seq import Seq\n",
    "# for clustal alignments\n",
    "#from Bio import AlignIO\n",
    "#from Bio.Align.Applications import ClustalwCommandline\n",
    "#from Bio.Align import AlignInfo\n",
    "# to make logos\n",
    "import logomaker as lm\n",
    "\n",
    "feature=\"Cas9\" #WARNING!!! CHANGE THIS!!\n",
    "datadir=\"/shares/CIBIO-Storage/CM/news/users/lorenzo.signorini/8pamsearch/out/\"\n",
    "seqid =\"AJHGDLDC_00764\"   # MANUAL INPUT\n",
    "outdir=datadir+seqid+\"/\"\n"
   ]
  },
  {
   "cell_type": "markdown",
   "metadata": {},
   "source": [
    "### Load file"
   ]
  },
  {
   "cell_type": "code",
   "execution_count": 5,
   "metadata": {},
   "outputs": [
    {
     "data": {
      "text/html": [
       "<div>\n",
       "<style scoped>\n",
       "    .dataframe tbody tr th:only-of-type {\n",
       "        vertical-align: middle;\n",
       "    }\n",
       "\n",
       "    .dataframe tbody tr th {\n",
       "        vertical-align: top;\n",
       "    }\n",
       "\n",
       "    .dataframe thead th {\n",
       "        text-align: right;\n",
       "    }\n",
       "</style>\n",
       "<table border=\"1\" class=\"dataframe\">\n",
       "  <thead>\n",
       "    <tr style=\"text-align: right;\">\n",
       "      <th></th>\n",
       "      <th>0</th>\n",
       "      <th>1</th>\n",
       "      <th>2</th>\n",
       "      <th>3</th>\n",
       "      <th>4</th>\n",
       "      <th>5</th>\n",
       "    </tr>\n",
       "  </thead>\n",
       "  <tbody>\n",
       "    <tr>\n",
       "      <td>0</td>\n",
       "      <td>NODE_1930_length_7783_cov_5.60675</td>\n",
       "      <td>TGACCTTGGCACGGCCGACATTCATGATGCCGCCGCCCGCACCGCC...</td>\n",
       "      <td>CCCAGCATGACCGAGTAGAAGATGATCTCCAGCCAGGGCACGCTGG...</td>\n",
       "      <td>AsnicarF_2017__MV_FEM4_t2Q15.contigs_filtered....</td>\n",
       "      <td>AsnicarF_2017__MV_FEM4_t2Q15__bin.24</td>\n",
       "      <td>TACATCGACATGAACAGCATACCGACGCTG</td>\n",
       "    </tr>\n",
       "    <tr>\n",
       "      <td>1</td>\n",
       "      <td>NODE_3807_length_5163_cov_11.0000_ID_96823</td>\n",
       "      <td>TGACCTTGGCACGGCCGACATTCATGATGCCGCCGCCCGCACCGCC...</td>\n",
       "      <td>CCCAGCATGACCGAGTAGAAGATGATCTCCAGCCAGGGCACGCTGG...</td>\n",
       "      <td>AsnicarF_2017__MV_FEM4_t2Q15_megahit.contigs_f...</td>\n",
       "      <td>0</td>\n",
       "      <td>TACATCGACATGAACAGCATACCGACGCTG</td>\n",
       "    </tr>\n",
       "    <tr>\n",
       "      <td>2</td>\n",
       "      <td>NODE_2216_length_7565_cov_2.67683</td>\n",
       "      <td>TGCGGGAGAAATTTCTCTGCCGCCGTGCGCAGTTCGGCAACGGTGG...</td>\n",
       "      <td>GCCGCTCTTGGCCGCTTGCAAGGGGACATCTTTCAGTGCTGTGGCC...</td>\n",
       "      <td>AsnicarF_2017__MV_FEM5_t1Q14.contigs_filtered....</td>\n",
       "      <td>0</td>\n",
       "      <td>GCGGCAAATCTGGCCGCCACACTGAAATTC</td>\n",
       "    </tr>\n",
       "    <tr>\n",
       "      <td>3</td>\n",
       "      <td>NODE_11024_length_2243_cov_3.21801</td>\n",
       "      <td>AAGACAAGCATTCCCTGGCTGGAAATCATCTTCTATGTCGCTATGA...</td>\n",
       "      <td>CCGCGGCGGCGCAGGCGGCGGCATCATGAATGTGGGCCGCGCCAAG...</td>\n",
       "      <td>AsnicarF_2017__MV_FEM5_t1Q14.contigs_filtered....</td>\n",
       "      <td>0</td>\n",
       "      <td>TACATCGACATGAACAGCATGCCGATGCTG</td>\n",
       "    </tr>\n",
       "    <tr>\n",
       "      <td>4</td>\n",
       "      <td>NODE_2410_length_7098_cov_3.4119</td>\n",
       "      <td>AAGACGAGCATTCCCTGGCTGGAGATCATCTTCTACGTCGCAATGA...</td>\n",
       "      <td>CCGCGGCGGCGCGGGCGGCGGCATCATGAATGTAGGCCGCGCCAAG...</td>\n",
       "      <td>AsnicarF_2017__MV_FEM5_t1Q14.contigs_filtered....</td>\n",
       "      <td>0</td>\n",
       "      <td>TACATCGACATGAACAACATACCGATGCTG</td>\n",
       "    </tr>\n",
       "  </tbody>\n",
       "</table>\n",
       "</div>"
      ],
      "text/plain": [
       "                                            0  \\\n",
       "0           NODE_1930_length_7783_cov_5.60675   \n",
       "1  NODE_3807_length_5163_cov_11.0000_ID_96823   \n",
       "2           NODE_2216_length_7565_cov_2.67683   \n",
       "3          NODE_11024_length_2243_cov_3.21801   \n",
       "4            NODE_2410_length_7098_cov_3.4119   \n",
       "\n",
       "                                                   1  \\\n",
       "0  TGACCTTGGCACGGCCGACATTCATGATGCCGCCGCCCGCACCGCC...   \n",
       "1  TGACCTTGGCACGGCCGACATTCATGATGCCGCCGCCCGCACCGCC...   \n",
       "2  TGCGGGAGAAATTTCTCTGCCGCCGTGCGCAGTTCGGCAACGGTGG...   \n",
       "3  AAGACAAGCATTCCCTGGCTGGAAATCATCTTCTATGTCGCTATGA...   \n",
       "4  AAGACGAGCATTCCCTGGCTGGAGATCATCTTCTACGTCGCAATGA...   \n",
       "\n",
       "                                                   2  \\\n",
       "0  CCCAGCATGACCGAGTAGAAGATGATCTCCAGCCAGGGCACGCTGG...   \n",
       "1  CCCAGCATGACCGAGTAGAAGATGATCTCCAGCCAGGGCACGCTGG...   \n",
       "2  GCCGCTCTTGGCCGCTTGCAAGGGGACATCTTTCAGTGCTGTGGCC...   \n",
       "3  CCGCGGCGGCGCAGGCGGCGGCATCATGAATGTGGGCCGCGCCAAG...   \n",
       "4  CCGCGGCGGCGCGGGCGGCGGCATCATGAATGTAGGCCGCGCCAAG...   \n",
       "\n",
       "                                                   3  \\\n",
       "0  AsnicarF_2017__MV_FEM4_t2Q15.contigs_filtered....   \n",
       "1  AsnicarF_2017__MV_FEM4_t2Q15_megahit.contigs_f...   \n",
       "2  AsnicarF_2017__MV_FEM5_t1Q14.contigs_filtered....   \n",
       "3  AsnicarF_2017__MV_FEM5_t1Q14.contigs_filtered....   \n",
       "4  AsnicarF_2017__MV_FEM5_t1Q14.contigs_filtered....   \n",
       "\n",
       "                                      4                               5  \n",
       "0  AsnicarF_2017__MV_FEM4_t2Q15__bin.24  TACATCGACATGAACAGCATACCGACGCTG  \n",
       "1                                     0  TACATCGACATGAACAGCATACCGACGCTG  \n",
       "2                                     0  GCGGCAAATCTGGCCGCCACACTGAAATTC  \n",
       "3                                     0  TACATCGACATGAACAGCATGCCGATGCTG  \n",
       "4                                     0  TACATCGACATGAACAACATACCGATGCTG  "
      ]
     },
     "execution_count": 5,
     "metadata": {},
     "output_type": "execute_result"
    }
   ],
   "source": [
    "PAM_dataset_name=\"dataset_flanking_sequences_of_putative_protospacers\"\n",
    "PAMdata=pd.read_csv(outdir+PAM_dataset_name, header=None)\n",
    "PAMdata.head()"
   ]
  },
  {
   "cell_type": "markdown",
   "metadata": {},
   "source": [
    "col0: contig, col1: upstream flanking sequence, col1: downtream flanking sequence, col3: samplename col4: bin (0 if unbinned)  col5: protospacer"
   ]
  },
  {
   "cell_type": "code",
   "execution_count": 10,
   "metadata": {},
   "outputs": [
    {
     "data": {
      "text/plain": [
       "(7408, 6)"
      ]
     },
     "execution_count": 10,
     "metadata": {},
     "output_type": "execute_result"
    }
   ],
   "source": [
    "PAMdata.shape"
   ]
  },
  {
   "cell_type": "markdown",
   "metadata": {},
   "source": [
    "## Check length of flanking regions"
   ]
  },
  {
   "cell_type": "code",
   "execution_count": 24,
   "metadata": {
    "scrolled": false
   },
   "outputs": [
    {
     "name": "stdout",
     "output_type": "stream",
     "text": [
      "count    7306.0\n",
      "mean       51.0\n",
      "std         0.0\n",
      "min        51.0\n",
      "25%        51.0\n",
      "50%        51.0\n",
      "75%        51.0\n",
      "max        51.0\n",
      "Name: 1, dtype: float64\n"
     ]
    },
    {
     "data": {
      "image/png": "[encoded data removed]",
      "text/plain": [
       "<Figure size 432x288 with 1 Axes>"
      ]
     },
     "metadata": {
      "needs_background": "light"
     },
     "output_type": "display_data"
    }
   ],
   "source": [
    "upstream_length=PAMdata[1].str.count(\"\")\n",
    "upstream_length.hist(bins=80)\n",
    "print(upstream_length.describe())"
   ]
  },
  {
   "cell_type": "markdown",
   "metadata": {},
   "source": [
    "Ma ci sn alcune righe senza dati, o con dati mancanti, o con dati mancanti, es:\n",
    " BackhedF_2015__SID130_M.contigs_filtered.fasta,    questo nel contig  NODE_16046_length_1718_cov_1.75827 non funge la seq upstream. esempio\n",
    " mentre BackhedF_2015__SID26_12M_megahit.contigs_filtered.fasta ha la seq DOWNStream corta (come accate ad altre), nel contig NODE_6634_length_2333_cov_7.0000_ID_14245\n",
    " altra downstream corta, x fare un dataset diverso: LawrenceA_2015__LD-Run2-11_megahit.contigs_filtered     NODE_1465_length_4048_cov_9.0000_ID_34458"
   ]
  },
  {
   "cell_type": "code",
   "execution_count": 31,
   "metadata": {},
   "outputs": [
    {
     "data": {
      "text/html": [
       "<div>\n",
       "<style scoped>\n",
       "    .dataframe tbody tr th:only-of-type {\n",
       "        vertical-align: middle;\n",
       "    }\n",
       "\n",
       "    .dataframe tbody tr th {\n",
       "        vertical-align: top;\n",
       "    }\n",
       "\n",
       "    .dataframe thead th {\n",
       "        text-align: right;\n",
       "    }\n",
       "</style>\n",
       "<table border=\"1\" class=\"dataframe\">\n",
       "  <thead>\n",
       "    <tr style=\"text-align: right;\">\n",
       "      <th></th>\n",
       "      <th>0</th>\n",
       "      <th>1</th>\n",
       "      <th>2</th>\n",
       "      <th>3</th>\n",
       "      <th>4</th>\n",
       "      <th>5</th>\n",
       "    </tr>\n",
       "  </thead>\n",
       "  <tbody>\n",
       "    <tr>\n",
       "      <td>18</td>\n",
       "      <td>NODE_16046_length_1718_cov_1.75827</td>\n",
       "      <td>NaN</td>\n",
       "      <td>TCGCCCACGTTCCAAATTTGCGAGGCAAAGTGCGCGGCCCGCCATG...</td>\n",
       "      <td>BackhedF_2015__SID130_M.contigs_filtered.fasta</td>\n",
       "      <td>0</td>\n",
       "      <td>GTGCCGATAAACTGCCCCTTGGAAATGGTG</td>\n",
       "    </tr>\n",
       "    <tr>\n",
       "      <td>19</td>\n",
       "      <td>NODE_12772_length_2188_cov_2.30286</td>\n",
       "      <td>CAATTTTTGTCCAGAACTCGGTACGATCCAGAGAAACACCTGACGG...</td>\n",
       "      <td>CTGTCCACGACAACGGTGTTTGCCTCGTACTGGCTGGTGATGTCCC...</td>\n",
       "      <td>BackhedF_2015__SID130_M.contigs_filtered.fasta</td>\n",
       "      <td>0</td>\n",
       "      <td>GGCTGCACGGAAAGATATGCGTTGCCGTTG</td>\n",
       "    </tr>\n",
       "    <tr>\n",
       "      <td>20</td>\n",
       "      <td>NODE_10241_length_2770_cov_2.19853</td>\n",
       "      <td>CAAGGGCGAAAGCCTCTAACGTTGCTGTGTATGTCGAACGCTGTGG...</td>\n",
       "      <td>AATCACAGATACCGTCGAGAAGATGATCGGCAAGAAGCAGCGCGTC...</td>\n",
       "      <td>BackhedF_2015__SID130_M.contigs_filtered.fasta</td>\n",
       "      <td>0</td>\n",
       "      <td>TCCCACTGCATATAATAGGGGTTTGCC</td>\n",
       "    </tr>\n",
       "    <tr>\n",
       "      <td>21</td>\n",
       "      <td>NODE_18192_length_1500_cov_2.0955</td>\n",
       "      <td>ACGGTCAGTGTTGAACACCGTCACACCGCCCGAGCCAAAGACCAGA...</td>\n",
       "      <td>GCGTCCATCGTACCATAGACACGGCCTCAAGAAATAGATACTTGCG...</td>\n",
       "      <td>BackhedF_2015__SID130_M.contigs_filtered.fasta</td>\n",
       "      <td>0</td>\n",
       "      <td>GCAAGCGGTTACTGGGCCACGTGTCGGGGA</td>\n",
       "    </tr>\n",
       "  </tbody>\n",
       "</table>\n",
       "</div>"
      ],
      "text/plain": [
       "                                     0  \\\n",
       "18  NODE_16046_length_1718_cov_1.75827   \n",
       "19  NODE_12772_length_2188_cov_2.30286   \n",
       "20  NODE_10241_length_2770_cov_2.19853   \n",
       "21   NODE_18192_length_1500_cov_2.0955   \n",
       "\n",
       "                                                    1  \\\n",
       "18                                                NaN   \n",
       "19  CAATTTTTGTCCAGAACTCGGTACGATCCAGAGAAACACCTGACGG...   \n",
       "20  CAAGGGCGAAAGCCTCTAACGTTGCTGTGTATGTCGAACGCTGTGG...   \n",
       "21  ACGGTCAGTGTTGAACACCGTCACACCGCCCGAGCCAAAGACCAGA...   \n",
       "\n",
       "                                                    2  \\\n",
       "18  TCGCCCACGTTCCAAATTTGCGAGGCAAAGTGCGCGGCCCGCCATG...   \n",
       "19  CTGTCCACGACAACGGTGTTTGCCTCGTACTGGCTGGTGATGTCCC...   \n",
       "20  AATCACAGATACCGTCGAGAAGATGATCGGCAAGAAGCAGCGCGTC...   \n",
       "21  GCGTCCATCGTACCATAGACACGGCCTCAAGAAATAGATACTTGCG...   \n",
       "\n",
       "                                                 3  4  \\\n",
       "18  BackhedF_2015__SID130_M.contigs_filtered.fasta  0   \n",
       "19  BackhedF_2015__SID130_M.contigs_filtered.fasta  0   \n",
       "20  BackhedF_2015__SID130_M.contigs_filtered.fasta  0   \n",
       "21  BackhedF_2015__SID130_M.contigs_filtered.fasta  0   \n",
       "\n",
       "                                 5  \n",
       "18  GTGCCGATAAACTGCCCCTTGGAAATGGTG  \n",
       "19  GGCTGCACGGAAAGATATGCGTTGCCGTTG  \n",
       "20     TCCCACTGCATATAATAGGGGTTTGCC  \n",
       "21  GCAAGCGGTTACTGGGCCACGTGTCGGGGA  "
      ]
     },
     "execution_count": 31,
     "metadata": {},
     "output_type": "execute_result"
    }
   ],
   "source": [
    "PAMdata[PAMdata[3]==\"BackhedF_2015__SID130_M.contigs_filtered.fasta\"]"
   ]
  },
  {
   "cell_type": "code",
   "execution_count": 34,
   "metadata": {},
   "outputs": [
    {
     "name": "stdout",
     "output_type": "stream",
     "text": [
      "(7408,) (7306,)\n"
     ]
    }
   ],
   "source": [
    "print(PAMdata[1].shape,PAMdata[1].dropna().shape)"
   ]
  },
  {
   "cell_type": "markdown",
   "metadata": {},
   "source": [
    "### count how many upstream are different from 51\n"
   ]
  },
  {
   "cell_type": "code",
   "execution_count": 49,
   "metadata": {},
   "outputs": [
    {
     "data": {
      "text/plain": [
       "51.0    7306\n",
       "Name: 1, dtype: int64"
      ]
     },
     "execution_count": 49,
     "metadata": {},
     "output_type": "execute_result"
    }
   ],
   "source": [
    "PAMdata[1].str.count(\"\").value_counts()"
   ]
  },
  {
   "cell_type": "markdown",
   "metadata": {},
   "source": [
    "they are all either 51 or none."
   ]
  },
  {
   "cell_type": "code",
   "execution_count": 35,
   "metadata": {},
   "outputs": [
    {
     "name": "stdout",
     "output_type": "stream",
     "text": [
      "count    7389.000000\n",
      "mean       50.643659\n",
      "std         3.370080\n",
      "min         2.000000\n",
      "25%        51.000000\n",
      "50%        51.000000\n",
      "75%        51.000000\n",
      "max        51.000000\n",
      "Name: 2, dtype: float64\n"
     ]
    },
    {
     "data": {
      "image/png": "[encoded data removed]",
      "text/plain": [
       "<Figure size 432x288 with 1 Axes>"
      ]
     },
     "metadata": {
      "needs_background": "light"
     },
     "output_type": "display_data"
    }
   ],
   "source": [
    "down_length=PAMdata[2].str.count(\"\")\n",
    "down_length.hist(bins=80)\n",
    "print(down_length.describe())"
   ]
  },
  {
   "cell_type": "code",
   "execution_count": 42,
   "metadata": {},
   "outputs": [
    {
     "data": {
      "text/html": [
       "<div>\n",
       "<style scoped>\n",
       "    .dataframe tbody tr th:only-of-type {\n",
       "        vertical-align: middle;\n",
       "    }\n",
       "\n",
       "    .dataframe tbody tr th {\n",
       "        vertical-align: top;\n",
       "    }\n",
       "\n",
       "    .dataframe thead th {\n",
       "        text-align: right;\n",
       "    }\n",
       "</style>\n",
       "<table border=\"1\" class=\"dataframe\">\n",
       "  <thead>\n",
       "    <tr style=\"text-align: right;\">\n",
       "      <th></th>\n",
       "      <th>0</th>\n",
       "      <th>1</th>\n",
       "      <th>2</th>\n",
       "      <th>3</th>\n",
       "      <th>4</th>\n",
       "      <th>5</th>\n",
       "    </tr>\n",
       "  </thead>\n",
       "  <tbody>\n",
       "    <tr>\n",
       "      <td>2439</td>\n",
       "      <td>NODE_1634_length_3807_cov_6.7785_ID_29044</td>\n",
       "      <td>CAAGATCAATTTTTGCGATTCGGACCCCGTGACGGACAAGGCGTGG...</td>\n",
       "      <td>AGGTCCACAAACCGCAGGTCCTGCAAACCAACTACTACGGCCAGAC...</td>\n",
       "      <td>LawrenceA_2015__LD-Run2-11_megahit.contigs_fil...</td>\n",
       "      <td>0</td>\n",
       "      <td>CGTACATGTCCACGCTCTGGCCCTCTTCCA</td>\n",
       "    </tr>\n",
       "    <tr>\n",
       "      <td>2440</td>\n",
       "      <td>NODE_1465_length_4048_cov_9.0000_ID_34458</td>\n",
       "      <td>CCGGTCGGTATCAAATACCGTCACACCGCCATCCCCAAATACCAGG...</td>\n",
       "      <td>CAGTGTCCACCGCACCATGGAAA</td>\n",
       "      <td>LawrenceA_2015__LD-Run2-11_megahit.contigs_fil...</td>\n",
       "      <td>0</td>\n",
       "      <td>GCAAGCGGTTGCTGGGCCAGGTGTCGGG</td>\n",
       "    </tr>\n",
       "    <tr>\n",
       "      <td>2441</td>\n",
       "      <td>NODE_1429_length_4113_cov_6.8918_ID_44496</td>\n",
       "      <td>TCCGCAAGTACCTGTTTTTGGAGGCCATTTCCATGGTGCGGTGGAC...</td>\n",
       "      <td>AATACCTGGTATTTGGGGATGGCGGTGTAACGGTATTTGATACCGA...</td>\n",
       "      <td>LawrenceA_2015__LD-Run2-11_megahit.contigs_fil...</td>\n",
       "      <td>0</td>\n",
       "      <td>GCAAGCGGTTGCTGGGCCAGGTGTCGGG</td>\n",
       "    </tr>\n",
       "  </tbody>\n",
       "</table>\n",
       "</div>"
      ],
      "text/plain": [
       "                                              0  \\\n",
       "2439  NODE_1634_length_3807_cov_6.7785_ID_29044   \n",
       "2440  NODE_1465_length_4048_cov_9.0000_ID_34458   \n",
       "2441  NODE_1429_length_4113_cov_6.8918_ID_44496   \n",
       "\n",
       "                                                      1  \\\n",
       "2439  CAAGATCAATTTTTGCGATTCGGACCCCGTGACGGACAAGGCGTGG...   \n",
       "2440  CCGGTCGGTATCAAATACCGTCACACCGCCATCCCCAAATACCAGG...   \n",
       "2441  TCCGCAAGTACCTGTTTTTGGAGGCCATTTCCATGGTGCGGTGGAC...   \n",
       "\n",
       "                                                      2  \\\n",
       "2439  AGGTCCACAAACCGCAGGTCCTGCAAACCAACTACTACGGCCAGAC...   \n",
       "2440                            CAGTGTCCACCGCACCATGGAAA   \n",
       "2441  AATACCTGGTATTTGGGGATGGCGGTGTAACGGTATTTGATACCGA...   \n",
       "\n",
       "                                                      3  4  \\\n",
       "2439  LawrenceA_2015__LD-Run2-11_megahit.contigs_fil...  0   \n",
       "2440  LawrenceA_2015__LD-Run2-11_megahit.contigs_fil...  0   \n",
       "2441  LawrenceA_2015__LD-Run2-11_megahit.contigs_fil...  0   \n",
       "\n",
       "                                   5  \n",
       "2439  CGTACATGTCCACGCTCTGGCCCTCTTCCA  \n",
       "2440    GCAAGCGGTTGCTGGGCCAGGTGTCGGG  \n",
       "2441    GCAAGCGGTTGCTGGGCCAGGTGTCGGG  "
      ]
     },
     "execution_count": 42,
     "metadata": {},
     "output_type": "execute_result"
    }
   ],
   "source": [
    "# per il downstream:\n",
    "PAMdata[PAMdata[3]==\"LawrenceA_2015__LD-Run2-11_megahit.contigs_filtered.fasta\"]"
   ]
  },
  {
   "cell_type": "code",
   "execution_count": 47,
   "metadata": {},
   "outputs": [
    {
     "data": {
      "text/plain": [
       "'CAGTGTCCACCGCACCATGGAAA'"
      ]
     },
     "execution_count": 47,
     "metadata": {},
     "output_type": "execute_result"
    }
   ],
   "source": [
    "es=PAMdata[PAMdata[3]==\"LawrenceA_2015__LD-Run2-11_megahit.contigs_filtered.fasta\"].iloc[1].iloc[2]\n",
    "es"
   ]
  },
  {
   "cell_type": "code",
   "execution_count": 48,
   "metadata": {},
   "outputs": [
    {
     "data": {
      "text/plain": [
       "51.0    7289\n",
       "31.0       9\n",
       "32.0       6\n",
       "26.0       5\n",
       "18.0       5\n",
       "13.0       4\n",
       "12.0       4\n",
       "15.0       4\n",
       "3.0        3\n",
       "5.0        3\n",
       "30.0       3\n",
       "28.0       3\n",
       "22.0       3\n",
       "44.0       3\n",
       "39.0       3\n",
       "37.0       3\n",
       "27.0       3\n",
       "10.0       3\n",
       "35.0       2\n",
       "19.0       2\n",
       "33.0       2\n",
       "42.0       2\n",
       "2.0        2\n",
       "48.0       2\n",
       "16.0       2\n",
       "6.0        2\n",
       "23.0       2\n",
       "17.0       2\n",
       "29.0       1\n",
       "14.0       1\n",
       "47.0       1\n",
       "24.0       1\n",
       "4.0        1\n",
       "49.0       1\n",
       "45.0       1\n",
       "21.0       1\n",
       "41.0       1\n",
       "46.0       1\n",
       "34.0       1\n",
       "38.0       1\n",
       "7.0        1\n",
       "Name: 2, dtype: int64"
      ]
     },
     "execution_count": 48,
     "metadata": {},
     "output_type": "execute_result"
    }
   ],
   "source": [
    "#count how many downstream ar different from 51\n",
    "PAMdata[2].str.count(\"\").value_counts()"
   ]
  },
  {
   "cell_type": "markdown",
   "metadata": {},
   "source": [
    "lots of shorter sequences, for protospacers close to the end of the contig."
   ]
  },
  {
   "cell_type": "markdown",
   "metadata": {},
   "source": [
    "How do you explain empty upstreams?\n",
    "SOLVED: because of python indexing: example"
   ]
  },
  {
   "cell_type": "code",
   "execution_count": 56,
   "metadata": {},
   "outputs": [
    {
     "name": "stdout",
     "output_type": "stream",
     "text": [
      "[90, 91, 92, 93, 94, 95, 96, 97, 98, 99]\n",
      "[]\n"
     ]
    }
   ],
   "source": [
    "astring=list(range(100))\n",
    "start=0\n",
    "end=9\n",
    "a_downstream_substring_outisde=astring[90:150]\n",
    "print(a_downstream_substring_outisde,\": this prints out but is shorter\")\n",
    "an_upstream_substring_outisde=astring[-10:20], \"this does not save\")\n",
    "print(an_upstream_substring_outisde)\n",
    "\n"
   ]
  },
  {
   "cell_type": "markdown",
   "metadata": {},
   "source": [
    "### extract sample names of the upstream mess :, and re run them\n",
    "actually, some downstream messed up the same. must fis this and re run on faulty ones"
   ]
  },
  {
   "cell_type": "code",
   "execution_count": null,
   "metadata": {},
   "outputs": [],
   "source": [
    "#ATTENZIONE ALLE UPSTREAM, vano allineate correttamente!!!!"
   ]
  },
  {
   "cell_type": "code",
   "execution_count": 74,
   "metadata": {},
   "outputs": [
    {
     "name": "stdout",
     "output_type": "stream",
     "text": [
      "(7408, 6)\n",
      "(121, 6)\n",
      "18         BackhedF_2015__SID130_M.contigs_filtered.fasta\n",
      "172     BengtssonPalmeJ_2015__TRAVELRES10.contigs_filt...\n",
      "185     BengtssonPalmeJ_2015__TRAVELRES20_megahit.cont...\n",
      "256     BengtssonPalmeJ_2015__TRAVELRES4_megahit.conti...\n",
      "293     BengtssonPalmeJ_2015__TRAVELRES9.contigs_filte...\n",
      "                              ...                        \n",
      "7141    ZeeviD_2015_B__PNP_Main_96_megahit.contigs_fil...\n",
      "7206    ZellerG_2014__CCIS16383318ST-4-0.contigs_filte...\n",
      "7219    ZellerG_2014__CCIS33816588ST-4-0_megahit.conti...\n",
      "7231    ZellerG_2014__CCIS41222843ST-4-0_megahit.conti...\n",
      "7232    ZellerG_2014__CCIS41222843ST-4-0_megahit.conti...\n",
      "Name: 3, Length: 121, dtype: object\n"
     ]
    },
    {
     "name": "stderr",
     "output_type": "stream",
     "text": [
      "/home/lorenzo.signorini/anaconda3/lib/python3.7/site-packages/ipykernel_launcher.py:7: FutureWarning: The signature of `Series.to_csv` was aligned to that of `DataFrame.to_csv`, and argument 'header' will change its default value from False to True: please pass an explicit value to suppress this warning.\n",
      "  import sys\n"
     ]
    }
   ],
   "source": [
    "all_samples=PAMdata[3]\n",
    "print(PAMdata.shape)\n",
    "newdata=PAMdata[PAMdata.isnull().any(1)]\n",
    "print(newdata.shape)\n",
    "bad_samples=newdata[3]\n",
    "print(bad_samples)\n",
    "bad_samples.to_csv(datadir+\"samples_to_rerun.csv\", index=None)\n"
   ]
  },
  {
   "cell_type": "markdown",
   "metadata": {},
   "source": [
    "#### Make logo"
   ]
  },
  {
   "cell_type": "code",
   "execution_count": null,
   "metadata": {},
   "outputs": [],
   "source": [
    "all_flanking_sequences=open(outdir+PAM_dataset_name,\"r\")\n",
    "upstream_seqs, downstream_seqs, upstream_seqs_rvc, downstream_seqs_rvc, = [],[],[],[]\n",
    "for line in all_flanking_sequences.readlines():\n",
    "  #  target_contig=line.strip(\"\\n\").split(\",\")[0]\n",
    "    up_in_cont=line.strip(\"\\n\").split(\",\")[1]\n",
    "    down_in_cont=line.strip(\"\\n\").split(\",\")[2]\n",
    "   # cont_sample=line.strip(\"\\n\").split(\",\")[3]\n",
    "    upstream_seqs.append(up_in_cont)\n",
    "    upstream_seqs_rvc.append(str(Seq(up_in_cont).reverse_complement()))\n",
    "    downstream_seqs.append(down_in_cont)\n",
    "    downstream_seqs_rvc.append(str(Seq(down_in_cont).reverse_complement()))\n",
    "f.close()"
   ]
  }
 ],
 "metadata": {
  "kernelspec": {
   "display_name": "Python 3",
   "language": "python",
   "name": "python3"
  },
  "language_info": {
   "codemirror_mode": {
    "name": "ipython",
    "version": 3
   },
   "file_extension": ".py",
   "mimetype": "text/x-python",
   "name": "python",
   "nbconvert_exporter": "python",
   "pygments_lexer": "ipython3",
   "version": "3.7.3"
  }
 },
 "nbformat": 4,
 "nbformat_minor": 2
}
