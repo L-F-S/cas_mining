{
 "cells": [
  {
   "cell_type": "markdown",
   "metadata": {},
   "source": [
    " <h1><center>Pam Search test</center></h1>\n"
   ]
  },
  {
   "cell_type": "markdown",
   "metadata": {},
   "source": [
    "\n",
    "<div style=\"text-align: right\">Lorenzo federico Signorini, 23/09/2019</div>\n",
    "\n",
    "<div style=\"text-align: right\">Università degli studi di Trento</div>\n"
   ]
  },
  {
   "cell_type": "markdown",
   "metadata": {},
   "source": [
    "23/09/2019\n",
    "Let' s try to  extract spacer sequences and lign them to all known contigs for the following Cas9s:\n",
    ">8774__OBKKDPJE_00146__BritoIL_2016__M2.46.ST__bin.47;length1073;#sequences1\n",
    ">8774__IBLHLBHI_00561__BritoIL_2016__W2.19.ST__bin.40;length1073;#sequences1\n",
    "\n",
    ">8774__LLPOPKBG_01052__QinN_2014__HD-66__bin.16;length1073;#sequences1\n",
    "\n",
    ">15299__PAOEJHHN_00966__FengQ_2015__SID531128__bin.48;15299__MOACNHFO_01282__XieH_2016__YSZC12003_36674__bin.32;length1074;#sequences2\n",
    ">15299__LPEAHEHG_01071__ChengpingW_2017__AS43raw__bin.51;length1074;#sequences1\n",
    "\n",
    ">4329__CJFLGLGO_01367__Obregon-TitoAJ_2015__SM40__bin.4;length1079;#sequences1\n",
    "\n",
    ">4329__GNIJMFKL_00179__Obregon-TitoAJ_2015__HCO64__bin.33;length1079;#sequences1\n",
    "\n",
    ">4329__OOELONHJ_00933__Obregon-TitoAJ_2015__SM01__bin.19;length1079;#sequences1\n",
    "\n",
    "Each one of these is actually the centroid of a cluster of sequences, moreover, some of these actually are identical sequences from different genomes. It would be nice to see whether their CRISPR arrays are similar, too.\n"
   ]
  },
  {
   "cell_type": "code",
   "execution_count": 47,
   "metadata": {},
   "outputs": [],
   "source": [
    "# First created Thu Jul 11 09:51:15 CEST 2019\n",
    "# Made by L-F-S\n",
    "# At the University Of Trento, Italy\n",
    "\n",
    "import os\n",
    "import subprocess\n",
    "import sys\n",
    "import numpy as np\n",
    "import pandas as pd\n",
    "import matplotlib.pyplot as plt\n",
    "from Bio import SeqIO\n",
    "from Bio.Seq import Seq\n",
    "from Bio.SeqRecord import SeqRecord\n",
    "# for clustal alignments\n",
    "from Bio import AlignIO\n",
    "from Bio.Align.Applications import ClustalwCommandline\n",
    "from Bio.Align import AlignInfo\n",
    "# to make logos\n",
    "import logomaker as lm\n",
    "\n",
    "sys.path.insert(0, '/home/lorenzo.signorini/cas_mining/utils/')\n",
    "import filename_discrepancies\n",
    "import originalpath\n",
    "sys.path.insert(0, '/home/lorenzo.signorini/cas_mining/9casminer_v2/')\n",
    "import locus\n",
    "\n",
    "\n",
    "feature=\"Cas9\" #WARNING!!! CHANGE THIS!!\n",
    "datadir=\"/shares/CIBIO-Storage/CM/news/users/lorenzo.signorini/8pamsearch/\"\n"
   ]
  },
  {
   "cell_type": "code",
   "execution_count": 2,
   "metadata": {
    "scrolled": true
   },
   "outputs": [
    {
     "data": {
      "text/plain": [
       "Index(['Seq ID', 'Seq Description', 'Seq', 'Contig', 'Genome Name', 'Study',\n",
       "       'Sample Name', 'SGB ID', 'Pos', 'pilercr_CRISPR', 'minced_CRISPR',\n",
       "       'prokka_cas1', 'prokka_cas2', 'uSGB', 'Level of estimated taxonomy',\n",
       "       'Estimated taxonomy', 'prokka_cas9'],\n",
       "      dtype='object')"
      ]
     },
     "execution_count": 2,
     "metadata": {},
     "output_type": "execute_result"
    }
   ],
   "source": [
    "# Import data\n",
    "cas_dataset=pd.read_csv(\"/shares/CIBIO-Storage/CM/news/users/lorenzo.signorini/5caslocitable/known_\"+feature+\"_variants_table.csv\", index_col=0)\n",
    "cas_dataset.columns"
   ]
  },
  {
   "cell_type": "markdown",
   "metadata": {},
   "source": [
    "da runnare tramite python script "
   ]
  },
  {
   "cell_type": "code",
   "execution_count": 63,
   "metadata": {},
   "outputs": [
    {
     "name": "stdout",
     "output_type": "stream",
     "text": [
      "Sequence ID:  AJHGDLDC_00764\n",
      "Contig: NODE_3931_length_8539_cov_7.89097\n",
      "Dataset: HMP_2012\n",
      "Genome name HMP_2012__SRS015065__bin.2\n",
      "Sample name: SRS015065\n",
      "SGB ID: 15286\n",
      "Cas9 length: 1074\n",
      "----------------------------------------------------------------------\n",
      "old epasolli genomename: HMP_2012__SRS015065__bin.2 HMP_2012\n"
     ]
    }
   ],
   "source": [
    "seqid =\"AJHGDLDC_00764\"   # MANUAL INPUT\n",
    "\n",
    "dataset=cas_dataset[cas_dataset[\"Seq ID\"]==seqid][\"Study\"].iloc[0]\n",
    "genomename=cas_dataset[cas_dataset[\"Seq ID\"]==seqid][\"Genome Name\"].iloc[0]\n",
    "SGB=cas_dataset[cas_dataset[\"Seq ID\"]==seqid][\"SGB ID\"].iloc[0]\n",
    "contigname=cas_dataset[cas_dataset[\"Seq ID\"]==seqid][\"Contig\"].iloc[0]\n",
    "samplename=cas_dataset[cas_dataset[\"Seq ID\"]==seqid][\"Sample Name\"].iloc[0]\n",
    "#\n",
    "full_genome_full_path, annotation_folder=originalpath.print_path(genomename)\n",
    "#\n",
    "old_genomename, old_dataset=filename_discrepancies.get_originalsamplename_froms3name_of_genome(genomename,dataset)\n",
    "old_path=\"/shares/CIBIO-Storage/CM/scratch/users/e.pasolli/projects/binning/genomes_comp50_cont05/\"+old_dataset+\"/\"\n",
    "\n",
    "#\n",
    "print(\"Sequence ID: \", seqid)\n",
    "print(\"Contig:\", contigname)\n",
    "print(\"Dataset:\",dataset)\n",
    "print(\"Genome name\", genomename)\n",
    "print(\"Sample name:\", samplename)\n",
    "print(\"SGB ID:\", SGB)\n",
    "print(\"Cas9 length:\", len(cas_dataset[cas_dataset[\"Seq ID\"]==seqid][\"Seq\"].iloc[0]))\n",
    "print(\"----------------------------------------------------------------------\")\n",
    "print(\"old epasolli genomename:\", old_genomename, old_dataset )\n",
    "\n",
    "outdir=datadir+\"out/\"+seqid+\"__\"+genomename+\"/\"\n",
    "if not os.path.exists(outdir):\n",
    "    os.makedirs(outdir)"
   ]
  },
  {
   "cell_type": "code",
   "execution_count": 64,
   "metadata": {},
   "outputs": [
    {
     "name": "stdout",
     "output_type": "stream",
     "text": [
      "Spacers ['AGCGTCATGTTCTCGGTAATCGGTGCATCT', 'GCGGCAAATCTGGCCGCCACACTGAAATTC', 'GTGCCGATAAACTGCCCCTTGGAGATTGTG', 'GGCTGCACGGATAGATAGGCGTTGCCGTTG', 'CCGTGTGTGTAGTAGATAACATTGTTCCAC', 'ATCTCCCATTGCATATAATAGGGGTTTGCC', 'CGTACATATCCACGCTCTGGCCGTCCTCCA', 'GCAAGCGGTTACTGGGCCAGGTGTCGGGGA', 'TACATCGACATGAACAGCATACCGATGCTG', 'ACCTCATACATTGCCCTTATGAATTCCACT']\n"
     ]
    }
   ],
   "source": [
    "# 1 get CRISPR spacer sequence\n",
    "# get CRISPR spacer and repeat sequence\n",
    "cr=locus.CRISPRarray(feature=feature, contigname=contigname, genomename=genomename, datasetname=dataset)\n",
    "cr.get_CRISPR_array()\n",
    "spacers=cr.spacers\n",
    "#repeats=cr.repeats\n",
    "#repeat_start_pos=cr.repstartpos\n",
    "#unique_repeats=np.unique(repeats)\n",
    "#unique_spacers=np.unique(spacers)\n",
    "#todo I think we only care about spacers, no repeats, so all lines above commented out can be cancelled\n",
    "print(\"Spacers\", spacers )\n"
   ]
  },
  {
   "cell_type": "code",
   "execution_count": 65,
   "metadata": {},
   "outputs": [],
   "source": [
    "#2. build temporary query file for blastn search, with spacers\n",
    "blast_folder=datadir+\"out\"\n",
    "os.chdir(blast_folder)\n",
    "tempfile=open(\"temp_spacer_seq\", \"w\")\n",
    "tempfile.close()\n",
    "tempfile=open(\"temp_spacer_seq\", \"a\")\n",
    "for n, spacer in enumerate(spacers):\n",
    "    tempfile.write(\">spacer\"+str(n+1)+\"|\"+contigname+\"|\"+genomename+\"|\"+seqid+\"\\n\"+spacer+\"\\n\") \n",
    "tempfile.close()"
   ]
  },
  {
   "cell_type": "markdown",
   "metadata": {},
   "source": [
    "### BLAST. Must parallelize across ALL samples in the world"
   ]
  },
  {
   "cell_type": "code",
   "execution_count": 66,
   "metadata": {},
   "outputs": [
    {
     "name": "stdout",
     "output_type": "stream",
     "text": [
      "Running blastn of query file agianst all contigs\n",
      "/home/lorenzo.signorini/ncbi-blast-2.10.0+/bin/blastn -out /shares/CIBIO-Storage/CM/news/users/lorenzo.signorini/8pamsearch/out/AJHGDLDC_00764__HMP_2012__SRS015065__bin.2/AJHGDLDC_00764__HMP_2012__SRS015065__bin.2__Cas9.blastout -outfmt \"6  qseqid sseqid pident qlen length mismatch gapopen qseq sseq sstart send    evalue sstrand\" -query temp_spacer_seq -db /shares/CIBIO-Storage/CM/news/users/lorenzo.signorini/8pamsearch/HMP_2012/HMP_2012__SRS015065.contigs_filtered.fasta -evalue 0.001 -word_size 12\n"
     ]
    },
    {
     "data": {
      "text/plain": [
       "<subprocess.Popen at 0x7f24db1146a0>"
      ]
     },
     "execution_count": 66,
     "metadata": {},
     "output_type": "execute_result"
    }
   ],
   "source": [
    "#3. Blast query file against db\n",
    "print(\"Running blastn of query file agianst all contigs\")\n",
    "target_sample_file=old_dataset+\"__\"+old_genomename.split(\"__\")[1]\n",
    "dbfile=datadir+dataset+\"/\"+target_sample_file+\".contigs_filtered.fasta\"\n",
    "blastoutfile=outdir+seqid+\"__\"+genomename+\"__\"+feature+\".blastout\"\n",
    "blastn_command = \"/home/lorenzo.signorini/ncbi-blast-2.10.0+/bin/blastn -out \"+blastoutfile+\\\n",
    "    \" -outfmt \\\"6  qseqid sseqid pident qlen length mismatch gapopen qseq sseq sstart send\\\n",
    "    evalue sstrand\\\" -query temp_spacer_seq -db \"+dbfile+\" -evalue 0.001 -word_size 12\"\n",
    "print(blastn_command)\n",
    "subprocess.Popen(blastn_command, shell=True)\n",
    "\n",
    "#per dopo pranzo, fai uno script che fa una lista di nomi di tti icontigs filtered,riguarda se i contigs_filtered siano solamente i non assemblati (ma non credo),e se c'è mdo nel file vecchio di vedere se le hit che avevi venivano da contigs non allineati. la risposta è: lo facevi con chewck if unbinned"
   ]
  },
  {
   "cell_type": "code",
   "execution_count": 67,
   "metadata": {},
   "outputs": [
    {
     "name": "stdout",
     "output_type": "stream",
     "text": [
      "query seq\tMatched_contig\t% identity\tquery length\talignment length\t# mismatches\t# gap opens \t query sequence\taligned part of subject sequence\tstart in subject\tend in subject\texpect. value\tmatched contig strand\n",
      "----------------------------------------------------------------------------------------------------------------------\n",
      "spacer9|NODE_3931_length_8539_cov_7.89097|HMP_2012__SRS015065__bin.2|AJHGDLDC_00764\tNODE_9195_length_3737_cov_4.44324\t100.000\t30\t30\t0\t0\tTACATCGACATGAACAGCATACCGATGCTG\tTACATCGACATGAACAGCATACCGATGCTG\t1537\t1508\t1.64e-08\tminus\n",
      "\n",
      "spacer10|NODE_3931_length_8539_cov_7.89097|HMP_2012__SRS015065__bin.2|AJHGDLDC_00764\tNODE_2633_length_12505_cov_9.6812\t100.000\t30\t30\t0\t0\tACCTCATACATTGCCCTTATGAATTCCACT\tACCTCATACATTGCCCTTATGAATTCCACT\t6756\t6727\t1.64e-08\tminus\n",
      "\n"
     ]
    }
   ],
   "source": [
    "# 4 blast output parsing\n",
    "# 4.1 Print all output\n",
    "protospacers_of={} # save all putative protospacers, for every contig\n",
    "f=open(blastoutfile)\n",
    "lines=f.readlines()\n",
    "print(\"query seq\\tMatched_contig\\t% identity\\tquery length\\talignment length\\t# mismatches\\t# gap opens \\t query sequence\\taligned part of subject sequence\\tstart in subject\\tend in subject\\texpect. value\\tmatched contig strand\\n----------------------------------------------------------------------------------------------------------------------\")\n",
    "for line in lines:\n",
    "    target_cont=line.strip(\"\\n\").split()[1]  # contig name of target (putative protospacer)\n",
    "    if target_cont!=contigname: #filter out putative protospacers coming from same contig\n",
    "        print(line)\n",
    "        if not target_cont in protospacers_of.keys():\n",
    "            protospacers_of[target_cont]=[]\n",
    "        # add putative protospacer sequence to dictionary\n",
    "        protospacers_of[target_cont].append((int(line.strip(\"\\n\").split()[-4]),int(line.strip(\"\\n\").split()[-3]),line.strip(\"\\n\").split()[-5]))"
   ]
  },
  {
   "cell_type": "code",
   "execution_count": 68,
   "metadata": {
    "scrolled": true
   },
   "outputs": [
    {
     "data": {
      "text/plain": [
       "{'NODE_9195_length_3737_cov_4.44324': [(1537,\n",
       "   1508,\n",
       "   'TACATCGACATGAACAGCATACCGATGCTG')],\n",
       " 'NODE_2633_length_12505_cov_9.6812': [(6756,\n",
       "   6727,\n",
       "   'ACCTCATACATTGCCCTTATGAATTCCACT')]}"
      ]
     },
     "execution_count": 68,
     "metadata": {},
     "output_type": "execute_result"
    }
   ],
   "source": [
    "protospacers_of"
   ]
  },
  {
   "cell_type": "code",
   "execution_count": 96,
   "metadata": {},
   "outputs": [
    {
     "name": "stdout",
     "output_type": "stream",
     "text": [
      "Extracting flanking sequences. There are 2 contigs withputative protospacers.\n",
      "Searching for flanking sequences of protospacer from contig:\n",
      " NODE_9195_length_3737_cov_4.44324 \n",
      "\n",
      "WORKING!\n",
      "Match on minus, taking reverse complement\n",
      "Is extracted putative protospacer equal to Blasted? True\n",
      "start: 1508 end: 1537\n",
      "TACATCGACATGAACAGCATACCGATGCTG\n",
      "upstream sequence\n",
      "AAGACGAGCATTCCCTGGCTGGAGATCATCTTCTACGTCGCAATGATCGG\n",
      "downstream sequence\n",
      "CCGCGGAGGCGCGGGCGGCGGCATCATGAATGTGGGCCGCGCCAAGGTCA\n",
      "{'NODE_9195_length_3737_cov_4.44324': [(Seq('AAGACGAGCATTCCCTGGCTGGAGATCATCTTCTACGTCGCAATGATCGG', SingleLetterAlphabet()), Seq('CCGCGGAGGCGCGGGCGGCGGCATCATGAATGTGGGCCGCGCCAAGGTCA', SingleLetterAlphabet()))]}\n",
      "Searching for flanking sequences of protospacer from contig:\n",
      " NODE_2633_length_12505_cov_9.6812 \n",
      "\n",
      "Match on minus, taking reverse complement\n",
      "Is extracted putative protospacer equal to Blasted? True\n",
      "start: 6727 end: 6756\n",
      "ACCTCATACATTGCCCTTATGAATTCCACT\n",
      "upstream sequence\n",
      "CAGAGGACATTTGTTTTTGCGGGTACTTTGGGCGGTGGAAAAGATAAATT\n",
      "downstream sequence\n",
      "TCACAATAGTGAGAATTGTATTCCTATTTTAAATATATATGGGCCGTCTA\n",
      "{'NODE_9195_length_3737_cov_4.44324': [(Seq('AAGACGAGCATTCCCTGGCTGGAGATCATCTTCTACGTCGCAATGATCGG', SingleLetterAlphabet()), Seq('CCGCGGAGGCGCGGGCGGCGGCATCATGAATGTGGGCCGCGCCAAGGTCA', SingleLetterAlphabet()))], 'NODE_2633_length_12505_cov_9.6812': [(Seq('CAGAGGACATTTGTTTTTGCGGGTACTTTGGGCGGTGGAAAAGATAAATT', SingleLetterAlphabet()), Seq('TCACAATAGTGAGAATTGTATTCCTATTTTAAATATATATGGGCCGTCTA', SingleLetterAlphabet()))]}\n"
     ]
    }
   ],
   "source": [
    "### 2 putative viral contigs extraction\n",
    "#TODO note to self: THERE IS ONLY ONE contigname now, but se ne faccio\n",
    "# di piu, will need to map target contigs to query contig in another dictionary\n",
    "# extract thje +50, -50 sequence flanking protospacer, for every contig (ASSUMING 1 contig = 1 protospacer) TODOable\n",
    "# for the particular locus studied, for every contig of putative protospacers\n",
    "print(\"Extracting flanking sequences. There are\", len(list(protospacers_of.keys())), \"contigs with\\\n",
    "putative protospacers.\")\n",
    "flanking_sequences_of_putative_protospacers_of={}\n",
    "f=open(outdir+\"flanking_sequences_of_putative_protospacers_\"+target_sample_file,\"w\")\n",
    "f=open(outdir+\"flanking_sequences_of_putative_protospacers_\"+target_sample_file,\"a\")\n",
    "for target_contig in protospacers_of.keys():\n",
    "    print(\"Searching for flanking sequences of protospacer from contig:\\n\",target_contig,\"\\n\")\n",
    "\n",
    "    # check if binned\n",
    "    print(\"checking if binned\")\n",
    "    target_bin='0'\n",
    "    os.chdir(old_path)\n",
    "    for file in os.listdir():\n",
    "        if file.startswith(target_sample_file):\n",
    "            for record in SeqIO.parse(file, \"fasta\"):\n",
    "                if record.id==target_contig:\n",
    "                    target_bin=file.rstrip(\".fa\")\n",
    "    #\n",
    "    \n",
    "    for record in SeqIO.parse(dbfile, \"fasta\"):\n",
    "        if record.id==target_contig:\n",
    "            #contig_sequence_with_putative_protospacer[contigname]=record.seq\n",
    "            for start, end, matched_seq in protospacers_of[target_contig]:\n",
    "                sequence=record.seq\n",
    "                revcomp=False\n",
    "                if start>end:\n",
    "                    print(\"Match on minus, taking reverse complement\")\n",
    "                    s=start\n",
    "                    start=end\n",
    "                    end=s\n",
    "                    revcomp=True\n",
    "                test_value=sequence[start-1:end].reverse_complement()==matched_seq if revcomp else sequence[start-1:end]\n",
    "                if not test_value:\n",
    "                    raise Exception(\"Extracted sequence differs:\\nExtracted sequence reverse complement?\"+str(revcomp))\n",
    "                print(\"Is extracted putative protospacer equal to Blasted?\",sequence[start-1:end].reverse_complement()==matched_seq if revcomp else sequence[start:end])\n",
    "             #   print(matched_seq)\n",
    "                print(\"start:\",start,\"end:\",end)\n",
    "                print(sequence[start-1:end].reverse_complement() if revcomp else sequence[start:end])\n",
    "                print(\"upstream sequence\")\n",
    "                upseq=sequence[start-51:start-1] #immediately flanking, no overlap\n",
    "                print(upseq)\n",
    "                print(\"downstream sequence\")\n",
    "                downseq=sequence[end:end+50]  #immediately flanking, no overlap\n",
    "                print(downseq)\n",
    "                f.write(target_contig+\",\"+str(upseq)+\",\"+str(downseq)+\",\"+target_sample_file+\",\"+target_bin+\"\\n\")\n",
    "                #todo add if is binned to the thing above\n",
    "                #todo: remove these below\n",
    "                if not target_contig in flanking_sequences_of_putative_protospacers_of.keys():\n",
    "                    flanking_sequences_of_putative_protospacers_of[target_contig]=[]\n",
    "                flanking_sequences_of_putative_protospacers_of[target_contig].append((upseq,downseq))\n",
    "                \n",
    "            print(flanking_sequences_of_putative_protospacers_of)\n",
    "\n",
    "            break\n",
    "f.close()"
   ]
  },
  {
   "cell_type": "code",
   "execution_count": null,
   "metadata": {},
   "outputs": [],
   "source": [
    "### 3 -check if unbinned TODO fai domnz\n",
    "\n",
    "for contigname in protospacers_of.keys():\n",
    "    # check all bins of that sample..\n",
    "    for record in SeqIO.parse(old_pa)\n",
    "    for folder in *; do cd $folder; echo $folder; more ${folder}.faa | grep $contigname; cd ../; done\n",
    "done\n",
    "```"
   ]
  },
  {
   "cell_type": "markdown",
   "metadata": {},
   "source": [
    "# Pam logos\n",
    "\n",
    "This must take as input a dictionary of tuples with flanking regions for all porotspacers.\n",
    "How do we enlarge the dictionary now?\n",
    "Maybe instead of a dictionary we write a little file:\n",
    "col1: contigname (of target contig with protospacer) col2: upstream seq, col3: downstream sequence"
   ]
  },
  {
   "cell_type": "code",
   "execution_count": 78,
   "metadata": {},
   "outputs": [],
   "source": [
    "# TODO Merge all flanking_sequences_file\n",
    "all_flanking_file=\"flanking_sequences_of_putative_protospacers_HMP_2012__SRS015065\"#\"all_putative_protospacer_flanking_sequences\"\n",
    "# os.Popen(cat flanking_sequences_of_putative* > all_putative_protospacer_flanking_sequences, shell=True)\n",
    "# os.Popen(\"rm flanking_sequences_of_putative*\", shell=True)\n"
   ]
  },
  {
   "cell_type": "code",
   "execution_count": 90,
   "metadata": {},
   "outputs": [],
   "source": [
    "# still, this is valid for the one contig (locus) under examination.\n",
    "# Although looking at different target samples\n",
    "\n",
    "all_flanking_sequences=open(outdir+all_flanking_file,\"r\")\n",
    "upstream_seqs, downstream_seqs, upstream_seqs_rvc, downstream_seqs_rvc, = [],[],[],[]\n",
    "for line in all_flanking_sequences.readlines():\n",
    "    target_contig=line.strip(\"\\n\").split(\",\")[0]\n",
    "    up_in_cont=line.strip(\"\\n\").split(\",\")[1]\n",
    "    down_in_cont=line.strip(\"\\n\").split(\",\")[2]\n",
    "    cont_sample=line.strip(\"\\n\").split(\",\")[3]\n",
    "    upstream_seqs.append(up_in_cont)\n",
    "    upstream_seqs_rvc.append(str(Seq(up_in_cont).reverse_complement()))\n",
    "    downstream_seqs.append(down_in_cont)\n",
    "    downstream_seqs_rvc.append(str(Seq(down_in_cont).reverse_complement()))\n"
   ]
  },
  {
   "cell_type": "code",
   "execution_count": 58,
   "metadata": {},
   "outputs": [],
   "source": [
    "\n",
    "#upstream_seqs, downstream_seqs, upstream_seqs_rvc, downstream_seqs_rvc, upstream_seqs_alns, downstream_seqs_alns=[],[],[],[],[],[]\n",
    "# alns wil be used fo clustal allignment (probably levabili)\n",
    "# seqs will be used for printing a sort of pileup matrix, and subsequent logo\n",
    "#for contig in flanking_sequences_of_putative_protospacers_of.keys():\n",
    " #   up_in_cont, down_in_cont = [str(seq[0]) for seq in flanking_sequences_of_putative_protospacers_of[contig]],[str(seq[1]) for seq in flanking_sequences_of_putative_protospacers_of[contig]]\n",
    "#    upstream_seqs += up_in_cont  # up_in_cont is  a 1 element list. += will append the element\n",
    "#    upstream_seqs_rvc.append(str(Seq(up_in_cont[0]).reverse_complement()))\n",
    "#    downstream_seqs += down_in_cont \n",
    " #   downstream_seqs_rvc.append(str(Seq(down_in_cont[0]).reverse_complement()))\n",
    "\n",
    "   # up_in_cont_aln, down_in_cont_aln = [SeqRecord(seq[0], id=contig+\"upstream\"+str(n), description=\"bo\") for n, seq in enumerate(flanking_sequences_of_putative_protospacers_of[contig])],[SeqRecord(seq[0], id=contig+\"upstream\"+str(n), description=\"bo\") for n, seq in enumerate(flanking_sequences_of_putative_protospacers_of[contig])]\n",
    "   # upstream_seqs_alns += up_in_cont_aln\n",
    "   # downstream_seqs_alns += down_in_cont_aln"
   ]
  },
  {
   "cell_type": "code",
   "execution_count": 16,
   "metadata": {},
   "outputs": [
    {
     "data": {
      "text/plain": [
       "2"
      ]
     },
     "execution_count": 16,
     "metadata": {},
     "output_type": "execute_result"
    }
   ],
   "source": [
    "#SeqIO.write(upstream_seqs_alns, outdir+\"upstream_pam.faa\", \"fasta\")\n",
    "#SeqIO.write(downstream_seqs_alns, outdir+\"downstream_pam.faa\", \"fasta\")"
   ]
  },
  {
   "cell_type": "code",
   "execution_count": 19,
   "metadata": {},
   "outputs": [
    {
     "name": "stdout",
     "output_type": "stream",
     "text": [
      "clustalw -infile=/shares/CIBIO-Storage/CM/news/users/lorenzo.signorini/8pamsearch/out/HMP_2012__SRS015065__bin.2__SRS015065/upstream_pam.faa -outfile=/shares/CIBIO-Storage/CM/news/users/lorenzo.signorini/8pamsearch/out/HMP_2012__SRS015065__bin.2__SRS015065/upstream_pam.faa.aln\n"
     ]
    },
    {
     "data": {
      "text/plain": [
       "0"
      ]
     },
     "execution_count": 19,
     "metadata": {},
     "output_type": "execute_result"
    }
   ],
   "source": [
    "#TODO PROBABLY DA ELIMINARE, NON LO VOGLIAMO PIU GUARDIAMO SOLO IL 'pileup'\n",
    "\n",
    "#filename=\"upstream_pam\"\n",
    "#cline= ClustalwCommandline(\"clustalw\", infile=outdir+filename+\".faa\", outfile=outdir+filename+\".faa.aln\")\n",
    "#print(cline)\n",
    "#os.system(str(cline))"
   ]
  },
  {
   "cell_type": "code",
   "execution_count": 20,
   "metadata": {},
   "outputs": [
    {
     "name": "stdout",
     "output_type": "stream",
     "text": [
      "SingleLetterAlphabet() alignment with 2 rows and 52 columns\n",
      "AAGACGAGCATTCCCTGGCTGGAGATCATCTTCTACGTCGCAAT...G-- NODE_9195_length_3737_cov_4.44\n",
      "CAGA-GGACATTTGTTT-TTGCGGGTACTTTGGGCGGTGGAAAA...ATT NODE_2633_length_12505_cov_9.6\n"
     ]
    }
   ],
   "source": [
    "#TODO PROBABLY DA ELIMINARE, NON LO VOGLIAMO PIU GUARDIAMO SOLO IL 'pileup'\n",
    "#align = AlignIO.read(outdir+\"upstream_pam.faa.aln\", \"clustal\")\n",
    "#print(align)\n",
    "#alns=AlignInfo.SummaryInfo(align)\n",
    "#CONSENSUS_SEQUENCE=SeqRecord(alns.dumb_consensus(0.5), id=\"PROVA\", description=\"prova\")"
   ]
  },
  {
   "cell_type": "markdown",
   "metadata": {},
   "source": [
    "### Upstream"
   ]
  },
  {
   "cell_type": "code",
   "execution_count": 85,
   "metadata": {},
   "outputs": [
    {
     "data": {
      "text/html": [
       "<div>\n",
       "<style scoped>\n",
       "    .dataframe tbody tr th:only-of-type {\n",
       "        vertical-align: middle;\n",
       "    }\n",
       "\n",
       "    .dataframe tbody tr th {\n",
       "        vertical-align: top;\n",
       "    }\n",
       "\n",
       "    .dataframe thead th {\n",
       "        text-align: right;\n",
       "    }\n",
       "</style>\n",
       "<table border=\"1\" class=\"dataframe\">\n",
       "  <thead>\n",
       "    <tr style=\"text-align: right;\">\n",
       "      <th></th>\n",
       "      <th>A</th>\n",
       "      <th>C</th>\n",
       "      <th>G</th>\n",
       "      <th>T</th>\n",
       "    </tr>\n",
       "    <tr>\n",
       "      <th>pos</th>\n",
       "      <th></th>\n",
       "      <th></th>\n",
       "      <th></th>\n",
       "      <th></th>\n",
       "    </tr>\n",
       "  </thead>\n",
       "  <tbody>\n",
       "    <tr>\n",
       "      <td>0</td>\n",
       "      <td>1.0</td>\n",
       "      <td>1.0</td>\n",
       "      <td>0.0</td>\n",
       "      <td>0.0</td>\n",
       "    </tr>\n",
       "    <tr>\n",
       "      <td>1</td>\n",
       "      <td>2.0</td>\n",
       "      <td>0.0</td>\n",
       "      <td>0.0</td>\n",
       "      <td>0.0</td>\n",
       "    </tr>\n",
       "    <tr>\n",
       "      <td>2</td>\n",
       "      <td>0.0</td>\n",
       "      <td>0.0</td>\n",
       "      <td>2.0</td>\n",
       "      <td>0.0</td>\n",
       "    </tr>\n",
       "    <tr>\n",
       "      <td>3</td>\n",
       "      <td>2.0</td>\n",
       "      <td>0.0</td>\n",
       "      <td>0.0</td>\n",
       "      <td>0.0</td>\n",
       "    </tr>\n",
       "    <tr>\n",
       "      <td>4</td>\n",
       "      <td>0.0</td>\n",
       "      <td>1.0</td>\n",
       "      <td>1.0</td>\n",
       "      <td>0.0</td>\n",
       "    </tr>\n",
       "  </tbody>\n",
       "</table>\n",
       "</div>"
      ],
      "text/plain": [
       "       A    C    G    T\n",
       "pos                    \n",
       "0    1.0  1.0  0.0  0.0\n",
       "1    2.0  0.0  0.0  0.0\n",
       "2    0.0  0.0  2.0  0.0\n",
       "3    2.0  0.0  0.0  0.0\n",
       "4    0.0  1.0  1.0  0.0"
      ]
     },
     "execution_count": 85,
     "metadata": {},
     "output_type": "execute_result"
    }
   ],
   "source": [
    "\n",
    "counts_mat = lm.alignment_to_matrix(upstream_seqs)\n",
    "counts_mat.to_csv(outdir+\"upstream.pileup\")\n",
    "counts_mat.head()\n",
    "\n"
   ]
  },
  {
   "cell_type": "code",
   "execution_count": 86,
   "metadata": {},
   "outputs": [
    {
     "data": {
      "text/plain": [
       "<logomaker.src.Logo.Logo at 0x7f24db13bba8>"
      ]
     },
     "execution_count": 86,
     "metadata": {},
     "output_type": "execute_result"
    },
    {
     "data": {
      "image/png": "[encoded data removed]",
      "text/plain": [
       "<Figure size 720x180 with 1 Axes>"
      ]
     },
     "metadata": {
      "needs_background": "light"
     },
     "output_type": "display_data"
    }
   ],
   "source": [
    "lm.Logo(counts_mat)"
   ]
  },
  {
   "cell_type": "markdown",
   "metadata": {},
   "source": [
    "### Downstream\n"
   ]
  },
  {
   "cell_type": "code",
   "execution_count": 87,
   "metadata": {},
   "outputs": [
    {
     "data": {
      "text/html": [
       "<div>\n",
       "<style scoped>\n",
       "    .dataframe tbody tr th:only-of-type {\n",
       "        vertical-align: middle;\n",
       "    }\n",
       "\n",
       "    .dataframe tbody tr th {\n",
       "        vertical-align: top;\n",
       "    }\n",
       "\n",
       "    .dataframe thead th {\n",
       "        text-align: right;\n",
       "    }\n",
       "</style>\n",
       "<table border=\"1\" class=\"dataframe\">\n",
       "  <thead>\n",
       "    <tr style=\"text-align: right;\">\n",
       "      <th></th>\n",
       "      <th>A</th>\n",
       "      <th>C</th>\n",
       "      <th>G</th>\n",
       "      <th>T</th>\n",
       "    </tr>\n",
       "    <tr>\n",
       "      <th>pos</th>\n",
       "      <th></th>\n",
       "      <th></th>\n",
       "      <th></th>\n",
       "      <th></th>\n",
       "    </tr>\n",
       "  </thead>\n",
       "  <tbody>\n",
       "    <tr>\n",
       "      <td>0</td>\n",
       "      <td>0.0</td>\n",
       "      <td>1.0</td>\n",
       "      <td>0.0</td>\n",
       "      <td>1.0</td>\n",
       "    </tr>\n",
       "    <tr>\n",
       "      <td>1</td>\n",
       "      <td>0.0</td>\n",
       "      <td>2.0</td>\n",
       "      <td>0.0</td>\n",
       "      <td>0.0</td>\n",
       "    </tr>\n",
       "    <tr>\n",
       "      <td>2</td>\n",
       "      <td>1.0</td>\n",
       "      <td>0.0</td>\n",
       "      <td>1.0</td>\n",
       "      <td>0.0</td>\n",
       "    </tr>\n",
       "    <tr>\n",
       "      <td>3</td>\n",
       "      <td>0.0</td>\n",
       "      <td>2.0</td>\n",
       "      <td>0.0</td>\n",
       "      <td>0.0</td>\n",
       "    </tr>\n",
       "    <tr>\n",
       "      <td>4</td>\n",
       "      <td>1.0</td>\n",
       "      <td>0.0</td>\n",
       "      <td>1.0</td>\n",
       "      <td>0.0</td>\n",
       "    </tr>\n",
       "  </tbody>\n",
       "</table>\n",
       "</div>"
      ],
      "text/plain": [
       "       A    C    G    T\n",
       "pos                    \n",
       "0    0.0  1.0  0.0  1.0\n",
       "1    0.0  2.0  0.0  0.0\n",
       "2    1.0  0.0  1.0  0.0\n",
       "3    0.0  2.0  0.0  0.0\n",
       "4    1.0  0.0  1.0  0.0"
      ]
     },
     "execution_count": 87,
     "metadata": {},
     "output_type": "execute_result"
    }
   ],
   "source": [
    "counts_mat = lm.alignment_to_matrix(downstream_seqs)\n",
    "counts_mat.to_csv(outdir+\"downstream.pileup\")\n",
    "counts_mat.head()\n"
   ]
  },
  {
   "cell_type": "code",
   "execution_count": 88,
   "metadata": {},
   "outputs": [
    {
     "data": {
      "text/plain": [
       "<logomaker.src.Logo.Logo at 0x7f24daa268d0>"
      ]
     },
     "execution_count": 88,
     "metadata": {},
     "output_type": "execute_result"
    },
    {
     "data": {
      "image/png": "[encoded data removed]",
      "text/plain": [
       "<Figure size 720x180 with 1 Axes>"
      ]
     },
     "metadata": {
      "needs_background": "light"
     },
     "output_type": "display_data"
    }
   ],
   "source": [
    "lm.Logo(counts_mat)"
   ]
  },
  {
   "cell_type": "markdown",
   "metadata": {},
   "source": [
    "### Upstream, reverse complement\n",
    "(look at first nucleotides)"
   ]
  },
  {
   "cell_type": "code",
   "execution_count": 91,
   "metadata": {},
   "outputs": [
    {
     "data": {
      "text/html": [
       "<div>\n",
       "<style scoped>\n",
       "    .dataframe tbody tr th:only-of-type {\n",
       "        vertical-align: middle;\n",
       "    }\n",
       "\n",
       "    .dataframe tbody tr th {\n",
       "        vertical-align: top;\n",
       "    }\n",
       "\n",
       "    .dataframe thead th {\n",
       "        text-align: right;\n",
       "    }\n",
       "</style>\n",
       "<table border=\"1\" class=\"dataframe\">\n",
       "  <thead>\n",
       "    <tr style=\"text-align: right;\">\n",
       "      <th></th>\n",
       "      <th>A</th>\n",
       "      <th>C</th>\n",
       "      <th>G</th>\n",
       "      <th>T</th>\n",
       "    </tr>\n",
       "    <tr>\n",
       "      <th>pos</th>\n",
       "      <th></th>\n",
       "      <th></th>\n",
       "      <th></th>\n",
       "      <th></th>\n",
       "    </tr>\n",
       "  </thead>\n",
       "  <tbody>\n",
       "    <tr>\n",
       "      <td>0</td>\n",
       "      <td>1.0</td>\n",
       "      <td>1.0</td>\n",
       "      <td>0.0</td>\n",
       "      <td>0.0</td>\n",
       "    </tr>\n",
       "    <tr>\n",
       "      <td>1</td>\n",
       "      <td>1.0</td>\n",
       "      <td>1.0</td>\n",
       "      <td>0.0</td>\n",
       "      <td>0.0</td>\n",
       "    </tr>\n",
       "    <tr>\n",
       "      <td>2</td>\n",
       "      <td>0.0</td>\n",
       "      <td>0.0</td>\n",
       "      <td>1.0</td>\n",
       "      <td>1.0</td>\n",
       "    </tr>\n",
       "    <tr>\n",
       "      <td>3</td>\n",
       "      <td>1.0</td>\n",
       "      <td>0.0</td>\n",
       "      <td>0.0</td>\n",
       "      <td>1.0</td>\n",
       "    </tr>\n",
       "    <tr>\n",
       "      <td>4</td>\n",
       "      <td>0.0</td>\n",
       "      <td>0.0</td>\n",
       "      <td>0.0</td>\n",
       "      <td>2.0</td>\n",
       "    </tr>\n",
       "  </tbody>\n",
       "</table>\n",
       "</div>"
      ],
      "text/plain": [
       "       A    C    G    T\n",
       "pos                    \n",
       "0    1.0  1.0  0.0  0.0\n",
       "1    1.0  1.0  0.0  0.0\n",
       "2    0.0  0.0  1.0  1.0\n",
       "3    1.0  0.0  0.0  1.0\n",
       "4    0.0  0.0  0.0  2.0"
      ]
     },
     "execution_count": 91,
     "metadata": {},
     "output_type": "execute_result"
    }
   ],
   "source": [
    "\n",
    "counts_mat = lm.alignment_to_matrix(upstream_seqs_rvc)\n",
    "counts_mat.to_csv(outdir+\"upstream_rvc.pileup\")\n",
    "counts_mat.head()\n"
   ]
  },
  {
   "cell_type": "code",
   "execution_count": 92,
   "metadata": {},
   "outputs": [
    {
     "data": {
      "text/plain": [
       "<logomaker.src.Logo.Logo at 0x7f24da7b04e0>"
      ]
     },
     "execution_count": 92,
     "metadata": {},
     "output_type": "execute_result"
    },
    {
     "data": {
      "image/png": "[encoded data removed]",
      "text/plain": [
       "<Figure size 720x180 with 1 Axes>"
      ]
     },
     "metadata": {
      "needs_background": "light"
     },
     "output_type": "display_data"
    }
   ],
   "source": [
    "lm.Logo(counts_mat)"
   ]
  },
  {
   "cell_type": "markdown",
   "metadata": {},
   "source": [
    "### Downstream, reverse complement\n",
    "Look at last letters."
   ]
  },
  {
   "cell_type": "code",
   "execution_count": 93,
   "metadata": {},
   "outputs": [
    {
     "data": {
      "text/html": [
       "<div>\n",
       "<style scoped>\n",
       "    .dataframe tbody tr th:only-of-type {\n",
       "        vertical-align: middle;\n",
       "    }\n",
       "\n",
       "    .dataframe tbody tr th {\n",
       "        vertical-align: top;\n",
       "    }\n",
       "\n",
       "    .dataframe thead th {\n",
       "        text-align: right;\n",
       "    }\n",
       "</style>\n",
       "<table border=\"1\" class=\"dataframe\">\n",
       "  <thead>\n",
       "    <tr style=\"text-align: right;\">\n",
       "      <th></th>\n",
       "      <th>A</th>\n",
       "      <th>C</th>\n",
       "      <th>G</th>\n",
       "      <th>T</th>\n",
       "    </tr>\n",
       "    <tr>\n",
       "      <th>pos</th>\n",
       "      <th></th>\n",
       "      <th></th>\n",
       "      <th></th>\n",
       "      <th></th>\n",
       "    </tr>\n",
       "  </thead>\n",
       "  <tbody>\n",
       "    <tr>\n",
       "      <td>0</td>\n",
       "      <td>0.0</td>\n",
       "      <td>0.0</td>\n",
       "      <td>0.0</td>\n",
       "      <td>2.0</td>\n",
       "    </tr>\n",
       "    <tr>\n",
       "      <td>1</td>\n",
       "      <td>1.0</td>\n",
       "      <td>0.0</td>\n",
       "      <td>1.0</td>\n",
       "      <td>0.0</td>\n",
       "    </tr>\n",
       "    <tr>\n",
       "      <td>2</td>\n",
       "      <td>1.0</td>\n",
       "      <td>0.0</td>\n",
       "      <td>1.0</td>\n",
       "      <td>0.0</td>\n",
       "    </tr>\n",
       "    <tr>\n",
       "      <td>3</td>\n",
       "      <td>1.0</td>\n",
       "      <td>1.0</td>\n",
       "      <td>0.0</td>\n",
       "      <td>0.0</td>\n",
       "    </tr>\n",
       "    <tr>\n",
       "      <td>4</td>\n",
       "      <td>0.0</td>\n",
       "      <td>2.0</td>\n",
       "      <td>0.0</td>\n",
       "      <td>0.0</td>\n",
       "    </tr>\n",
       "  </tbody>\n",
       "</table>\n",
       "</div>"
      ],
      "text/plain": [
       "       A    C    G    T\n",
       "pos                    \n",
       "0    0.0  0.0  0.0  2.0\n",
       "1    1.0  0.0  1.0  0.0\n",
       "2    1.0  0.0  1.0  0.0\n",
       "3    1.0  1.0  0.0  0.0\n",
       "4    0.0  2.0  0.0  0.0"
      ]
     },
     "execution_count": 93,
     "metadata": {},
     "output_type": "execute_result"
    }
   ],
   "source": [
    "\n",
    "counts_mat = lm.alignment_to_matrix(downstream_seqs_rvc)\n",
    "counts_mat.to_csv(outdir+\"downstream_rvc.pileup\")\n",
    "counts_mat.head()\n"
   ]
  },
  {
   "cell_type": "code",
   "execution_count": 94,
   "metadata": {},
   "outputs": [
    {
     "data": {
      "text/plain": [
       "<logomaker.src.Logo.Logo at 0x7f24da734550>"
      ]
     },
     "execution_count": 94,
     "metadata": {},
     "output_type": "execute_result"
    },
    {
     "data": {
      "image/png": "[encoded data removed]",
      "text/plain": [
       "<Figure size 720x180 with 1 Axes>"
      ]
     },
     "metadata": {
      "needs_background": "light"
     },
     "output_type": "display_data"
    }
   ],
   "source": [
    "lm.Logo(counts_mat)"
   ]
  }
 ],
 "metadata": {
  "kernelspec": {
   "display_name": "Python 3",
   "language": "python",
   "name": "python3"
  },
  "language_info": {
   "codemirror_mode": {
    "name": "ipython",
    "version": 3
   },
   "file_extension": ".py",
   "mimetype": "text/x-python",
   "name": "python",
   "nbconvert_exporter": "python",
   "pygments_lexer": "ipython3",
   "version": "3.7.3"
  }
 },
 "nbformat": 4,
 "nbformat_minor": 2
}
