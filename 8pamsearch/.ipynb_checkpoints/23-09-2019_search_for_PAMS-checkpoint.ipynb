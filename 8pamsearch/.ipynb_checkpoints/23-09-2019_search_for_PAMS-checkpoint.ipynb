{
 "cells": [
  {
   "cell_type": "markdown",
   "metadata": {},
   "source": [
    " <h1><center>Pam Search test</center></h1>\n"
   ]
  },
  {
   "cell_type": "markdown",
   "metadata": {},
   "source": [
    "\n",
    "<div style=\"text-align: right\">Lorenzo federico Signorini, 23/09/2019</div>\n",
    "\n",
    "<div style=\"text-align: right\">Università degli studi di Trento</div>\n"
   ]
  },
  {
   "cell_type": "markdown",
   "metadata": {},
   "source": [
    "23/09/2019\n",
    "Let' s try to  extract spacer sequences and lign them to all known contigs for the following Cas9s:\n",
    ">8774__OBKKDPJE_00146__BritoIL_2016__M2.46.ST__bin.47;length1073;#sequences1\n",
    ">8774__IBLHLBHI_00561__BritoIL_2016__W2.19.ST__bin.40;length1073;#sequences1\n",
    "\n",
    ">8774__LLPOPKBG_01052__QinN_2014__HD-66__bin.16;length1073;#sequences1\n",
    "\n",
    ">15299__PAOEJHHN_00966__FengQ_2015__SID531128__bin.48;15299__MOACNHFO_01282__XieH_2016__YSZC12003_36674__bin.32;length1074;#sequences2\n",
    ">15299__LPEAHEHG_01071__ChengpingW_2017__AS43raw__bin.51;length1074;#sequences1\n",
    "\n",
    ">4329__CJFLGLGO_01367__Obregon-TitoAJ_2015__SM40__bin.4;length1079;#sequences1\n",
    "\n",
    ">4329__GNIJMFKL_00179__Obregon-TitoAJ_2015__HCO64__bin.33;length1079;#sequences1\n",
    "\n",
    ">4329__OOELONHJ_00933__Obregon-TitoAJ_2015__SM01__bin.19;length1079;#sequences1\n",
    "\n",
    "Each one of these is actually the centroid of a cluster of sequences, moreover, some of these actually are identical sequences from different genomes. It would be nice to see whether their CRISPR arrays are similar, too.\n"
   ]
  },
  {
   "cell_type": "code",
   "execution_count": 25,
   "metadata": {},
   "outputs": [],
   "source": [
    "# First created Thu Jul 11 09:51:15 CEST 2019\n",
    "# Made by L-F-S\n",
    "# At the University Of Trento, Italy\n",
    "\n",
    "import os\n",
    "import subprocess\n",
    "import sys\n",
    "import numpy as np\n",
    "import pandas as pd\n",
    "import matplotlib.pyplot as plt\n",
    "from Bio import SeqIO\n",
    "\n",
    "\n",
    "\n",
    "sys.path.insert(0, '/home/lorenzo.signorini/cas_mining/utils/')\n",
    "import filename_discrepancies\n",
    "sys.path.insert(0, '/home/lorenzo.signorini/cas_mining/9casminer_v2/')\n",
    "import locus\n",
    "\n",
    "feature=\"Cas9\" #WARNING!!! CHANGE THIS!!\n",
    "#outpath=\"/shares/CIBIO-Storage/CM/scratch/tmp_projects/signorini_cas/5caslocitable/out/\"+feature+\"/\"\n",
    "datadir=\"/shares/CIBIO-Storage/CM/news/users/lorenzo.signorini/8pamsearch/\"\n",
    "\n",
    "\n"
   ]
  },
  {
   "cell_type": "code",
   "execution_count": 5,
   "metadata": {
    "scrolled": true
   },
   "outputs": [
    {
     "data": {
      "text/plain": [
       "Index(['Seq ID', 'Seq Description', 'Seq', 'Contig', 'Genome Name', 'Study',\n",
       "       'Sample Name', 'SGB ID', 'Pos', 'pilercr_CRISPR', 'minced_CRISPR',\n",
       "       'prokka_cas1', 'prokka_cas2', 'uSGB', 'Level of estimated taxonomy',\n",
       "       'Estimated taxonomy', 'prokka_cas9'],\n",
       "      dtype='object')"
      ]
     },
     "execution_count": 5,
     "metadata": {},
     "output_type": "execute_result"
    }
   ],
   "source": [
    "# Import data\n",
    "cas_dataset=pd.read_csv(\"/shares/CIBIO-Storage/CM/news/users/lorenzo.signorini/5caslocitable/known_\"+feature+\"_variants_table.csv\", index_col=0)\n",
    "cas_dataset.columns"
   ]
  },
  {
   "cell_type": "markdown",
   "metadata": {},
   "source": [
    "da runnare tramite python script "
   ]
  },
  {
   "cell_type": "code",
   "execution_count": 32,
   "metadata": {},
   "outputs": [
    {
     "name": "stdout",
     "output_type": "stream",
     "text": [
      "Sequence ID:  AJHGDLDC_00764\n",
      "Contig: NODE_3931_length_8539_cov_7.89097\n",
      "Dataset: HMP_2012\n",
      "Genome name HMP_2012__SRS015065__bin.2\n",
      "Sample name: SRS015065\n",
      "SGB ID: 15286\n",
      "Cas9 length: 1074\n",
      "----------------------------------------------------------------------\n",
      "old epasolli genomename: HMP_2012__SRS015065__bin.2 HMP_2012\n"
     ]
    }
   ],
   "source": [
    "seqid =\"AJHGDLDC_00764\"   # MANUAL INPUT\n",
    "dataset=cas_dataset[cas_dataset[\"Seq ID\"]==seqid][\"Study\"].iloc[0]\n",
    "genomename=cas_dataset[cas_dataset[\"Seq ID\"]==seqid][\"Genome Name\"].iloc[0]\n",
    "SGB=cas_dataset[cas_dataset[\"Seq ID\"]==seqid][\"SGB ID\"].iloc[0]\n",
    "contigname=cas_dataset[cas_dataset[\"Seq ID\"]==seqid][\"Contig\"].iloc[0]\n",
    "samplename=cas_dataset[cas_dataset[\"Seq ID\"]==seqid][\"Sample Name\"].iloc[0]\n",
    "old_genomename, old_dataset=filename_discrepancies.get_originalsamplename_froms3name_of_genome(genomename,dataset)\n",
    "print(\"Sequence ID: \", seqid)\n",
    "print(\"Contig:\", contig)\n",
    "print(\"Dataset:\",dataset)\n",
    "print(\"Genome name\", genomename)\n",
    "print(\"Sample name:\", samplename)\n",
    "print(\"SGB ID:\", SGB)\n",
    "print(\"Cas9 length:\", len(cas_dataset[cas_dataset[\"Seq ID\"]==seqid][\"Seq\"].iloc[0]))\n",
    "print(\"----------------------------------------------------------------------\")\n",
    "print(\"old epasolli genomename:\", old_genomename, old_dataset )"
   ]
  },
  {
   "cell_type": "code",
   "execution_count": 20,
   "metadata": {},
   "outputs": [
    {
     "name": "stdout",
     "output_type": "stream",
     "text": [
      "[False False False False False False False False False False]\n",
      "Spacers ['ACCTCATACATTGCCCTTATGAATTCCACT' 'AGCGTCATGTTCTCGGTAATCGGTGCATCT'\n",
      " 'ATCTCCCATTGCATATAATAGGGGTTTGCC' 'CCGTGTGTGTAGTAGATAACATTGTTCCAC'\n",
      " 'CGTACATATCCACGCTCTGGCCGTCCTCCA' 'GCAAGCGGTTACTGGGCCAGGTGTCGGGGA'\n",
      " 'GCGGCAAATCTGGCCGCCACACTGAAATTC' 'GGCTGCACGGATAGATAGGCGTTGCCGTTG'\n",
      " 'GTGCCGATAAACTGCCCCTTGGAGATTGTG' 'TACATCGACATGAACAGCATACCGATGCTG']\n"
     ]
    }
   ],
   "source": [
    "# 1 get CRISPR spacer sequence\n",
    "# get CRISPR spacer and repeat sequence\n",
    "cr=locus.CRISPRarray(feature=feature, contigname=contigname, genomename=genomename, datasetname=dataset)\n",
    "cr.get_CRISPR_array()\n",
    "spacers=cr.spacers\n",
    "#repeats=cr.repeats\n",
    "#repeat_start_pos=cr.repstartpos\n",
    "#unique_repeats=np.unique(repeats)\n",
    "#unique_spacers=np.unique(spacers)\n",
    "#todo I think we only care about spacers, no repeats. right?\n",
    "print(\"Spacers\", spacers )\n"
   ]
  },
  {
   "cell_type": "code",
   "execution_count": 38,
   "metadata": {},
   "outputs": [
    {
     "name": "stdout",
     "output_type": "stream",
     "text": [
      "Running blastn of query file agianst all contigs\n",
      "/home/lorenzo.signorini/ncbi-blast-2.10.0+/bin/blastn -out /shares/CIBIO-Storage/CM/news/users/lorenzo.signorini/8pamsearch/out/AJHGDLDC_00764__HMP_2012__SRS015065__bin.2__Cas9.blastout -outfmt \"6  qseqid sseqid pident qlen length mismatch gapopen qseq sseq sstart send    evalue sstrand\" -query temp_spacer_seq -db /shares/CIBIO-Storage/CM/news/users/lorenzo.signorini/8pamsearch/HMP_2012/HMP_2012__SRS015065.contigs_filtered.fasta -evalue 0.001 -word_size 12\n"
     ]
    },
    {
     "data": {
      "text/plain": [
       "<subprocess.Popen at 0x7f0d1fc5e2b0>"
      ]
     },
     "execution_count": 38,
     "metadata": {},
     "output_type": "execute_result"
    }
   ],
   "source": [
    "#2. build temporary query file for blastn search\n",
    "\n",
    "blast_folder=datadir+\"out\"\n",
    "os.chdir(blast_folder)\n",
    "tempfile=open(\"temp_spacer_seq\", \"w\")\n",
    "tempfile.close()\n",
    "tempfile=open(\"temp_spacer_seq\", \"a\")\n",
    "for n, spacer in enumerate(spacers):\n",
    "    tempfile.write(\">spacer\"+str(n+1)+\"|\"+contig+\"|\"+genomename+\"|\"+seqid+\"\\n\"+spacer+\"\\n\") \n",
    "tempfile.close()\n",
    "\n",
    "#3. Blast query file against db\n",
    "print(\"Running blastn of query file agianst all contigs\")\n",
    "dbfile=datadir+dataset+\"/\"+old_dataset+\"__\"+old_genomename.split(\"__\")[1]+\".contigs_filtered.fasta\"\n",
    "blastoutfile=datadir+\"out/\"+seqid+\"__\"+genomename+\"__\"+feature+\".blastout\"\n",
    "blastn_command = \"/home/lorenzo.signorini/ncbi-blast-2.10.0+/bin/blastn -out \"+blastoutfile+\\\n",
    "    \" -outfmt \\\"6  qseqid sseqid pident qlen length mismatch gapopen qseq sseq sstart send\\\n",
    "    evalue sstrand\\\" -query temp_spacer_seq -db \"+dbfile+\" -evalue 0.001 -word_size 12\"\n",
    "print(blastn_command)\n",
    "subprocess.Popen(blastn_command, shell=True)\n",
    "\n",
    "#per dopo pranzo, fai uno script che fa una lista di nomi di tti icontigs filtered,riguarda se i contigs_filtered siano solamente i non assemblati (ma non credo),e se c'è mdo nel file vecchio di vedere se le hit che avevi venivano da contigs non allineati. la risposta è: lo facevi con chewck if unbinned"
   ]
  },
  {
   "cell_type": "markdown",
   "metadata": {},
   "source": [
    "# parse output"
   ]
  },
  {
   "cell_type": "code",
   "execution_count": 39,
   "metadata": {},
   "outputs": [
    {
     "name": "stdout",
     "output_type": "stream",
     "text": [
      "query seq\tMatched_contig\t% identity\tquery length\talignment length\t# mismatches\t# gap opens \t query sequence\taligned part of subject sequence\tstart in subject\tend in subject\texpect. value\tmatched contig strand\n",
      "----------------------------------------------------------------------------------------------------------------------\n",
      "spacer1|NODE_3931_length_8539_cov_7.89097|HMP_2012__SRS015065__bin.2|AJHGDLDC_00764\tNODE_3931_length_8539_cov_7.89097\t100.000\t30\t30\t0\t0\tAGCGTCATGTTCTCGGTAATCGGTGCATCT\tAGCGTCATGTTCTCGGTAATCGGTGCATCT\t1654\t1683\t1.64e-08\tplus\n",
      "\n",
      "spacer2|NODE_3931_length_8539_cov_7.89097|HMP_2012__SRS015065__bin.2|AJHGDLDC_00764\tNODE_3931_length_8539_cov_7.89097\t100.000\t30\t30\t0\t0\tGCGGCAAATCTGGCCGCCACACTGAAATTC\tGCGGCAAATCTGGCCGCCACACTGAAATTC\t1720\t1749\t1.64e-08\tplus\n",
      "\n",
      "spacer3|NODE_3931_length_8539_cov_7.89097|HMP_2012__SRS015065__bin.2|AJHGDLDC_00764\tNODE_3931_length_8539_cov_7.89097\t100.000\t30\t30\t0\t0\tGTGCCGATAAACTGCCCCTTGGAGATTGTG\tGTGCCGATAAACTGCCCCTTGGAGATTGTG\t1786\t1815\t1.64e-08\tplus\n",
      "\n",
      "spacer4|NODE_3931_length_8539_cov_7.89097|HMP_2012__SRS015065__bin.2|AJHGDLDC_00764\tNODE_3931_length_8539_cov_7.89097\t100.000\t30\t30\t0\t0\tGGCTGCACGGATAGATAGGCGTTGCCGTTG\tGGCTGCACGGATAGATAGGCGTTGCCGTTG\t1852\t1881\t1.64e-08\tplus\n",
      "\n",
      "spacer5|NODE_3931_length_8539_cov_7.89097|HMP_2012__SRS015065__bin.2|AJHGDLDC_00764\tNODE_3931_length_8539_cov_7.89097\t100.000\t30\t30\t0\t0\tCCGTGTGTGTAGTAGATAACATTGTTCCAC\tCCGTGTGTGTAGTAGATAACATTGTTCCAC\t1918\t1947\t1.64e-08\tplus\n",
      "\n",
      "spacer6|NODE_3931_length_8539_cov_7.89097|HMP_2012__SRS015065__bin.2|AJHGDLDC_00764\tNODE_3931_length_8539_cov_7.89097\t100.000\t30\t30\t0\t0\tATCTCCCATTGCATATAATAGGGGTTTGCC\tATCTCCCATTGCATATAATAGGGGTTTGCC\t1984\t2013\t1.64e-08\tplus\n",
      "\n",
      "spacer7|NODE_3931_length_8539_cov_7.89097|HMP_2012__SRS015065__bin.2|AJHGDLDC_00764\tNODE_3931_length_8539_cov_7.89097\t100.000\t30\t30\t0\t0\tCGTACATATCCACGCTCTGGCCGTCCTCCA\tCGTACATATCCACGCTCTGGCCGTCCTCCA\t2050\t2079\t1.64e-08\tplus\n",
      "\n",
      "spacer8|NODE_3931_length_8539_cov_7.89097|HMP_2012__SRS015065__bin.2|AJHGDLDC_00764\tNODE_3931_length_8539_cov_7.89097\t100.000\t30\t30\t0\t0\tGCAAGCGGTTACTGGGCCAGGTGTCGGGGA\tGCAAGCGGTTACTGGGCCAGGTGTCGGGGA\t2116\t2145\t1.64e-08\tplus\n",
      "\n",
      "spacer9|NODE_3931_length_8539_cov_7.89097|HMP_2012__SRS015065__bin.2|AJHGDLDC_00764\tNODE_9195_length_3737_cov_4.44324\t100.000\t30\t30\t0\t0\tTACATCGACATGAACAGCATACCGATGCTG\tTACATCGACATGAACAGCATACCGATGCTG\t1537\t1508\t1.64e-08\tminus\n",
      "\n",
      "spacer9|NODE_3931_length_8539_cov_7.89097|HMP_2012__SRS015065__bin.2|AJHGDLDC_00764\tNODE_3931_length_8539_cov_7.89097\t100.000\t30\t30\t0\t0\tTACATCGACATGAACAGCATACCGATGCTG\tTACATCGACATGAACAGCATACCGATGCTG\t2182\t2211\t1.64e-08\tplus\n",
      "\n",
      "spacer10|NODE_3931_length_8539_cov_7.89097|HMP_2012__SRS015065__bin.2|AJHGDLDC_00764\tNODE_3931_length_8539_cov_7.89097\t100.000\t30\t30\t0\t0\tACCTCATACATTGCCCTTATGAATTCCACT\tACCTCATACATTGCCCTTATGAATTCCACT\t2248\t2277\t1.64e-08\tplus\n",
      "\n",
      "spacer10|NODE_3931_length_8539_cov_7.89097|HMP_2012__SRS015065__bin.2|AJHGDLDC_00764\tNODE_2633_length_12505_cov_9.6812\t100.000\t30\t30\t0\t0\tACCTCATACATTGCCCTTATGAATTCCACT\tACCTCATACATTGCCCTTATGAATTCCACT\t6756\t6727\t1.64e-08\tminus\n",
      "\n"
     ]
    }
   ],
   "source": [
    "# manual parsing of tab separated file\n",
    "protospacers_of={}\n",
    "f=open(blastoutfile)\n",
    "lines=f.readlines()\n",
    "print(\"query seq\\tMatched_contig\\t% identity\\tquery length\\talignment length\\t# mismatches\\t# gap opens \\t query sequence\\taligned part of subject sequence\\tstart in subject\\tend in subject\\texpect. value\\tmatched contig strand\\n----------------------------------------------------------------------------------------------------------------------\")\n",
    "for line in lines:\n",
    "    print(line)\n",
    "    target_seq=line.strip(\"\\n\").split()[1]\n",
    "    if not target_seq in protospacers_of.keys():\n",
    "        protospacers_of[target_seq]=[]\n",
    "    protospacers_of[target_seq].append((int(line.strip(\"\\n\").split()[-4]),int(line.strip(\"\\n\").split()[-3])))\n",
    "f=open(\"list_of_putative_viral_contigs_names\",\"w\")\n",
    "f.write(str(protospacers_of.keys()))\n",
    "f.close()"
   ]
  },
  {
   "cell_type": "markdown",
   "metadata": {},
   "source": [
    "## -putative viral contigs extraction\n",
    "in another shell, run:\n",
    "```BASH\n",
    "for contigname in list_of_putative_vial_contigs_names; do\n",
    "python extract_node_sequence.py $contigname\n",
    "done\n",
    "```\n",
    "\n",
    "## -check if unbinned\n",
    "```BASH\n",
    "for contigname in list_of_putative_vial_contigs_names; do\n",
    "echo $contigname +++++++++++++++++++++++++++++\n",
    "for folder in *; do cd $folder; echo $folder; more ${folder}.faa | grep $contigname; cd ../; done\n",
    "done\n",
    "```"
   ]
  },
  {
   "cell_type": "markdown",
   "metadata": {},
   "source": [
    "## PAM allignment"
   ]
  },
  {
   "cell_type": "code",
   "execution_count": 35,
   "metadata": {},
   "outputs": [
    {
     "name": "stdout",
     "output_type": "stream",
     "text": [
      "Parsing NODE_5266_length_3410_cov_3.39732_putative_viral.fasta\n",
      "start: 293 end: 322\n",
      "TCATTCAGCATCGTCGGGCACCTTCTTTCC\n",
      "upstream sequence\n",
      "GGCAAAAAGC\n",
      "downstream sequence\n",
      "CTTTGCGTCG\n",
      "{'NODE_5266_length_3410_cov_3.39732': [(Seq('GGCAAAAAGC', SingleLetterAlphabet()), Seq('CTTTGCGTCG', SingleLetterAlphabet()))]}\n",
      "Parsing NODE_59_length_82873_cov_9.4706_putative_viral.fasta\n",
      "reverse complement\n",
      "start: 23522 end: 23550\n",
      "ATATTCATGTGAAGCAATAATGGTATCAC\n",
      "upstream sequence\n",
      "TACCCCAAAG\n",
      "downstream sequence\n",
      "CATTTTTTAC\n",
      "{'NODE_5266_length_3410_cov_3.39732': [(Seq('GGCAAAAAGC', SingleLetterAlphabet()), Seq('CTTTGCGTCG', SingleLetterAlphabet()))], 'NODE_59_length_82873_cov_9.4706': [(Seq('TACCCCAAAG', SingleLetterAlphabet()), Seq('CATTTTTTAC', SingleLetterAlphabet()))]}\n",
      "Parsing NODE_1105_length_12400_cov_5.17821_putative_viral.fasta\n",
      "start: 9801 end: 9829\n",
      "GCGTCCACCAGCTTGCTCCAGCGTTCCTG\n",
      "upstream sequence\n",
      "GCGCAGCTTA\n",
      "downstream sequence\n",
      "ATTTGCATGT\n",
      "{'NODE_5266_length_3410_cov_3.39732': [(Seq('GGCAAAAAGC', SingleLetterAlphabet()), Seq('CTTTGCGTCG', SingleLetterAlphabet()))], 'NODE_59_length_82873_cov_9.4706': [(Seq('TACCCCAAAG', SingleLetterAlphabet()), Seq('CATTTTTTAC', SingleLetterAlphabet()))], 'NODE_1105_length_12400_cov_5.17821': [(Seq('GCGCAGCTTA', SingleLetterAlphabet()), Seq('ATTTGCATGT', SingleLetterAlphabet()))]}\n"
     ]
    }
   ],
   "source": [
    "flanking_sequences_of_protospacers_of={}\n",
    "for putative_viral_contig in os.listdir():\n",
    "    if putative_viral_contig.startswith(\"NODE\"):\n",
    "        print(\"Parsing\", putative_viral_contig)\n",
    "        \n",
    "        if not putative_viral_contig.rstrip(\"_putative_viral.fasta\") in flanking_sequences_of_protospacers_of.keys():\n",
    "            flanking_sequences_of_protospacers_of[putative_viral_contig.rstrip(\"_putative_viral.fasta\")]=[]\n",
    "        \n",
    "        for record in SeqIO.parse(putative_viral_contig, \"fasta\"):\n",
    "            #print(protospacers_of[putative_viral_contig.rstrip(\"_putative_viral.fasta\")])\n",
    "            for start, end in protospacers_of[putative_viral_contig.rstrip(\"_putative_viral.fasta\")]:\n",
    "                sequence=record.seq\n",
    "                if start>end:\n",
    "                    print(\"reverse complement\")\n",
    "                    s=start\n",
    "                    start=end\n",
    "                    end=s\n",
    "                    sequence=record.seq.reverse_complement()\n",
    "                    \n",
    "                    \n",
    "                print(\"start:\",start,\"end:\",end)\n",
    "                print(sequence[start-1:end])\n",
    "                print(\"upstream sequence\")\n",
    "                upseq=sequence[start-11:start-1]\n",
    "                print(upseq)\n",
    "                print(\"downstream sequence\")\n",
    "                downseq=sequence[end:end+10]\n",
    "                print(downseq)\n",
    "                flanking_sequences_of_protospacers_of[putative_viral_contig.rstrip(\"_putative_viral.fasta\")].append((upseq,downseq))\n",
    "                \n",
    "            print(flanking_sequences_of_protospacers_of)\n"
   ]
  },
  {
   "cell_type": "markdown",
   "metadata": {},
   "source": [
    "# Pam logos"
   ]
  },
  {
   "cell_type": "code",
   "execution_count": 39,
   "metadata": {},
   "outputs": [],
   "source": [
    "import logomaker as lm\n",
    "upstream_seqs, downstream_seqs, upstream_seqs_alns, downstream_seqs_alns=[],[],[],[]\n",
    "for contig in flanking_sequences_of_protospacers_of.keys():\n",
    "    up_in_cont, down_in_cont = [str(seq[0]) for seq in flanking_sequences_of_protospacers_of[contig]],[str(seq[1]) for seq in flanking_sequences_of_protospacers_of[contig]]\n",
    "    upstream_seqs += up_in_cont\n",
    "    downstream_seqs += down_in_cont\n",
    "    up_in_cont_aln, down_in_cont_aln = [SeqRecord(seq[0], id=contig+\"upstream\"+str(n), description=\"bo\") for n, seq in enumerate(flanking_sequences_of_protospacers_of[contig])],[SeqRecord(seq[0], id=contig+\"upstream\"+str(n), description=\"bo\") for n, seq in enumerate(flanking_sequences_of_protospacers_of[contig])]\n",
    "    upstream_seqs_alns += up_in_cont_aln\n",
    "    downstream_seqs_alns += down_in_cont_aln"
   ]
  },
  {
   "cell_type": "code",
   "execution_count": 40,
   "metadata": {},
   "outputs": [],
   "source": [
    "from Bio.SeqRecord import SeqRecord\n",
    "from Bio import AlignIO\n",
    "from Bio.Align.Applications import ClustalwCommandline\n",
    "from Bio.Align import AlignInfo"
   ]
  },
  {
   "cell_type": "code",
   "execution_count": 41,
   "metadata": {},
   "outputs": [
    {
     "data": {
      "text/plain": [
       "3"
      ]
     },
     "execution_count": 41,
     "metadata": {},
     "output_type": "execute_result"
    }
   ],
   "source": [
    "SeqIO.write(upstream_seqs_alns, \"/shares/CIBIO-Storage/CM/scratch/tmp_projects/signorini_cas/4exploratoryanalyses/pamsearch/test/upstream_pam.faa\", \"fasta\")\n",
    "SeqIO.write(downstream_seqs_alns, \"/shares/CIBIO-Storage/CM/scratch/tmp_projects/signorini_cas/4exploratoryanalyses/pamsearch/test/downstream_pam.faa\", \"fasta\")"
   ]
  },
  {
   "cell_type": "code",
   "execution_count": 42,
   "metadata": {},
   "outputs": [
    {
     "name": "stdout",
     "output_type": "stream",
     "text": [
      "clustalw -infile=/shares/CIBIO-Storage/CM/scratch/tmp_projects/signorini_cas/4exploratoryanalyses/pamsearch/test/upstream_pam.faa -outfile=/shares/CIBIO-Storage/CM/scratch/tmp_projects/signorini_cas/4exploratoryanalyses/pamsearch/test/upstream_pam.faa.aln\n"
     ]
    },
    {
     "data": {
      "text/plain": [
       "32512"
      ]
     },
     "execution_count": 42,
     "metadata": {},
     "output_type": "execute_result"
    }
   ],
   "source": [
    "filename=\"upstream_pam\"\n",
    "cline= ClustalwCommandline(\"clustalw\", infile=\"/shares/CIBIO-Storage/CM/scratch/tmp_projects/signorini_cas/4exploratoryanalyses/pamsearch/test/\"+filename+\".faa\", outfile=\"/shares/CIBIO-Storage/CM/scratch/tmp_projects/signorini_cas/4exploratoryanalyses/pamsearch/test/\"+filename+\".faa.aln\")\n",
    "print(cline)\n",
    "os.system(str(cline))"
   ]
  },
  {
   "cell_type": "code",
   "execution_count": 45,
   "metadata": {},
   "outputs": [
    {
     "name": "stdout",
     "output_type": "stream",
     "text": [
      "SingleLetterAlphabet() alignment with 3 rows and 12 columns\n",
      "-GGCAAAAAGC- NODE_5266_length_3410_cov_3.39\n",
      "TACCCCAAAG-- NODE_59_length_82873_cov_9.470\n",
      "--GCGCAGCTTA NODE_1105_length_12400_cov_5.1\n"
     ]
    }
   ],
   "source": [
    "align = AlignIO.read(\"/shares/CIBIO-Storage/CM/scratch/tmp_projects/signorini_cas/4exploratoryanalyses/pamsearch/test/upstream_pam.faa.aln\", \"clustal\")\n",
    "print(align)"
   ]
  },
  {
   "cell_type": "code",
   "execution_count": 48,
   "metadata": {},
   "outputs": [],
   "source": [
    "alns=AlignInfo.SummaryInfo(align)\n",
    "CONSENSUS_SEQUENCE=SeqRecord(alns.dumb_consensus(0.5), id=\"PROVA\", description=\"prova\")"
   ]
  },
  {
   "cell_type": "code",
   "execution_count": 17,
   "metadata": {},
   "outputs": [
    {
     "data": {
      "text/html": [
       "<div>\n",
       "<style scoped>\n",
       "    .dataframe tbody tr th:only-of-type {\n",
       "        vertical-align: middle;\n",
       "    }\n",
       "\n",
       "    .dataframe tbody tr th {\n",
       "        vertical-align: top;\n",
       "    }\n",
       "\n",
       "    .dataframe thead th {\n",
       "        text-align: right;\n",
       "    }\n",
       "</style>\n",
       "<table border=\"1\" class=\"dataframe\">\n",
       "  <thead>\n",
       "    <tr style=\"text-align: right;\">\n",
       "      <th></th>\n",
       "      <th>A</th>\n",
       "      <th>C</th>\n",
       "      <th>G</th>\n",
       "      <th>T</th>\n",
       "    </tr>\n",
       "    <tr>\n",
       "      <th>pos</th>\n",
       "      <th></th>\n",
       "      <th></th>\n",
       "      <th></th>\n",
       "      <th></th>\n",
       "    </tr>\n",
       "  </thead>\n",
       "  <tbody>\n",
       "    <tr>\n",
       "      <th>0</th>\n",
       "      <td>0.0</td>\n",
       "      <td>0.0</td>\n",
       "      <td>2.0</td>\n",
       "      <td>1.0</td>\n",
       "    </tr>\n",
       "    <tr>\n",
       "      <th>1</th>\n",
       "      <td>1.0</td>\n",
       "      <td>1.0</td>\n",
       "      <td>1.0</td>\n",
       "      <td>0.0</td>\n",
       "    </tr>\n",
       "    <tr>\n",
       "      <th>2</th>\n",
       "      <td>0.0</td>\n",
       "      <td>2.0</td>\n",
       "      <td>1.0</td>\n",
       "      <td>0.0</td>\n",
       "    </tr>\n",
       "    <tr>\n",
       "      <th>3</th>\n",
       "      <td>1.0</td>\n",
       "      <td>2.0</td>\n",
       "      <td>0.0</td>\n",
       "      <td>0.0</td>\n",
       "    </tr>\n",
       "    <tr>\n",
       "      <th>4</th>\n",
       "      <td>2.0</td>\n",
       "      <td>1.0</td>\n",
       "      <td>0.0</td>\n",
       "      <td>0.0</td>\n",
       "    </tr>\n",
       "  </tbody>\n",
       "</table>\n",
       "</div>"
      ],
      "text/plain": [
       "       A    C    G    T\n",
       "pos                    \n",
       "0    0.0  0.0  2.0  1.0\n",
       "1    1.0  1.0  1.0  0.0\n",
       "2    0.0  2.0  1.0  0.0\n",
       "3    1.0  2.0  0.0  0.0\n",
       "4    2.0  1.0  0.0  0.0"
      ]
     },
     "execution_count": 17,
     "metadata": {},
     "output_type": "execute_result"
    }
   ],
   "source": [
    "counts_mat = lm.alignment_to_matrix(upstream_seqs)\n",
    "counts_mat.head()\n",
    "\n"
   ]
  },
  {
   "cell_type": "code",
   "execution_count": 18,
   "metadata": {},
   "outputs": [
    {
     "data": {
      "text/plain": [
       "<logomaker.src.Logo.Logo at 0x7fc1502fc9e8>"
      ]
     },
     "execution_count": 18,
     "metadata": {},
     "output_type": "execute_result"
    },
    {
     "data": {
      "image/png": "[encoded data removed]",
      "text/plain": [
       "<Figure size 720x180 with 1 Axes>"
      ]
     },
     "metadata": {
      "needs_background": "light"
     },
     "output_type": "display_data"
    }
   ],
   "source": [
    "lm.Logo(counts_mat)"
   ]
  },
  {
   "cell_type": "code",
   "execution_count": null,
   "metadata": {},
   "outputs": [],
   "source": []
  }
 ],
 "metadata": {
  "kernelspec": {
   "display_name": "Python 3",
   "language": "python",
   "name": "python3"
  },
  "language_info": {
   "codemirror_mode": {
    "name": "ipython",
    "version": 3
   },
   "file_extension": ".py",
   "mimetype": "text/x-python",
   "name": "python",
   "nbconvert_exporter": "python",
   "pygments_lexer": "ipython3",
   "version": "3.7.3"
  }
 },
 "nbformat": 4,
 "nbformat_minor": 2
}
