{
 "cells": [
  {
   "cell_type": "markdown",
   "metadata": {},
   "source": [
    "# Pipeline output creator\n",
    "\n",
    "this script creates a nice output for the selected locus.\n",
    "The output will have 8 sequence files, one png image, one metadata information file, one locusinfo text file, one readme"
   ]
  },
  {
   "cell_type": "code",
   "execution_count": 2,
   "metadata": {},
   "outputs": [],
   "source": [
    "# First created 18/10/2019\n",
    "# Made by L-F-S\n",
    "# At the University Of Trento, Italy\n",
    "\n",
    "from os import system, chdir\n",
    "import sys\n",
    "from numpy import unique\n",
    "import pandas as pd\n",
    "from Bio import SeqIO\n",
    "from Bio.Seq import Seq\n",
    "from Bio.Alphabet import generic_dna, generic_protein, RNAAlphabet\n",
    "from Bio import pairwise2\n",
    "sys.path.insert(0, '/home/lorenzo.signorini/cas_mining/utils/')\n",
    "import filename_discrepancies\n",
    "\n",
    "# parameters:\n",
    "datadir=\"/shares/CIBIO-Storage/CM/scratch/tmp_projects/signorini_cas/\"\n"
   ]
  },
  {
   "cell_type": "code",
   "execution_count": 3,
   "metadata": {},
   "outputs": [
    {
     "ename": "FileNotFoundError",
     "evalue": "[Errno 2] No such file or directory: '/shares/CIBIO-Storage/CM/scratch/tmp_projects/signorini_cas/8outputv1/CPMHNJAN_01529/CPMHNJAN_01529inputforoutput'",
     "output_type": "error",
     "traceback": [
      "\u001b[0;31m---------------------------------------------------------------------------\u001b[0m",
      "\u001b[0;31mFileNotFoundError\u001b[0m                         Traceback (most recent call last)",
      "\u001b[0;32m<ipython-input-3-6384356e94fc>\u001b[0m in \u001b[0;36m<module>\u001b[0;34m\u001b[0m\n\u001b[1;32m      3\u001b[0m \u001b[0;34m\u001b[0m\u001b[0m\n\u001b[1;32m      4\u001b[0m \u001b[0;31m# import output parameters\u001b[0m\u001b[0;34m\u001b[0m\u001b[0;34m\u001b[0m\u001b[0;34m\u001b[0m\u001b[0m\n\u001b[0;32m----> 5\u001b[0;31m \u001b[0minput_for_output\u001b[0m\u001b[0;34m=\u001b[0m\u001b[0mopen\u001b[0m\u001b[0;34m(\u001b[0m\u001b[0moutputdir\u001b[0m\u001b[0;34m+\u001b[0m\u001b[0mseqid\u001b[0m\u001b[0;34m+\u001b[0m\u001b[0;34m\"inputforoutput\"\u001b[0m\u001b[0;34m,\u001b[0m\u001b[0;34m\"r\"\u001b[0m\u001b[0;34m)\u001b[0m\u001b[0;34m\u001b[0m\u001b[0;34m\u001b[0m\u001b[0m\n\u001b[0m\u001b[1;32m      6\u001b[0m \u001b[0minputs\u001b[0m\u001b[0;34m=\u001b[0m\u001b[0minput_for_output\u001b[0m\u001b[0;34m.\u001b[0m\u001b[0mreadlines\u001b[0m\u001b[0;34m(\u001b[0m\u001b[0;34m)\u001b[0m\u001b[0;34m\u001b[0m\u001b[0;34m\u001b[0m\u001b[0m\n\u001b[1;32m      7\u001b[0m \u001b[0mmatched_rep\u001b[0m\u001b[0;34m=\u001b[0m\u001b[0mSeq\u001b[0m\u001b[0;34m(\u001b[0m\u001b[0minputs\u001b[0m\u001b[0;34m[\u001b[0m\u001b[0;36m0\u001b[0m\u001b[0;34m]\u001b[0m\u001b[0;34m.\u001b[0m\u001b[0mstrip\u001b[0m\u001b[0;34m(\u001b[0m\u001b[0;34m)\u001b[0m\u001b[0;34m)\u001b[0m\u001b[0;34m\u001b[0m\u001b[0;34m\u001b[0m\u001b[0m\n",
      "\u001b[0;31mFileNotFoundError\u001b[0m: [Errno 2] No such file or directory: '/shares/CIBIO-Storage/CM/scratch/tmp_projects/signorini_cas/8outputv1/CPMHNJAN_01529/CPMHNJAN_01529inputforoutput'"
     ]
    }
   ],
   "source": [
    "seqid=\"CPMHNJAN_01529\" #name of sequence #sys.argv\n",
    "outputdir=datadir+\"8outputv1/\"+seqid+\"/\"\n",
    "\n",
    "# import output parameters\n",
    "input_for_output=open(outputdir+seqid+\"inputforoutput\",\"r\")\n",
    "inputs=input_for_output.readlines()\n",
    "matched_rep=Seq(inputs[0].strip())\n",
    "rpt=Seq(inputs[1].strip())\n",
    "matched_rep_start=int(inputs[2].strip())\n",
    "matched_rep_stop=int(inputs[3].strip())\n",
    "strand=int(inputs[4].strip())\n",
    "terminator_end=int(inputs[5].strip())\n",
    "terminator=Seq(inputs[6].strip())\n",
    "feature=inputs[7].strip()\n",
    "feature_strand=inputs[8].strip()\n",
    "input_for_output.close()\n",
    "print(\"strand\",strand,\"matched_rep_start\",matched_rep_start,\"matched_rep_stop\", matched_rep_stop,\"terminator_end\",terminator_end)"
   ]
  },
  {
   "cell_type": "code",
   "execution_count": 92,
   "metadata": {
    "scrolled": true
   },
   "outputs": [
    {
     "data": {
      "text/plain": [
       "Index(['Seq ID', 'Seq Description', 'Seq', 'Contig', 'Genome Name', 'Study',\n",
       "       'Sample Name', 'SGB ID', 'Pos', 'pilercr_CRISPR', 'minced_CRISPR',\n",
       "       'prokka_cas1', 'prokka_cas2', 'uSGB', 'Level of estimated taxonomy',\n",
       "       'Estimated taxonomy', 'prokka_cas9'],\n",
       "      dtype='object')"
      ]
     },
     "execution_count": 92,
     "metadata": {},
     "output_type": "execute_result"
    }
   ],
   "source": [
    "# Import data\n",
    "cas_dataset=pd.read_csv(\"/shares/CIBIO-Storage/CM/scratch/tmp_projects/signorini_cas/5caslocitable/known_\"+feature+\"prokkacas9_variants_table.csv\", index_col=0)\n",
    "cas_dataset.columns"
   ]
  },
  {
   "cell_type": "code",
   "execution_count": 93,
   "metadata": {},
   "outputs": [],
   "source": [
    "#perso la battaglia..\n",
    "tabellazza=pd.read_csv(datadir+\"/3tabellazza/crisprcas_hits_table.csv\", index_col=0)\n"
   ]
  },
  {
   "cell_type": "code",
   "execution_count": 126,
   "metadata": {},
   "outputs": [],
   "source": [
    "cas9_aa=cas_dataset[cas_dataset[\"Seq ID\"]==seqid][\"Seq\"].iloc[0]\n",
    "dataset=cas_dataset[cas_dataset[\"Seq ID\"]==seqid][\"Study\"].iloc[0]\n",
    "genomename=cas_dataset[cas_dataset[\"Seq ID\"]==seqid][\"Genome Name\"].iloc[0]\n",
    "SGB=cas_dataset[cas_dataset[\"Seq ID\"]==seqid][\"SGB ID\"].iloc[0]\n",
    "uSGB=cas_dataset[cas_dataset[\"Seq ID\"]==seqid][\"uSGB\"].iloc[0]\n",
    "est_tax=cas_dataset[cas_dataset[\"Seq ID\"]==seqid][\"Estimated taxonomy\"].iloc[0]\n",
    "l_est_tax=cas_dataset[cas_dataset[\"Seq ID\"]==seqid][\"Level of estimated taxonomy\"].iloc[0]\n",
    "contigname=cas_dataset[cas_dataset[\"Seq ID\"]==seqid][\"Contig\"].iloc[0]"
   ]
  },
  {
   "cell_type": "code",
   "execution_count": 127,
   "metadata": {},
   "outputs": [
    {
     "name": "stdout",
     "output_type": "stream",
     "text": [
      "\n",
      "-----------------------------------------------------\n",
      "Cas9 id:\tCJFLGLGO_01367\n",
      "SGB:\t4329\n",
      "Genome Name:\t Obregon-TitoAJ_2015__SM40__bin.4\n",
      "Contig:\tNODE_137_length_63930_cov_6.02239 \n",
      "-----------------------------------------------------\n",
      "\n",
      "CRISPR si trova (44486, 44718)\n",
      "Cas9 si trova (46031, 49270)\n",
      "Cas2 si trova [('ID=CJFLGLGO_01365', '44816', '45136')]\n",
      "Cas1 si trova [('ID=CJFLGLGO_01366', '45129', '46028')]\n"
     ]
    }
   ],
   "source": [
    "position_of={}\n",
    "\n",
    "unostranosplit=cas_dataset[cas_dataset[\"Seq ID\"]==seqid][\"minced_CRISPR\"].iloc[0].split(\"\\', \\'\")\n",
    "position_of[\"CRISPR\"]= (int(unostranosplit[1]), int(unostranosplit[2].strip(\"\\')]\\\"\")))\n",
    "\n",
    "\n",
    "print(\"\\n-----------------------------------------------------\\n\"+feature+\" id:\\t\"+seqid+\"\\nSGB:\\t\"+str(SGB)+\"\\nGenome Name:\\t\",\\\n",
    "      genomename+\"\\nContig:\\t\"+cas_dataset[cas_dataset[\"Seq ID\"]==seqid][\"Contig\"].iloc[0],\"\\n-----------------------------------------------------\\n\")\n",
    "\n",
    "dataset, genomename, samplename, s3_dataset, s3_genomename = filename_discrepancies.master_filename_discrepancies(dataset,genomename)\n",
    "\n",
    "# persa la battagliaaaaa\n",
    "prokka_anno=tabellazza[tabellazza[\"Genome Name\"]==s3_genomename][\"prokka_cas\"].iloc[0]\n",
    "# so già che all casses inside here are on the same contig which is 'contig', xke le ho estratte per essere così\n",
    "\n",
    "prokkaslist=prokka_anno.split(\">\")\n",
    "prokkaslist.pop(0)\n",
    "# get contigname of current effectorcas   \n",
    "cas_position={}\n",
    "for casanno in prokkaslist:\n",
    "    unostranosplit=casanno.split(\"Name=\")\n",
    "    casnumber=unostranosplit[1][3] #because we know that we are loooking at 'good' loci, this is just going to be 9, 1 or 2\n",
    "    unaltrostranosplit=casanno.split(\"\\t\")\n",
    "    cas_start=unaltrostranosplit[3]\n",
    "    cas_stop=unaltrostranosplit[4]\n",
    "    cas_position[\"Cas\"+casnumber]=(int(cas_start),int(cas_stop))\n",
    "position_of[\"Cas9\"]=cas_position[\"Cas9\"]\n",
    "#persalabattagliaaa\n",
    " \n",
    "\n",
    "# access contig\n",
    "genomefilename= \"/shares/CIBIO-Storage/CM/scratch/tmp_projects/epasolli_darkmatter/allcontigs/ALLreconstructedgenomes/\"+str(SGB)+\"/\"+genomename+\".fa\"\n",
    "for record in SeqIO.parse(genomefilename,\"fasta\"):  #c'è modo di non fare questo 'ciclo'?\n",
    "    if record.id.startswith(contigname):\n",
    "        #test se effettivamente la seq di cas è dove voglio io\n",
    "\n",
    "        SeqIO.write(record, \"/shares/CIBIO-Storage/CM/scratch/tmp_projects/signorini_cas/7tracrRNA/tempblastdb\", \"fasta\")\n",
    "        Cas2info=cas_dataset[cas_dataset[\"Seq ID\"]==seqid][\"prokka_cas2\"].iloc[0]\n",
    "        Cas2ID=Cas2info.lstrip(\"[(\\'ID=\").split(\"\\', \")[0]\n",
    "        Cas1info=cas_dataset[cas_dataset[\"Seq ID\"]==seqid][\"prokka_cas1\"].iloc[0]\n",
    "        Cas1ID=Cas1info.lstrip(\"[(\\'ID=\").split(\"\\', \")[0]\n",
    "    #    Cas9info=cas_dataset[cas_dataset[\"Seq ID\"]==seqid][\"prokka_cas9\"].iloc[0]\n",
    "     #   print(Cas9info)\n",
    "        position_of[\"Cas1\"]=(int(Cas1info.split(\"\\', \\'\")[1]), int(Cas1info.split(\"\\', \\'\")[2].rstrip(\"\\')]\")))\n",
    "        position_of[\"Cas2\"]=(int(Cas2info.split(\"\\', \\'\")[1]), int(Cas2info.split(\"\\', \\'\")[2].rstrip(\"\\')]\")))\n",
    "        position_of[\"Cas9\"]=cas_position[\"Cas9\"]\n",
    "  #      position_of[\"Cas9\"]=(int(Cas9info.split(\"\\', \\'\")[1]), int(Cas9info.split(\"\\', \\'\")[2].rstrip(\"\\')]\")))\n",
    "        print(\"CRISPR si trova\", position_of[\"CRISPR\"])\n",
    "        print(\"Cas9 si trova\", position_of[\"Cas9\"])\n",
    "        print(\"Cas2 si trova\", Cas2info)\n",
    "        print(\"Cas1 si trova\", Cas1info)\n",
    "\n",
    "       # mettici l'estrattore di Cas9 nt..\n",
    "    #poi devi aggeggiare anche il minced per avere solo il contig che vuoi.."
   ]
  },
  {
   "cell_type": "code",
   "execution_count": 128,
   "metadata": {
    "scrolled": true
   },
   "outputs": [
    {
     "name": "stdout",
     "output_type": "stream",
     "text": [
      "{'CRISPR': (44486, 44718), 'Cas9': (46031, 49270), 'Cas1': (45129, 46028), 'Cas2': (44816, 45136)} {'Cas2': (44816, 45136), 'Cas1': (45129, 46028), 'Cas9': (46031, 49270)}\n"
     ]
    }
   ],
   "source": [
    "print(position_of, cas_position) #persalabattagliaa"
   ]
  },
  {
   "cell_type": "code",
   "execution_count": 129,
   "metadata": {},
   "outputs": [
    {
     "name": "stdout",
     "output_type": "stream",
     "text": [
      "44486 49270\n"
     ]
    }
   ],
   "source": [
    "min_locus=min([value[0] for value in position_of.values()])\n",
    "max_locus=max([value[1] for value in position_of.values()])\n",
    "print(min_locus, max_locus)"
   ]
  },
  {
   "cell_type": "code",
   "execution_count": 130,
   "metadata": {},
   "outputs": [
    {
     "name": "stdout",
     "output_type": "stream",
     "text": [
      "tracrRNA: UUAUAACAUACCAAGAACAAUUGGGUUACUACAAAAAGGUAGAAAACCGAAAAGCUCUGACGGCUCCUUUUUGGAGCCGUUAUCUUUUU 89\n"
     ]
    }
   ],
   "source": [
    "for record in SeqIO.parse(\"/shares/CIBIO-Storage/CM/scratch/tmp_projects/signorini_cas/selected_loci/\"+seqid+\"/\"+genomename+\".fa\", \"fasta\"):\n",
    "    if record.id==contigname:\n",
    "        contigseq=record.seq\n",
    "if strand<0:\n",
    "    tracrRNA=contigseq[terminator_end:matched_rep_stop].reverse_complement()\n",
    "    position_of[\"tracrRNA\"]=(terminator_end, matched_rep_stop)\n",
    "\n",
    "else:\n",
    "    tracrRNA=contigseq[matched_rep_start:terminator_end]\n",
    "    position_of[\"tracrRNA\"]=(matched_rep_start,terminator_end)\n",
    "\n",
    "    \n",
    "tracrRNA=tracrRNA.transcribe()\n",
    "print(\"tracrRNA:\", tracrRNA, len(tracrRNA))\n"
   ]
  },
  {
   "cell_type": "code",
   "execution_count": 131,
   "metadata": {},
   "outputs": [],
   "source": [
    "#v1.1 add complete locus\n",
    "whole_locus=contigseq[min_locus-1:max_locus]\n"
   ]
  },
  {
   "cell_type": "markdown",
   "metadata": {},
   "source": [
    "## Save output"
   ]
  },
  {
   "cell_type": "code",
   "execution_count": 132,
   "metadata": {},
   "outputs": [
    {
     "name": "stdout",
     "output_type": "stream",
     "text": [
      "writing .faa files for cas proteins...\n",
      "writing .ffn files for cas proteins...\n",
      "copying minced CRISPR array...\n",
      "writing tracrRNA fasta file...\n",
      "writing whole locus fasta file...\n",
      "Done.\n"
     ]
    }
   ],
   "source": [
    "#save output to folder:\n",
    "system(\"mkdir \"+outputdir)\n",
    "coso_non_capisco_piu_nulla={}\n",
    "# get sequences of cas9, cas1 e cas2 (in futuro le aggiungo direttamente al 5caslocus dataset, cosi ho tt li), both in aa and nt.\n",
    "for cosa in [\".faa\", \".ffn\"]:\n",
    "    coso_non_capisco_piu_nulla[cosa]={}\n",
    "    print(\"writing \"+cosa+\" files for cas proteins...\")\n",
    "    prokka_anno_file=\"/scratchCM/tmp_projects/epasolli_darkmatter/allcontigs/\"+dataset+\"/metabat/genomes_comp50_cont05/prokka/\"+genomename+\"/\"+genomename+cosa\n",
    "    for record in SeqIO.parse(prokka_anno_file,\"fasta\"):\n",
    "        if record.id.startswith(seqid):\n",
    "            record.description=\"Cas9 len=\"+str(len(record.seq))+\" genome=\"+s3_genomename+\" SGB=\"+str(SGB)+\" contig=\"+contigname\n",
    "            Cas9_fasta_header=\">\"+seqid+\" \"+record.description\n",
    "            coso_non_capisco_piu_nulla[cosa][\"Cas9\"]=record.seq\n",
    "            SeqIO.write(record, outputdir+\"Cas9_\"+seqid+cosa,\"fasta\")\n",
    "        if record.id.startswith(Cas2ID):\n",
    "            record.description=\"Cas2 len=\"+str(len(record.seq))+\" genome=\"+s3_genomename+\" SGB=\"+str(SGB)+\" contig=\"+contigname\n",
    "            Cas2_fasta_header=\">\"+Cas2ID+\" \"+record.description\n",
    "            SeqIO.write(record, outputdir+\"Cas2_\"+seqid+cosa,\"fasta\")\n",
    "            coso_non_capisco_piu_nulla[cosa][\"Cas2\"]=record.seq\n",
    "        if record.id.startswith(Cas1ID):\n",
    "            record.description=\"Cas1 len=\"+str(len(record.seq))+\" genome=\"+s3_genomename+\" SGB=\"+str(SGB)+\" contig=\"+contigname\n",
    "            Cas1_fasta_header=\">\"+Cas1ID+\" \"+record.description\n",
    "            coso_non_capisco_piu_nulla[cosa][\"Cas1\"]=record.seq\n",
    "            SeqIO.write(record, outputdir+\"Cas1_\"+seqid+cosa,\"fasta\")\n",
    "\n",
    "# copy minced CRISPR array file:\n",
    "print(\"copying minced CRISPR array...\")\n",
    "mincedCRISPRfilename=datadir+\"1crisprsearch/out/\"+s3_dataset+\"/\"+s3_genomename+\".fa.minced.out\"\n",
    "system(\"cp \"+mincedCRISPRfilename+\" \"+outputdir+\"CRISPRarray_minced_\"+seqid+\".txt\")\n",
    "        \n",
    "\n",
    "#autro\n",
    "print(\"writing tracrRNA fasta file...\")\n",
    "f=open(outputdir+\"tracr_\"+seqid+\".ffn\",\"w\")\n",
    "f.write(\">\"+seqid+ \" tracrRNA len=\"+str(len(tracrRNA))+\" genome=\"+s3_genomename+\" SGB=\"+str(SGB)+\" contig=\"+contigname+\"\\n\"+str(tracrRNA))\n",
    "f.close()\n",
    "#whole locus v1.1\n",
    "print(\"writing whole locus fasta file...\")\n",
    "f=open(outputdir+\"whole_locus_\"+seqid+\".ffn\",\"w\")\n",
    "f.write(\">\"+seqid+ \" CRISPR/Cas_complete_locus len=\"+str(len(whole_locus))+\" genome=\"+s3_genomename+\" SGB=\"+str(SGB)+\" contig=\"+contigname+\"\\n\"+str(whole_locus))\n",
    "f.close()\n",
    "print(\"Done.\")"
   ]
  },
  {
   "cell_type": "code",
   "execution_count": 133,
   "metadata": {},
   "outputs": [],
   "source": [
    "#write Locus info text file\n",
    "from datetime import date\n",
    "import textwrap\n",
    "today=date.today().strftime(\"%d/%m/%Y\")"
   ]
  },
  {
   "cell_type": "code",
   "execution_count": 134,
   "metadata": {
    "scrolled": false
   },
   "outputs": [],
   "source": [
    "header=\"% created on \"+today+\"\\n% author: L-F-S\\n% affiliation: University of Trento, Italy\\n% e-mail: lorenzo.signorini@alumni.unitn.it\\n% source code available at: https://github.com/L-F-S/cas_mining\\n\\n\"\n",
    "title=\"\\n\"+\"=\"*80+\"\\n\\n\"+\" \"*int((80-len(seqid+\" LOCUS\"))/2)+seqid+\" LOCUS\"+\" \"*int((80-len(seqid+\" LOCUS\"))/2)+\"\\n\\n\"+\"=\"*80\n"
   ]
  },
  {
   "cell_type": "code",
   "execution_count": 135,
   "metadata": {},
   "outputs": [],
   "source": [
    "Cas_header=\"\\n\\n\\n\\n\\t\\t\\t\\t+-------------+\\n\\t\\t\\t\\t Cas Proteins\\n\\t\\t\\t\\t+-------------+\\n\"\n",
    "tracr_header=\"\\n\\n\\n\\t\\t\\t\\t+-------------+\\n\\t\\t\\t\\t   tracrRNA \\n\\t\\t\\t\\t+-------------+\\n\"\n",
    "crispr_header=\"\\n\\n\\t\\t\\t\\t+-------------+\\n\\t\\t\\t\\t  CRISPRarray \\n\\t\\t\\t\\t+-------------+\\n\"\n",
    "generatedwithminced=\"generated with Minced\\n\\n\\tCharles Bland et al., CRISPR Recognition Tool (CRT): a tool for automatic\\n\\tdetection of clustered regularly interspaced palindromic repeats, BMC\\n\\tBioinformatics 8, no. 1 (2007): 209.\\n\\n\"\n",
    "\n"
   ]
  },
  {
   "cell_type": "code",
   "execution_count": 136,
   "metadata": {
    "scrolled": true
   },
   "outputs": [
    {
     "name": "stdout",
     "output_type": "stream",
     "text": [
      "  | Cas1 |        \tprokka ID:CJFLGLGO_01366\n",
      "\tstart relative to contig: 45129\t| start relative to locus: 643 \n",
      "\t stop relative to contig: 46028\t|  stop relative to locus: 1542 \n",
      "\t  length (nt): 899 \n",
      "\t  length (aa): 299\n",
      "  | Cas2 |        \tprokka ID:CJFLGLGO_01365\n",
      "\tstart relative to contig: 44816\t| start relative to locus: 330 \n",
      "\t stop relative to contig: 45136\t|  stop relative to locus: 650 \n",
      "\t  length (nt): 320 \n",
      "\t  length (aa): 106\n",
      "  | Cas9 |        \tprokka ID:CJFLGLGO_01367\n",
      "\tstart relative to contig: 46031\t| start relative to locus: 1545 \n",
      "\t stop relative to contig: 49270\t|  stop relative to locus: 4784 \n",
      "\t  length (nt): 3239 \n",
      "\t  length (aa): 1079\n",
      " \n",
      "\t       strand: -1\n"
     ]
    }
   ],
   "source": [
    "#v1.1\n",
    "cas1_out=\"  | Cas1 |        \\tprokka ID:\"+Cas1ID+\"\\n\\tstart relative to contig: \"+str(position_of[\"Cas1\"][0])+\"\\t| start relative to locus: \"+str(position_of[\"Cas1\"][0]-min_locus)+\" \\n\\t stop relative to contig: \"+str(position_of[\"Cas1\"][1])+\"\\t|  stop relative to locus: \"+str(position_of[\"Cas1\"][1]-min_locus)+\" \\n\\t  length (nt): \"+str(position_of[\"Cas1\"][1]-position_of[\"Cas1\"][0])+\" \\n\\t  length (aa): \"+str(int((position_of[\"Cas1\"][1]-position_of[\"Cas1\"][0])/3))+\"\\n\"\n",
    "cas2_out=\"  | Cas2 |        \\tprokka ID:\"+Cas2ID+\"\\n\\tstart relative to contig: \"+str(position_of[\"Cas2\"][0])+\"\\t| start relative to locus: \"+str(position_of[\"Cas2\"][0]-min_locus)+\" \\n\\t stop relative to contig: \"+str(position_of[\"Cas2\"][1])+\"\\t|  stop relative to locus: \"+str(position_of[\"Cas2\"][1]-min_locus)+\" \\n\\t  length (nt): \"+str(position_of[\"Cas2\"][1]-position_of[\"Cas2\"][0])+\" \\n\\t  length (aa): \"+str(int((position_of[\"Cas2\"][1]-position_of[\"Cas2\"][0])/3))+\"\\n\"\n",
    "cas9_out=\"  | Cas9 |        \\tprokka ID:\"+seqid+\"\\n\\tstart relative to contig: \"+str(position_of[\"Cas9\"][0])+\"\\t| start relative to locus: \"+str(position_of[\"Cas9\"][0]-min_locus)+\" \\n\\t stop relative to contig: \"+str(position_of[\"Cas9\"][1])+\"\\t|  stop relative to locus: \"+str(position_of[\"Cas9\"][1]-min_locus)+\" \\n\\t  length (nt): \"+str(position_of[\"Cas9\"][1]-position_of[\"Cas9\"][0])+\" \\n\\t  length (aa): \"+str(int((position_of[\"Cas9\"][1]-position_of[\"Cas9\"][0])/3))+\"\\n\"+\" \\n\\t       strand: \"+feature_strand\n",
    "cas9_seqs=\" \\n\\t\\t\\t\\t --> SEQUENCE (aa) <-- \\n\"+textwrap.fill(Cas9_fasta_header,80)+\"\\n\"+textwrap.fill(str(cas9_aa),80)+\" \\n\\n\\t\\t\\t\\t --> SEQUENCE (nt) <-- \\n\"+textwrap.fill(Cas9_fasta_header,80)+\"\\n\"+textwrap.fill(str(coso_non_capisco_piu_nulla[\".ffn\"][\"Cas9\"]),80)\n",
    "print(cas1_out+cas2_out+cas9_out)"
   ]
  },
  {
   "cell_type": "code",
   "execution_count": 137,
   "metadata": {},
   "outputs": [],
   "source": [
    "crispr_out=\"| CRISPRarray |        \\n\\t\\tstart relative to contig: \"+str(position_of[\"CRISPR\"][0])+\"\\t| start relative to locus: \"+str(position_of[\"CRISPR\"][0]-min_locus)+\" \\n\\t\\t stop relative to contig: \"+str(position_of[\"CRISPR\"][1])+\"\\t|  stop relative to locus: \"+str(position_of[\"CRISPR\"][1]-min_locus)+\" \\n\\t  length (nt): \"+str(position_of[\"CRISPR\"][1]-position_of[\"CRISPR\"][0])+\" \\n\\t       strand: \"+str(strand)+ \"\\n\\t    # repeats: \"\n"
   ]
  },
  {
   "cell_type": "code",
   "execution_count": 138,
   "metadata": {
    "scrolled": true
   },
   "outputs": [
    {
     "name": "stdout",
     "output_type": "stream",
     "text": [
      "CRISPR 1   Range: 44486 - 44718\n",
      "POSITION\tREPEAT\t\t\t\tSPACER\n",
      "--------\t------------------------------------\t-----------------------------\n",
      "44486\t\tATTATAGTTTCTTAATTTTTCTTGGTATGTTATAAT\tAAGGTAATGGTCTTACCGAAGCTAATCTT\t[ 36, 29 ]\n",
      "44551\t\tATTGTAGTTCCCTAATTTTTCTTGGTATATTATAAT\tCCGGCACCAACCGACTCGTCACTCATGACC\t[ 36, 30 ]\n",
      "44617\t\tATTGTAGTTCCCTAATTTTTCTTGGTATGTTATAAT\tGAATTAAGATTCAAAGGGTCAGTAGGAAGA\t[ 36, 30 ]\n",
      "44683\t\tATTGTAGTTCCCTAATTTTTCTTGGTATGTTATAAT\t\n",
      "--------\t------------------------------------\t-----------------------------\n",
      "Repeats: 4\tAverage Length: 36\t\tAverage Length: 29\n"
     ]
    }
   ],
   "source": [
    "mincedoutvero=\"\"\"CRISPR 1   Range: 44486 - 44718\n",
    "POSITION\tREPEAT\t\t\t\tSPACER\n",
    "--------\t------------------------------------\t-----------------------------\n",
    "44486\t\tATTATAGTTTCTTAATTTTTCTTGGTATGTTATAAT\tAAGGTAATGGTCTTACCGAAGCTAATCTT\t[ 36, 29 ]\n",
    "44551\t\tATTGTAGTTCCCTAATTTTTCTTGGTATATTATAAT\tCCGGCACCAACCGACTCGTCACTCATGACC\t[ 36, 30 ]\n",
    "44617\t\tATTGTAGTTCCCTAATTTTTCTTGGTATGTTATAAT\tGAATTAAGATTCAAAGGGTCAGTAGGAAGA\t[ 36, 30 ]\n",
    "44683\t\tATTGTAGTTCCCTAATTTTTCTTGGTATGTTATAAT\t\n",
    "--------\t------------------------------------\t-----------------------------\n",
    "Repeats: 4\tAverage Length: 36\t\tAverage Length: 29\"\"\"\n",
    "print(mincedoutvero)"
   ]
  },
  {
   "cell_type": "code",
   "execution_count": 139,
   "metadata": {},
   "outputs": [],
   "source": [
    "#tracr\n",
    "tracr_out=\"  | tracrRNA |        \\n\\t\\tstart relative to contig: \"+str(position_of[\"tracrRNA\"][0])+\"\\t| start relative to locus: \"+str(position_of[\"tracrRNA\"][0]-min_locus)+\" \\n\\t\\t stop relative to contig: \"+str(position_of[\"tracrRNA\"][1])+\"\\t|  stop relative to locus: \"+str(position_of[\"tracrRNA\"][1]-min_locus)+\" \\n\\t  length (nt): \"+str(position_of[\"tracrRNA\"][1]-position_of[\"tracrRNA\"][0])+\" \\n\\t       strand: \"+str(strand)#      +\" \\n\\t\\t\\t\\t --> SEQUENCE <-- \\n\"+textwrap.fill(str(tracrRNA),80)"
   ]
  },
  {
   "cell_type": "code",
   "execution_count": 140,
   "metadata": {
    "scrolled": false
   },
   "outputs": [
    {
     "name": "stdout",
     "output_type": "stream",
     "text": [
      "\n",
      "                   CONTIG: NODE_137_length_63930_cov_6.02239                   \n",
      "                    GENOME: Obregon-TitoAJ_2015__SM40__bin.4                    \n",
      "\n",
      "positions are 0-based\n",
      "\n",
      "\n"
     ]
    }
   ],
   "source": [
    "contigout=\"\\n\"+\" \"*int((80-len(\"CONTIG: \"+contigname))/2)+\"CONTIG: \"+contigname+\" \"*int((80-len(\"CONTIG: \"+contigname))/2)+\"\\n\"\\\n",
    "+\" \"*int((80-len(\"GENOME: \"+genomename))/2)+\"GENOME: \"+genomename+\" \"*int((80-len(\"GENOME: \"+genomename))/2)\\\n",
    "+\"\\n\\npositions are 0-based\\n\\n\"\n",
    "print(contigout)"
   ]
  },
  {
   "cell_type": "code",
   "execution_count": 141,
   "metadata": {
    "scrolled": false
   },
   "outputs": [
    {
     "name": "stdout",
     "output_type": "stream",
     "text": [
      "writing locus positions file...\n",
      "Done.\n",
      "% created on 04/11/2019\n",
      "% author: L-F-S\n",
      "% affiliation: University of Trento, Italy\n",
      "% e-mail: lorenzo.signorini@alumni.unitn.it\n",
      "% source code available at: https://github.com/L-F-S/cas_mining\n",
      "\n",
      "\n",
      "================================================================================\n",
      "\n",
      "                              CJFLGLGO_01367 LOCUS                              \n",
      "\n",
      "================================================================================\n",
      "                   CONTIG: NODE_137_length_63930_cov_6.02239                   \n",
      "                    GENOME: Obregon-TitoAJ_2015__SM40__bin.4                    \n",
      "\n",
      "positions are 0-based\n",
      "\n",
      "\n",
      "\n",
      "\n",
      "\n",
      "\t\t\t\t+-------------+\n",
      "\t\t\t\t Cas Proteins\n",
      "\t\t\t\t+-------------+\n",
      "  | Cas1 |        \tprokka ID:CJFLGLGO_01366\n",
      "\tstart relative to contig: 45129\t| start relative to locus: 643 \n",
      "\t stop relative to contig: 46028\t|  stop relative to locus: 1542 \n",
      "\t  length (nt): 899 \n",
      "\t  length (aa): 299\n",
      "  | Cas2 |        \tprokka ID:CJFLGLGO_01365\n",
      "\tstart relative to contig: 44816\t| start relative to locus: 330 \n",
      "\t stop relative to contig: 45136\t|  stop relative to locus: 650 \n",
      "\t  length (nt): 320 \n",
      "\t  length (aa): 106\n",
      "  | Cas9 |        \tprokka ID:CJFLGLGO_01367\n",
      "\tstart relative to contig: 46031\t| start relative to locus: 1545 \n",
      "\t stop relative to contig: 49270\t|  stop relative to locus: 4784 \n",
      "\t  length (nt): 3239 \n",
      "\t  length (aa): 1079\n",
      " \n",
      "\t       strand: -1\n",
      "\n",
      "\t\t\t\t+-------------+\n",
      "\t\t\t\t  CRISPRarray \n",
      "\t\t\t\t+-------------+\n",
      "| CRISPRarray |        \n",
      "\t\tstart relative to contig: 44486\t| start relative to locus: 0 \n",
      "\t\t stop relative to contig: 44718\t|  stop relative to locus: 232 \n",
      "\t  length (nt): 232 \n",
      "\t       strand: -1\n",
      "\t    # repeats: \n",
      "\n",
      "\n",
      "\t\t\t\t+-------------+\n",
      "\t\t\t\t   tracrRNA \n",
      "\t\t\t\t+-------------+\n",
      "  | tracrRNA |        \n",
      "\t\tstart relative to contig: 49291\t| start relative to locus: 4805 \n",
      "\t\t stop relative to contig: 49380\t|  stop relative to locus: 4894 \n",
      "\t  length (nt): 89 \n",
      "\t       strand: -1\n"
     ]
    }
   ],
   "source": [
    "print(\"writing locus positions file...\")\n",
    "f=open(outputdir+seqid+\"_info.txt\",\"w\")\n",
    "f.write(header+title+contigout+Cas_header+cas1_out+cas2_out+cas9_out+crispr_header+crispr_out+tracr_header+tracr_out)\n",
    "f.close()\n",
    "print(\"Done.\")\n",
    "print(header+title+contigout+Cas_header+cas1_out+cas2_out+cas9_out+crispr_header+crispr_out+tracr_header+tracr_out)"
   ]
  },
  {
   "cell_type": "code",
   "execution_count": 142,
   "metadata": {},
   "outputs": [],
   "source": [
    "metadata_title=\"\\n\"+\"=\"*80+\"\\n\\n\"+\" \"*int((80-len(seqid+\" metadata\"))/2)+seqid+\" metadata\"+\" \"*int((80-len(seqid+\" metadata\"))/2)+\"\\n\\n\"+\"=\"*80\n",
    "m1=\"\\nContig: \\n\\t\"+contigname+\"\\nGenome: \\n\\t\"+genomename+\"\\nSpecies (SGB): \\n\\t\"+str(SGB)+\"\\nUnknown SGB?\\n\\t\"+uSGB+\"\\nEstimated taxonomy: \\n\\t\"+textwrap.fill(est_tax,80)+\"\\nLevel of estmated taxonomy\\n\\t\"+l_est_tax\n"
   ]
  },
  {
   "cell_type": "code",
   "execution_count": 143,
   "metadata": {},
   "outputs": [
    {
     "name": "stdout",
     "output_type": "stream",
     "text": [
      "writing metadata file...\n",
      "Done.\n",
      "% created on 04/11/2019\n",
      "% author: L-F-S\n",
      "% affiliation: University of Trento, Italy\n",
      "% e-mail: lorenzo.signorini@alumni.unitn.it\n",
      "% source code available at: https://github.com/L-F-S/cas_mining\n",
      "\n",
      "\n",
      "================================================================================\n",
      "\n",
      "                              CJFLGLGO_01367 LOCUS                              \n",
      "\n",
      "================================================================================\n",
      "                   CONTIG: NODE_137_length_63930_cov_6.02239                   \n",
      "                    GENOME: Obregon-TitoAJ_2015__SM40__bin.4                    \n",
      "\n",
      "positions are 0-based\n",
      "\n",
      "\n",
      "\n",
      "\n",
      "\n",
      "\t\t\t\t+-------------+\n",
      "\t\t\t\t Cas Proteins\n",
      "\t\t\t\t+-------------+\n",
      "  | Cas1 |        \tprokka ID:CJFLGLGO_01366\n",
      "\tstart relative to contig: 45129\t| start relative to locus: 643 \n",
      "\t stop relative to contig: 46028\t|  stop relative to locus: 1542 \n",
      "\t  length (nt): 899 \n",
      "\t  length (aa): 299\n",
      "  | Cas2 |        \tprokka ID:CJFLGLGO_01365\n",
      "\tstart relative to contig: 44816\t| start relative to locus: 330 \n",
      "\t stop relative to contig: 45136\t|  stop relative to locus: 650 \n",
      "\t  length (nt): 320 \n",
      "\t  length (aa): 106\n",
      "  | Cas9 |        \tprokka ID:CJFLGLGO_01367\n",
      "\tstart relative to contig: 46031\t| start relative to locus: 1545 \n",
      "\t stop relative to contig: 49270\t|  stop relative to locus: 4784 \n",
      "\t  length (nt): 3239 \n",
      "\t  length (aa): 1079\n",
      " \n",
      "\t       strand: -1\n",
      "\n",
      "\t\t\t\t+-------------+\n",
      "\t\t\t\t  CRISPRarray \n",
      "\t\t\t\t+-------------+\n",
      "| CRISPRarray |        \n",
      "\t\tstart relative to contig: 44486\t| start relative to locus: 0 \n",
      "\t\t stop relative to contig: 44718\t|  stop relative to locus: 232 \n",
      "\t  length (nt): 232 \n",
      "\t       strand: -1\n",
      "\t    # repeats: \n",
      "\n",
      "\n",
      "\t\t\t\t+-------------+\n",
      "\t\t\t\t   tracrRNA \n",
      "\t\t\t\t+-------------+\n",
      "  | tracrRNA |        \n",
      "\t\tstart relative to contig: 49291\t| start relative to locus: 4805 \n",
      "\t\t stop relative to contig: 49380\t|  stop relative to locus: 4894 \n",
      "\t  length (nt): 89 \n",
      "\t       strand: -1\n"
     ]
    }
   ],
   "source": [
    "# save metadata file\n",
    "print(\"writing metadata file...\")\n",
    "f=open(outputdir+seqid+\"_metadata.txt\",\"w\")\n",
    "f.write(header+metadata_title+m1)\n",
    "f.close()\n",
    "print(\"Done.\")\n",
    "print(header+title+contigout+Cas_header+cas1_out+cas2_out+cas9_out+crispr_header+crispr_out+tracr_header+tracr_out)"
   ]
  },
  {
   "cell_type": "code",
   "execution_count": 119,
   "metadata": {},
   "outputs": [
    {
     "name": "stdout",
     "output_type": "stream",
     "text": [
      "{'CRISPR': (0.0, 9.101964452759589), 'Cas9': (25.43311506080449, 67.65575304022451), 'Cas1': (13.842843779232927, 25.38072965388213), 'Cas2': (9.743685687558465, 13.77736202057998), 'tracrRNA': (170.75023386342374, 70.0)}\n"
     ]
    }
   ],
   "source": [
    "# keep this for v2....\n",
    "min_locus=min(value[0] for value in position_of.values())\n",
    "max_locus=max(value[1] for value in position_of.values())\n",
    "scaling_factor=(max_locus-min_locus)/70  # to have a locus of total length 70\n",
    "scaled_pos_of={key:((value[0]-min_locus)/scaling_factor,(value[1]-min_locus)/scaling_factor) for (key, value) in position_of.items()}\n",
    "print((scaled_pos_of))"
   ]
  },
  {
   "cell_type": "code",
   "execution_count": 128,
   "metadata": {},
   "outputs": [
    {
     "name": "stdout",
     "output_type": "stream",
     "text": [
      "copying genome and genome annotation..\n"
     ]
    },
    {
     "data": {
      "text/plain": [
       "0"
      ]
     },
     "execution_count": 128,
     "metadata": {},
     "output_type": "execute_result"
    }
   ],
   "source": [
    "print(\"copying genome and genome annotation..\")\n",
    "gff=\"/scratchCM/tmp_projects/epasolli_darkmatter/allcontigs/\"+dataset+\"/metabat/genomes_comp50_cont05/prokka/\"+genomename+\"/\"+genomename+\".gff\"\n",
    "system(\"cp \"+genomefilename+\" \"+outputdir)\n",
    "system(\"cp \"+gff+\" \"+outputdir)"
   ]
  }
 ],
 "metadata": {
  "kernelspec": {
   "display_name": "Python 3",
   "language": "python",
   "name": "python3"
  },
  "language_info": {
   "codemirror_mode": {
    "name": "ipython",
    "version": 3
   },
   "file_extension": ".py",
   "mimetype": "text/x-python",
   "name": "python",
   "nbconvert_exporter": "python",
   "pygments_lexer": "ipython3",
   "version": "3.7.3"
  }
 },
 "nbformat": 4,
 "nbformat_minor": 2
}
