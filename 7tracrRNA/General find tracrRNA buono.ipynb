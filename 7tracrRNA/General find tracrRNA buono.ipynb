{
 "cells": [
  {
   "cell_type": "markdown",
   "metadata": {},
   "source": [
    "# find tracerRNA\n"
   ]
  },
  {
   "cell_type": "code",
   "execution_count": 33,
   "metadata": {},
   "outputs": [],
   "source": [
    "# First created Thu Jul 11 09:51:15 CEST 2019\n",
    "# Made by L-F-S\n",
    "# At the University Of Trento, Italy\n",
    "\n",
    "import os\n",
    "import sys\n",
    "import numpy as np\n",
    "import pandas as pd\n",
    "import matplotlib.pyplot as plt\n",
    "from Bio import SeqIO\n",
    "from Bio.Seq import Seq\n",
    "from Bio.Alphabet import generic_dna, generic_protein, RNAAlphabet\n",
    "from Bio import pairwise2\n",
    "\n",
    "\n",
    "sys.path.insert(0, '/home/lorenzo.signorini/cas_mining/utils/')\n",
    "import filename_discrepancies\n",
    "sys.path.insert(0, '/home/lorenzo.signorini/cas_mining/9casminer_v2/')\n",
    "import locus\n",
    "\n",
    "feature=\"Cas9\" #WARNING!!! CHANGE THIS!!\n",
    "#outpath=\"/shares/CIBIO-Storage/CM/scratch/tmp_projects/signorini_cas/5caslocitable/out/\"+feature+\"/\"\n",
    "datadir=\"/shares/CIBIO-Storage/CM/scratch/tmp_projects/signorini_cas/7tracrRNA/\"\n",
    "\n",
    "\n"
   ]
  },
  {
   "cell_type": "code",
   "execution_count": 34,
   "metadata": {
    "scrolled": false
   },
   "outputs": [
    {
     "data": {
      "text/plain": [
       "Index(['Seq ID', 'Seq Description', 'Seq', 'Contig', 'Genome Name', 'Study',\n",
       "       'Sample Name', 'SGB ID', 'Pos', 'pilercr_CRISPR', 'minced_CRISPR',\n",
       "       'prokka_cas1', 'prokka_cas2', 'uSGB', 'Level of estimated taxonomy',\n",
       "       'Estimated taxonomy'],\n",
       "      dtype='object')"
      ]
     },
     "execution_count": 34,
     "metadata": {},
     "output_type": "execute_result"
    }
   ],
   "source": [
    "# Import data\n",
    "cas_dataset=pd.read_csv(\"/shares/CIBIO-Storage/CM/scratch/tmp_projects/signorini_cas/5caslocitable/known_\"+feature+\"_variants_table.csv\", index_col=0)\n",
    "cas_dataset.columns"
   ]
  },
  {
   "cell_type": "code",
   "execution_count": 35,
   "metadata": {},
   "outputs": [
    {
     "name": "stdout",
     "output_type": "stream",
     "text": [
      "SEQ ID:  AOPFDEBE_00006\n",
      "NODE_411_length_19879_cov_2.8009\n",
      "Obregon-TitoAJ_2015\n",
      "Obregon-TitoAJ_2015__SM31__bin.19\n",
      "17319\n",
      "978\n",
      "[('.', '10862', '12283')]\n",
      "----------------------------------------------------------------------\n"
     ]
    }
   ],
   "source": [
    "seqid =\"AOPFDEBE_00006\"\n",
    "print(\"SEQ ID: \", seqid)\n",
    "print(cas_dataset[cas_dataset[\"Seq ID\"]==seqid][\"Contig\"].iloc[0])\n",
    "print(cas_dataset[cas_dataset[\"Seq ID\"]==seqid][\"Study\"].iloc[0])\n",
    "print(cas_dataset[cas_dataset[\"Seq ID\"]==seqid][\"Genome Name\"].iloc[0])\n",
    "print(cas_dataset[cas_dataset[\"Seq ID\"]==seqid][\"SGB ID\"].iloc[0])\n",
    "print(len(cas_dataset[cas_dataset[\"Seq ID\"]==seqid][\"Seq\"].iloc[0]))\n",
    "print(cas_dataset[cas_dataset[\"Seq ID\"]==seqid][\"minced_CRISPR\"].iloc[0])\n",
    "print(\"----------------------------------------------------------------------\")\n"
   ]
  },
  {
   "cell_type": "markdown",
   "metadata": {},
   "source": [
    "## check there is only 1 Cas9 in that genome.."
   ]
  },
  {
   "cell_type": "code",
   "execution_count": 26,
   "metadata": {},
   "outputs": [
    {
     "data": {
      "text/html": [
       "<div>\n",
       "<style scoped>\n",
       "    .dataframe tbody tr th:only-of-type {\n",
       "        vertical-align: middle;\n",
       "    }\n",
       "\n",
       "    .dataframe tbody tr th {\n",
       "        vertical-align: top;\n",
       "    }\n",
       "\n",
       "    .dataframe thead th {\n",
       "        text-align: right;\n",
       "    }\n",
       "</style>\n",
       "<table border=\"1\" class=\"dataframe\">\n",
       "  <thead>\n",
       "    <tr style=\"text-align: right;\">\n",
       "      <th></th>\n",
       "      <th>Seq ID</th>\n",
       "      <th>Seq Description</th>\n",
       "      <th>Seq</th>\n",
       "      <th>Contig</th>\n",
       "      <th>Genome Name</th>\n",
       "      <th>Study</th>\n",
       "      <th>Sample Name</th>\n",
       "      <th>SGB ID</th>\n",
       "      <th>Pos</th>\n",
       "      <th>pilercr_CRISPR</th>\n",
       "      <th>minced_CRISPR</th>\n",
       "      <th>prokka_cas1</th>\n",
       "      <th>prokka_cas2</th>\n",
       "      <th>uSGB</th>\n",
       "      <th>Level of estimated taxonomy</th>\n",
       "      <th>Estimated taxonomy</th>\n",
       "    </tr>\n",
       "  </thead>\n",
       "  <tbody>\n",
       "    <tr>\n",
       "      <td>19055</td>\n",
       "      <td>AOPFDEBE_00006</td>\n",
       "      <td>AOPFDEBE_00006 CRISPR-associated endonuclease ...</td>\n",
       "      <td>MSLIFGFDLGIASIGWAAVKMSDPTASDTDAAAPDNRPVGEILGAG...</td>\n",
       "      <td>NODE_411_length_19879_cov_2.8009</td>\n",
       "      <td>Obregon-TitoAJ_2015__SM31__bin.19</td>\n",
       "      <td>Obregon-TitoAJ_2015</td>\n",
       "      <td>SM31</td>\n",
       "      <td>17319</td>\n",
       "      <td>6519 9455</td>\n",
       "      <td>[('ID=CRISPR1', '11227', '6')]</td>\n",
       "      <td>[('.', '10862', '12283')]</td>\n",
       "      <td>[('ID=AOPFDEBE_00007', '9510', '10424')]</td>\n",
       "      <td>[('ID=AOPFDEBE_00008', '10453', '10758')]</td>\n",
       "      <td>Yes</td>\n",
       "      <td>Other</td>\n",
       "      <td>-</td>\n",
       "    </tr>\n",
       "  </tbody>\n",
       "</table>\n",
       "</div>"
      ],
      "text/plain": [
       "               Seq ID                                    Seq Description  \\\n",
       "19055  AOPFDEBE_00006  AOPFDEBE_00006 CRISPR-associated endonuclease ...   \n",
       "\n",
       "                                                     Seq  \\\n",
       "19055  MSLIFGFDLGIASIGWAAVKMSDPTASDTDAAAPDNRPVGEILGAG...   \n",
       "\n",
       "                                 Contig                        Genome Name  \\\n",
       "19055  NODE_411_length_19879_cov_2.8009  Obregon-TitoAJ_2015__SM31__bin.19   \n",
       "\n",
       "                     Study Sample Name  SGB ID        Pos  \\\n",
       "19055  Obregon-TitoAJ_2015        SM31   17319  6519 9455   \n",
       "\n",
       "                       pilercr_CRISPR              minced_CRISPR  \\\n",
       "19055  [('ID=CRISPR1', '11227', '6')]  [('.', '10862', '12283')]   \n",
       "\n",
       "                                    prokka_cas1  \\\n",
       "19055  [('ID=AOPFDEBE_00007', '9510', '10424')]   \n",
       "\n",
       "                                     prokka_cas2 uSGB  \\\n",
       "19055  [('ID=AOPFDEBE_00008', '10453', '10758')]  Yes   \n",
       "\n",
       "      Level of estimated taxonomy Estimated taxonomy  \n",
       "19055                       Other                  -  "
      ]
     },
     "execution_count": 26,
     "metadata": {},
     "output_type": "execute_result"
    }
   ],
   "source": [
    "genomename=cas_dataset[cas_dataset[\"Seq ID\"]==seqid][\"Genome Name\"].iloc[0]\n",
    "cas_dataset[cas_dataset[\"Genome Name\"]==genomename]"
   ]
  },
  {
   "cell_type": "code",
   "execution_count": 39,
   "metadata": {
    "scrolled": false
   },
   "outputs": [
    {
     "name": "stdout",
     "output_type": "stream",
     "text": [
      "\n",
      "-----------------------------------------------------\n",
      "Cas9 id:\tAOPFDEBE_00006\n",
      "SGB:\t17319\n",
      "Genome Name:\t Obregon-TitoAJ_2015__SM31__bin.19\n",
      "Contig:\tNODE_411_length_19879_cov_2.8009 \n",
      "-----------------------------------------------------\n",
      "\n",
      "..working genomename: ('Obregon-TitoAJ_2015__SM31__bin.19', 'Obregon-TitoAJ_2015')\n",
      "\n",
      "\n",
      "CRISPR 1   Range: 10862 - 12283\n",
      "\n",
      "POSITION\tREPEAT\t\t\t\tSPACER\n",
      "\n",
      "--------\t------------------------------------\t------------------------------\n",
      "\n",
      "10862\t\tATTATACCAAAGACGATTTGAGAAGCAACCTATAAC\tAAGACGCACTCAACAGCACCAATATGCAGG\t[ 36, 30 ]\n",
      "\n",
      "10928\t\tATTATACCAAAGACGATTTGAGAAGCAACCTATAAC\tAACAAGTATACGCAATGTTTAACCAAATCA\t[ 36, 30 ]\n",
      "\n",
      "10994\t\tATTATACCAAAGACGATTTGAGAAGCAACCTATAAC\tAGGTCAGGATTATCAACCACGTATCGATTC\t[ 36, 30 ]\n",
      "\n",
      "11060\t\tATTATACCAAAGACGATTTGAGAAGCAACCTATAAC\tCTATACTAAGGGCATATCAATAAGGACATA\t[ 36, 30 ]\n",
      "\n",
      "11126\t\tATTATACCAAAGACGATTTGAGAAGCAACCTATAAC\tATGTATATTTCATTGTTGATATTTTCTTTG\t[ 36, 30 ]\n",
      "\n",
      "11192\t\tATTATACCAAAGACGATTTGAGAAGCAACCTATAAC\tCCAGCCATGTTATATATTTGTGCCGCTTGT\t[ 36, 30 ]\n",
      "\n",
      "11258\t\tATTATACCAAAGACGATTTGAGAAGCAACCTATAAC\tTGTAGTTGCTGTCGTAATACCCGACCGTCA\t[ 36, 30 ]\n",
      "\n",
      "11324\t\tATTATACCAAAGACGATTTGAGAAGCAACCTATAAC\tCCATTCTGTGGATTTACCCACGTTTCTTTT\t[ 36, 30 ]\n",
      "\n",
      "11390\t\tATTATACCAAAGACGATTTGAGAAGCAACCTATAAC\tTCCAAAATGCAACCTATGCATTTACCACAT\t[ 36, 30 ]\n",
      "\n",
      "11456\t\tATTATACCAAAGACGATTTGAGAAGCAACCTATAAC\tTGGTATGTCCAGAAATTCGTTGCCGATGGT\t[ 36, 30 ]\n",
      "\n",
      "11522\t\tATTATACCAAAGACGATTTGAGAAGCAACCTATAAC\tTGCCGTTGCCGGTTATGTTGGGTGGAAAAA\t[ 36, 30 ]\n",
      "\n",
      "11588\t\tATTATACCAAAGACGATTTGAGAAGCAACCTATAAC\tGAACCGCGCCGCATTGCAACCATTATGCGA\t[ 36, 30 ]\n",
      "\n",
      "11654\t\tATTATACCAAAGACGATTTGAGAAGCAACCTATAAC\tAATGTGTCAAGGATTATGTTGAGTGCGTCA\t[ 36, 30 ]\n",
      "\n",
      "11720\t\tATTATACCAAAGACGATTTGAGAAGCAACCTATAAC\tAGTGATTCCATACTAAACGGTGTGGAACTG\t[ 36, 30 ]\n",
      "\n",
      "11786\t\tATTATACCAAAGACGATTTGAGAAGCAACCTATAAC\tTTGCTAACGCTTGCTCGCACACACGCCGAT\t[ 36, 30 ]\n",
      "\n",
      "11852\t\tATTATACCAAAGACGATTTGAGAAGCAACCTATAAC\tCAAAATTACGTTCAATAAACGTATTGCGAA\t[ 36, 30 ]\n",
      "\n",
      "11918\t\tATTATACCAAAGACGATTTGAGAAGCAACCTATAAC\tGGGCGATGCTTCTGTATTTATTATTGACTT\t[ 36, 30 ]\n",
      "\n",
      "11984\t\tATTATACCAAAGACGATTTGAGAAGCAACCTATAAC\tCTTTATGGTATGGCAACCGCGCCGCCCCTG\t[ 36, 30 ]\n",
      "\n",
      "12050\t\tATTATACCAAAGACGATTTGAGAAGCAACCTATAAC\tGGCTATGCAACGGGGAACACTCGCGGGCGC\t[ 36, 30 ]\n",
      "\n",
      "12116\t\tATTATACCAAAGACGATTTGAGAAGCAACCTATAAC\tTGTATTGAATTGATTCGGGCAAGCAGATGA\t[ 36, 30 ]\n",
      "\n",
      "12182\t\tATTATACCAAAGACGATTTGAGAAGCAACCTATAAC\tGGAGTAATTTCCAACGTTTCAGTGTTGATT\t[ 36, 30 ]\n",
      "\n",
      "12248\t\tATTATACCAAAAATGACAGAGGCCTTTGAAACAATT\t\n",
      "\n",
      "--------\t------------------------------------\t------------------------------\n",
      "\n",
      "Repeats: 22\tAverage Length: 36\t\tAverage Length: 30\n",
      "\n",
      "unique repeats:\n",
      "repeat  1 :\t ATTATACCAAAAATGACAGAGGCCTTTGAAACAATT\n",
      "repeat  2 :\t ATTATACCAAAGACGATTTGAGAAGCAACCTATAAC\n",
      "cp /shares/CIBIO-Storage/CM/scratch/tmp_projects/signorini_cas/1crisprsearch/out/Obregon-TitoAJ_2015/Obregon-TitoAJ_2015__SM31__bin.19.fa.minced.out /shares/CIBIO-Storage/CM/scratch/tmp_projects/signorini_cas/7tracrRNA/\n",
      "Locus features and positions:  {'Cas9': [6519, 9455], 'Cas1': [9510, 10424], 'Cas2': [10453, 10758], 'CRISPR': [10862, 12283]}\n",
      "++++++++++++++++++++++++++++++++++++++++++++++++++++++++++++++++++++++++++++++++\n",
      "{'Cas9': [6519, 9455], 'Cas1': [9510, 10424], 'Cas2': [10453, 10758], 'CRISPR': [10862, 12283]}\n",
      "Retrieving locus\n",
      "Copying file ot output...\n",
      "cp /shares/CIBIO-Storage/CM/scratch/tmp_projects/epasolli_darkmatter/allcontigs/ALLreconstructedgenomes/17319/Obregon-TitoAJ_2015__SM31__bin.19.fa /shares/CIBIO-Storage/CM/scratch/tmp_projects/signorini_cas/7tracrRNA/\n",
      "CRISPR si trova [10862, 12283]\n",
      "Cas9 si trova [6519, 9455]\n",
      "Cas2 si trova [10453, 10758]\n",
      "Cas1 si trova [9510, 10424]\n",
      "978.0 978\n",
      "Cas locus on plus strand\n",
      "Is Cas9 translated from the genome equal to the orignal annotation? True\n",
      "MSLIFGFDLGIASIGWAAVKMSDPTASDTDAAAPDNRPVGEILGAGVRCFDQAQNAVDRRVARGARRRIRHRAQRMRDIRKILRQYNLIDIPEPKFNGQNNFYLNRDTDINIWQLRAVDAFTRKLTPRETGRILYHLAKHRGYDDITYPVLTGAVPEKADDAEAKEELKAIGAIKDNFAKLHNENPDQTMCQMLYATEHGQMRNGRKSVIKITKDGTQRTEEQSSYSNSIPRSEIKREAEMILHAQCGFGNDFSDVFKKWCVVAFHQLKFNESKSPLAKSIEKMRGKCPFTNKPVAPKESPTAQMFVALTKCRQNGFTVAETNAIIDALYKKKTGLKYADVRKLLKWDDDSQFKTLNYSRTYDKENKKWIEPDVKKIENSKFYAFTGWHKLAKYTTDVATMDKIFDIIVTQKTPENIERAVSGILPEHAAAIAQITSSEFIKLSISALQKIIPEMAAGKKYNEAVADGLGKDFRVQNVSYIDRDNGVSAGCLHQINWNALGNRITSPVAKRTLGQLRKVYNAMVYRFGAPDRIHLEIGRELKNSPDDIARMNREQERNRQATEEARKEYGKNYFKYKLYMEQGGKCPYCGATLVAGDWAAYEIDHILPYSRSLDNSQSNKVLVCHECNQRKGNKTPYEFLTTEQFHDMAVRARALHNPAKFKKLTNTELPQSSDEQNGFIERNANDNATIARFATEYLEYGIDWPESDNIKKRVLVRTGSLTDYLRHQWGLVKNRDESDKHHAQDAIVIACATQGMVKYLSTLSARFENKYTLIEKYGQAWYNVLKTSVQEPWAGFRTAVFSLLDNIIVSRPPRCNATGAAHKETIYANPKSYRSKRGLNKNRDKGSMKIRHGRVERGDMFRFDIWRDARGKYMCVPIFVADTKGKDDNNFKVPDSEFICSLHKDDYVRLTTADAVYEGYITQMDHGTNFILYRQDNSQIQVVKKSVGKCTNIEKFAMSLLGTPKPIKLPEQRTPVVK\n",
      "++++++++++++++++++++++++++++++++++++++++++++++++++++++++++++++++++++++++++++++++\n",
      "MSLIFGFDLGIASIGWAAVKMSDPTASDTDAAAPDNRPVGEILGAGVRCFDQAQNAVDRRVARGARRRIRHRAQRMRDIRKILRQYNLIDIPEPKFNGQNNFYLNRDTDINIWQLRAVDAFTRKLTPRETGRILYHLAKHRGYDDITYPVLTGAVPEKADDAEAKEELKAIGAIKDNFAKLHNENPDQTMCQMLYATEHGQMRNGRKSVIKITKDGTQRTEEQSSYSNSIPRSEIKREAEMILHAQCGFGNDFSDVFKKWCVVAFHQLKFNESKSPLAKSIEKMRGKCPFTNKPVAPKESPTAQMFVALTKCRQNGFTVAETNAIIDALYKKKTGLKYADVRKLLKWDDDSQFKTLNYSRTYDKENKKWIEPDVKKIENSKFYAFTGWHKLAKYTTDVATMDKIFDIIVTQKTPENIERAVSGILPEHAAAIAQITSSEFIKLSISALQKIIPEMAAGKKYNEAVADGLGKDFRVQNVSYIDRDNGVSAGCLHQINWNALGNRITSPVAKRTLGQLRKVYNAMVYRFGAPDRIHLEIGRELKNSPDDIARMNREQERNRQATEEARKEYGKNYFKYKLYMEQGGKCPYCGATLVAGDWAAYEIDHILPYSRSLDNSQSNKVLVCHECNQRKGNKTPYEFLTTEQFHDMAVRARALHNPAKFKKLTNTELPQSSDEQNGFIERNANDNATIARFATEYLEYGIDWPESDNIKKRVLVRTGSLTDYLRHQWGLVKNRDESDKHHAQDAIVIACATQGMVKYLSTLSARFENKYTLIEKYGQAWYNVLKTSVQEPWAGFRTAVFSLLDNIIVSRPPRCNATGAAHKETIYANPKSYRSKRGLNKNRDKGSMKIRHGRVERGDMFRFDIWRDARGKYMCVPIFVADTKGKDDNNFKVPDSEFICSLHKDDYVRLTTADAVYEGYITQMDHGTNFILYRQDNSQIQVVKKSVGKCTNIEKFAMSLLGTPKPIKLPEQRTPVVK\n",
      "MSLIFGFDLGIASIGWAAVKMSDPTASDTDAAAPDNRPVGEILGAGVRCFDQAQNAVDRRVARGARRRIRHRAQRMRDIRKILRQYNLIDIPEPKFNGQNNFYLNRDTDINIWQLRAVDAFTRKLTPRETGRILYHLAKHRGYDDITYPVLTGAVPEKADDAEAKEELKAIGAIKDNFAKLHNENPDQTMCQMLYATEHGQMRNGRKSVIKITKDGTQRTEEQSSYSNSIPRSEIKREAEMILHAQCGFGNDFSDVFKKWCVVAFHQLKFNESKSPLAKSIEKMRGKCPFTNKPVAPKESPTAQMFVALTKCRQNGFTVAETNAIIDALYKKKTGLKYADVRKLLKWDDDSQFKTLNYSRTYDKENKKWIEPDVKKIENSKFYAFTGWHKLAKYTTDVATMDKIFDIIVTQKTPENIERAVSGILPEHAAAIAQITSSEFIKLSISALQKIIPEMAAGKKYNEAVADGLGKDFRVQNVSYIDRDNGVSAGCLHQINWNALGNRITSPVAKRTLGQLRKVYNAMVYRFGAPDRIHLEIGRELKNSPDDIARMNREQERNRQATEEARKEYGKNYFKYKLYMEQGGKCPYCGATLVAGDWAAYEIDHILPYSRSLDNSQSNKVLVCHECNQRKGNKTPYEFLTTEQFHDMAVRARALHNPAKFKKLTNTELPQSSDEQNGFIERNANDNATIARFATEYLEYGIDWPESDNIKKRVLVRTGSLTDYLRHQWGLVKNRDESDKHHAQDAIVIACATQGMVKYLSTLSARFENKYTLIEKYGQAWYNVLKTSVQEPWAGFRTAVFSLLDNIIVSRPPRCNATGAAHKETIYANPKSYRSKRGLNKNRDKGSMKIRHGRVERGDMFRFDIWRDARGKYMCVPIFVADTKGKDDNNFKVPDSEFICSLHKDDYVRLTTADAVYEGYITQMDHGTNFILYRQDNSQIQVVKKSVGKCTNIEKFAMSLLGTPKPIKLPEQRTPVVK\n",
      "||||||||||||||||||||||||||||||||||||||||||||||||||||||||||||||||||||||||||||||||||||||||||||||||||||||||||||||||||||||||||||||||||||||||||||||||||||||||||||||||||||||||||||||||||||||||||||||||||||||||||||||||||||||||||||||||||||||||||||||||||||||||||||||||||||||||||||||||||||||||||||||||||||||||||||||||||||||||||||||||||||||||||||||||||||||||||||||||||||||||||||||||||||||||||||||||||||||||||||||||||||||||||||||||||||||||||||||||||||||||||||||||||||||||||||||||||||||||||||||||||||||||||||||||||||||||||||||||||||||||||||||||||||||||||||||||||||||||||||||||||||||||||||||||||||||||||||||||||||||||||||||||||||||||||||||||||||||||||||||||||||||||||||||||||||||||||||||||||||||||||||||||||||||||||||||||||||||||||||||||||||||||||||||||||||||||||||||||||||||||||||||||||||||||||||||||||||||||||||||||||||||||||||||||||||||||||||||||||||||||||||||||||||||||||||||||||||||||||||||||||||||||||||||||||||||||||||||||||||||||||||||||||||||||||||||||||||||||||||||||||||||||||||||||||\n",
      "MSLIFGFDLGIASIGWAAVKMSDPTASDTDAAAPDNRPVGEILGAGVRCFDQAQNAVDRRVARGARRRIRHRAQRMRDIRKILRQYNLIDIPEPKFNGQNNFYLNRDTDINIWQLRAVDAFTRKLTPRETGRILYHLAKHRGYDDITYPVLTGAVPEKADDAEAKEELKAIGAIKDNFAKLHNENPDQTMCQMLYATEHGQMRNGRKSVIKITKDGTQRTEEQSSYSNSIPRSEIKREAEMILHAQCGFGNDFSDVFKKWCVVAFHQLKFNESKSPLAKSIEKMRGKCPFTNKPVAPKESPTAQMFVALTKCRQNGFTVAETNAIIDALYKKKTGLKYADVRKLLKWDDDSQFKTLNYSRTYDKENKKWIEPDVKKIENSKFYAFTGWHKLAKYTTDVATMDKIFDIIVTQKTPENIERAVSGILPEHAAAIAQITSSEFIKLSISALQKIIPEMAAGKKYNEAVADGLGKDFRVQNVSYIDRDNGVSAGCLHQINWNALGNRITSPVAKRTLGQLRKVYNAMVYRFGAPDRIHLEIGRELKNSPDDIARMNREQERNRQATEEARKEYGKNYFKYKLYMEQGGKCPYCGATLVAGDWAAYEIDHILPYSRSLDNSQSNKVLVCHECNQRKGNKTPYEFLTTEQFHDMAVRARALHNPAKFKKLTNTELPQSSDEQNGFIERNANDNATIARFATEYLEYGIDWPESDNIKKRVLVRTGSLTDYLRHQWGLVKNRDESDKHHAQDAIVIACATQGMVKYLSTLSARFENKYTLIEKYGQAWYNVLKTSVQEPWAGFRTAVFSLLDNIIVSRPPRCNATGAAHKETIYANPKSYRSKRGLNKNRDKGSMKIRHGRVERGDMFRFDIWRDARGKYMCVPIFVADTKGKDDNNFKVPDSEFICSLHKDDYVRLTTADAVYEGYITQMDHGTNFILYRQDNSQIQVVKKSVGKCTNIEKFAMSLLGTPKPIKLPEQRTPVVK\n",
      "  Score=978\n",
      "\n",
      "let's now blast the repeat against  the genome\n",
      "Building blast database with:\n",
      "makeblastdb -in /shares/CIBIO-Storage/CM/scratch/tmp_projects/signorini_cas/7tracrRNA/tempblastdb -parse_seqids  -dbtype nucl\n"
     ]
    },
    {
     "name": "stdout",
     "output_type": "stream",
     "text": [
      "Running blastn of query file agianst all contigs\n",
      "blastn -out /shares/CIBIO-Storage/CM/scratch/tmp_projects/signorini_cas/7tracrRNA/17319__AOPFDEBE_00006__Obregon-TitoAJ_2015__SM31__bin.19__Cas9.trcr.blastout -outfmt \"6  qseqid sseqid pident qlen length mismatch gapopen qseq sseq sstart send evalue sstrand\" -query temp_repeat_seq -db /shares/CIBIO-Storage/CM/scratch/tmp_projects/signorini_cas/7tracrRNA/tempblastdb -evalue 0.001 -word_size 11 -penalty -2\n"
     ]
    }
   ],
   "source": [
    "cas9_aa=cas_dataset[cas_dataset[\"Seq ID\"]==seqid][\"Seq\"].iloc[0]\n",
    "dataset=cas_dataset[cas_dataset[\"Seq ID\"]==seqid][\"Study\"].iloc[0]\n",
    "genomename=cas_dataset[cas_dataset[\"Seq ID\"]==seqid][\"Genome Name\"].iloc[0]\n",
    "SGB=cas_dataset[cas_dataset[\"Seq ID\"]==seqid][\"SGB ID\"].iloc[0]\n",
    "contigname=cas_dataset[cas_dataset[\"Seq ID\"]==seqid][\"Contig\"].iloc[0]\n",
    "samplename = genomename.split(\"__\")[1]\n",
    "\n",
    "print(\"\\n-----------------------------------------------------\\n\"+feature+\" id:\\t\"+seqid+\"\\nSGB:\\t\"+str(SGB)+\"\\nGenome Name:\\t\",\\\n",
    "      genomename+\"\\nContig:\\t\"+cas_dataset[cas_dataset[\"Seq ID\"]==seqid][\"Contig\"].iloc[0],\"\\n-----------------------------------------------------\\n\")\n",
    "\n",
    "print(\"..working genomename:\", filename_discrepancies.get_originalsamplename_froms3name_of_genome(genomename,dataset))\n",
    "########################################################################\n",
    "\n",
    "# get CRISPR spacer and repeat sequence\n",
    "\n",
    "cr=locus.CRISPRarray(feature=feature, contigname=contigname, genomename=genomename, datasetname=dataset)\n",
    "cr.get_CRISPR_array()\n",
    "spacers=cr.spacers\n",
    "repeats=cr.repeats\n",
    "repeat_start_pos=cr.repstartpos\n",
    "unique_repeats=np.unique(repeats)\n",
    "print(\"unique repeats:\")\n",
    "for i in range(len(unique_repeats)):\n",
    "    print(\"repeat \",str(i+1),\":\\t\",unique_repeats[i])\n",
    "print(\"cp \"+cr.path+\" \"+datadir)\n",
    "\n",
    "\n",
    "# get whole locus sequence todo this could become a function of its own, dentro utils, gli dai seqid della cas e ti dà tt il locus\n",
    "\n",
    "# > get start and stop position of all Cass. questo devi metterlo nella tabella di cas non ci sono santi.\n",
    "cas_position={feature:[int(n) for n in cas_dataset[cas_dataset[\"Seq ID\"]==seqid][\"Pos\"].iloc[0].split()],\\\n",
    "              \"Cas1\":[int(n) for n in eval(cas_dataset[cas_dataset[\"Seq ID\"]==seqid][\"prokka_cas1\"].iloc[0])[0][1:]],\\\n",
    "              \"Cas2\":[int(n) for n in eval(cas_dataset[cas_dataset[\"Seq ID\"]==seqid][\"prokka_cas2\"].iloc[0])[0][1:]],\\\n",
    "              \"CRISPR\":[int(n) for n in eval(cas_dataset[cas_dataset[\"Seq ID\"]==seqid][\"minced_CRISPR\"].iloc[0])[0][1:]]\n",
    "             }\n",
    "print(\"Locus features and positions: \", cas_position)\n",
    "# so già che all casses inside here are on the same contig which is 'contig', xke le ho estratte per essere così\n",
    "# FALSO! è cosi in cas_dataset, non in tabellazzza! mi ero confuso! trovato il bug!\n",
    "\n",
    "genomefilename= \"/shares/CIBIO-Storage/CM/scratch/tmp_projects/epasolli_darkmatter/allcontigs/ALLreconstructedgenomes/\"+str(SGB)+\"/\"+genomename+\".fa\"\n",
    "print(\"+\"*80)\n",
    "print(cas_position)\n",
    "print(\"Retrieving locus\")\n",
    "print(\"Copying file ot output...\")\n",
    "print(\"cp \"+genomefilename+\" \"+datadir)\n",
    "\n",
    "# access contig:\n",
    "\n",
    "for record in SeqIO.parse(genomefilename,\"fasta\"):  #c'è modo di non fare questo 'ciclo'?\n",
    "    if record.id.startswith(contigname):\n",
    "        #test se effettivamente la seq di cas è dove voglio io\n",
    "\n",
    "        SeqIO.write(record, datadir+\"tempblastdb\", \"fasta\")\n",
    "        print(\"CRISPR si trova\", cas_position[\"CRISPR\"])\n",
    "        print(\"Cas9 si trova\", cas_position[feature])\n",
    "        print(\"Cas2 si trova\", cas_position[\"Cas2\"])\n",
    "        print(\"Cas1 si trova\", cas_position[\"Cas1\"])\n",
    "\n",
    "        #estrai la posizione di cas9 dal contig, e traducila\n",
    "        temp_alt_cas9start=98503\n",
    "        temp_alt_cas9stop=101700\n",
    "        cas9start=cas_position[feature][0]\n",
    "        cas9stop=cas_position[feature][1]\n",
    "        cas9_nnseq=record.seq[cas9start-1:cas9stop-3] #gff should have a 1-based positional annotation (ma sto andando a occhio finchè non sono uguali, è già un oggetto Bio.Seq\n",
    "\n",
    "        my_translated_cas9=cas9_nnseq.transcribe().translate()\n",
    "\n",
    "  \n",
    "        print(len(cas9_nnseq)/3,len(cas9_aa))\n",
    "\n",
    "\n",
    "        if my_translated_cas9==cas9_aa:\n",
    "            print(\"Cas locus on plus strand\")\n",
    "            plus=True\n",
    "        if not my_translated_cas9==cas9_aa:\n",
    "            #proviamo col reverse complement\n",
    "            cas9_nnseq=record.seq[cas9start+2:cas9stop]\n",
    "            my_translated_cas9=cas9_nnseq.reverse_complement().transcribe().translate()\n",
    "            print(\"Cas locus on minus strand\")\n",
    "        print(\"Is Cas9 translated from the genome equal to the orignal annotation?\", my_translated_cas9==cas9_aa)\n",
    "        print(my_translated_cas9)\n",
    "        print(\"+\"*80)\n",
    "        print(cas9_aa)\n",
    "        \n",
    "        alignments = pairwise2.align.localxx(my_translated_cas9,cas9_aa)\n",
    "        print(pairwise2.format_alignment(*alignments[0]))\n",
    "        \n",
    "        #save .faa aminoacid sequence to output:\n",
    "        if my_translated_cas9==cas9_aa:\n",
    "            cas9aafilename=str(SGB)+\"__\"+seqid+\"__\"+genomename+\".\"+feature+\".faa\"\n",
    "            f=open(datadir+cas9aafilename,\"w\") #TODO dir\n",
    "            f.write(\">\"+seqid+\"\\n\"+cas9_aa)\n",
    "            f.close()\n",
    "\n",
    "        #opzione 1 blast\n",
    "      #1. salva np.uniq(repeats) in un fasta file: build temporary query file for blastn search\n",
    "\n",
    "        print(\"let's now blast the repeat against  the genome\")\n",
    "        os.chdir(datadir)\n",
    "        tempfile=open(\"temp_repeat_seq\", \"w\")\n",
    "        tempfile.close()\n",
    "        tempfile=open(\"temp_repeat_seq\", \"a\")\n",
    "\n",
    "        for n, repeat in enumerate([Seq(sequence) for sequence in np.unique(repeats)]):\n",
    "            tempfile.write(\">rpt\"+str(n+1)+\"|\"+contigname+\"|\"+genomename+\"|\"+seqid+\"\\n\"+str(repeat)+\"\\n\") \n",
    "        tempfile.close()\n",
    "\n",
    "        #2. Blast query file against db\n",
    "\n",
    "        #3. make db file\n",
    "        print(\"Building blast database with:\")\n",
    "        dbfile=datadir+\"tempblastdb\"\n",
    "        print(\"makeblastdb -in \"+dbfile+\" -parse_seqids  -dbtype nucl\")\n",
    "        os.system(\"makeblastdb -in \"+dbfile+\" -parse_seqids  -dbtype nucl\")\n",
    "\n",
    "\n",
    "        print(\"Running blastn of query file agianst all contigs\")\n",
    "        blastoutfile=datadir\\\n",
    "        +str(SGB)+\"__\"+seqid+\"__\"+genomename+\"__\"+feature+\".trcr.blastout\"\n",
    "        blastn_command = \"blastn -out \"+blastoutfile+\" -outfmt \\\"6  qseqid sseqid pident qlen length mismatch gapopen qseq sseq sstart send evalue sstrand\\\" -query temp_repeat_seq -db \"+dbfile+\" -evalue 0.001 -word_size 11 -penalty -2\"\n",
    "        print(blastn_command)\n",
    "        os.system(blastn_command)\n",
    "       # os.system(\"rm /shares/CIBIO-Storage/CM/scratch/tmp_projects/signorini_cas/7tracerRNA/temp*\")\n"
   ]
  },
  {
   "cell_type": "code",
   "execution_count": 28,
   "metadata": {},
   "outputs": [
    {
     "name": "stdout",
     "output_type": "stream",
     "text": [
      "\n",
      "-----------------------------------------------------\n",
      "Parsing BLAST output, looking for hit which are NOT the same repeats\n",
      "i.e. not starting with: ['10862', '10928', '10994', '11060', '11126', '11192', '11258', '11324', '11390', '11456', '11522', '11588', '11654', '11720', '11786', '11852', '11918', '11984', '12050', '12116', '12182', '12248'] :\n",
      "-----------------------------------------------------\n",
      "\n",
      "rpt2|NODE_411_length_19879_cov_2.8009|Obregon-TitoAJ_2015__SM31__bin.19|AOPFDEBE_00006\tNODE_411_length_19879_cov_2.8009\t97.14\t36\t35\t1\t0\tATTATACCAAAGACGATTTGAGAAGCAACCTATAA\tATTATATCAAAGACGATTTGAGAAGCAACCTATAA\t14317\t14283\t4e-13\tminus\n",
      "\n",
      "rpt2|NODE_411_length_19879_cov_2.8009|Obregon-TitoAJ_2015__SM31__bin.19|AOPFDEBE_00006\tNODE_411_length_19879_cov_2.8009\t100.00\t36\t19\t0\t0\tGACGATTTGAGAAGCAACC\tGACGATTTGAGAAGCAACC\t6376\t6358\t6e-06\tminus\n",
      "\n"
     ]
    }
   ],
   "source": [
    "#4. parse blast output: only print output if it is NOT one of the old repeats.\n",
    "print(\"\\n-----------------------------------------------------\\nParsing BLAST output, looking for hit which are NOT the same repeats\\ni.e. not starting with:\", repeat_start_pos,\":\\n-----------------------------------------------------\\n\")\n",
    "f=open(blastoutfile,\"r\")\n",
    "for line in f.readlines():\n",
    "    start_pos=line.split(\"\\t\")[9]\n",
    "    if start_pos not in repeat_start_pos:\n",
    "        if str(int(start_pos)+1) not in repeat_start_pos:\n",
    "            if str(int(start_pos)-1) not in repeat_start_pos:\n",
    "                print(line) "
   ]
  },
  {
   "cell_type": "markdown",
   "metadata": {},
   "source": [
    "## extract sequences"
   ]
  },
  {
   "cell_type": "code",
   "execution_count": 36,
   "metadata": {},
   "outputs": [],
   "source": [
    "# manual input\n",
    "# COSA NON SO A PRIORI: l'orientamento del CRISPRarray (e quindi dell'antirepeat)\n",
    "# COSA SO A PRIORI: una cosa sullo strand + si legge SEMPRE E SOLO da SINISTRA VERSO DESTRA\n",
    "#     una cosa sullo strand - si legge SEMPRE E SOLO da DESTRA VERSO SINISTRA\n",
    "# il DNA, come molecola, è polarizzato. LE basi sono come un parcheggio a spina di pesce,\n",
    "# con un angolo e\n",
    "# quindi una direzione.\n",
    "# COSA DEVO TROVARE: il match della repeat, e un terminatore nelle sue vicinanze. \n",
    "# SE è alla sua DESTRA\n",
    "# devo prendere il filamento sullo strand + \n",
    "# (che potrebbe essere SIA la repeat che ha matchato il BLAST\n",
    "# direttamente SIA il suo reverse complement. NOn lo so prima xke nn so dove stia\n",
    "# (== su che strand e in che direzuione sia scritto) CRISPR, lo\n",
    "# indurrò a posteriori)\n",
    "# ; SE è  a SINISTRA,\n",
    "# devo prendere il filamento sullo strand -.\n",
    "#\n",
    "# devo, dunque, SCEGLIERE se l'antirepeat è la matched repeat o il suo rev complement \n",
    "# a seconda di DOVE STA IL TERMINATORE\n",
    "# così facendo, identificherò anche l'orinetamento del CRISPR\n",
    "#\n",
    "#ESEMPIO\n",
    "#  se .la matched repeat  è sullos trand - VUOL DIRE CHE VA LETTA DA DESTRA VERSO SINISTRA\n",
    "# e bisogna vedere dove sara il terminator:\n",
    "# se è A DESTRA della matched e sullo strnaad + (== si legge da sinistra)\n",
    "# , allora l'antirepeat sarà effettivamente il reverse complement della matched repeat\n",
    "#, se  è  A SINISTRA della matched e sullo strand -(==si legge da destra), allora\n",
    "# il mio antirepeat è in effetti la matched_repeat, e quindi probabilmente il CRISPRarray( essendo palindromo)\n",
    "# è stato annotato sullo strand opposto. \n",
    "# Se il terminatore è A DESTRA della matched (sempre nel caso matched  su -)\n",
    "# e sullo strand - allora è un terminatore SBAGLIATO\n",
    "#\n",
    "mstrand=-1  #manual input: strand of matched repeat\n",
    "matched_rep_start=6358  #manual input ALWAYS input the smaller number here, even if ti matches on - strand\n",
    "matched_rep_stop=6376   #manual input\n",
    "\n"
   ]
  },
  {
   "cell_type": "code",
   "execution_count": 44,
   "metadata": {},
   "outputs": [
    {
     "name": "stdout",
     "output_type": "stream",
     "text": [
      "matched rep fwd: GGTTGCTTCTCAAATCGTC matched rep rev:  GACGATTTGAGAAGCAACC\n"
     ]
    },
    {
     "data": {
      "text/plain": [
       "19"
      ]
     },
     "execution_count": 44,
     "metadata": {},
     "output_type": "execute_result"
    }
   ],
   "source": [
    "# this is the sequence matching the repeat:\n",
    "matched_rep=Seq(\"GACGATTTGAGAAGCAACC\")  #manual input\n",
    "# siccome non mi interessa per ora sapere il verso del CRISPRarray, facciamo che la matchedrepeat e il su revocm\n",
    "# li chiamo matched_rpt_fwd e matched_rpt_rev:\n",
    "\n",
    "matched_rpt_fwd=matched_rep if mstrand == 1 else  matched_rep.reverse_complement()\n",
    "matched_rpt_rev=matched_rep if mstrand== -1 else matched_rep.reverse_complement()\n",
    "\n",
    "#rpts which match:\n",
    "rpt=Seq(unique_repeats[1])  #manual input\n",
    "initial_repeat=rpt\n",
    "\n",
    "#this should go frombo to bo  = x nt  (x+1)\n",
    "print(\"matched rep fwd:\", matched_rpt_fwd,\"matched rep rev: \", matched_rpt_rev)\n",
    "len(matched_rpt_fwd)\n",
    "\n"
   ]
  },
  {
   "cell_type": "code",
   "execution_count": 38,
   "metadata": {},
   "outputs": [
    {
     "name": "stdout",
     "output_type": "stream",
     "text": [
      ">NODE_411_length_19879_cov_2.8009\n",
      "\n",
      "    493  Rnamotif - ATAACAAAAAATGCCCGCCAGTTGACGGGCAcaTTTTATCGACAG -10.20\n",
      "\n",
      "    496      Both + TCGATAAAATGTGCCCGTCAACTGGCGGGCATTTTTTGTTATA -14.50\n",
      "\n",
      "    541      Both - CACCAGAATTACCGCGGGAAACCGCGGTTTTTTGTTTGT -12.80\n",
      "\n",
      "   3277      Both - ATTTAGTACAAAACAAAAATCCCGCATTACGCGGGATTCAGTCCAATATTTGTTaTTTTTTATGTTTA NA\n",
      "\n",
      "   3298      Both + ATTGGACTGAATCCCGCGTAATGCGGGATTTTTGTTTTGT -10.40\n",
      "\n",
      "   5407      Both - TCGCGTTTGCGTCGCTGTTCGCAGCGGTTGTTTTTTTCG -7.10\n",
      "\n",
      "   6226      Both - CGACATAAAAACACCCGCAGGCGGGTGTTTTGTTTTATC -9.90\n",
      "\n",
      "   6227      Both + ATAAAACAAAACACCCGCCTGCGGGTGTTTTTATGTCGT -9.90\n",
      "\n",
      "   6228  Rnamotif - ACATAAAAACACCCGCAGGCGGGTGTTTTGTTTTA -5.60\n",
      "\n",
      "   6231      Both + AACAAAACACCCGCCTGCGGGTGTTTTTATGTCGT -5.40\n",
      "\n",
      "   6269      Both - ATCCCCTGAAACCGTCCCCCTGCGGGGACGGTTTCTGTTGTATT -16.80\n",
      "\n",
      "   6271     Erpin + TACAACAGAAACCGTCCCCGCAGGGGGACGGTTTCAGGGGATAC -18.10\n",
      "\n",
      "  10815     Erpin - AGACACATAAAAACCCGCTGAAATTTGCGGGTTtTTATGTGTTTGTA NA\n",
      "\n",
      "  10818      Both + AAACACATAAAAACCCGCAAATTTCAGCGGGTTTTTATGTGTCTAT NA\n",
      "\n",
      "  10819  Rnamotif - ACACATAAAAACCCGCTGAAATTTGCGGGTTTTTATGTGTT -10.10\n",
      "\n",
      "  10820  Rnamotif + ACACATAAAAACCCGCAAATTTCAGCGGGTTTTTATGTGTC -9.50\n",
      "\n",
      "  11355  Rnamotif + ATAACCCATTCTGTGGATTTACCCACGTTTCTTTTATTA -5.40\n",
      "\n",
      "  12535      Both + TTTCTACAACAGCTGGATAATCCCCCAGCaTTTTTATAAGTC -8.40\n",
      "\n",
      "  14557     Erpin - CAGAAATAAAAGATGTCCCACTCGGGACATTtTTTATTATCTCAC -11.80\n",
      "\n",
      "  14560      Both + AGATAATAAAAAATGTCCCGAGTGGGACATCTTTTATTTCTGGC NA\n",
      "\n",
      "  14561  Rnamotif - GAAATAAAAGATGTCCCACTCGGGACATTTTTTATTATC -9.30\n",
      "\n",
      "  14562  Rnamotif + ATAATAAAAAATGTCCCGAGTGGGACATCTTTTATTTCT -9.30\n",
      "\n",
      "  14638  Rnamotif + AATACAGGGATTATCAGGGAATTTTTGATATTTTATAGCCAC -2.90\n",
      "\n",
      "  16724      Both - GATGTAAATAATTCTGGGTCTATTTCGGGATTTTGCTTTTTT -3.70\n",
      "\n",
      "  18748     Erpin + GGTAAAAATTTTGCTTGGTAGTAATGTAATTATTACCAAGCAtTTTCTGATTTTTC -9.80\n"
     ]
    }
   ],
   "source": [
    "# print terminators\n",
    "\n",
    "f=open(datadir+str(SGB)+\"__\"+seqid+\"__\"+genomename+\".terminators\")\n",
    "for line in f.readlines():\n",
    "    if line.strip().startswith(\"\"): #manual input\n",
    "        print(line)\n",
    "f.close()"
   ]
  },
  {
   "cell_type": "code",
   "execution_count": 49,
   "metadata": {},
   "outputs": [],
   "source": [
    "#29/01/2020\n",
    "def get_real_repeat(rpt, crisprstrand):\n",
    "    return rpt if mstrand == 1 else rpt.reverse_complement()"
   ]
  },
  {
   "cell_type": "code",
   "execution_count": 68,
   "metadata": {},
   "outputs": [
    {
     "name": "stdout",
     "output_type": "stream",
     "text": [
      "Strand OK\n",
      "antirepeat:  GACGATTTGAGAAGCAACC\n",
      "terminator length:  44\n",
      "terminator start and stop: 6269 6313\n",
      "tracr strand= -1\n",
      "CRISPR strand= -1\n",
      "Repeat: GTTATAGGTTGCTTCTCAAATCGTCTTTGGTATAAT \t(original repeat:\t ATTATACCAAAGACGATTTGAGAAGCAACCTATAAC)\n"
     ]
    }
   ],
   "source": [
    "#29/01/2020 final fix\n",
    "tstrand=-1  #manual input, terminator strand. TODO CHECK che se lo strand è -1 allora è <matched rep (tracrRNA on - strand),e viceversa\n",
    "\n",
    "terminator_start=6269 #manual input N.b. this is always the smallest position (between start and end)\n",
    "terminator=Seq(\"ATCCCCTGAAACCGTCCCCCTGCGGGGACGGTTTCTGTTGTATT\".upper()) #manual input\n",
    "terminator_end=terminator_start+len(terminator)\n",
    "if tstrand==1:  # if terminator on + strand\n",
    "    if matched_rep_stop<terminator_start: # check that term is on the RIGHT SIDE of the repeat\n",
    "        print(\"Strand OK\")\n",
    "        antirepeat=matched_rpt_fwd\n",
    "        tracrstrand=tstrand\n",
    "        print(\"antirepeat: \",antirepeat)\n",
    "        crisprstrand =  -mstrand #-mstrand if mstrand == tstrand else -mstrand\n",
    "        rpt=get_real_repeat(rpt, crisprstrand)\n",
    "    else:\n",
    "        print(\"STRAND NOT OK\", matched_rep_start, matched_rep_stop)\n",
    "elif tstrand==-1:\n",
    "    if matched_rep_start>terminator_start: # check that term is on the LEFT SIDE of the repeat\n",
    "        print(\"Strand OK\")\n",
    "        antirepeat=matched_rpt_rev\n",
    "        tracrstrand=tstrand\n",
    "        #todo rpt= ?\n",
    "        print(\"antirepeat: \",antirepeat)\n",
    "        crisprstrand = mstrand # cioé: mstrand if mstrand == tstrand else mstrand\n",
    "        rpt=get_real_repeat(rpt, crisprstrand)\n",
    "\n",
    "    else:\n",
    "        print(\"STRAND NOT OK\", matched_rep_start, matched_rep_stop)\n",
    "else:\n",
    "    print(\"input t strand please\")\n",
    "\n",
    "\n",
    "print(\"terminator length: \", len(terminator))\n",
    "print(\"terminator start and stop:\",terminator_start, terminator_end)\n",
    "#print(\"nb start and stop are just the position from smallest to biggest, without direction. Pay attention when working on minus strand\")\n",
    "print(\"tracr strand=\",tracrstrand)\n",
    "print(\"CRISPR strand=\", crisprstrand)\n",
    "print(\"Repeat:\", rpt,\"\\t(original repeat:\\t\", initial_repeat+\")\")"
   ]
  },
  {
   "cell_type": "code",
   "execution_count": 81,
   "metadata": {},
   "outputs": [
    {
     "name": "stdout",
     "output_type": "stream",
     "text": [
      "test antirepeat:  GACGATTTGAGAAGCAACC 19 True\n",
      "test terminator:  ATCCCCTGAAACCGTCCCCCTGCGGGGACGGTTTCTGTTGTATT 44 True\n",
      "pre tracrRNA: GACGATTTGAGAAGCAACCGTTTATATAATAAAGAATATTTTCTGTGGGGTTCTACGATTATGTATCCCCTGAAACCGTCCCCCTGCGGGGACGGTTTCTGTTGTAT 107\n",
      "mario sequence: GTTTATATAATAAAGAATATTTTCTGTGGGGTTCTACGATTATG 44\n"
     ]
    }
   ],
   "source": [
    "# Open genome and extract the whole sequence\n",
    "# find this inside the genome, and link it to the thing found by ARNold:\n",
    "\n",
    "#I need to specify BOTH the strand and the direction\n",
    "#if strand is +, then the actual antirepeat is going to be what i called antirepeat \n",
    "#only if the repeat blast matched on the minus strand (vedi schema), e vari ncastri complciati\"\n",
    "\n",
    "for record in SeqIO.parse(genomefilename, \"fasta\"):\n",
    "    if record.id==contigname:\n",
    "        contigseq=record.seq\n",
    "\n",
    "#check antirepeat\n",
    "extracted_antirepeat =  contigseq[matched_rep_start-1:matched_rep_stop] if tracrstrand==1 else contigseq[matched_rep_start-1:matched_rep_stop].reverse_complement()\n",
    "print(\"test antirepeat: \", antirepeat, len(antirepeat), extracted_antirepeat==antirepeat) # -1 why? Indexing diverso evidentemente col blastout, vbb\n",
    "\n",
    "# check terminator\n",
    "extracted_terminator =  contigseq[terminator_start-1:terminator_end-1] if tracrstrand==1 else contigseq[terminator_start-1:terminator_end-1].reverse_complement()\n",
    "print(\"test terminator: \" ,terminator, len(terminator), extracted_terminator==terminator)\n",
    "\n",
    "\n",
    "pre_tracrRNA= contigseq[matched_rep_start:terminator_end] if tracrstrand==1 else contigseq[terminator_start:matched_rep_stop].reverse_complement()\n",
    "print(\"pre tracrRNA:\", pre_tracrRNA, len(pre_tracrRNA))\n",
    "\n",
    "# add mario\n",
    "mario= contigseq[matched_rep_stop:terminator_start-1] if tracrstrand==1 else contigseq[terminator_end:matched_rep_start-1].reverse_complement()\n",
    "print(\"mario sequence:\",  mario, len(mario))  # ho fatto i check, il -1 sopra è giusto"
   ]
  },
  {
   "cell_type": "code",
   "execution_count": 82,
   "metadata": {},
   "outputs": [
    {
     "name": "stdout",
     "output_type": "stream",
     "text": [
      "6313 6376\n"
     ]
    }
   ],
   "source": [
    "print(terminator_end, matched_rep_stop)"
   ]
  },
  {
   "cell_type": "code",
   "execution_count": 84,
   "metadata": {},
   "outputs": [
    {
     "name": "stdout",
     "output_type": "stream",
     "text": [
      "GTTATAGGTTGCTTCTCAAATCGTCTTTGGTATAAT\n",
      "      |||||||||||||||||||\n",
      "------GGTTGCTTCTCAAATCGTC-----------\n",
      "  Score=19\n",
      "\n",
      "rpt length: 36\n"
     ]
    }
   ],
   "source": [
    "# Now, align with the rest of the stuff to see what's up\n",
    "# first up, with the repeat, lets take the rpt3, which has only got 1 mismatch\n",
    "# x AOPFDEBE: extracted antirepeat: matched_stop+11\n",
    "\n",
    "alignments = pairwise2.align.localxx(rpt, antirepeat.reverse_complement())  #29/01/2020 fixed\n",
    "print(pairwise2.format_alignment(*alignments[0]))\n",
    "print(\"rpt length:\", len(rpt))\n"
   ]
  },
  {
   "cell_type": "code",
   "execution_count": 67,
   "metadata": {},
   "outputs": [
    {
     "name": "stdout",
     "output_type": "stream",
     "text": [
      "ATTATACCAAAGACGATTTGAGAAGCAAC--CT-ATAA-C---\n",
      "|  | | |   |  |  ||     |   |  || | || |   \n",
      "A--A-A-C---G--G--TT-----G---CTTCTCA-AATCGTC\n",
      "  Score=16\n",
      "\n"
     ]
    }
   ],
   "source": [
    "# align antirepat + mario with repeat\n",
    "alignments = pairwise2.align.globalxx( rpt,(antirepeat+mario[:4]).reverse_complement())\n",
    "print(pairwise2.format_alignment(*alignments[0]))"
   ]
  },
  {
   "cell_type": "code",
   "execution_count": 125,
   "metadata": {},
   "outputs": [],
   "source": [
    "#no non fa nulla quel CTTT in più"
   ]
  },
  {
   "cell_type": "code",
   "execution_count": 126,
   "metadata": {},
   "outputs": [
    {
     "name": "stdout",
     "output_type": "stream",
     "text": [
      "\n",
      "----------------------------------------------------------------------\n",
      "         tracrRNA sequence for Cas9 protein id FBDDNBEO_00645\n",
      "----------------------------------------------------------------------\n",
      "\n",
      "- contig name: NODE_2092_length_11346_cov_6.0000_ID_47560\n",
      "- Dataset:  ZeeviD_2015\n",
      "- Bin:  ZeeviD_2015__PNP_Main_471__bin.13\n",
      "- SGB:  8770\n",
      "----------------------------------------------------------------------\n",
      "\n",
      "- Length:  87 \n",
      "- position:  384 318\n",
      "GAAAAUUUUUGUUGUAAAGUCUUAACUGAUUUUGCCGAAUUUUAAGCUCUGCAUGGCACCUUGGAAUUCGGCAUUUUUUUUCAAAAC\n"
     ]
    }
   ],
   "source": [
    "# I would probably say that the tracr is just, simply la parte di pre_tracrRNA la cui antirepeat si lega alla repeat, \n",
    "# che, in questo caso, è tutta.\n",
    "tracrRNA = pre_tracrRNA\n",
    "\n",
    "print(\"\\n----------------------------------------------------------------------\")\n",
    "print(\"         tracrRNA sequence for\", feature,\"protein id\", seqid)\n",
    "print(\"----------------------------------------------------------------------\\n\")\n",
    "print(\"- contig name:\", cas_dataset[cas_dataset[\"Seq ID\"]==seqid][\"Contig\"].iloc[0])\n",
    "print(\"- Dataset: \",cas_dataset[cas_dataset[\"Seq ID\"]==seqid][\"Study\"].iloc[0])\n",
    "print(\"- Bin: \",cas_dataset[cas_dataset[\"Seq ID\"]==seqid][\"Genome Name\"].iloc[0])\n",
    "print(\"- SGB: \",cas_dataset[cas_dataset[\"Seq ID\"]==seqid][\"SGB ID\"].iloc[0])\n",
    "print(\"----------------------------------------------------------------------\\n\")\n",
    "print(\"- Length: \", len(tracrRNA),\"\\n- position: \", terminator_end,matched_rep_stop)\n",
    "print(tracrRNA.transcribe())\n",
    "print(\" - chosen repeat:\\n\", rpt) #TODO manca l'orientamento finale"
   ]
  },
  {
   "cell_type": "code",
   "execution_count": null,
   "metadata": {},
   "outputs": [],
   "source": []
  }
 ],
 "metadata": {
  "kernelspec": {
   "display_name": "Python 3",
   "language": "python",
   "name": "python3"
  },
  "language_info": {
   "codemirror_mode": {
    "name": "ipython",
    "version": 3
   },
   "file_extension": ".py",
   "mimetype": "text/x-python",
   "name": "python",
   "nbconvert_exporter": "python",
   "pygments_lexer": "ipython3",
   "version": "3.7.3"
  }
 },
 "nbformat": 4,
 "nbformat_minor": 2
}
