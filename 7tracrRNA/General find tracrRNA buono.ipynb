{
 "cells": [
  {
   "cell_type": "markdown",
   "metadata": {},
   "source": [
    "# find tracerRNA\n"
   ]
  },
  {
   "cell_type": "code",
   "execution_count": 1,
   "metadata": {},
   "outputs": [],
   "source": [
    "# First created Thu Jul 11 09:51:15 CEST 2019\n",
    "# Made by L-F-S\n",
    "# At the University Of Trento, Italy\n",
    "\n",
    "import os\n",
    "import sys\n",
    "import subprocess\n",
    "import numpy as np\n",
    "import pandas as pd\n",
    "import matplotlib.pyplot as plt\n",
    "from Bio import SeqIO\n",
    "from Bio.Seq import Seq\n",
    "from Bio.Alphabet import generic_dna, generic_protein, RNAAlphabet\n",
    "from Bio import pairwise2\n",
    "\n",
    "\n",
    "sys.path.insert(0, '/home/lorenzo.signorini/cas_mining/utils/')\n",
    "import filename_discrepancies\n",
    "sys.path.insert(0, '/home/lorenzo.signorini/cas_mining/9casminer_v2/')\n",
    "import locus\n",
    "\n",
    "feature=\"Cas9\" #WARNING!!! CHANGE THIS!!\n",
    "#outpath=\"/shares/CIBIO-Storage/CM/scratch/tmp_projects/signorini_cas/5caslocitable/out/\"+feature+\"/\"\n",
    "datadir=\"/shares/CIBIO-Storage/CM/scratch/tmp_projects/signorini_cas/7tracrRNA/\"\n",
    "outdir=\"/shares/CIBIO-Storage/CM/scratch/tmp_projects/signorini_cas/9output/\"+feature+\"/\"\n",
    "\n"
   ]
  },
  {
   "cell_type": "code",
   "execution_count": 2,
   "metadata": {
    "scrolled": false
   },
   "outputs": [
    {
     "data": {
      "text/plain": [
       "Index(['Seq ID', 'Seq Description', 'Seq', 'Contig', 'Genome Name', 'Study',\n",
       "       'Sample Name', 'SGB ID', 'Pos', 'pilercr_CRISPR', 'minced_CRISPR',\n",
       "       'prokka_cas1', 'prokka_cas2', 'uSGB', 'Level of estimated taxonomy',\n",
       "       'Estimated taxonomy', 'prokka_cas9'],\n",
       "      dtype='object')"
      ]
     },
     "execution_count": 2,
     "metadata": {},
     "output_type": "execute_result"
    }
   ],
   "source": [
    "# Import data\n",
    "cas_dataset=pd.read_csv(\"/shares/CIBIO-Storage/CM/scratch/tmp_projects/signorini_cas/5caslocitable/known_\"+feature+\"_variants_table.csv\", index_col=0)\n",
    "cas_dataset.columns"
   ]
  },
  {
   "cell_type": "code",
   "execution_count": null,
   "metadata": {},
   "outputs": [],
   "source": [
    "#seqids: AOPFDEBE_00006\n",
    "# FBDDNBEO_00645\n",
    "# HPLHKOKB_00548\n",
    "\n"
   ]
  },
  {
   "cell_type": "code",
   "execution_count": 3,
   "metadata": {},
   "outputs": [
    {
     "name": "stdout",
     "output_type": "stream",
     "text": [
      "SEQ ID:  CBBDPKIC_00964\n",
      "NODE_4636_length_8027_cov_2.62255\n",
      "ZellerG_2014\n",
      "ZellerG_2014__CCIS90164298ST-4-0__bin.46\n",
      "8767\n",
      "1059\n",
      "[('.', '6935', '7368')]\n",
      "----------------------------------------------------------------------\n"
     ]
    }
   ],
   "source": [
    "seqid =\"CBBDPKIC_00964\"   # MANUAL INPUT\n",
    "outdir=outdir+seqid+\"/\"\n",
    "if not os.path.exists(outdir):\n",
    "    os.makedirs(outdir)\n",
    "print(\"SEQ ID: \", seqid)\n",
    "print(cas_dataset[cas_dataset[\"Seq ID\"]==seqid][\"Contig\"].iloc[0])\n",
    "print(cas_dataset[cas_dataset[\"Seq ID\"]==seqid][\"Study\"].iloc[0])\n",
    "print(cas_dataset[cas_dataset[\"Seq ID\"]==seqid][\"Genome Name\"].iloc[0])\n",
    "print(cas_dataset[cas_dataset[\"Seq ID\"]==seqid][\"SGB ID\"].iloc[0])\n",
    "print(len(cas_dataset[cas_dataset[\"Seq ID\"]==seqid][\"Seq\"].iloc[0]))\n",
    "print(cas_dataset[cas_dataset[\"Seq ID\"]==seqid][\"minced_CRISPR\"].iloc[0])\n",
    "print(\"----------------------------------------------------------------------\")\n"
   ]
  },
  {
   "cell_type": "markdown",
   "metadata": {},
   "source": [
    "## check there is only 1 Cas9 in that genome.."
   ]
  },
  {
   "cell_type": "code",
   "execution_count": 4,
   "metadata": {},
   "outputs": [
    {
     "data": {
      "text/html": [
       "<div>\n",
       "<style scoped>\n",
       "    .dataframe tbody tr th:only-of-type {\n",
       "        vertical-align: middle;\n",
       "    }\n",
       "\n",
       "    .dataframe tbody tr th {\n",
       "        vertical-align: top;\n",
       "    }\n",
       "\n",
       "    .dataframe thead th {\n",
       "        text-align: right;\n",
       "    }\n",
       "</style>\n",
       "<table border=\"1\" class=\"dataframe\">\n",
       "  <thead>\n",
       "    <tr style=\"text-align: right;\">\n",
       "      <th></th>\n",
       "      <th>Seq ID</th>\n",
       "      <th>Seq Description</th>\n",
       "      <th>Seq</th>\n",
       "      <th>Contig</th>\n",
       "      <th>Genome Name</th>\n",
       "      <th>Study</th>\n",
       "      <th>Sample Name</th>\n",
       "      <th>SGB ID</th>\n",
       "      <th>Pos</th>\n",
       "      <th>pilercr_CRISPR</th>\n",
       "      <th>minced_CRISPR</th>\n",
       "      <th>prokka_cas1</th>\n",
       "      <th>prokka_cas2</th>\n",
       "      <th>uSGB</th>\n",
       "      <th>Level of estimated taxonomy</th>\n",
       "      <th>Estimated taxonomy</th>\n",
       "      <th>prokka_cas9</th>\n",
       "    </tr>\n",
       "  </thead>\n",
       "  <tbody>\n",
       "    <tr>\n",
       "      <td>30968</td>\n",
       "      <td>FBDDNBEO_00645</td>\n",
       "      <td>FBDDNBEO_00645 CRISPR-associated endonuclease ...</td>\n",
       "      <td>MGAEFRHVTSLLLDEDFGEIKTAAGLRRQMRTRKAHKAREKWLERC...</td>\n",
       "      <td>NODE_2092_length_11346_cov_6.0000_ID_47560</td>\n",
       "      <td>ZeeviD_2015__PNP_Main_471__bin.13</td>\n",
       "      <td>ZeeviD_2015</td>\n",
       "      <td>PNP_Main_471</td>\n",
       "      <td>8770</td>\n",
       "      <td>1663 4767</td>\n",
       "      <td>[('ID=CRISPR1', '.', '4')]</td>\n",
       "      <td>[('.', '27', '260')]</td>\n",
       "      <td>[('ID=FBDDNBEO_00644', '776', '1666')]</td>\n",
       "      <td>[('ID=FBDDNBEO_00643', '378', '728')]</td>\n",
       "      <td>Yes</td>\n",
       "      <td>Other</td>\n",
       "      <td>-</td>\n",
       "      <td>('ID=FBDDNBEO_00645', '1663', '4767')</td>\n",
       "    </tr>\n",
       "  </tbody>\n",
       "</table>\n",
       "</div>"
      ],
      "text/plain": [
       "               Seq ID                                    Seq Description  \\\n",
       "30968  FBDDNBEO_00645  FBDDNBEO_00645 CRISPR-associated endonuclease ...   \n",
       "\n",
       "                                                     Seq  \\\n",
       "30968  MGAEFRHVTSLLLDEDFGEIKTAAGLRRQMRTRKAHKAREKWLERC...   \n",
       "\n",
       "                                           Contig  \\\n",
       "30968  NODE_2092_length_11346_cov_6.0000_ID_47560   \n",
       "\n",
       "                             Genome Name        Study   Sample Name  SGB ID  \\\n",
       "30968  ZeeviD_2015__PNP_Main_471__bin.13  ZeeviD_2015  PNP_Main_471    8770   \n",
       "\n",
       "             Pos              pilercr_CRISPR         minced_CRISPR  \\\n",
       "30968  1663 4767  [('ID=CRISPR1', '.', '4')]  [('.', '27', '260')]   \n",
       "\n",
       "                                  prokka_cas1  \\\n",
       "30968  [('ID=FBDDNBEO_00644', '776', '1666')]   \n",
       "\n",
       "                                 prokka_cas2 uSGB Level of estimated taxonomy  \\\n",
       "30968  [('ID=FBDDNBEO_00643', '378', '728')]  Yes                       Other   \n",
       "\n",
       "      Estimated taxonomy                            prokka_cas9  \n",
       "30968                  -  ('ID=FBDDNBEO_00645', '1663', '4767')  "
      ]
     },
     "execution_count": 4,
     "metadata": {},
     "output_type": "execute_result"
    }
   ],
   "source": [
    "genomename=cas_dataset[cas_dataset[\"Seq ID\"]==seqid][\"Genome Name\"].iloc[0]\n",
    "cas_dataset[cas_dataset[\"Genome Name\"]==genomename]"
   ]
  },
  {
   "cell_type": "code",
   "execution_count": 4,
   "metadata": {
    "scrolled": false
   },
   "outputs": [
    {
     "name": "stdout",
     "output_type": "stream",
     "text": [
      "\n",
      "-----------------------------------------------------\n",
      "Cas9 id:\tCBBDPKIC_00964\n",
      "SGB:\t8767\n",
      "Genome Name:\t ZellerG_2014__CCIS90164298ST-4-0__bin.46\n",
      "Contig:\tNODE_4636_length_8027_cov_2.62255 \n",
      "-----------------------------------------------------\n",
      "\n",
      "..working genomename: ('ZellerG_2014__CCIS90164298ST-4-0__bin.46', 'ZellerG_2014')\n",
      "CRISPR array sequence for CBBDPKIC_00964 Cas9.\n",
      "REPEAT                               SPACER\n",
      "\n",
      "ATTTTTAGAAAGAACAATTTGTTGTAAAGTCAAAAC TAAGAATCCTTAGTTCGTTTTAACTTTAAAA\n",
      "ATTTTTAGAAAGAACAATTTGTTGTAAAGTCAAAAC TATTTAAGTCAAACGTAGCTGTTATGCTTA\n",
      "ATTTTTAGAAAGAACAATTTGTTGTAAAGTCAAAAC CTGTCACTTCTTCCATTATTAGTCCTTTCT\n",
      "ATTTTTAGAAAGAACAATTTGTTGTAAAGTCAAAAC TCGTTATATTTGTCCGTAAGGTCGGCGAGC\n",
      "ATTTTTAGAAAGAACAATTTGTTGTAAAGTCAAAAC TAAACTGCATTATCCCAAGAGGCGGCGAGGG\n",
      "ATTTTTAGAAAGAACAATTTGTTGTAAAGTCAAAAC CTACGAAGATTCCGGCAAAAAATACTCGCT\n",
      "unique repeats:\n",
      "repeat  1 :\t ATTTTTAGAAAGAACAATTTGTTGTAAAGTCAAAAC\n",
      "repeat  2 :\t ATTTTTAGAAAGAACAATTTGTTGTAAAGTTTATCT\n",
      "cp /shares/CIBIO-Storage/CM/scratch/tmp_projects/signorini_cas/1crisprsearch/out/ZellerG_2014/ZellerG_2014__CCIS90164298ST-4-0__bin.46.fa.minced.out /shares/CIBIO-Storage/CM/scratch/tmp_projects/signorini_cas/7tracrRNA/\n",
      "Locus features and positions:  {'Cas9': [2344, 5523], 'Cas1': [5520, 6416], 'Cas2': [6459, 6815], 'CRISPR': [6935, 7368]}\n",
      "++++++++++++++++++++++++++++++++++++++++++++++++++++++++++++++++++++++++++++++++\n",
      "{'Cas9': [2344, 5523], 'Cas1': [5520, 6416], 'Cas2': [6459, 6815], 'CRISPR': [6935, 7368]}\n",
      "Retrieving locus\n",
      "Copying file ot output...\n",
      "cp /shares/CIBIO-Storage/CM/scratch/tmp_projects/epasolli_darkmatter/allcontigs/ALLreconstructedgenomes/8767/ZellerG_2014__CCIS90164298ST-4-0__bin.46.fa /shares/CIBIO-Storage/CM/scratch/tmp_projects/signorini_cas/7tracrRNA/\n",
      "CRISPR si trova [6935, 7368]\n",
      "Cas9 si trova [2344, 5523]\n",
      "Cas2 si trova [6459, 6815]\n",
      "Cas1 si trova [5520, 6416]\n",
      "1059.0 1059\n",
      "Cas locus on plus strand\n",
      "Is Cas9 translated from the genome equal to the orignal annotation? True\n",
      "MEKEKNNHVWGFDIGKGSLGEAVRIGGDFKHIASVLLDPEFGEIKTAALARRQMRTRKAHKAREKWLEECLEGTGVEILKRREVGIVDGQWQLISKGDERLEREFPPSGENVCYNSIALRCKLLLGEKLEGWQVFKALNSAIQKRGYDENIPWGEAEEKSSKKDDDDYAQKLSQYEKEKSELFESFADGEKYDFPCFFKAYKMGLWSPENPTRVEVRIDCRAQKAKSYVIARKYVEREFECLVEAAAKFFPKLKGRAKFILYGVSETPYASYYGNMRKKFGLKRGAESDWTALGQKVPRFDNRIIDKCRFIPRMNVCKIRPLNEARNEKDLLYYEVTLALKLLNLRFFRNSNIEQLTFEEFKKAFEIAAGAKYKMTKTAMKKFLKSISATALGDDYAEIEPPKESGRASFSRPAMEILKELIFSGMPPREFYGRKISEISNTDKNKGVVSSDLDFIKLMGDCPWGGIFIPDVQTYQFANAAFPDPDAQINKLIGSQNNPIVRHRLTFFFERIKFLESKYGVPDKVVLEFVRDDFMGEKEKKEMRIAMKKRAEEKMRIAKDLDEHGFKGGNLLLKMELYRKQNGICLYTGDALPLSELATLEIEHIVPRSRGGPDAQYNYVITREKTNKLKGDKTPYEWLSSDAKEWASYTDRVNACAKALGKKRCRLLLEKDAEELVEKYTALAETAHIAKLAQKIVCMHFGFQFGGLSGTKRVFTVPGALTSRIRKFYGLDRILHNSAAESENLSFEEFLKFSEDLEKKNRKNKKHHALDAMCLCFAPTGVDSRRAKLGEILPEKLRSEKAAREFFKSYLDKIMPVDVAPKKPRLEDGIYSKRIIGGKACMVKRNNLVDLAYKSGLKPVFDIPTLIKLVDKKEKGIINPQIRKMIGEFAATNPDESAWRKWCEEVRLPSKSGLGARVMRVLVYYGEADEYKDLSKDGCGAYRKGDGHKGQVIWESVDGKYYVEPVYVHASKAGVMAALNANPKKKRICGMFNSHCTVDVGDVYNDKGDFILPAGRYMVNTIRSDNQCVLTNADGEKRNPININYLMRAGMRRVELSEL\n",
      "++++++++++++++++++++++++++++++++++++++++++++++++++++++++++++++++++++++++++++++++\n",
      "MEKEKNNHVWGFDIGKGSLGEAVRIGGDFKHIASVLLDPEFGEIKTAALARRQMRTRKAHKAREKWLEECLEGTGVEILKRREVGIVDGQWQLISKGDERLEREFPPSGENVCYNSIALRCKLLLGEKLEGWQVFKALNSAIQKRGYDENIPWGEAEEKSSKKDDDDYAQKLSQYEKEKSELFESFADGEKYDFPCFFKAYKMGLWSPENPTRVEVRIDCRAQKAKSYVIARKYVEREFECLVEAAAKFFPKLKGRAKFILYGVSETPYASYYGNMRKKFGLKRGAESDWTALGQKVPRFDNRIIDKCRFIPRMNVCKIRPLNEARNEKDLLYYEVTLALKLLNLRFFRNSNIEQLTFEEFKKAFEIAAGAKYKMTKTAMKKFLKSISATALGDDYAEIEPPKESGRASFSRPAMEILKELIFSGMPPREFYGRKISEISNTDKNKGVVSSDLDFIKLMGDCPWGGIFIPDVQTYQFANAAFPDPDAQINKLIGSQNNPIVRHRLTFFFERIKFLESKYGVPDKVVLEFVRDDFMGEKEKKEMRIAMKKRAEEKMRIAKDLDEHGFKGGNLLLKMELYRKQNGICLYTGDALPLSELATLEIEHIVPRSRGGPDAQYNYVITREKTNKLKGDKTPYEWLSSDAKEWASYTDRVNACAKALGKKRCRLLLEKDAEELVEKYTALAETAHIAKLAQKIVCMHFGFQFGGLSGTKRVFTVPGALTSRIRKFYGLDRILHNSAAESENLSFEEFLKFSEDLEKKNRKNKKHHALDAMCLCFAPTGVDSRRAKLGEILPEKLRSEKAAREFFKSYLDKIMPVDVAPKKPRLEDGIYSKRIIGGKACMVKRNNLVDLAYKSGLKPVFDIPTLIKLVDKKEKGIINPQIRKMIGEFAATNPDESAWRKWCEEVRLPSKSGLGARVMRVLVYYGEADEYKDLSKDGCGAYRKGDGHKGQVIWESVDGKYYVEPVYVHASKAGVMAALNANPKKKRICGMFNSHCTVDVGDVYNDKGDFILPAGRYMVNTIRSDNQCVLTNADGEKRNPININYLMRAGMRRVELSEL\n",
      "MEKEKNNHVWGFDIGKGSLGEAVRIGGDFKHIASVLLDPEFGEIKTAALARRQMRTRKAHKAREKWLEECLEGTGVEILKRREVGIVDGQWQLISKGDERLEREFPPSGENVCYNSIALRCKLLLGEKLEGWQVFKALNSAIQKRGYDENIPWGEAEEKSSKKDDDDYAQKLSQYEKEKSELFESFADGEKYDFPCFFKAYKMGLWSPENPTRVEVRIDCRAQKAKSYVIARKYVEREFECLVEAAAKFFPKLKGRAKFILYGVSETPYASYYGNMRKKFGLKRGAESDWTALGQKVPRFDNRIIDKCRFIPRMNVCKIRPLNEARNEKDLLYYEVTLALKLLNLRFFRNSNIEQLTFEEFKKAFEIAAGAKYKMTKTAMKKFLKSISATALGDDYAEIEPPKESGRASFSRPAMEILKELIFSGMPPREFYGRKISEISNTDKNKGVVSSDLDFIKLMGDCPWGGIFIPDVQTYQFANAAFPDPDAQINKLIGSQNNPIVRHRLTFFFERIKFLESKYGVPDKVVLEFVRDDFMGEKEKKEMRIAMKKRAEEKMRIAKDLDEHGFKGGNLLLKMELYRKQNGICLYTGDALPLSELATLEIEHIVPRSRGGPDAQYNYVITREKTNKLKGDKTPYEWLSSDAKEWASYTDRVNACAKALGKKRCRLLLEKDAEELVEKYTALAETAHIAKLAQKIVCMHFGFQFGGLSGTKRVFTVPGALTSRIRKFYGLDRILHNSAAESENLSFEEFLKFSEDLEKKNRKNKKHHALDAMCLCFAPTGVDSRRAKLGEILPEKLRSEKAAREFFKSYLDKIMPVDVAPKKPRLEDGIYSKRIIGGKACMVKRNNLVDLAYKSGLKPVFDIPTLIKLVDKKEKGIINPQIRKMIGEFAATNPDESAWRKWCEEVRLPSKSGLGARVMRVLVYYGEADEYKDLSKDGCGAYRKGDGHKGQVIWESVDGKYYVEPVYVHASKAGVMAALNANPKKKRICGMFNSHCTVDVGDVYNDKGDFILPAGRYMVNTIRSDNQCVLTNADGEKRNPININYLMRAGMRRVELSEL\n",
      "|||||||||||||||||||||||||||||||||||||||||||||||||||||||||||||||||||||||||||||||||||||||||||||||||||||||||||||||||||||||||||||||||||||||||||||||||||||||||||||||||||||||||||||||||||||||||||||||||||||||||||||||||||||||||||||||||||||||||||||||||||||||||||||||||||||||||||||||||||||||||||||||||||||||||||||||||||||||||||||||||||||||||||||||||||||||||||||||||||||||||||||||||||||||||||||||||||||||||||||||||||||||||||||||||||||||||||||||||||||||||||||||||||||||||||||||||||||||||||||||||||||||||||||||||||||||||||||||||||||||||||||||||||||||||||||||||||||||||||||||||||||||||||||||||||||||||||||||||||||||||||||||||||||||||||||||||||||||||||||||||||||||||||||||||||||||||||||||||||||||||||||||||||||||||||||||||||||||||||||||||||||||||||||||||||||||||||||||||||||||||||||||||||||||||||||||||||||||||||||||||||||||||||||||||||||||||||||||||||||||||||||||||||||||||||||||||||||||||||||||||||||||||||||||||||||||||||||||||||||||||||||||||||||||||||||||||||||||||||||||||||||||||||||||||||||||||||||||||||||||||||||||||||||||||||||||||||||||||||||||||||||||||||||||||||\n",
      "MEKEKNNHVWGFDIGKGSLGEAVRIGGDFKHIASVLLDPEFGEIKTAALARRQMRTRKAHKAREKWLEECLEGTGVEILKRREVGIVDGQWQLISKGDERLEREFPPSGENVCYNSIALRCKLLLGEKLEGWQVFKALNSAIQKRGYDENIPWGEAEEKSSKKDDDDYAQKLSQYEKEKSELFESFADGEKYDFPCFFKAYKMGLWSPENPTRVEVRIDCRAQKAKSYVIARKYVEREFECLVEAAAKFFPKLKGRAKFILYGVSETPYASYYGNMRKKFGLKRGAESDWTALGQKVPRFDNRIIDKCRFIPRMNVCKIRPLNEARNEKDLLYYEVTLALKLLNLRFFRNSNIEQLTFEEFKKAFEIAAGAKYKMTKTAMKKFLKSISATALGDDYAEIEPPKESGRASFSRPAMEILKELIFSGMPPREFYGRKISEISNTDKNKGVVSSDLDFIKLMGDCPWGGIFIPDVQTYQFANAAFPDPDAQINKLIGSQNNPIVRHRLTFFFERIKFLESKYGVPDKVVLEFVRDDFMGEKEKKEMRIAMKKRAEEKMRIAKDLDEHGFKGGNLLLKMELYRKQNGICLYTGDALPLSELATLEIEHIVPRSRGGPDAQYNYVITREKTNKLKGDKTPYEWLSSDAKEWASYTDRVNACAKALGKKRCRLLLEKDAEELVEKYTALAETAHIAKLAQKIVCMHFGFQFGGLSGTKRVFTVPGALTSRIRKFYGLDRILHNSAAESENLSFEEFLKFSEDLEKKNRKNKKHHALDAMCLCFAPTGVDSRRAKLGEILPEKLRSEKAAREFFKSYLDKIMPVDVAPKKPRLEDGIYSKRIIGGKACMVKRNNLVDLAYKSGLKPVFDIPTLIKLVDKKEKGIINPQIRKMIGEFAATNPDESAWRKWCEEVRLPSKSGLGARVMRVLVYYGEADEYKDLSKDGCGAYRKGDGHKGQVIWESVDGKYYVEPVYVHASKAGVMAALNANPKKKRICGMFNSHCTVDVGDVYNDKGDFILPAGRYMVNTIRSDNQCVLTNADGEKRNPININYLMRAGMRRVELSEL\n",
      "  Score=1059\n",
      "\n",
      "SAVING aminoacid sequence to file in /shares/CIBIO-Storage/CM/scratch/tmp_projects/signorini_cas/9output/Cas9/CBBDPKIC_00964/...\n",
      "let's now blast the repeat against  the genome\n",
      "Build blast database with:\n",
      "makeblastdb -in /shares/CIBIO-Storage/CM/scratch/tmp_projects/signorini_cas/7tracrRNA/tempblastdb -parse_seqids  -dbtype nucl\n",
      "Run blastn of query file agianst all contigs\n",
      "blastn -out /shares/CIBIO-Storage/CM/scratch/tmp_projects/signorini_cas/7tracrRNA/temp.blastout -outfmt \"6  qseqid sseqid pident qlen length mismatch gapopen qseq sseq sstart send evalue sstrand\" -query temp_repeat_seq -db /shares/CIBIO-Storage/CM/scratch/tmp_projects/signorini_cas/7tracrRNA/tempblastdb -evalue 0.001 -word_size 11 -penalty -2\n"
     ]
    }
   ],
   "source": [
    "cas9_aa=cas_dataset[cas_dataset[\"Seq ID\"]==seqid][\"Seq\"].iloc[0]\n",
    "dataset=cas_dataset[cas_dataset[\"Seq ID\"]==seqid][\"Study\"].iloc[0]\n",
    "genomename=cas_dataset[cas_dataset[\"Seq ID\"]==seqid][\"Genome Name\"].iloc[0]\n",
    "SGB=cas_dataset[cas_dataset[\"Seq ID\"]==seqid][\"SGB ID\"].iloc[0]\n",
    "contigname=cas_dataset[cas_dataset[\"Seq ID\"]==seqid][\"Contig\"].iloc[0]\n",
    "samplename = genomename.split(\"__\")[1]\n",
    "\n",
    "print(\"\\n-----------------------------------------------------\\n\"+feature+\" id:\\t\"+seqid+\"\\nSGB:\\t\"+str(SGB)+\"\\nGenome Name:\\t\",\\\n",
    "      genomename+\"\\nContig:\\t\"+cas_dataset[cas_dataset[\"Seq ID\"]==seqid][\"Contig\"].iloc[0],\"\\n-----------------------------------------------------\\n\")\n",
    "\n",
    "print(\"..working genomename:\", filename_discrepancies.get_originalsamplename_froms3name_of_genome(genomename,dataset))\n",
    "########################################################################\n",
    "\n",
    "# get CRISPR spacer and repeat sequence\n",
    "\n",
    "cr=locus.CRISPRarray(feature=feature, contigname=contigname, genomename=genomename, datasetname=dataset)\n",
    "cr.get_CRISPR_array()\n",
    "spacers=cr.spacers\n",
    "repeats=cr.repeats\n",
    "repeat_start_pos=cr.repstartpos\n",
    "unique_repeats=np.unique(repeats)\n",
    "# print repeats\n",
    "\n",
    "CRISPRheader=\"REPEAT\"+\" \"*(len(cr.repeats[0])-len(\"REPEAT\"))+\" SPACER\"+\" \"*(len(cr.spacers)-len(\"SPACERS\"))+\"\\n\"\n",
    "print(\"CRISPR array sequence for \"+ seqid+\" \"+feature+\".\")                                         \n",
    "print(CRISPRheader)                                                     \n",
    "CRISPRarraysequence=\"\"                                                  \n",
    "for i in range(len(cr.repeats)):                      \n",
    "    try:                                                                \n",
    "        cr.spacers[i]                                 \n",
    "        line=cr.repeats[i]+\" \"+cr.spacers[i]\n",
    "        print(line)                                                     \n",
    "        CRISPRarraysequence+=line+\"\\n\"                                  \n",
    "    except:                                                             \n",
    "        break\n",
    "\n",
    "                                                                                                          \n",
    "                                                                                                          #\n",
    "\n",
    "print(\"unique repeats:\")\n",
    "for i in range(len(unique_repeats)):\n",
    "    print(\"repeat \",str(i+1),\":\\t\",unique_repeats[i])\n",
    "print(\"cp \"+cr.path+\" \"+datadir)\n",
    "\n",
    "\n",
    "# get whole locus sequence todo this could become a function of its own, dentro utils, gli dai seqid della cas e ti dà tt il locus\n",
    "\n",
    "# > get start and stop position of all Cass. questo devi metterlo nella tabella di cas non ci sono santi.\n",
    "cas_position={feature:[int(n) for n in cas_dataset[cas_dataset[\"Seq ID\"]==seqid][\"Pos\"].iloc[0].split()],\\\n",
    "              \"Cas1\":[int(n) for n in eval(cas_dataset[cas_dataset[\"Seq ID\"]==seqid][\"prokka_cas1\"].iloc[0])[0][1:]],\\\n",
    "              \"Cas2\":[int(n) for n in eval(cas_dataset[cas_dataset[\"Seq ID\"]==seqid][\"prokka_cas2\"].iloc[0])[0][1:]],\\\n",
    "              \"CRISPR\":[int(n) for n in eval(cas_dataset[cas_dataset[\"Seq ID\"]==seqid][\"minced_CRISPR\"].iloc[0])[0][1:]]\n",
    "             }\n",
    "print(\"Locus features and positions: \", cas_position)\n",
    "# so già che all casses inside here are on the same contig which is 'contig', xke le ho estratte per essere così\n",
    "# FALSO! è cosi in cas_dataset, non in tabellazzza! mi ero confuso! trovato il bug!\n",
    "\n",
    "genomefilename= \"/shares/CIBIO-Storage/CM/scratch/tmp_projects/epasolli_darkmatter/allcontigs/ALLreconstructedgenomes/\"+str(SGB)+\"/\"+genomename+\".fa\"\n",
    "print(\"+\"*80)\n",
    "print(cas_position)\n",
    "print(\"Retrieving locus\")\n",
    "print(\"Copying file ot output...\")\n",
    "print(\"cp \"+genomefilename+\" \"+datadir)\n",
    "\n",
    "# access contig:\n",
    "\n",
    "for record in SeqIO.parse(genomefilename,\"fasta\"):  #c'è modo di non fare questo 'ciclo'?\n",
    "    if record.id.startswith(contigname):\n",
    "        #test se effettivamente la seq di cas è dove voglio io\n",
    "\n",
    "        SeqIO.write(record, datadir+\"tempblastdb\", \"fasta\")\n",
    "        print(\"CRISPR si trova\", cas_position[\"CRISPR\"])\n",
    "        print(\"Cas9 si trova\", cas_position[feature])\n",
    "        print(\"Cas2 si trova\", cas_position[\"Cas2\"])\n",
    "        print(\"Cas1 si trova\", cas_position[\"Cas1\"])\n",
    "\n",
    "        #estrai la posizione di cas9 dal contig, e traducila\n",
    "        cas9start=cas_position[feature][0]\n",
    "        cas9stop=cas_position[feature][1]\n",
    "        cas9_nnseq=record.seq[cas9start-1:cas9stop-3] #gff should have a 1-based positional annotation (ma sto andando a occhio finchè non sono uguali, è già un oggetto Bio.Seq\n",
    "\n",
    "        my_translated_cas9=cas9_nnseq.transcribe().translate()\n",
    "\n",
    "  \n",
    "        print(len(cas9_nnseq)/3,len(cas9_aa))\n",
    "\n",
    "\n",
    "        if my_translated_cas9==cas9_aa:\n",
    "            print(\"Cas locus on plus strand\")\n",
    "            plus=True\n",
    "        if not my_translated_cas9==cas9_aa:\n",
    "            #proviamo col reverse complement\n",
    "            cas9_nnseq=record.seq[cas9start+2:cas9stop]\n",
    "            my_translated_cas9=cas9_nnseq.reverse_complement().transcribe().translate()\n",
    "            print(\"Cas locus on minus strand\")\n",
    "        print(\"Is Cas9 translated from the genome equal to the orignal annotation?\", my_translated_cas9==cas9_aa)\n",
    "        print(my_translated_cas9)\n",
    "        print(\"+\"*80)\n",
    "        print(cas9_aa)\n",
    "        \n",
    "        alignments = pairwise2.align.localxx(my_translated_cas9,cas9_aa)\n",
    "        print(pairwise2.format_alignment(*alignments[0]))\n",
    "        \n",
    "        #save .faa aminoacid sequence to output:\n",
    "        if my_translated_cas9==cas9_aa:\n",
    "            print(\"SAVING aminoacid sequence to file in \"+outdir+\"...\")\n",
    "            cas9aafilename=str(SGB)+\"__\"+seqid+\"__\"+genomename+\".\"+feature+\".faa\"\n",
    "            f=open(outdir+cas9aafilename,\"w\") #TODO dir\n",
    "            f.write(\">\"+seqid+\"\\n\"+cas9_aa)\n",
    "            f.close()\n",
    "\n",
    "        #opzione 1 blast\n",
    "      #1. salva np.uniq(repeats) in un fasta file: build temporary query file for blastn search\n",
    "\n",
    "        print(\"let's now blast the repeat against  the genome\")\n",
    "        os.chdir(datadir)\n",
    "        tempfile=open(\"temp_repeat_seq\", \"w\")\n",
    "        tempfile.close()\n",
    "        tempfile=open(\"temp_repeat_seq\", \"a\")\n",
    "\n",
    "        for n, repeat in enumerate([Seq(sequence) for sequence in np.unique(repeats)]):\n",
    "            tempfile.write(\">rpt\"+str(n+1)+\"|\"+contigname+\"|\"+genomename+\"|\"+seqid+\"\\n\"+str(repeat)+\"\\n\") \n",
    "        tempfile.close()\n",
    "\n",
    "        #2. Blast query file against db\n",
    "\n",
    "        #3. make db file\n",
    "        print(\"Build blast database with:\")\n",
    "        dbfile=datadir+\"tempblastdb\"\n",
    "        print(\"makeblastdb -in \"+dbfile+\" -parse_seqids  -dbtype nucl\")\n",
    "        os.system(\"makeblastdb -in \"+dbfile+\" -parse_seqids  -dbtype nucl\")\n",
    "\n",
    "\n",
    "        print(\"Run blastn of query file agianst all contigs\")\n",
    "        blastoutfile=datadir+\"temp.blastout\"\n",
    "        blastn_command = \"blastn -out \"+blastoutfile+\" -outfmt \\\"6  qseqid sseqid pident qlen length mismatch gapopen qseq sseq sstart send evalue sstrand\\\" -query temp_repeat_seq -db \"+dbfile+\" -evalue 0.001 -word_size 11 -penalty -2\"  #MANUAL INPUT\n",
    "        print(blastn_command)\n",
    "       # os.chdir(datadir)\n",
    "      #  subprocess.call(blastn_command) does no t work\n"
   ]
  },
  {
   "cell_type": "code",
   "execution_count": 7,
   "metadata": {
    "scrolled": true
   },
   "outputs": [
    {
     "name": "stdout",
     "output_type": "stream",
     "text": [
      "\n",
      "-----------------------------------------------------\n",
      "Parsing BLAST output, looking for hit which are NOT the same repeats\n",
      "i.e. not starting with: ['27', '93', '159', '225'] :\n",
      "-----------------------------------------------------\n",
      "\n",
      "rpt1|NODE_2092_length_11346_cov_6.0000_ID_47560|ZeeviD_2015__PNP_Main_471__bin.13|FBDDNBEO_00645\tNODE_2092_length_11346_cov_6.0000_ID_47560\t90.91\t36\t22\t1\t1\tGACTTTACAACAAAA-TGTTCT\tGACTTTACAACAAAAATTTTCT\t318\t297\t6e-04\tminus\n",
      "\n"
     ]
    }
   ],
   "source": [
    "#4. parse blast output: only print output if it is NOT one of the old repeats.\n",
    "print(\"\\n-----------------------------------------------------\\nParsing BLAST output, looking for hit which are NOT the same repeats\\ni.e. not starting with:\", repeat_start_pos,\":\\n-----------------------------------------------------\\n\")\n",
    "f=open(blastoutfile,\"r\")\n",
    "for line in f.readlines():\n",
    "    start_pos=line.split(\"\\t\")[9]\n",
    "    if start_pos not in repeat_start_pos:\n",
    "        if str(int(start_pos)+1) not in repeat_start_pos:\n",
    "            if str(int(start_pos)-1) not in repeat_start_pos:\n",
    "                print(line) "
   ]
  },
  {
   "cell_type": "markdown",
   "metadata": {},
   "source": [
    "## extract sequences"
   ]
  },
  {
   "cell_type": "code",
   "execution_count": 8,
   "metadata": {},
   "outputs": [],
   "source": [
    "# manual input\n",
    "# COSA NON SO A PRIORI: l'orientamento del CRISPRarray (e quindi dell'antirepeat)\n",
    "# COSA SO A PRIORI: una cosa sullo strand + si legge SEMPRE E SOLO da SINISTRA VERSO DESTRA\n",
    "#     una cosa sullo strand - si legge SEMPRE E SOLO da DESTRA VERSO SINISTRA\n",
    "# il DNA, come molecola, è polarizzato. LE basi sono come un parcheggio a spina di pesce,\n",
    "# con un angolo e\n",
    "# quindi una direzione.\n",
    "# COSA DEVO TROVARE: il match della repeat (LA SECONDA FRA LE DUE SEQUENZE NEL BLAST), e un terminatore nelle sue vicinanze. \n",
    "# SE è alla sua DESTRA\n",
    "# devo prendere il filamento sullo strand + \n",
    "# (che potrebbe essere SIA la repeat che ha matchato il BLAST\n",
    "# direttamente SIA il suo reverse complement. NOn lo so prima xke nn so dove stia\n",
    "# (== su che strand e in che direzuione sia scritto) CRISPR, lo\n",
    "# indurrò a posteriori)\n",
    "# ; SE è  a SINISTRA,\n",
    "# devo prendere il filamento sullo strand -.\n",
    "#\n",
    "# devo, dunque, SCEGLIERE se l'antirepeat è la matched repeat o il suo rev complement \n",
    "# a seconda di DOVE STA IL TERMINATORE\n",
    "# così facendo, identificherò anche l'orinetamento del CRISPR\n",
    "#\n",
    "#ESEMPIO\n",
    "#  se .la matched repeat  è sullos trand - VUOL DIRE CHE VA LETTA DA DESTRA VERSO SINISTRA\n",
    "# e bisogna vedere dove sara il terminator:\n",
    "# se è A DESTRA della matched e sullo strnaad + (== si legge da sinistra)\n",
    "# , allora l'antirepeat sarà effettivamente il reverse complement della matched repeat\n",
    "#, se  è  A SINISTRA della matched e sullo strand -(==si legge da destra), allora\n",
    "# il mio antirepeat è in effetti la matched_repeat, e quindi probabilmente il CRISPRarray( essendo palindromo)\n",
    "# è stato annotato sullo strand opposto. \n",
    "# Se il terminatore è A DESTRA della matched (sempre nel caso matched  su -)\n",
    "# e sullo strand - allora è un terminatore SBAGLIATO\n",
    "#\n",
    "# FILL IN INPUTS MANUALLY in the lines with the 'manual input' comment!\n",
    "mstrand=-1  #manual input: strand of matched repeat\n",
    "matched_rep_start=297  #manual input ALWAYS input the smaller number here, even if ti matches on - strand\n",
    "matched_rep_stop=318   #manual input\n",
    "\n"
   ]
  },
  {
   "cell_type": "code",
   "execution_count": 31,
   "metadata": {},
   "outputs": [],
   "source": [
    "##### other seqids\n",
    "##    seqid   #    mached_rep_start   # matched _rep_stop\n",
    "#AOPFDEBE_00006          6358         6376\n",
    "#HPLHKOKB_00548          1514         1541"
   ]
  },
  {
   "cell_type": "code",
   "execution_count": 9,
   "metadata": {},
   "outputs": [
    {
     "data": {
      "text/plain": [
       "array(['GTTTTGACTTTACAACAAAATGTTCTTTCTAAAAAT'], dtype='<U36')"
      ]
     },
     "execution_count": 9,
     "metadata": {},
     "output_type": "execute_result"
    }
   ],
   "source": [
    "unique_repeats"
   ]
  },
  {
   "cell_type": "code",
   "execution_count": 24,
   "metadata": {},
   "outputs": [
    {
     "name": "stdout",
     "output_type": "stream",
     "text": [
      "matched rep fwd: AGAAAATTTTTGTTGTAAAGTC matched rep rev:  GACTTTACAACAAAAATTTTCT\n"
     ]
    },
    {
     "data": {
      "text/plain": [
       "22"
      ]
     },
     "execution_count": 24,
     "metadata": {},
     "output_type": "execute_result"
    }
   ],
   "source": [
    "# this is the sequence matching the repeat:\n",
    "matched_rep=Seq(\"GACTTTACAACAAAAATTTTCT\")  #manual input (remove gaps if present)\n",
    "# siccome non mi interessa per ora sapere il verso del CRISPRarray, facciamo che la matchedrepeat e il su revocm\n",
    "# li chiamo matched_rpt_fwd e matched_rpt_rev:\n",
    "\n",
    "matched_rpt_fwd=matched_rep if mstrand == 1 else  matched_rep.reverse_complement()\n",
    "matched_rpt_rev=matched_rep if mstrand== -1 else matched_rep.reverse_complement()\n",
    "\n",
    "#rpts which match:\n",
    "rpt=Seq(unique_repeats[0])  #manual input #TODO unique_repeats non e' una lista ordinata:la posizione non e' per forza quella giusta\n",
    "initial_repeat=rpt\n",
    "\n",
    "#this should go frombo to bo  = x nt  (x+1)\n",
    "#`fwd and rvrs are referred to the strand.\n",
    "print(\"matched rep fwd:\", matched_rpt_fwd,\"matched rep rev: \", matched_rpt_rev)\n",
    "len(matched_rpt_fwd)\n",
    "\n"
   ]
  },
  {
   "cell_type": "code",
   "execution_count": 25,
   "metadata": {},
   "outputs": [
    {
     "data": {
      "text/plain": [
       "'8770__FBDDNBEO_00645__ZeeviD_2015__PNP_Main_471__bin.13.terminators'"
      ]
     },
     "execution_count": 25,
     "metadata": {},
     "output_type": "execute_result"
    }
   ],
   "source": [
    "str(SGB)+\"__\"+seqid+\"__\"+genomename+\".terminators\""
   ]
  },
  {
   "cell_type": "code",
   "execution_count": 26,
   "metadata": {},
   "outputs": [
    {
     "name": "stdout",
     "output_type": "stream",
     "text": [
      ">NODE_2092_length_11346_cov_6.0000_ID_47560\n",
      "\n",
      "    319      Both + TTAACTGATTTTGCCGAATTTTAAGCTCTGCATGGCACCTTGGAATTCGGCATTTTTTTTCAAAA -8.60\n",
      "\n",
      "   1004  Rnamotif + CGGTTCTATCGCGTCGTACACAAGCGGCGTATTTTTATAAT -7.50\n",
      "\n",
      "   1018  Rnamotif + CGTACACAAGCGGCGTATTTTTATAATACGTCTTATGGTTTACG -8.50\n",
      "\n",
      "   1225      Both + CCCGAGCACACCGGGCCTCATTCGGCTCGcgTTTTGAAACCGA -9.40\n",
      "\n",
      "   2513      Both + AAGCACAAACACATCGCGTCCAGCGCGTGGTGTTTTTTATTCTT -9.30\n",
      "\n",
      "   2773  Rnamotif + TGAAATGTGCGCGGTTTCCGCCAGAGCCGTATATTTTTCCA -6.00\n",
      "\n",
      "   2928  Rnamotif + GCCATTCAAACGGCGTCCTATCCGCCTTTTCCTTGTTG -5.50\n",
      "\n",
      "   3264  Rnamotif + ATACGACTTTGTCGGGAACCCCGAaTTTTGATTCGAG -6.30\n",
      "\n",
      "   3848      Both + AAATCGCCCTCGCCCCTTGCTTCCGAAAGGGGCcTTATCTTGCAAA -13.40\n",
      "\n",
      "   4985      Both - ATTTTCTTTAAGCCGCTTCCCCTACGGGGTTGCGGCTTTCTTGTGGATT NA\n",
      "\n",
      "   6053  Rnamotif - CGCCGTTTTTCGGGGGGTTCGTCCTCTATTTTTTCGCG -5.20\n",
      "\n",
      "   7961  Rnamotif + CCGCGCACTGCGGGGCGGTCATTCCCTTTTTGAAAGTC -3.70\n",
      "\n",
      "   8853  Rnamotif + CTTGCCCACATTGGGCAGCCCGACTATGCCTGcTTTTAACATTTT -5.60\n",
      "\n",
      "   9229  Rnamotif - CCAAGTGCGTGCGCTTCGGCAGGGGCGTTCATTTCGTCA -7.70\n",
      "\n",
      "  10035  Rnamotif - CTCGACAGGGGGCTCTTCAAGGGAGCTTTTTGCAAAAT -5.60\n",
      "\n",
      "  10112  Rnamotif + AACTCCGCGGGCGGCGTATCTGCCGTTTGTCTTTTGG -6.30\n",
      "\n",
      "  11028  Rnamotif + CCCCTGCCTACCGCCGCGGTGAAGGCGaTTTTGTTAGGGT -7.40\n",
      "\n"
     ]
    }
   ],
   "source": [
    "# print terminators\n",
    "\n",
    "f=open(datadir+str(SGB)+\"__\"+seqid+\"__\"+genomename+\".terminators\") \n",
    "for line in f.readlines():\n",
    "    if line.strip().startswith(\"\"): #manual input\n",
    "        print(line)\n",
    "f.close()"
   ]
  },
  {
   "cell_type": "code",
   "execution_count": 27,
   "metadata": {},
   "outputs": [],
   "source": [
    "#29/01/2020\n",
    "def get_real_repeat(rpt, crisprstrand):\n",
    "    return rpt if crisprstrand == 1 else rpt.reverse_complement()"
   ]
  },
  {
   "cell_type": "code",
   "execution_count": 29,
   "metadata": {},
   "outputs": [
    {
     "name": "stdout",
     "output_type": "stream",
     "text": [
      "Strand OK\n",
      "Is antirepeat the reverse complement of original repeat? (WARNING: original repeat is just the initial annotation, may not be the correct orientation of the repeat!) True\n",
      "antirepeat:  AGAAAATTTTTGTTGTAAAGTC\n",
      "terminator length:  65\n",
      "terminator start and stop: 319 384\n",
      "tracr strand= 1\n",
      "CRISPR strand= 1\n",
      "Repeat: GTTTTGACTTTACAACAAAATGTTCTTTCTAAAAAT \t(original repeat:\t GTTTTGACTTTACAACAAAATGTTCTTTCTAAAAAT)\n"
     ]
    }
   ],
   "source": [
    "#29/01/2020 final fix\n",
    "tstrand=+1  #manual input, terminator strand. TODO CHECK che se lo strand è -1 allora è <matched rep (tracrRNA on - strand),e viceversa\n",
    "\n",
    "terminator_start=319 #manual input N.b. this is always the smallest position (between start and end)\n",
    "terminator=Seq(\"TTAACTGATTTTGCCGAATTTTAAGCTCTGCATGGCACCTTGGAATTCGGCATTTTTTTTCAAAA\".upper()) #manual input\n",
    "terminator_end=terminator_start+len(terminator)\n",
    "if tstrand==1:  # if terminator on + strand\n",
    "    if matched_rep_stop<terminator_start: # check that term is on the RIGHT SIDE of the repeat\n",
    "        print(\"Strand OK\")\n",
    "        antirepeat=matched_rpt_fwd\n",
    "        print(\"Is antirepeat the reverse complement of original repeat? (WARNING: original repeat is just the initial annotation, may not be the correct orientation of the repeat!)\", True if mstrand == -1 else False)        \n",
    "        tracrstrand=tstrand\n",
    "        print(\"antirepeat: \",antirepeat)\n",
    "        crisprstrand =  -mstrand #-mstrand if mstrand == tstrand else -mstrand\n",
    "        rpt=get_real_repeat(rpt, crisprstrand)\n",
    "    else:\n",
    "        print(\"STRAND NOT OK\", matched_rep_start, matched_rep_stop)\n",
    "elif tstrand==-1:\n",
    "    if matched_rep_start>terminator_start: # check that term is on the LEFT SIDE of the repeat\n",
    "        print(\"Strand OK\")\n",
    "        antirepeat=matched_rpt_rev\n",
    "        tracrstrand=tstrand\n",
    "        #todo rpt= ?\n",
    "        print(\"antirepeat: \",antirepeat)\n",
    "        crisprstrand = mstrand # cioé: mstrand if mstrand == tstrand else mstrand\n",
    "        rpt=get_real_repeat(rpt, crisprstrand)\n",
    "        print(\"Is antirepeat the reverse complement of original repeat? (WARNING: original repeat is just the initial annotation, may not be the correct orientation of the repeat!)\", False if mstrand == -1 else True)        \n",
    "    else:\n",
    "        print(\"STRAND NOT OK\", matched_rep_start, matched_rep_stop)\n",
    "else:\n",
    "    print(\"input t strand please\")\n",
    "\n",
    "\n",
    "print(\"terminator length: \", len(terminator))\n",
    "print(\"terminator start and stop:\",terminator_start, terminator_end)\n",
    "#print(\"nb start and stop are just the position from smallest to biggest, without direction. Pay attention when working on minus strand\")\n",
    "print(\"tracr strand=\",tracrstrand)\n",
    "print(\"CRISPR strand=\", crisprstrand)\n",
    "print(\"Repeat:\", rpt,\"\\t(original repeat:\\t\", initial_repeat+\")\")"
   ]
  },
  {
   "cell_type": "code",
   "execution_count": 20,
   "metadata": {},
   "outputs": [
    {
     "name": "stdout",
     "output_type": "stream",
     "text": [
      "test antirepeat:  GACGATTTGAGAAGCAACC 19 True\n",
      "test terminator:  ATCCCCTGAAACCGTCCCCCTGCGGGGACGGTTTCTGTTGTATT 44 True\n",
      "pre tracrRNA: GACGATTTGAGAAGCAACCGTTTATATAATAAAGAATATTTTCTGTGGGGTTCTACGATTATGTATCCCCTGAAACCGTCCCCCTGCGGGGACGGTTTCTGTTGTAT 107\n",
      "mario sequence: GTTTATATAATAAAGAATATTTTCTGTGGGGTTCTACGATTATG 44\n"
     ]
    }
   ],
   "source": [
    "# Open genome and extract the whole sequence\n",
    "# find this inside the genome, and link it to the thing found by ARNold:\n",
    "\n",
    "#I need to specify BOTH the strand and the direction\n",
    "#if strand is +, then the actual antirepeat is going to be what i called antirepeat \n",
    "#only if the repeat blast matched on the minus strand (vedi schema), e vari ncastri complciati\"    # temP: matched reè start -1:matched rep stop\n",
    "\n",
    "for record in SeqIO.parse(genomefilename, \"fasta\"):\n",
    "    if record.id==contigname:\n",
    "        contigseq=record.seq\n",
    "\n",
    "#check antirepeat\n",
    "extracted_antirepeat =  contigseq[matched_rep_start-1:matched_rep_stop] if tracrstrand==1 else contigseq[matched_rep_start-1:matched_rep_stop].reverse_complement()\n",
    "print(\"test antirepeat: \", antirepeat, len(antirepeat), extracted_antirepeat==antirepeat) # -1 why? Indexing diverso evidentemente col blastout, vbb\n",
    "\n",
    "# check terminator\n",
    "extracted_terminator =  contigseq[terminator_start-1:terminator_end-1] if tracrstrand==1 else contigseq[terminator_start-1:terminator_end-1].reverse_complement()\n",
    "print(\"test terminator: \" ,terminator, len(terminator), extracted_terminator==terminator)\n",
    "\n",
    "\n",
    "pre_tracrRNA= contigseq[matched_rep_start:terminator_end] if tracrstrand==1 else contigseq[terminator_start:matched_rep_stop].reverse_complement()\n",
    "print(\"pre tracrRNA:\", pre_tracrRNA, len(pre_tracrRNA))\n",
    "\n",
    "# add mario\n",
    "mario= contigseq[matched_rep_stop:terminator_start-1] if tracrstrand==1 else contigseq[terminator_end:matched_rep_start-1].reverse_complement()\n",
    "print(\"mario sequence:\",  mario, len(mario))  # ho fatto i check, il -1 sopra è giusto"
   ]
  },
  {
   "cell_type": "code",
   "execution_count": 13,
   "metadata": {},
   "outputs": [
    {
     "name": "stdout",
     "output_type": "stream",
     "text": [
      "GACGAUUUGAGAAGCAACCGUUUAUAUAAUAAAGAAUAUUUUCUGUGGGGUUCUACGAUUAUGUAUCCCCUGAAACCGUCCCCCUGCGGGGACGGUUUCUGUUGUAU\n"
     ]
    }
   ],
   "source": [
    "print(pre_tracrRNA.transcribe())"
   ]
  },
  {
   "cell_type": "code",
   "execution_count": 28,
   "metadata": {},
   "outputs": [
    {
     "name": "stdout",
     "output_type": "stream",
     "text": [
      "ACAUGUACGCAUAAGAAAUCUUUAUUGACGGACGAUUUGAGAAGCAACC\n"
     ]
    }
   ],
   "source": [
    "print(extracted_antirepeat.transcribe())"
   ]
  },
  {
   "cell_type": "code",
   "execution_count": 29,
   "metadata": {
    "scrolled": true
   },
   "outputs": [
    {
     "name": "stdout",
     "output_type": "stream",
     "text": [
      "6313 6376\n"
     ]
    }
   ],
   "source": [
    "print(terminator_end, matched_rep_stop)"
   ]
  },
  {
   "cell_type": "code",
   "execution_count": 35,
   "metadata": {},
   "outputs": [
    {
     "name": "stdout",
     "output_type": "stream",
     "text": [
      "GTTATA--GGTTGCTTCTCAAATCGTCTTTG-GT-A-TA-AT\n",
      "  || |  |||||||||||||||||||     || | || |.\n",
      "--TA-AACGGTTGCTTCTCAAATCGTC----CGTCAATAAAG\n",
      "  Score=28\n",
      "\n",
      "rpt length: 36\n"
     ]
    }
   ],
   "source": [
    "# Now, align with the rest of the stuff to see what's up\n",
    "# first up, with the repeat, lets take the rpt3, which has only got 1 mismatch\n",
    "# x AOPFDEBE: extracted antirepeat: matched_stop+11\n",
    "\n",
    "alignments = pairwise2.align.localxx(rpt, extracted_antirepeat.reverse_complement())  #29/01/2020 fixed\n",
    "print(pairwise2.format_alignment(*alignments[0]))\n",
    "print(\"rpt length:\", len(rpt))\n"
   ]
  },
  {
   "cell_type": "code",
   "execution_count": 107,
   "metadata": {},
   "outputs": [
    {
     "name": "stdout",
     "output_type": "stream",
     "text": [
      "-ATT-TTTAG-AA-AGAACATTTTG-TTGTAAAGTCAAAAC-\n",
      " |   ||||  || | || |      || |    |     | \n",
      "GA--CTTTA-CAACA-AA-A-----ATT-T----T-----CT\n",
      "  Score=16\n",
      "\n"
     ]
    }
   ],
   "source": [
    "# align antirepat + mario with repeat\n",
    "alignments = pairwise2.align.globalxx( rpt,(antirepeat+mario[:4]).reverse_complement())\n",
    "print(pairwise2.format_alignment(*alignments[0]))"
   ]
  },
  {
   "cell_type": "code",
   "execution_count": 125,
   "metadata": {},
   "outputs": [],
   "source": [
    "#no non fa nulla quel CTTT in più"
   ]
  },
  {
   "cell_type": "code",
   "execution_count": 46,
   "metadata": {},
   "outputs": [
    {
     "name": "stdout",
     "output_type": "stream",
     "text": [
      "\n",
      "----------------------------------------------------------------------\n",
      "         tracrRNA sequence for Cas9 protein id AOPFDEBE_00006\n",
      "----------------------------------------------------------------------\n",
      "- contig name: NODE_411_length_19879_cov_2.8009\n",
      "- Dataset: Obregon-TitoAJ_2015\n",
      "- Bin: Obregon-TitoAJ_2015__SM31__bin.19\n",
      "- SGB: 17319\n",
      "----------------------------------------------------------------------\n",
      "- Length: 107\n",
      "- position: 6313 6376\n",
      "- Sequence: \n",
      "\tGACGAUUUGAGAAGCAACCGUUUAUAUAAUAAAGAAUAUUUUCUGUGGGGUUCUACGAUUAUGUAUCCCCUGAAACCGUCCCCCUGCGGGGACGGUUUCUGUUGUAU\n",
      "- tracrRNA strand: -1\n",
      "- CRISPRarray real strand: -1\n",
      " - chosen repeat:\n",
      "GTTATAGGTTGCTTCTCAAATCGTCTTTGGTATAAT\n"
     ]
    }
   ],
   "source": [
    "# I would probably say that the tracr is just, simply la parte di pre_tracrRNA la cui antirepeat si lega alla repeat, \n",
    "# che, in questo caso, è tutta.\n",
    "tracrRNA = pre_tracrRNA\n",
    "\n",
    "line=\"\\n----------------------------------------------------------------------\"+\"\\n\"+\\\n",
    "\"         tracrRNA sequence for \"+ feature+\" protein id \"+ seqid+\"\\n\"+\\\n",
    "\"----------------------------------------------------------------------\\n\"+\\\n",
    "\"- contig name: \"+ cas_dataset[cas_dataset[\"Seq ID\"]==seqid][\"Contig\"].iloc[0]+\"\\n\"+\\\n",
    "\"- Dataset: \"+cas_dataset[cas_dataset[\"Seq ID\"]==seqid][\"Study\"].iloc[0]+\"\\n\"+\\\n",
    "\"- Bin: \"+ cas_dataset[cas_dataset[\"Seq ID\"]==seqid][\"Genome Name\"].iloc[0]+\"\\n\"+\\\n",
    "\"- SGB: \"+ str(cas_dataset[cas_dataset[\"Seq ID\"]==seqid][\"SGB ID\"].iloc[0])+\"\\n\"+\\\n",
    "\"----------------------------------------------------------------------\\n\"+\\\n",
    "\"- Length: \"+ str(len(tracrRNA))+\"\\n- position: \"+ str(terminator_end)+\" \"+str(matched_rep_stop)+\"\\n\"+\\\n",
    "\"- Sequence: \\n\\t\"+str(tracrRNA.transcribe())+\"\\n\"+\\\n",
    "\"- tracrRNA strand: \"+ str(tracrstrand)+\"\\n\"+\\\n",
    "\"- CRISPRarray real strand: \"+ str(crisprstrand)+\"\\n\"+\\\n",
    "\" - chosen repeat:\\n\"+ str(rpt) \n",
    "print(line)\n",
    "# Write output to file\n",
    "if not os.path.exists(outdir+seqid):\n",
    "    os.makedirs(outdir+seqid)\n",
    "f=open(outdir+seqid+\"/\"+\"tracrRNA_\"+seqid+\".txt\",\"w\")\n",
    "f.write(line)\n",
    "f.close()\n",
    "\n",
    "\n"
   ]
  },
  {
   "cell_type": "code",
   "execution_count": 52,
   "metadata": {},
   "outputs": [
    {
     "name": "stdout",
     "output_type": "stream",
     "text": [
      "To save all output (TODO: un cincinino redundant, you can do some stuff here, but will not untill riesci a automatizzare tutta sta robaaa)\n",
      "get_ID_info AOPFDEBE_00006 -t GACGAUUUGAGAAGCAACCGUUUAUAUAAUAAAGAAUAUUUUCUGUGGGGUUCUACGAUUAUGUAUCCCCUGAAACCGUCCCCCUGCGGGGACGGUUUCUGUUGUAU -s -1 -c -1 -r GTTATAGGTTGCTTCTCAAATCGTCTTTGGTATAAT -v -d\n"
     ]
    }
   ],
   "source": [
    "print(\"To save all output (TODO: un cincinino redundant, you can do some stuff here, but will not untill riesci a automatizzare tutta sta robaaa)\")\n",
    "print(\"get_ID_info \"+seqid+\" \"+\"-t \"+str(tracrRNA.transcribe())+\" -s \"+str(tracrstrand)+\" -c \"+str(crisprstrand)+\" -r \"+str(rpt)+\" -v -d\")"
   ]
  },
  {
   "cell_type": "code",
   "execution_count": null,
   "metadata": {},
   "outputs": [],
   "source": []
  }
 ],
 "metadata": {
  "kernelspec": {
   "display_name": "Python 3",
   "language": "python",
   "name": "python3"
  },
  "language_info": {
   "codemirror_mode": {
    "name": "ipython",
    "version": 3
   },
   "file_extension": ".py",
   "mimetype": "text/x-python",
   "name": "python",
   "nbconvert_exporter": "python",
   "pygments_lexer": "ipython3",
   "version": "3.7.3"
  }
 },
 "nbformat": 4,
 "nbformat_minor": 2
}
