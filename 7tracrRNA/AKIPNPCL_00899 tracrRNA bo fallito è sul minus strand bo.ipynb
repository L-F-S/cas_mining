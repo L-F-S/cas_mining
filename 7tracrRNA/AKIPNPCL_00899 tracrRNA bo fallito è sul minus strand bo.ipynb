{
 "cells": [
  {
   "cell_type": "markdown",
   "metadata": {},
   "source": [
    "# find tracerRNA\n",
    "\n",
    "example id:\n",
    "8774__OBKKDPJE_00146__BritoIL_2016__M2.46.ST__bin.47;length1073;#sequences1 "
   ]
  },
  {
   "cell_type": "code",
   "execution_count": 1,
   "metadata": {},
   "outputs": [],
   "source": [
    "# First created Thu Jul 11 09:51:15 CEST 2019\n",
    "# Made by L-F-S\n",
    "# At the University Of Trento, Italy\n",
    "\n",
    "import os\n",
    "import sys\n",
    "import numpy as np\n",
    "import pandas as pd\n",
    "import matplotlib.pyplot as plt\n",
    "from Bio import SeqIO\n",
    "from Bio.Seq import Seq\n",
    "from Bio.Alphabet import generic_dna, generic_protein, RNAAlphabet\n",
    "from Bio import pairwise2\n",
    "\n",
    "\n",
    "sys.path.insert(0, '/home/lorenzo.signorini/cas_mining/utils/')\n",
    "import filename_discrepancies\n",
    "\n",
    "feature=\"Cas9\" #WARNING!!! CHANGE THIS!!\n",
    "#outpath=\"/shares/CIBIO-Storage/CM/scratch/tmp_projects/signorini_cas/5caslocitable/out/\"+feature+\"/\"\n",
    "datadir=\"/shares/CIBIO-Storage/CM/scratch/tmp_projects/signorini_cas/\"\n",
    "\n",
    "\n"
   ]
  },
  {
   "cell_type": "code",
   "execution_count": 2,
   "metadata": {
    "scrolled": true
   },
   "outputs": [
    {
     "data": {
      "text/plain": [
       "Index(['Seq ID', 'Seq Description', 'Seq', 'Contig', 'Genome Name', 'Study',\n",
       "       'Sample Name', 'SGB ID', 'Pos', 'pilercr_CRISPR', 'minced_CRISPR',\n",
       "       'prokka_cas1', 'prokka_cas2', 'uSGB', 'Level of estimated taxonomy',\n",
       "       'Estimated taxonomy'],\n",
       "      dtype='object')"
      ]
     },
     "execution_count": 2,
     "metadata": {},
     "output_type": "execute_result"
    }
   ],
   "source": [
    "# Import data\n",
    "cas_dataset=pd.read_csv(\"/shares/CIBIO-Storage/CM/scratch/tmp_projects/signorini_cas/5caslocitable/known_\"+feature+\"_variants_table.csv\", index_col=0)\n",
    "cas_dataset.columns"
   ]
  },
  {
   "cell_type": "code",
   "execution_count": 3,
   "metadata": {},
   "outputs": [
    {
     "name": "stdout",
     "output_type": "stream",
     "text": [
      "SEQ ID:  AKIPNPCL_00899\n",
      "NODE_1451_length_29619_cov_4.50203\n",
      "CosteaPI_2017\n",
      "CosteaPI_2017__SID713A009-11-90-0__bin.81\n",
      "1005\n",
      "[('.', '21722', '24134')]\n",
      "----------------------------------------------------------------------\n"
     ]
    }
   ],
   "source": [
    "seqid =\"AKIPNPCL_00899\"\n",
    "print(\"SEQ ID: \", seqid)\n",
    "print(cas_dataset[cas_dataset[\"Seq ID\"]==seqid][\"Contig\"].iloc[0])\n",
    "print(cas_dataset[cas_dataset[\"Seq ID\"]==seqid][\"Study\"].iloc[0])\n",
    "print(cas_dataset[cas_dataset[\"Seq ID\"]==seqid][\"Genome Name\"].iloc[0])\n",
    "print(len(cas_dataset[cas_dataset[\"Seq ID\"]==seqid][\"Seq\"].iloc[0]))\n",
    "print(cas_dataset[cas_dataset[\"Seq ID\"]==seqid][\"minced_CRISPR\"].iloc[0])\n",
    "print(\"----------------------------------------------------------------------\")\n"
   ]
  },
  {
   "cell_type": "code",
   "execution_count": 13,
   "metadata": {
    "scrolled": false
   },
   "outputs": [
    {
     "name": "stdout",
     "output_type": "stream",
     "text": [
      "\n",
      "-----------------------------------------------------\n",
      "Cas9 id:\tAKIPNPCL_00899\n",
      "SGB:\t9340\n",
      "Genome Name:\t CosteaPI_2017__SID713A009-11-90-0__bin.81\n",
      "Contig:\tNODE_1451_length_29619_cov_4.50203 \n",
      "-----------------------------------------------------\n",
      "\n",
      "Sequence 'NODE_1451_length_29619_cov_4.50203' (29619 bp)\n",
      "\n",
      "\n",
      "\n",
      "CRISPR 1   Range: 21722 - 24134\n",
      "\n",
      "POSITION\tREPEAT\t\t\t\tSPACER\n",
      "\n",
      "--------\t------------------------------------\t------------------------------\n",
      "\n",
      "21722\t\tATTGTAACGTTCTTTCCAAATCAGATATGCTATAAT\tGTCTATTCGGCGGCAATTACCGGCAATACG\t[ 36, 30 ]\n",
      "\n",
      "21788\t\tGTTATAGCTTCCTTTCCAAATCAGATATGCTATAAT\tGAACCGGCTTGTCGGCAGACAGGGCAAGCG\t[ 36, 30 ]\n",
      "\n",
      "21854\t\tGTTATAGCTTCCTTTCCAAATCAGATATGCTATAAT\tCGATAGCTTCGTATAAGGAGACAAACATGA\t[ 36, 30 ]\n",
      "\n",
      "21920\t\tGTTATAGCTTCCTTTCCAAATCAGATATGCTATAAT\tTTCTTCCTGCTTTGGTTAAGGTATAGTCAA\t[ 36, 30 ]\n",
      "\n",
      "21986\t\tGTTATAGCTTCCTTTCCAAATCAGATATGCTATAAT\tGCCCCGTGACGGCAAGCGCTATACTTTGAG\t[ 36, 30 ]\n",
      "\n",
      "22052\t\tGTTATAGCTTCCTTTCCAAATCAGATATGCTATAAT\tCGATAGCTTCGTATAAGGAGACAAACATGA\t[ 36, 30 ]\n",
      "\n",
      "22118\t\tGTTATAGCTTCCTTTCCAAATCAGATATGCTATAAT\tTTCTTCCTGCTTTGGTTAAGGTATAGTCAA\t[ 36, 30 ]\n",
      "\n",
      "22184\t\tGTTATAGCTTCCTTTCCAAATCAGATATGCTATAAT\tGCCCCGTGACGGCAAGCGCTATACTTTGAG\t[ 36, 30 ]\n",
      "\n",
      "22250\t\tGTTATAGCTTCCTTTCCAAATCAGATATGCTATAAT\tCGATAGCTTCGTATAAGGAGACAAACATGA\t[ 36, 30 ]\n",
      "\n",
      "22316\t\tGTTATAGCTTCCTTTCCAAATCAGATATGCTATAAT\tGACGTCGGAAACCGCTCTTGCCGCCTTTTT\t[ 36, 30 ]\n",
      "\n",
      "22382\t\tGTTATAGCTTCCTTTCCAAATCAGATATGCTATAAT\tGTACGTGAAGCGAAGCATTGGGCGAAGTCA\t[ 36, 30 ]\n",
      "\n",
      "22448\t\tGTTATAGCTTCCTTTCCAAATCAGATATGCTATAAT\tGACTTCTGGGCAAGAACTATATAATCTGCC\t[ 36, 30 ]\n",
      "\n",
      "22514\t\tGTTATAGCTTCCTTTCCAAATCAGATATGCTATAAT\tCAAATCAACAATCGAAAGGCAGAAAAAAGG\t[ 36, 30 ]\n",
      "\n",
      "22580\t\tGTTATAGCTTCCTTTCCAAATCAGATATGCTATAAT\tCCAACCGGCGTGGTCAGCATGGCAATCCCG\t[ 36, 30 ]\n",
      "\n",
      "22646\t\tGTTATAGCTTCCTTTCCAAATCAGATATGCTATAAT\tCGATCGCAAGGCTTTTGCCCGCATTGTGGT\t[ 36, 30 ]\n",
      "\n",
      "22712\t\tGTTATAGCTTCCTTTCCAAATCAGATATGCTATAAT\tGGCTGATATTGTCATGACCGGTCTCCATAA\t[ 36, 30 ]\n",
      "\n",
      "22778\t\tGTTATAGCTTCCTTTCCAAATCAGATATGCTATAAT\tGACCGTTGGCCGGCGCATCCGGGTCGGATT\t[ 36, 30 ]\n",
      "\n",
      "22844\t\tGTTATAGCTTCCTTTCCAAATCAGATATGCTATAAT\tCGGACGTTCAAGAGGAACGGCGCCGGTGGT\t[ 36, 30 ]\n",
      "\n",
      "22910\t\tGTTATAGCTTCCTTTCCAAATCAGATATGCTATAAT\tGAATTATGTCCTCTTCCTTGGTTCTACCGG\t[ 36, 30 ]\n",
      "\n",
      "22976\t\tGTTATAGCTTCCTTTCCAAATCAGATATGCTATAAT\tCTTCTGAGGATTTGATAGGCTATGCTTACC\t[ 36, 30 ]\n",
      "\n",
      "23042\t\tGTTATAGCTTCCTTTCCAAATCAGATATGCTATAAT\tCCGTCATCAACGCCATAAACGCCGCTGAAG\t[ 36, 30 ]\n",
      "\n",
      "23108\t\tGTTATAGCTTCCTTTCCAAATCAGATATGCTATAAT\tCGTTGACAATATCGGCATAAGTTGAACGGG\t[ 36, 30 ]\n",
      "\n",
      "23174\t\tGTTATAGCTTCCTTTCCAAATCAGATATGCTATAAT\tATACACATATTTCACAAGACAAGTATATAC\t[ 36, 30 ]\n",
      "\n",
      "23240\t\tGTTATAGCTTCCTTTCCAAATCAGATATGCTATAAT\tACCGTCAATGCTCTTAACGTGCGGGCATAC\t[ 36, 30 ]\n",
      "\n",
      "23306\t\tGTTATAGCTTCCTTTCCAAATCAGATATGCTATAAT\tAAAAGGAGCAACACAATATGAATAAAAACA\t[ 36, 30 ]\n",
      "\n",
      "23372\t\tGTTATAGCTTCCTTTCCAAATCAGATATGCTATAAT\tCAACAACAACATTTATAACTTCATGGACAA\t[ 36, 30 ]\n",
      "\n",
      "23438\t\tGTTATAGCTTCCTTTCCAAATCAGATATGCTATAAT\tATAAGAGCGCGAGCTATATCTCACGGTACG\t[ 36, 30 ]\n",
      "\n",
      "23504\t\tGTTATAGCTTCCTTTCCAAATCAGATATGCTATAAT\tACCTACCAGCAAGGTGTTGCAAGACAGTGG\t[ 36, 30 ]\n",
      "\n",
      "23570\t\tGTTATAGCTTCCTTTCCAAATCAGATATGCTATAAT\tCAAACCGATTGCCGAAGCGAAAAGCTTTGC\t[ 36, 30 ]\n",
      "\n",
      "23636\t\tGTTATAGCTTCCTTTCCAAATCAGATATGCTATAAT\tTAATTGAGGGAAACGATGTAAGTTATAGTT\t[ 36, 30 ]\n",
      "\n",
      "23702\t\tGTTATAGCTTCCTTTCCAAATCAGATATGCTATAAT\tTCATTTTGAAAACAAACGATATTTTTTTGAG\t[ 36, 31 ]\n",
      "\n",
      "23769\t\tGTTATAGCTTCCTTTCCAAATCAGATATGCTATAAT\tAAAGTTAGCATCCGAAAGGCTATTTGGCAC\t[ 36, 30 ]\n",
      "\n",
      "23835\t\tGTTATAGCTTCCTTTCCAAATCAGATATGCTATAAT\tGCTGAAATCAGTCAAGAGTATATATGAAAA\t[ 36, 30 ]\n",
      "\n",
      "23901\t\tGTTATAGCTTCCTTTCCAAATCAGATATGCTATAAT\tTGATGAACTGGATTCAATATTCGTGCCTGG\t[ 36, 30 ]\n",
      "\n",
      "23967\t\tGTTATAGCTTCCTTTCCAAATCAGATATGCTATAAT\tCTATCTACAATAGCGAAATCTACGCTACCG\t[ 36, 30 ]\n",
      "\n",
      "24033\t\tGTTATAGCTTCCTTTCCAAATCAGATATGCTATAAT\tAAAGCACAGTATATTACTGTGCTTTTTTTT\t[ 36, 30 ]\n",
      "\n",
      "24099\t\tGTTATAGCTTCCTTTCCAAATCAGATATGCTATAAT\t\n",
      "\n",
      "--------\t------------------------------------\t------------------------------\n",
      "\n",
      "Repeats: 37\tAverage Length: 36\t\tAverage Length: 30\n",
      "\n",
      "\n",
      "\n",
      "Time to find repeats: 15 ms\n",
      "\n",
      "\n",
      "\n",
      "\n",
      "\n",
      "Locus features and positions:  {'Cas9': [25441, 28458], 'Cas1': [24534, 25436], 'Cas2': [24192, 24497], 'CRISPR': [21722, 24134]}\n",
      "++++++++++++++++++++++++++++++++++++++++++++++++++++++++++++++++++++++++++++++++\n",
      "{'Cas9': [25441, 28458], 'Cas1': [24534, 25436], 'Cas2': [24192, 24497], 'CRISPR': [21722, 24134]}\n",
      "Retrieving locus\n",
      "CRISPR si trova [21722, 24134]\n",
      "Cas9 si trova [25441, 28458]\n",
      "Cas2 si trova [24192, 24497]\n",
      "Cas1 si trova [24534, 25436]\n",
      "1005.0 1005\n",
      "Cas locus on minus strand\n",
      "Is Cas9 translated from the genome equal to the orignal annotation? True\n",
      "MKKKIFGFDLGIASIGWAVIDHSDENFDPETGEIIEGKVVGCGVRCFPVAENPKDGSSLAAPRREKRLLRRITRRKARRMLGIKRLFVAKGLVASTTELEALYAEQTGGDVWNLRAEALRRPLSKEELLRVLTHLAKHRGFKSYRKAAEEADKESGRILTAIAENRKETVGFQTLAQMIVERAKHSDDHKMRNYTTQKGPNKGVAVYVNSIPREEIEKETKLIFEYQKQFGLFTEDLYRDFCKIAFRYREAGSVGHMVGRCRFESEQPRAPKEAPSAELFVALSKINNLKVTVDGERRFLNGEERKALLELLKNTKEVKYSTIKNKLFKSREVFFDDVNYAQKTKKGKSGEEKAVNPEDAKFYAMKGWHKLKAAFSPEQWKEVGSNLPLLDLGMTAVVCEKNDAGIERFLSEKGIPEDYREVFKKLTGSEFINLSLKALYKLNPYLAEGLKYNQACEKAGYDFREDGIKLAEEKGLLLPPIANDKLTTVPVVNRAVAQFRKVYNAMVRTYGAPDQINLEIGRDLKKSRDERNQIMRRQKENETERKEAEDGLEKEGLAANGKNMLKYRLYRQQNGKCIYSGKAIDLRRLDENGYCDVDHIIPYSRSLDDGQNNKVLCLAEENRKKGSQTPYEYLEPLGRWEEFETVVNTTPSINRYKRNNLLNKDYKEKENDLEFRERNANDNSYIARYVKRYLEDAVDFSASSCAIKNRIQVRTGSLTDYLRYQWGLIKDRNESDRHHAQDAVVVACATQGMVQKLSKLSAIFENKDDFRRKKAEKLGHEEAEVWYKYIKQQIREPWSGFRTEVLASLEKVFVSRPPRKNATGEIHQETIRTVNPKRKKYNEKEILSGIKIRGGLANNGLMLRTDVFVKKNKKGKDEFYLVPVYLSDMGKELPNKAMVPGKKENEWLELDETYQFKFSFYMDDLIKIKKKENEIFGYFRGTNRATASVSVATHDRSHTFEGIGVKTLDGIEKYQVDPLGRIAKVKKETRLPLTMIKKNRHKKGE\n",
      "++++++++++++++++++++++++++++++++++++++++++++++++++++++++++++++++++++++++++++++++\n",
      "MKKKIFGFDLGIASIGWAVIDHSDENFDPETGEIIEGKVVGCGVRCFPVAENPKDGSSLAAPRREKRLLRRITRRKARRMLGIKRLFVAKGLVASTTELEALYAEQTGGDVWNLRAEALRRPLSKEELLRVLTHLAKHRGFKSYRKAAEEADKESGRILTAIAENRKETVGFQTLAQMIVERAKHSDDHKMRNYTTQKGPNKGVAVYVNSIPREEIEKETKLIFEYQKQFGLFTEDLYRDFCKIAFRYREAGSVGHMVGRCRFESEQPRAPKEAPSAELFVALSKINNLKVTVDGERRFLNGEERKALLELLKNTKEVKYSTIKNKLFKSREVFFDDVNYAQKTKKGKSGEEKAVNPEDAKFYAMKGWHKLKAAFSPEQWKEVGSNLPLLDLGMTAVVCEKNDAGIERFLSEKGIPEDYREVFKKLTGSEFINLSLKALYKLNPYLAEGLKYNQACEKAGYDFREDGIKLAEEKGLLLPPIANDKLTTVPVVNRAVAQFRKVYNAMVRTYGAPDQINLEIGRDLKKSRDERNQIMRRQKENETERKEAEDGLEKEGLAANGKNMLKYRLYRQQNGKCIYSGKAIDLRRLDENGYCDVDHIIPYSRSLDDGQNNKVLCLAEENRKKGSQTPYEYLEPLGRWEEFETVVNTTPSINRYKRNNLLNKDYKEKENDLEFRERNANDNSYIARYVKRYLEDAVDFSASSCAIKNRIQVRTGSLTDYLRYQWGLIKDRNESDRHHAQDAVVVACATQGMVQKLSKLSAIFENKDDFRRKKAEKLGHEEAEVWYKYIKQQIREPWSGFRTEVLASLEKVFVSRPPRKNATGEIHQETIRTVNPKRKKYNEKEILSGIKIRGGLANNGLMLRTDVFVKKNKKGKDEFYLVPVYLSDMGKELPNKAMVPGKKENEWLELDETYQFKFSFYMDDLIKIKKKENEIFGYFRGTNRATASVSVATHDRSHTFEGIGVKTLDGIEKYQVDPLGRIAKVKKETRLPLTMIKKNRHKKGE\n",
      "MKKKIFGFDLGIASIGWAVIDHSDENFDPETGEIIEGKVVGCGVRCFPVAENPKDGSSLAAPRREKRLLRRITRRKARRMLGIKRLFVAKGLVASTTELEALYAEQTGGDVWNLRAEALRRPLSKEELLRVLTHLAKHRGFKSYRKAAEEADKESGRILTAIAENRKETVGFQTLAQMIVERAKHSDDHKMRNYTTQKGPNKGVAVYVNSIPREEIEKETKLIFEYQKQFGLFTEDLYRDFCKIAFRYREAGSVGHMVGRCRFESEQPRAPKEAPSAELFVALSKINNLKVTVDGERRFLNGEERKALLELLKNTKEVKYSTIKNKLFKSREVFFDDVNYAQKTKKGKSGEEKAVNPEDAKFYAMKGWHKLKAAFSPEQWKEVGSNLPLLDLGMTAVVCEKNDAGIERFLSEKGIPEDYREVFKKLTGSEFINLSLKALYKLNPYLAEGLKYNQACEKAGYDFREDGIKLAEEKGLLLPPIANDKLTTVPVVNRAVAQFRKVYNAMVRTYGAPDQINLEIGRDLKKSRDERNQIMRRQKENETERKEAEDGLEKEGLAANGKNMLKYRLYRQQNGKCIYSGKAIDLRRLDENGYCDVDHIIPYSRSLDDGQNNKVLCLAEENRKKGSQTPYEYLEPLGRWEEFETVVNTTPSINRYKRNNLLNKDYKEKENDLEFRERNANDNSYIARYVKRYLEDAVDFSASSCAIKNRIQVRTGSLTDYLRYQWGLIKDRNESDRHHAQDAVVVACATQGMVQKLSKLSAIFENKDDFRRKKAEKLGHEEAEVWYKYIKQQIREPWSGFRTEVLASLEKVFVSRPPRKNATGEIHQETIRTVNPKRKKYNEKEILSGIKIRGGLANNGLMLRTDVFVKKNKKGKDEFYLVPVYLSDMGKELPNKAMVPGKKENEWLELDETYQFKFSFYMDDLIKIKKKENEIFGYFRGTNRATASVSVATHDRSHTFEGIGVKTLDGIEKYQVDPLGRIAKVKKETRLPLTMIKKNRHKKGE\n",
      "|||||||||||||||||||||||||||||||||||||||||||||||||||||||||||||||||||||||||||||||||||||||||||||||||||||||||||||||||||||||||||||||||||||||||||||||||||||||||||||||||||||||||||||||||||||||||||||||||||||||||||||||||||||||||||||||||||||||||||||||||||||||||||||||||||||||||||||||||||||||||||||||||||||||||||||||||||||||||||||||||||||||||||||||||||||||||||||||||||||||||||||||||||||||||||||||||||||||||||||||||||||||||||||||||||||||||||||||||||||||||||||||||||||||||||||||||||||||||||||||||||||||||||||||||||||||||||||||||||||||||||||||||||||||||||||||||||||||||||||||||||||||||||||||||||||||||||||||||||||||||||||||||||||||||||||||||||||||||||||||||||||||||||||||||||||||||||||||||||||||||||||||||||||||||||||||||||||||||||||||||||||||||||||||||||||||||||||||||||||||||||||||||||||||||||||||||||||||||||||||||||||||||||||||||||||||||||||||||||||||||||||||||||||||||||||||||||||||||||||||||||||||||||||||||||||||||||||||||||||||||||||||||||||||||||||||||||||||||||||||||||||||||||||||||||||||||||||||||||||||||||||\n",
      "MKKKIFGFDLGIASIGWAVIDHSDENFDPETGEIIEGKVVGCGVRCFPVAENPKDGSSLAAPRREKRLLRRITRRKARRMLGIKRLFVAKGLVASTTELEALYAEQTGGDVWNLRAEALRRPLSKEELLRVLTHLAKHRGFKSYRKAAEEADKESGRILTAIAENRKETVGFQTLAQMIVERAKHSDDHKMRNYTTQKGPNKGVAVYVNSIPREEIEKETKLIFEYQKQFGLFTEDLYRDFCKIAFRYREAGSVGHMVGRCRFESEQPRAPKEAPSAELFVALSKINNLKVTVDGERRFLNGEERKALLELLKNTKEVKYSTIKNKLFKSREVFFDDVNYAQKTKKGKSGEEKAVNPEDAKFYAMKGWHKLKAAFSPEQWKEVGSNLPLLDLGMTAVVCEKNDAGIERFLSEKGIPEDYREVFKKLTGSEFINLSLKALYKLNPYLAEGLKYNQACEKAGYDFREDGIKLAEEKGLLLPPIANDKLTTVPVVNRAVAQFRKVYNAMVRTYGAPDQINLEIGRDLKKSRDERNQIMRRQKENETERKEAEDGLEKEGLAANGKNMLKYRLYRQQNGKCIYSGKAIDLRRLDENGYCDVDHIIPYSRSLDDGQNNKVLCLAEENRKKGSQTPYEYLEPLGRWEEFETVVNTTPSINRYKRNNLLNKDYKEKENDLEFRERNANDNSYIARYVKRYLEDAVDFSASSCAIKNRIQVRTGSLTDYLRYQWGLIKDRNESDRHHAQDAVVVACATQGMVQKLSKLSAIFENKDDFRRKKAEKLGHEEAEVWYKYIKQQIREPWSGFRTEVLASLEKVFVSRPPRKNATGEIHQETIRTVNPKRKKYNEKEILSGIKIRGGLANNGLMLRTDVFVKKNKKGKDEFYLVPVYLSDMGKELPNKAMVPGKKENEWLELDETYQFKFSFYMDDLIKIKKKENEIFGYFRGTNRATASVSVATHDRSHTFEGIGVKTLDGIEKYQVDPLGRIAKVKKETRLPLTMIKKNRHKKGE\n",
      "  Score=1005\n",
      "\n",
      "let's now blast the repeat against  the genome\n",
      "Running blastn of query file agianst all contigs\n",
      "blastn -out /shares/CIBIO-Storage/CM/scratch/tmp_projects/signorini_cas/7tracrRNA/9340__AKIPNPCL_00899__CosteaPI_2017__SID713A009-11-90-0__bin.81__Cas9.trcr.blastout -outfmt \"6  qseqid sseqid pident qlen length mismatch gapopen qseq sseq sstart send evalue sstrand\" -query temp_repeat_seq -db /shares/CIBIO-Storage/CM/scratch/tmp_projects/signorini_cas/7tracrRNA/tempblastdb -evalue 0.001 -word_size 11 -penalty -2\n"
     ]
    }
   ],
   "source": [
    "spacers=[]\n",
    "repeats=[]\n",
    "repeat_start_pos=[]\n",
    "\n",
    "\n",
    "cas9_aa=cas_dataset[cas_dataset[\"Seq ID\"]==seqid][\"Seq\"].iloc[0]\n",
    "dataset=cas_dataset[cas_dataset[\"Seq ID\"]==seqid][\"Study\"].iloc[0]\n",
    "genomename=cas_dataset[cas_dataset[\"Seq ID\"]==seqid][\"Genome Name\"].iloc[0]\n",
    "SGB=cas_dataset[cas_dataset[\"Seq ID\"]==seqid][\"SGB ID\"].iloc[0]\n",
    "contigname=cas_dataset[cas_dataset[\"Seq ID\"]==seqid][\"Contig\"].iloc[0]\n",
    "samplename = genomename.split(\"__\")[1]\n",
    "\n",
    "print(\"\\n-----------------------------------------------------\\n\"+feature+\" id:\\t\"+seqid+\"\\nSGB:\\t\"+str(SGB)+\"\\nGenome Name:\\t\",\\\n",
    "      genomename+\"\\nContig:\\t\"+cas_dataset[cas_dataset[\"Seq ID\"]==seqid][\"Contig\"].iloc[0],\"\\n-----------------------------------------------------\\n\")\n",
    "\n",
    "\n",
    "########################################################################\n",
    "\n",
    "# get CRISPR spacer and repeat sequence\n",
    "\n",
    "s3_genomename, s3_dataset=filename_discrepancies.get_originalsamplename_froms3name_of_genome(genomename,dataset)\n",
    "mincedCRISPRfilename=datadir+\"1crisprsearch/out/\"+s3_dataset+\"/\"+s3_genomename+\".fa.minced.out\"\n",
    "f=open(mincedCRISPRfilename, \"r\")\n",
    "\n",
    "is_the_right_contig=False\n",
    "for line in f.readlines():\n",
    "    if line.startswith(\"Sequence \\'\"): #identifiy line of contigname\n",
    "        if line.startswith(\"Sequence \\'\"+contigname): #check which contig we're on (if there is more than one)\n",
    "            is_the_right_contig=True\n",
    "        else:\n",
    "            is_the_right_contig=False\n",
    "    if is_the_right_contig:\n",
    "        print(line)\n",
    "        if line[0]== \"1\" or line[0]== \"2\" or line[0]== \"3\" or line[0]== \"4\" or line[0]== \"5\" or \\\n",
    "        line[0]== \"6\" or line[0]== \"7\" or line[0]== \"8\" or line[0]== \"9\" or line[0]== \"0\":\n",
    "\n",
    "            repeats.append(line.split(\"\\t\")[2])\n",
    "\n",
    "            repeat_start_pos.append(line.split(\"\\t\")[0])\n",
    "\n",
    "            if not line.split(\"\\t\")[3]==\"\\n\":\n",
    "                spacers.append(line.split(\"\\t\")[3])\n",
    "f.close()\n",
    "\n",
    "# get whole locus sequence todo this could become a function of its own, dentro utils, gli dai seqid della cas e ti dà tt il locus\n",
    "\n",
    "# > get start and stop position of all Cass. questo devi metterlo nella tabella di cas non ci sono santi.\n",
    "cas_position={feature:[int(n) for n in cas_dataset[cas_dataset[\"Seq ID\"]==seqid][\"Pos\"].iloc[0].split()],\\\n",
    "              \"Cas1\":[int(n) for n in eval(cas_dataset[cas_dataset[\"Seq ID\"]==seqid][\"prokka_cas1\"].iloc[0])[0][1:]],\\\n",
    "              \"Cas2\":[int(n) for n in eval(cas_dataset[cas_dataset[\"Seq ID\"]==seqid][\"prokka_cas2\"].iloc[0])[0][1:]],\\\n",
    "              \"CRISPR\":[int(n) for n in eval(cas_dataset[cas_dataset[\"Seq ID\"]==seqid][\"minced_CRISPR\"].iloc[0])[0][1:]]\n",
    "             }\n",
    "print(\"Locus features and positions: \", cas_position)\n",
    "# so già che all casses inside here are on the same contig which is 'contig', xke le ho estratte per essere così\n",
    "# FALSO! è cosi in cas_dataset, non in tabellazzza! mi ero confuso! trovato il bug!\n",
    "\n",
    "genomefilename= \"/shares/CIBIO-Storage/CM/scratch/tmp_projects/epasolli_darkmatter/allcontigs/ALLreconstructedgenomes/\"+str(SGB)+\"/\"+genomename+\".fa\"\n",
    "print(\"+\"*80)\n",
    "print(cas_position)\n",
    "print(\"Retrieving locus\")\n",
    "\n",
    "\n",
    "# access contig:\n",
    "\n",
    "for record in SeqIO.parse(genomefilename,\"fasta\"):  #c'è modo di non fare questo 'ciclo'?\n",
    "    if record.id.startswith(contigname):\n",
    "        #test se effettivamente la seq di cas è dove voglio io\n",
    "\n",
    "        SeqIO.write(record, \"/shares/CIBIO-Storage/CM/scratch/tmp_projects/signorini_cas/7tracrRNA/tempblastdb\", \"fasta\")\n",
    "        print(\"CRISPR si trova\", cas_position[\"CRISPR\"])\n",
    "        print(\"Cas9 si trova\", cas_position[feature])\n",
    "        print(\"Cas2 si trova\", cas_position[\"Cas2\"])\n",
    "        print(\"Cas1 si trova\", cas_position[\"Cas1\"])\n",
    "\n",
    "        #estrai la posizione di cas9 dal contig, e traducila\n",
    "        temp_alt_cas9start=98503\n",
    "        temp_alt_cas9stop=101700\n",
    "        cas9start=cas_position[feature][0]\n",
    "        cas9stop=cas_position[feature][1]\n",
    "        cas9_nnseq=record.seq[cas9start-1:cas9stop-3] #gff should have a 1-based positional annotation (ma sto andando a occhio finchè non sono uguali, è già un oggetto Bio.Seq\n",
    "\n",
    "        my_translated_cas9=cas9_nnseq.transcribe().translate()\n",
    "\n",
    "  \n",
    "        print(len(cas9_nnseq)/3,len(cas9_aa))\n",
    "\n",
    "\n",
    "        if my_translated_cas9==cas9_aa:\n",
    "            print(\"Cas locus on plus strand\")\n",
    "            plus=True\n",
    "        if not my_translated_cas9==cas9_aa:\n",
    "            #proviamo col reverse complement\n",
    "            cas9_nnseq=record.seq[cas9start+2:cas9stop]\n",
    "            my_translated_cas9=cas9_nnseq.reverse_complement().transcribe().translate()\n",
    "            print(\"Cas locus on minus strand\")\n",
    "        print(\"Is Cas9 translated from the genome equal to the orignal annotation?\", my_translated_cas9==cas9_aa)\n",
    "        print(my_translated_cas9)\n",
    "        print(\"+\"*80)\n",
    "        print(cas9_aa)\n",
    "        \n",
    "        alignments = pairwise2.align.localxx(my_translated_cas9,cas9_aa)\n",
    "        print(pairwise2.format_alignment(*alignments[0]))\n",
    "\n",
    "        #opzione 1 blast\n",
    "      #1. salva np.uniq(repeats) in un fasta file: build temporary query file for blastn search\n",
    "\n",
    "        print(\"let's now blast the repeat against  the genome\")\n",
    "        blast_folder=\"/shares/CIBIO-Storage/CM/scratch/tmp_projects/signorini_cas/7tracrRNA/\"\n",
    "        os.chdir(blast_folder)\n",
    "        tempfile=open(\"temp_repeat_seq\", \"w\")\n",
    "        tempfile.close()\n",
    "        tempfile=open(\"temp_repeat_seq\", \"a\")\n",
    "        unique_repeats=np.unique(repeats)\n",
    "        for n, repeat in enumerate([Seq(sequence) for sequence in np.unique(repeats)]):\n",
    "            tempfile.write(\">rpt\"+str(n+1)+\"|\"+contigname+\"|\"+genomename+\"|\"+seqid+\"\\n\"+str(repeat)+\"\\n\") \n",
    "        tempfile.close()\n",
    "\n",
    "        #2. Blast query file against db\n",
    "        print(\"Running blastn of query file agianst all contigs\")\n",
    "\n",
    "        #3. make db file\n",
    "        dbfile=\"/shares/CIBIO-Storage/CM/scratch/tmp_projects/signorini_cas/7tracrRNA/tempblastdb\"\n",
    "        os.system(\"makeblastdb -in \"+dbfile+\" -parse_seqids  -dbtype nucl\")\n",
    "\n",
    "\n",
    "\n",
    "        blastoutfile=\"/shares/CIBIO-Storage/CM/scratch/tmp_projects/signorini_cas/7tracrRNA/\"\\\n",
    "        +str(SGB)+\"__\"+seqid+\"__\"+genomename+\"__\"+feature+\".trcr.blastout\"\n",
    "        blastn_command = \"blastn -out \"+blastoutfile+\" -outfmt \\\"6  qseqid sseqid pident qlen length mismatch gapopen qseq sseq sstart send evalue sstrand\\\" -query temp_repeat_seq -db \"+dbfile+\" -evalue 0.001 -word_size 11 -penalty -2\"\n",
    "        print(blastn_command)\n",
    "        os.system(blastn_command)\n",
    "       # os.system(\"rm /shares/CIBIO-Storage/CM/scratch/tmp_projects/signorini_cas/7tracerRNA/temp*\")\n"
   ]
  },
  {
   "cell_type": "code",
   "execution_count": 5,
   "metadata": {
    "scrolled": false
   },
   "outputs": [
    {
     "name": "stdout",
     "output_type": "stream",
     "text": [
      "\n",
      "-----------------------------------------------------\n",
      "Parsing BLAST output, looking for hit which are NOT the same repeats\n",
      "i.e. not starting with: ['21722', '21788', '21854', '21920', '21986', '22052', '22118', '22184', '22250', '22316', '22382', '22448', '22514', '22580', '22646', '22712', '22778', '22844', '22910', '22976', '23042', '23108', '23174', '23240', '23306', '23372', '23438', '23504', '23570', '23636', '23702', '23769', '23835', '23901', '23967', '24033', '24099'] :\n",
      "-----------------------------------------------------\n",
      "\n",
      "rpt1|NODE_1451_length_29619_cov_4.50203|CosteaPI_2017__SID713A009-11-90-0__bin.81|AKIPNPCL_00899\tNODE_1451_length_29619_cov_4.50203\t100.00\t36\t25\t0\t0\tCTTTCCAAATCAGATATGCTATAAT\tCTTTCCAAATCAGATATGCTATAAT\t21799\t21823\t4e-09\tplus\n",
      "\n",
      "rpt1|NODE_1451_length_29619_cov_4.50203|CosteaPI_2017__SID713A009-11-90-0__bin.81|AKIPNPCL_00899\tNODE_1451_length_29619_cov_4.50203\t100.00\t36\t25\t0\t0\tCTTTCCAAATCAGATATGCTATAAT\tCTTTCCAAATCAGATATGCTATAAT\t21865\t21889\t4e-09\tplus\n",
      "\n",
      "rpt1|NODE_1451_length_29619_cov_4.50203|CosteaPI_2017__SID713A009-11-90-0__bin.81|AKIPNPCL_00899\tNODE_1451_length_29619_cov_4.50203\t100.00\t36\t25\t0\t0\tCTTTCCAAATCAGATATGCTATAAT\tCTTTCCAAATCAGATATGCTATAAT\t21931\t21955\t4e-09\tplus\n",
      "\n",
      "rpt1|NODE_1451_length_29619_cov_4.50203|CosteaPI_2017__SID713A009-11-90-0__bin.81|AKIPNPCL_00899\tNODE_1451_length_29619_cov_4.50203\t100.00\t36\t25\t0\t0\tCTTTCCAAATCAGATATGCTATAAT\tCTTTCCAAATCAGATATGCTATAAT\t21997\t22021\t4e-09\tplus\n",
      "\n",
      "rpt1|NODE_1451_length_29619_cov_4.50203|CosteaPI_2017__SID713A009-11-90-0__bin.81|AKIPNPCL_00899\tNODE_1451_length_29619_cov_4.50203\t100.00\t36\t25\t0\t0\tCTTTCCAAATCAGATATGCTATAAT\tCTTTCCAAATCAGATATGCTATAAT\t22063\t22087\t4e-09\tplus\n",
      "\n",
      "rpt1|NODE_1451_length_29619_cov_4.50203|CosteaPI_2017__SID713A009-11-90-0__bin.81|AKIPNPCL_00899\tNODE_1451_length_29619_cov_4.50203\t100.00\t36\t25\t0\t0\tCTTTCCAAATCAGATATGCTATAAT\tCTTTCCAAATCAGATATGCTATAAT\t22129\t22153\t4e-09\tplus\n",
      "\n",
      "rpt1|NODE_1451_length_29619_cov_4.50203|CosteaPI_2017__SID713A009-11-90-0__bin.81|AKIPNPCL_00899\tNODE_1451_length_29619_cov_4.50203\t100.00\t36\t25\t0\t0\tCTTTCCAAATCAGATATGCTATAAT\tCTTTCCAAATCAGATATGCTATAAT\t22195\t22219\t4e-09\tplus\n",
      "\n",
      "rpt1|NODE_1451_length_29619_cov_4.50203|CosteaPI_2017__SID713A009-11-90-0__bin.81|AKIPNPCL_00899\tNODE_1451_length_29619_cov_4.50203\t100.00\t36\t25\t0\t0\tCTTTCCAAATCAGATATGCTATAAT\tCTTTCCAAATCAGATATGCTATAAT\t22261\t22285\t4e-09\tplus\n",
      "\n",
      "rpt1|NODE_1451_length_29619_cov_4.50203|CosteaPI_2017__SID713A009-11-90-0__bin.81|AKIPNPCL_00899\tNODE_1451_length_29619_cov_4.50203\t100.00\t36\t25\t0\t0\tCTTTCCAAATCAGATATGCTATAAT\tCTTTCCAAATCAGATATGCTATAAT\t22327\t22351\t4e-09\tplus\n",
      "\n",
      "rpt1|NODE_1451_length_29619_cov_4.50203|CosteaPI_2017__SID713A009-11-90-0__bin.81|AKIPNPCL_00899\tNODE_1451_length_29619_cov_4.50203\t100.00\t36\t25\t0\t0\tCTTTCCAAATCAGATATGCTATAAT\tCTTTCCAAATCAGATATGCTATAAT\t22393\t22417\t4e-09\tplus\n",
      "\n",
      "rpt1|NODE_1451_length_29619_cov_4.50203|CosteaPI_2017__SID713A009-11-90-0__bin.81|AKIPNPCL_00899\tNODE_1451_length_29619_cov_4.50203\t100.00\t36\t25\t0\t0\tCTTTCCAAATCAGATATGCTATAAT\tCTTTCCAAATCAGATATGCTATAAT\t22459\t22483\t4e-09\tplus\n",
      "\n",
      "rpt1|NODE_1451_length_29619_cov_4.50203|CosteaPI_2017__SID713A009-11-90-0__bin.81|AKIPNPCL_00899\tNODE_1451_length_29619_cov_4.50203\t100.00\t36\t25\t0\t0\tCTTTCCAAATCAGATATGCTATAAT\tCTTTCCAAATCAGATATGCTATAAT\t22525\t22549\t4e-09\tplus\n",
      "\n",
      "rpt1|NODE_1451_length_29619_cov_4.50203|CosteaPI_2017__SID713A009-11-90-0__bin.81|AKIPNPCL_00899\tNODE_1451_length_29619_cov_4.50203\t100.00\t36\t25\t0\t0\tCTTTCCAAATCAGATATGCTATAAT\tCTTTCCAAATCAGATATGCTATAAT\t22591\t22615\t4e-09\tplus\n",
      "\n",
      "rpt1|NODE_1451_length_29619_cov_4.50203|CosteaPI_2017__SID713A009-11-90-0__bin.81|AKIPNPCL_00899\tNODE_1451_length_29619_cov_4.50203\t100.00\t36\t25\t0\t0\tCTTTCCAAATCAGATATGCTATAAT\tCTTTCCAAATCAGATATGCTATAAT\t22657\t22681\t4e-09\tplus\n",
      "\n",
      "rpt1|NODE_1451_length_29619_cov_4.50203|CosteaPI_2017__SID713A009-11-90-0__bin.81|AKIPNPCL_00899\tNODE_1451_length_29619_cov_4.50203\t100.00\t36\t25\t0\t0\tCTTTCCAAATCAGATATGCTATAAT\tCTTTCCAAATCAGATATGCTATAAT\t22723\t22747\t4e-09\tplus\n",
      "\n",
      "rpt1|NODE_1451_length_29619_cov_4.50203|CosteaPI_2017__SID713A009-11-90-0__bin.81|AKIPNPCL_00899\tNODE_1451_length_29619_cov_4.50203\t100.00\t36\t25\t0\t0\tCTTTCCAAATCAGATATGCTATAAT\tCTTTCCAAATCAGATATGCTATAAT\t22789\t22813\t4e-09\tplus\n",
      "\n",
      "rpt1|NODE_1451_length_29619_cov_4.50203|CosteaPI_2017__SID713A009-11-90-0__bin.81|AKIPNPCL_00899\tNODE_1451_length_29619_cov_4.50203\t100.00\t36\t25\t0\t0\tCTTTCCAAATCAGATATGCTATAAT\tCTTTCCAAATCAGATATGCTATAAT\t22855\t22879\t4e-09\tplus\n",
      "\n",
      "rpt1|NODE_1451_length_29619_cov_4.50203|CosteaPI_2017__SID713A009-11-90-0__bin.81|AKIPNPCL_00899\tNODE_1451_length_29619_cov_4.50203\t100.00\t36\t25\t0\t0\tCTTTCCAAATCAGATATGCTATAAT\tCTTTCCAAATCAGATATGCTATAAT\t22921\t22945\t4e-09\tplus\n",
      "\n",
      "rpt1|NODE_1451_length_29619_cov_4.50203|CosteaPI_2017__SID713A009-11-90-0__bin.81|AKIPNPCL_00899\tNODE_1451_length_29619_cov_4.50203\t100.00\t36\t25\t0\t0\tCTTTCCAAATCAGATATGCTATAAT\tCTTTCCAAATCAGATATGCTATAAT\t22987\t23011\t4e-09\tplus\n",
      "\n",
      "rpt1|NODE_1451_length_29619_cov_4.50203|CosteaPI_2017__SID713A009-11-90-0__bin.81|AKIPNPCL_00899\tNODE_1451_length_29619_cov_4.50203\t100.00\t36\t25\t0\t0\tCTTTCCAAATCAGATATGCTATAAT\tCTTTCCAAATCAGATATGCTATAAT\t23053\t23077\t4e-09\tplus\n",
      "\n",
      "rpt1|NODE_1451_length_29619_cov_4.50203|CosteaPI_2017__SID713A009-11-90-0__bin.81|AKIPNPCL_00899\tNODE_1451_length_29619_cov_4.50203\t100.00\t36\t25\t0\t0\tCTTTCCAAATCAGATATGCTATAAT\tCTTTCCAAATCAGATATGCTATAAT\t23119\t23143\t4e-09\tplus\n",
      "\n",
      "rpt1|NODE_1451_length_29619_cov_4.50203|CosteaPI_2017__SID713A009-11-90-0__bin.81|AKIPNPCL_00899\tNODE_1451_length_29619_cov_4.50203\t100.00\t36\t25\t0\t0\tCTTTCCAAATCAGATATGCTATAAT\tCTTTCCAAATCAGATATGCTATAAT\t23185\t23209\t4e-09\tplus\n",
      "\n",
      "rpt1|NODE_1451_length_29619_cov_4.50203|CosteaPI_2017__SID713A009-11-90-0__bin.81|AKIPNPCL_00899\tNODE_1451_length_29619_cov_4.50203\t100.00\t36\t25\t0\t0\tCTTTCCAAATCAGATATGCTATAAT\tCTTTCCAAATCAGATATGCTATAAT\t23251\t23275\t4e-09\tplus\n",
      "\n",
      "rpt1|NODE_1451_length_29619_cov_4.50203|CosteaPI_2017__SID713A009-11-90-0__bin.81|AKIPNPCL_00899\tNODE_1451_length_29619_cov_4.50203\t100.00\t36\t25\t0\t0\tCTTTCCAAATCAGATATGCTATAAT\tCTTTCCAAATCAGATATGCTATAAT\t23317\t23341\t4e-09\tplus\n",
      "\n",
      "rpt1|NODE_1451_length_29619_cov_4.50203|CosteaPI_2017__SID713A009-11-90-0__bin.81|AKIPNPCL_00899\tNODE_1451_length_29619_cov_4.50203\t100.00\t36\t25\t0\t0\tCTTTCCAAATCAGATATGCTATAAT\tCTTTCCAAATCAGATATGCTATAAT\t23383\t23407\t4e-09\tplus\n",
      "\n",
      "rpt1|NODE_1451_length_29619_cov_4.50203|CosteaPI_2017__SID713A009-11-90-0__bin.81|AKIPNPCL_00899\tNODE_1451_length_29619_cov_4.50203\t100.00\t36\t25\t0\t0\tCTTTCCAAATCAGATATGCTATAAT\tCTTTCCAAATCAGATATGCTATAAT\t23449\t23473\t4e-09\tplus\n",
      "\n",
      "rpt1|NODE_1451_length_29619_cov_4.50203|CosteaPI_2017__SID713A009-11-90-0__bin.81|AKIPNPCL_00899\tNODE_1451_length_29619_cov_4.50203\t100.00\t36\t25\t0\t0\tCTTTCCAAATCAGATATGCTATAAT\tCTTTCCAAATCAGATATGCTATAAT\t23515\t23539\t4e-09\tplus\n",
      "\n",
      "rpt1|NODE_1451_length_29619_cov_4.50203|CosteaPI_2017__SID713A009-11-90-0__bin.81|AKIPNPCL_00899\tNODE_1451_length_29619_cov_4.50203\t100.00\t36\t25\t0\t0\tCTTTCCAAATCAGATATGCTATAAT\tCTTTCCAAATCAGATATGCTATAAT\t23581\t23605\t4e-09\tplus\n",
      "\n",
      "rpt1|NODE_1451_length_29619_cov_4.50203|CosteaPI_2017__SID713A009-11-90-0__bin.81|AKIPNPCL_00899\tNODE_1451_length_29619_cov_4.50203\t100.00\t36\t25\t0\t0\tCTTTCCAAATCAGATATGCTATAAT\tCTTTCCAAATCAGATATGCTATAAT\t23647\t23671\t4e-09\tplus\n",
      "\n",
      "rpt1|NODE_1451_length_29619_cov_4.50203|CosteaPI_2017__SID713A009-11-90-0__bin.81|AKIPNPCL_00899\tNODE_1451_length_29619_cov_4.50203\t100.00\t36\t25\t0\t0\tCTTTCCAAATCAGATATGCTATAAT\tCTTTCCAAATCAGATATGCTATAAT\t23713\t23737\t4e-09\tplus\n",
      "\n",
      "rpt1|NODE_1451_length_29619_cov_4.50203|CosteaPI_2017__SID713A009-11-90-0__bin.81|AKIPNPCL_00899\tNODE_1451_length_29619_cov_4.50203\t100.00\t36\t25\t0\t0\tCTTTCCAAATCAGATATGCTATAAT\tCTTTCCAAATCAGATATGCTATAAT\t23780\t23804\t4e-09\tplus\n",
      "\n",
      "rpt1|NODE_1451_length_29619_cov_4.50203|CosteaPI_2017__SID713A009-11-90-0__bin.81|AKIPNPCL_00899\tNODE_1451_length_29619_cov_4.50203\t100.00\t36\t25\t0\t0\tCTTTCCAAATCAGATATGCTATAAT\tCTTTCCAAATCAGATATGCTATAAT\t23846\t23870\t4e-09\tplus\n",
      "\n",
      "rpt1|NODE_1451_length_29619_cov_4.50203|CosteaPI_2017__SID713A009-11-90-0__bin.81|AKIPNPCL_00899\tNODE_1451_length_29619_cov_4.50203\t100.00\t36\t25\t0\t0\tCTTTCCAAATCAGATATGCTATAAT\tCTTTCCAAATCAGATATGCTATAAT\t23912\t23936\t4e-09\tplus\n",
      "\n",
      "rpt1|NODE_1451_length_29619_cov_4.50203|CosteaPI_2017__SID713A009-11-90-0__bin.81|AKIPNPCL_00899\tNODE_1451_length_29619_cov_4.50203\t100.00\t36\t25\t0\t0\tCTTTCCAAATCAGATATGCTATAAT\tCTTTCCAAATCAGATATGCTATAAT\t23978\t24002\t4e-09\tplus\n",
      "\n",
      "rpt1|NODE_1451_length_29619_cov_4.50203|CosteaPI_2017__SID713A009-11-90-0__bin.81|AKIPNPCL_00899\tNODE_1451_length_29619_cov_4.50203\t100.00\t36\t25\t0\t0\tCTTTCCAAATCAGATATGCTATAAT\tCTTTCCAAATCAGATATGCTATAAT\t24044\t24068\t4e-09\tplus\n",
      "\n",
      "rpt1|NODE_1451_length_29619_cov_4.50203|CosteaPI_2017__SID713A009-11-90-0__bin.81|AKIPNPCL_00899\tNODE_1451_length_29619_cov_4.50203\t100.00\t36\t25\t0\t0\tCTTTCCAAATCAGATATGCTATAAT\tCTTTCCAAATCAGATATGCTATAAT\t24110\t24134\t4e-09\tplus\n",
      "\n",
      "rpt1|NODE_1451_length_29619_cov_4.50203|CosteaPI_2017__SID713A009-11-90-0__bin.81|AKIPNPCL_00899\tNODE_1451_length_29619_cov_4.50203\t100.00\t36\t17\t0\t0\tCTTTCCAAATCAGATAT\tCTTTCCAAATCAGATAT\t29574\t29558\t1e-04\tminus\n",
      "\n",
      "rpt2|NODE_1451_length_29619_cov_4.50203|CosteaPI_2017__SID713A009-11-90-0__bin.81|AKIPNPCL_00899\tNODE_1451_length_29619_cov_4.50203\t100.00\t36\t27\t0\t0\tTTATAGCTTCCTTTCCAAATCAGATAT\tTTATAGCTTCCTTTCCAAATCAGATAT\t29584\t29558\t3e-10\tminus\n",
      "\n",
      "rpt2|NODE_1451_length_29619_cov_4.50203|CosteaPI_2017__SID713A009-11-90-0__bin.81|AKIPNPCL_00899\tNODE_1451_length_29619_cov_4.50203\t100.00\t36\t25\t0\t0\tCTTTCCAAATCAGATATGCTATAAT\tCTTTCCAAATCAGATATGCTATAAT\t21733\t21757\t4e-09\tplus\n",
      "\n"
     ]
    }
   ],
   "source": [
    "#4. parse blast output: only print output if it is NOT one of the old repeats.\n",
    "print(\"\\n-----------------------------------------------------\\nParsing BLAST output, looking for hit which are NOT the same repeats\\ni.e. not starting with:\", repeat_start_pos,\":\\n-----------------------------------------------------\\n\")\n",
    "f=open(blastoutfile,\"r\")\n",
    "for line in f.readlines():\n",
    "    start_pos=line.split(\"\\t\")[9]\n",
    "    if start_pos not in repeat_start_pos:\n",
    "        if str(int(start_pos)+1) not in repeat_start_pos:\n",
    "            if str(int(start_pos)-1) not in repeat_start_pos:\n",
    "                print(line) "
   ]
  },
  {
   "cell_type": "markdown",
   "metadata": {},
   "source": [
    "## extract sequences"
   ]
  },
  {
   "cell_type": "code",
   "execution_count": 10,
   "metadata": {},
   "outputs": [],
   "source": [
    "matched_rep_start=29558 #trovato sul minus strand...\n",
    "matched_rep_stop=29584 "
   ]
  },
  {
   "cell_type": "code",
   "execution_count": 14,
   "metadata": {},
   "outputs": [
    {
     "name": "stdout",
     "output_type": "stream",
     "text": [
      "ATATCTGATTTGGAAAGGAAGCTATAA\n"
     ]
    },
    {
     "data": {
      "text/plain": [
       "27"
      ]
     },
     "execution_count": 14,
     "metadata": {},
     "output_type": "execute_result"
    }
   ],
   "source": [
    "# this is the sequence matching the repeat:\n",
    "matched_rep=Seq(\"TTATAGCTTCCTTTCCAAATCAGATAT\") #dropped one gap\n",
    "\n",
    "#rpts which match:\n",
    "rpt1=Seq(unique_repeats[0])\n",
    "rpt2=Seq(unique_repeats[1])\n",
    "\n",
    "# since repeat is on the + strand, and this is all on the + strand, tracrRNA should be its reverse complement:\n",
    "antirepeat=matched_rep.reverse_complement()\n",
    "#this should go frombo to bo  = x nt  (x+1)\n",
    "print(antirepeat)\n",
    "len(antirepeat)"
   ]
  },
  {
   "cell_type": "code",
   "execution_count": 15,
   "metadata": {
    "scrolled": false
   },
   "outputs": [
    {
     "name": "stdout",
     "output_type": "stream",
     "text": [
      " 2894  Rnamotif + TGCTGAAAAAACTGATGACTTCCGTCGGTTTTGAAACTAT -5.60\n",
      "\n",
      "20646  Rnamotif - TCCAAAACGTCGGCGATGGATTTGCCcTTATATTTGACT -6.00\n",
      "\n",
      "21411  Rnamotif - TTGCTCAAGTTGCTTTTTTTCTGAAAGAGCTTTTTCGATTCC -5.80\n",
      "\n",
      "23468      Both - TATAACCGTACCGTGAGATATAGCTCGCGcTCTTATATTATA -7.40\n",
      "\n",
      "24059      Both - AACAAAAAAAAGCACAGTAATATACTGTGCTTTATTATAGCAT -10.50\n",
      "\n",
      "24061      Both + GCTATAATAAAGCACAGTATATTACTGTGCTTTTTTTTGTTA -10.50\n",
      "\n",
      "24135      Both - AAAACAAAAAAGCCGTTGATATTCAACGGCTTAATTTGAATCT -11.80\n",
      "\n",
      "24137      Both + ATTCAAATTAAGCCGTTGAATATCAACGGCTTTTTTGTTTTT -11.80\n",
      "\n",
      "24950      Both - AAAATTCGGAAGCTTTTGCCGCCGGAATTTACTGGAAAAGCTTTTTTACGGATT NA\n",
      "\n",
      "26355  Rnamotif - GTTATGTCAAACGGTATTTGGAAGATGCCGTTGATTTTTCCG -7.40\n",
      "\n",
      "27839  Rnamotif + TAAACGGCTACGCCCTTGTTTGGGCcTTTTTGCGTCGT -7.80\n",
      "\n"
     ]
    }
   ],
   "source": [
    "# print terminators\n",
    "\n",
    "f=open(blast_folder+str(SGB)+\"__\"+seqid+\"__\"+genomename+\".terminators\")\n",
    "for line in f.readlines():\n",
    "    if line.strip().startswith(\"2\"):\n",
    "        print(line)\n",
    "f.close()"
   ]
  },
  {
   "cell_type": "code",
   "execution_count": 7,
   "metadata": {},
   "outputs": [
    {
     "name": "stdout",
     "output_type": "stream",
     "text": [
      "38\n"
     ]
    }
   ],
   "source": [
    "# this is the rho-independent trnascription terminator,\n",
    "\n",
    "terminator_end=27839-1 # (sarebe 1463-1, for indexing reasons) sarebbe la fine xke prendiamo il rev comp remembra. che ha senso xke l'antirepeat è a 14729, che è dopo\n",
    " #oppure, ce n'è uno con TTTTTTT a 14653...\n",
    "terminator=Seq(\"TAAACGGCTACGCCCTTGTTTGGGCcTTTTTGCGTCGT\".upper()).reverse_complement() # un po' torna che il blast sia sul - e questo sia sul + , solo xke di solito era il contrario. xrò è trpp lungo.. # da aggiuntere .reverse_complement() se lo strand indicato è + ?\n",
    "print(len(terminator))\n",
    "terminator_start=terminator_end+len(terminator) #occhio che qui start e stop si riferisce al rev.compl, mentre nel antirepeat si riferisce alla direzione base"
   ]
  },
  {
   "cell_type": "code",
   "execution_count": 16,
   "metadata": {},
   "outputs": [
    {
     "name": "stdout",
     "output_type": "stream",
     "text": [
      "terminator length:  38\n"
     ]
    }
   ],
   "source": [
    "#se terminator on + strand:\n",
    "terminator_start=27839#18895-1\n",
    "terminator=Seq(\"TAAACGGCTACGCCCTTGTTTGGGCcTTTTTGCGTCGT\".upper())\n",
    "print(\"terminator length: \", len(terminator))\n",
    "terminator_end=terminator_start+len(terminator)"
   ]
  },
  {
   "cell_type": "code",
   "execution_count": 18,
   "metadata": {},
   "outputs": [
    {
     "name": "stdout",
     "output_type": "stream",
     "text": [
      "test repeat:  ATATCTGATTTGGAAAGGAAGCTATAA 27 True\n",
      "ATATCTGATTTGGAAAGGAAGCTATAA\n",
      "test terminator:  TAAACGGCTACGCCCTTGTTTGGGCCTTTTTGCGTCGT 38 False\n",
      "pre tracrRNA:  0\n",
      "mario sequence: AAAATCAAAAAAGTTTCTTTATCAAAAGAATATTACGGAATGTAGTTTCCGTCAAGTGTAATTTTTACTTTCGGAATAAGACGCCTAGGATTGCGGTTTTCCCGGACAGTGAAAGAAAAAGCGCAAAACTGCCGTTTTTAAGAAAGTCCGTTTTAAGGTTGAAAATGTTTTTTTATGTATCGGTGCAGCGTACTCCAGCTGCATTCGAATTCCCGGGCGATTTCCGCTTGTGAAATGTTGCGGGCCAGCATCCGTTCGATCTGCCGGTGATGTTTTGCCAGTTTTTGGTAATTGAAACCATAAGGGCGGCCCAAGTGTCGTCCTTCGGATTTCAATCGTTTGAGAGATTCTCTGGTCCTTTGCGAAATCAACTGGCGTTCAATTTCCCCGGACAGGGAAAAGGCAAAAGCGAGGACTTTTGATTGGATGTCGGCTCCCAGTCGGTAATTTTCCTTCAATGTCCAAATTTGGCATTCTTTTTCCAGACATTTTTGCAAAATGCCCATCACTTCCAACATGTTGCGTCCAAGTCTTGATATTTCGGTGGCAACGATGACGTCTCCCGCTTTTATCTTTTGCAGGAGTTTTCCCAGTTTGCGCTGTTTCAGCTCTTTGCGCGACGAAATGGTTTCCGTGATCCAGGCGTCGATTTTAAGGTGCTGCCGCTTTGAAAATTCTTTAATTTCGTGGTGTTGGTTTTCGATGTTTTGATGGTCGGTTGAAACGCGCACATATCCATATATCATGATCAGTTCCTCGTAAAAAGTTTTTAACTCGGAAAGACCATATCATTTAAAAGAGCGTTTATTTTCTTCACTTAAAAATAATAACACAAGTTTTGTCCAAAATCCGCAGGGGCGGTGCCGCCAAAGAAAGCATGTATCCGGAGATCGGCCGGGGAGAAGCGCAGTTCGCAGCCAAAGGCTGTTTGGCAACCTTGGGAGAAGAGGGGGCAGTGACAATCCGCGCGGTCCGGTGTTGCGTGAGTGCGGCAATAGTCCGTTCGCTTTTCAGCCGGTTGGCGAAAAACAAAAATTTCTTGCATAAACCTTTTAATATGCTAATGTTTTAATATATTACAATTTTTAAGGCTGGCGGGATGAAAAAGAAAATTTTTGGTTTTGATTTGGGGATTGCTTCGATTGGCTGGGCGGTTATTGATCATAGTGATGAAAATTTTGATCCGGAAACAGGAGAGATTATTGAAGGAAAAGTCGTTGGCTGCGGAGTGCGCTGTTTTCCGGTAGCGGAAAACCCGAAGGACGGTTCCTCGCTGGCGGCGCCCCGGCGGGAAAAACGCTTGTTGCGCCGGATCACCCGCCGCAAGGCCAGGAGAATGCTTGGTATTAAACGTCTGTTTGTCGCCAAGGGACTGGTCGCTTCAACGACGGAACTGGAAGCGCTTTATGCCGAGCAAACAGGCGGCGACGTTTGGAATCTGCGTGCAGAGGCCTTGCGGCGTCCGCTGTCAAAAGAGGAACTGCTGCGGGTTTTGACCCATCTGGCAAAACATCGCGGTTTCAAGTCTTACCGTAAGGCTGCTGAAGAGGCGGACAAGGAAAGCGGCCGCATCTTGACGGCGATTGCGGAAAACCGGAAGGAAACGGTCGGTTTTCAAACGCTGGCGCAGATGATCGTTGAACGGGCCAAACATTCCGATGATCACAAAATGCGCAACTATACGACGCAAAAAGGCCCAAACAAGGGCGTAGCCGTTT 1718\n"
     ]
    }
   ],
   "source": [
    "# Open genome and extract the whole sequence\n",
    "# find this inside the genome, and link it to the thing found by ARNold:\n",
    "for record in SeqIO.parse(\"/shares/CIBIO-Storage/CM/scratch/tmp_projects/signorini_cas/selected_loci/\"+seqid+\"/\"+genomename+\".fa\", \"fasta\"):\n",
    "    if record.id==contigname:\n",
    "        contigseq=record.seq\n",
    "\n",
    "#check antirepeat\n",
    "print(\"test repeat: \", antirepeat, len(antirepeat), contigseq[matched_rep_start-1:matched_rep_stop]==antirepeat) # -1 why? Indexing diverso evidentemente col blastout, vbb # ho levato il .rev_compl xke è tt su questostrand il tracrRNA\n",
    "print(contigseq[matched_rep_start-1:matched_rep_stop])\n",
    "# check terminator\n",
    "print(\"test terminator: \" ,terminator, len(terminator), contigseq[terminator_end:terminator_start].reverse_complement()==terminator)\n",
    "\n",
    "pre_tracrRNA=contigseq[matched_rep_start:terminator_end]\n",
    "print(\"pre tracrRNA:\", pre_tracrRNA, len(pre_tracrRNA))\n",
    "\n",
    "# add mario\n",
    "mario=contigseq[terminator_start:matched_rep_start-1].reverse_complement()\n",
    "print(\"mario sequence:\",  mario, len(mario))  # ho fatto i check, il -1 sopra è giusto"
   ]
  },
  {
   "cell_type": "markdown",
   "metadata": {},
   "source": [
    "hmmm"
   ]
  },
  {
   "cell_type": "code",
   "execution_count": 22,
   "metadata": {},
   "outputs": [
    {
     "name": "stdout",
     "output_type": "stream",
     "text": [
      "GCCT-TG-AGCACGCA-CCCTTCCCCAAGGTGATACGCT\n",
      "|  | || ||| |||  |||||||||||||||  |\n",
      "G--TCTGGAGC-CGC-GCCCTTCCCCAAGGTG--A----\n",
      "  Score=26\n",
      "\n",
      "rpt length: 36\n"
     ]
    }
   ],
   "source": [
    "# Now, align with the rest of the stuff to see what's up\n",
    "# first up, with the repeat, lets take the rpt3, which has only got 1 mismatch\n",
    "\n",
    "alignments = pairwise2.align.localxx(rpt1, antirepeat.reverse_complement())\n",
    "print(pairwise2.format_alignment(*alignments[0]))\n",
    "print(\"rpt length:\", len(rpt1))\n"
   ]
  },
  {
   "cell_type": "code",
   "execution_count": 24,
   "metadata": {},
   "outputs": [
    {
     "name": "stdout",
     "output_type": "stream",
     "text": [
      "AAGCCTCAAAAAAAGAAGACTGATTCGACCTCAGATCTACATCTGCGATTCATTTTTTTCGAGACGAAATGCGCCGGCACGTCGCGCTTCACGCAAGAAAAGAGCCGTATTCGGCACAGAGATTTATGTACTTTTCTTCACAATCGAATCAATCCTTAGGCATAAAATTGCTCAAAAGGACCCGCCTAAATGCTATTCATAGCTACCGTTTACGGAATACTGGCTAACACTCGCCCAAAAAAGTTCGCCCCGCCCAATCCGAAGATTGAACGGGGGTTACTTTACGGGTAAGCCACTTAAGTGGCTCCCCTT\n",
      "                                                                                                                                                                                       | |      |   |  | |  |  |    |     ||  |    ||    |||       ||     | |||||   |  |  |        |       |    |     ||       |     | |\n",
      "---------------------------------------------------------------------------------------------------------------------------------------------------------------------------------------G-C------C---T--T-G--A--G----C-----AC--G----CA----CCC-------TT-----C-CCCAA---G--G--T--------G-------A----T-----AC-------G-----C-T\n",
      "  Score=36\n",
      "\n"
     ]
    }
   ],
   "source": [
    "# align antirepat + mario with repeat\n",
    "alignments = pairwise2.align.globalxx((mario).reverse_complement(), rpt1)\n",
    "print(pairwise2.format_alignment(*alignments[0]))"
   ]
  },
  {
   "cell_type": "code",
   "execution_count": 25,
   "metadata": {},
   "outputs": [
    {
     "name": "stdout",
     "output_type": "stream",
     "text": [
      "\n",
      "----------------------------------------------------------------------\n",
      "         tracrRNA sequence for Cas9 protein id LJKGNKPJ_00564\n",
      "----------------------------------------------------------------------\n",
      "\n",
      "- contig name: NODE_211_length_45519_cov_7.71687\n",
      "- Dataset:  KarlssonFH_2013\n",
      "- Bin:  KarlssonFH_2013__S420__bin.8\n",
      "- SGB:  14454\n",
      "----------------------------------------------------------------------\n",
      "\n",
      "- Length:  381 \n",
      "- position:  13889 14270\n",
      "TCACCTTGGGGAAGGGCGCGGCTCCAGACAAGGGGAGCCACTTAAGTGGCTTACCCGTAAAGTAACCCCCGTTCAATCTTCGGATTGGGCGGGGCGAACTTTTTTGGGCGAGTGTTAGCCAGTATTCCGTAAACGGTAGCTATGAATAGCATTTAGGCGGGTCCTTTTGAGCAATTTTATGCCTAAGGATTGATTCGATTGTGAAGAAAAGTACATAAATCTCTGTGCCGAATACGGCTCTTTTCTTGCGTGAAGCGCGACGTGCCGGCGCATTTCGTCTCGAAAAAAATGAATCGCAGATGTAGATCTGAGGTCGAATCAGTCTTCTTTTTTTGAGGCTTGAAACAGAAAAGCCCCTGTTAAAGGGGCTTTTCTGTGCGC\n"
     ]
    }
   ],
   "source": [
    "# I would probably say that the tracr is just, simply la parte di pre_tracrRNA la cui antirepeat si lega alla repeat, \n",
    "# che, in questo caso, è tutta.\n",
    "tracrRNA = pre_tracrRNA\n",
    "\n",
    "print(\"\\n----------------------------------------------------------------------\")\n",
    "print(\"         tracrRNA sequence for\", feature,\"protein id\", seqid)\n",
    "print(\"----------------------------------------------------------------------\\n\")\n",
    "print(\"- contig name:\", cas_dataset[cas_dataset[\"Seq ID\"]==seqid][\"Contig\"].iloc[0])\n",
    "print(\"- Dataset: \",cas_dataset[cas_dataset[\"Seq ID\"]==seqid][\"Study\"].iloc[0])\n",
    "print(\"- Bin: \",cas_dataset[cas_dataset[\"Seq ID\"]==seqid][\"Genome Name\"].iloc[0])\n",
    "print(\"- SGB: \",cas_dataset[cas_dataset[\"Seq ID\"]==seqid][\"SGB ID\"].iloc[0])\n",
    "print(\"----------------------------------------------------------------------\\n\")\n",
    "print(\"- Length: \", len(tracrRNA),\"\\n- position: \", terminator_end,matched_rep_stop)\n",
    "print(tracrRNA)"
   ]
  },
  {
   "cell_type": "code",
   "execution_count": null,
   "metadata": {},
   "outputs": [],
   "source": []
  }
 ],
 "metadata": {
  "kernelspec": {
   "display_name": "Python 3",
   "language": "python",
   "name": "python3"
  },
  "language_info": {
   "codemirror_mode": {
    "name": "ipython",
    "version": 3
   },
   "file_extension": ".py",
   "mimetype": "text/x-python",
   "name": "python",
   "nbconvert_exporter": "python",
   "pygments_lexer": "ipython3",
   "version": "3.7.3"
  }
 },
 "nbformat": 4,
 "nbformat_minor": 2
}
