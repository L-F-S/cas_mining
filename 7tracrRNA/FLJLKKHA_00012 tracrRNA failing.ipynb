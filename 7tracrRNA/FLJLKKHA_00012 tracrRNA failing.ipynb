{
 "cells": [
  {
   "cell_type": "markdown",
   "metadata": {},
   "source": [
    "# find tracerRNA\n",
    "\n",
    "of FLJLKKHA_00012\n",
    "problem: ha 2 active working cas loci. e il tracr mi sa che l'ha trovato in tutti e due, ma solo uno è segnato.\n",
    "l'altro (greppato a mano) è:\n",
    "\n",
    "- Cas9 : NODE_49_length_176785_cov_12.2725       Prodigal:2.6    CDS     15614   18553   .       -       0       ID=FLJLKKHA_00012;Parent=FLJLKKHA_00012_gene;eC_number=3.1.-.-;Name=cas9_1;gene=cas9_1;inference=ab initio prediction:Prodigal:2.6,similar to AA sequence:UniProtKB:Q9CLT2;locus_tag=FLJLKKHA_00012;product=CRISPR-associated endonuclease Cas9;protein_id=gnl|X|FLJLKKHA_00012\n",
    "- Cas1 : NODE_49_length_176785_cov_12.2725       Prodigal:2.6    CDS     14715   15614   .       -       0       ID=FLJLKKHA_00011;Parent=FLJLKKHA_00011_gene;eC_number=3.1.-.-;Name=cas1_1;gene=cas1_1;inference=ab initio prediction:Prodigal:2.6,similar to AA sequence:UniProtKB:G3ECR2;locus_tag=FLJLKKHA_00011;product=CRISPR-associated endonuclease Cas1;protein_id=gnl|X|FLJLKKHA_00011\n",
    "- Cas2 : NODE_49_length_176785_cov_12.2725       Prodigal:2.6    CDS     14378   14707   .       -       0       ID=FLJLKKHA_00010;Parent=FLJLKKHA_00010_gene;eC_number=3.1.-.-;Name=cas2_1;gene=cas2_1;inference=ab initio prediction:Prodigal:2.6,similar to AA sequence:UniProtKB:G3ECR3;locus_tag=FLJLKKHA_00010;product=CRISPR-associated endoribonuclease Cas2;protein_id=gnl|X|FLJLKKHA_00010\n",
    "\n",
    "mentre le Cas1,2,9 segnate giu, appartengono al contig:\n",
    "\n",
    "NODE_56_length_167430_cov_15.277\n"
   ]
  },
  {
   "cell_type": "code",
   "execution_count": 2,
   "metadata": {},
   "outputs": [],
   "source": [
    "# First created Thu Jul 11 09:51:15 CEST 2019\n",
    "# Made by L-F-S\n",
    "# At the University Of Trento, Italy\n",
    "\n",
    "import os\n",
    "import sys\n",
    "import numpy as np\n",
    "import pandas as pd\n",
    "import matplotlib.pyplot as plt\n",
    "from Bio import SeqIO\n",
    "from Bio.Seq import Seq\n",
    "from Bio.Alphabet import generic_dna, generic_protein, RNAAlphabet\n",
    "from Bio import pairwise2\n",
    "\n",
    "\n",
    "sys.path.insert(0, '/home/lorenzo.signorini/cas_mining/utils/')\n",
    "import filename_discrepancies\n",
    "\n",
    "feature=\"Cas9\" #WARNING!!! CHANGE THIS!!\n",
    "#outpath=\"/shares/CIBIO-Storage/CM/scratch/tmp_projects/signorini_cas/5caslocitable/out/\"+feature+\"/\"\n",
    "datadir=\"/shares/CIBIO-Storage/CM/scratch/tmp_projects/signorini_cas/\"\n",
    "\n",
    "\n"
   ]
  },
  {
   "cell_type": "code",
   "execution_count": 3,
   "metadata": {
    "scrolled": true
   },
   "outputs": [
    {
     "data": {
      "text/plain": [
       "Index(['Seq ID', 'Seq Description', 'Seq', 'Contig', 'Genome Name', 'Study',\n",
       "       'Sample Name', 'SGB ID', 'pilercr_CRISPR', 'minced_CRISPR',\n",
       "       'prokka_cas1', 'prokka_cas2', 'uSGB', 'Level of estimated taxonomy',\n",
       "       'Estimated taxonomy'],\n",
       "      dtype='object')"
      ]
     },
     "execution_count": 3,
     "metadata": {},
     "output_type": "execute_result"
    }
   ],
   "source": [
    "# Import data\n",
    "cas_dataset=pd.read_csv(\"/shares/CIBIO-Storage/CM/scratch/tmp_projects/signorini_cas/5caslocitable/known_\"+feature+\"_variants_table.csv\", index_col=0)\n",
    "cas_dataset.columns"
   ]
  },
  {
   "cell_type": "code",
   "execution_count": 4,
   "metadata": {},
   "outputs": [
    {
     "data": {
      "text/plain": [
       "Index(['Unnamed: 0.1', 'Genome Name', 'Study', 'Sample Name', 'Assembler',\n",
       "       'Genome Size', 'N50', '# Contigs', 'Completeness', 'Contamination',\n",
       "       'Strain Heterogeneity', 'SGB ID', 'pilercr_CRISPR', 'minced_CRISPR',\n",
       "       'prokka_CRISPR', 'prokka_cas', 'uniref_cas'],\n",
       "      dtype='object')"
      ]
     },
     "execution_count": 4,
     "metadata": {},
     "output_type": "execute_result"
    }
   ],
   "source": [
    "tabellazza=pd.read_csv(datadir+\"/3tabellazza/crisprcas_hits_table.csv\", index_col=0)\n",
    "tabellazza.columns"
   ]
  },
  {
   "cell_type": "code",
   "execution_count": 5,
   "metadata": {},
   "outputs": [
    {
     "name": "stdout",
     "output_type": "stream",
     "text": [
      "SEQ ID:  FLJLKKHA_00012\n",
      "NODE_49_length_176785_cov_12.2725\n",
      "BritoIL_2016\n",
      "BritoIL_2016__M1.29.ST__bin.30\n",
      "979\n",
      "[('.', '13625', '14320')]\n",
      "----------------------------------------------------------------------\n"
     ]
    }
   ],
   "source": [
    "seqid =\"FLJLKKHA_00012\"\n",
    "print(\"SEQ ID: \", seqid)\n",
    "print(cas_dataset[cas_dataset[\"Seq ID\"]==seqid][\"Contig\"].iloc[0])\n",
    "print(cas_dataset[cas_dataset[\"Seq ID\"]==seqid][\"Study\"].iloc[0])\n",
    "print(cas_dataset[cas_dataset[\"Seq ID\"]==seqid][\"Genome Name\"].iloc[0])\n",
    "print(len(cas_dataset[cas_dataset[\"Seq ID\"]==seqid][\"Seq\"].iloc[0]))\n",
    "print(cas_dataset[cas_dataset[\"Seq ID\"]==seqid][\"minced_CRISPR\"].iloc[0])\n",
    "print(\"----------------------------------------------------------------------\")\n"
   ]
  },
  {
   "cell_type": "code",
   "execution_count": 6,
   "metadata": {
    "scrolled": false
   },
   "outputs": [
    {
     "name": "stdout",
     "output_type": "stream",
     "text": [
      "\n",
      "-----------------------------------------------------\n",
      "Cas9 id:\tFLJLKKHA_00012\n",
      "SGB:\t9311\n",
      "Genome Name:\t BritoIL_2016__M1.29.ST__bin.30\n",
      "Contig:\tNODE_49_length_176785_cov_12.2725 \n",
      "-----------------------------------------------------\n",
      "\n",
      "Sequence 'NODE_49_length_176785_cov_12.2725' (176785 bp)\n",
      "\n",
      "\n",
      "\n",
      "CRISPR 1   Range: 13625 - 14320\n",
      "\n",
      "POSITION\tREPEAT\t\t\t\tSPACER\n",
      "\n",
      "--------\t------------------------------------\t------------------------------\n",
      "\n",
      "13625\t\tGTTATCGCTTCCTTTCCAGCCTAAACGCGGTATAAT\tGCGGGTTGGTCCTTCGGCGCTTCGCTCTCT\t[ 36, 30 ]\n",
      "\n",
      "13691\t\tGTTATCGCTTCCTTTCCAATCAAAACGCGGTATAAT\tCGGCCTCGGCAACAGATACACCGTCAACCT\t[ 36, 30 ]\n",
      "\n",
      "13757\t\tGTTATCGCTTCCTTTCCAATCAAAACGCGGTATAAT\tACCTTGCCCTTTGTTTGTTTTGGAAATCGT\t[ 36, 30 ]\n",
      "\n",
      "13823\t\tGTTATCGCTTCCTTTCCAATCAAAACGCGGTATAAT\tTCGTTCTTCAACCCCTGCAACCCATACTGA\t[ 36, 30 ]\n",
      "\n",
      "13889\t\tGTTATCGCTTCCTTTCCAATCAAAACGCGGTATAAT\tCTGCCACCGCGCCGAAAACACCCGCCGCAA\t[ 36, 30 ]\n",
      "\n",
      "13955\t\tGTTATCGCTTCCTTTCCAATCAAAACGCGGTATAAT\tCGGCGTAAATGCGTTTTGACGCGTATCCGT\t[ 36, 30 ]\n",
      "\n",
      "14021\t\tGTTATCGCTTCCTTTCCAATCAAAACGCGGTATAAT\tCTATATCATTAAAACAAGCGACGGGATACA\t[ 36, 30 ]\n",
      "\n",
      "14087\t\tGTTATCGCTTCCTTTCCAATCAAAACGCGGTATAAT\tTCCGCTTCCGCCGTTTTGGACTGATATTTA\t[ 36, 30 ]\n",
      "\n",
      "14153\t\tGTTATCGCTTCCTTTCCAATCAAAACGCGGTATAAT\tTAATCCGCTTTCCCGTTTGATAGGTGATTA\t[ 36, 30 ]\n",
      "\n",
      "14219\t\tGTTATCGCTTCCTTTCCAATCAAAACGCGGTATAAT\tAGGCTTCTACGGCTTTCCGCTGTTTACTAA\t[ 36, 30 ]\n",
      "\n",
      "14285\t\tGTTATCGCTTCCTTTCCAATCAAAACGCGGTATAAT\t\n",
      "\n",
      "--------\t------------------------------------\t------------------------------\n",
      "\n",
      "Repeats: 11\tAverage Length: 36\t\tAverage Length: 30\n",
      "\n",
      "\n",
      "\n",
      "Time to find repeats: 347 ms\n",
      "\n",
      "\n",
      "\n",
      "\n",
      "\n",
      "Sequence 'NODE_56_length_167430_cov_15.277' (167430 bp)\n",
      "\n",
      "\n",
      "\n",
      "CRISPR 2   Range: 102979 - 105260\n",
      "\n",
      "POSITION\tREPEAT\t\t\t\tSPACER\n",
      "\n",
      "--------\t------------------------------------\t------------------------------\n",
      "\n",
      "102979\t\tATTATAGCAGATGTTTATTTTGTGTCAAACCGCAAC\tCAACATAAAATTCATTGTATTCCCCTATCT\t[ 36, 30 ]\n",
      "\n",
      "103045\t\tATTATAGCAGATGTTTATTTTGTGTCAAACCGCAAC\tAGTACAAGCCGTCATCCGACGGATGCGGGT\t[ 36, 30 ]\n",
      "\n",
      "103111\t\tATTATAGCAGATGTTTATTTTGTGTCAAACCGCAAC\tGAAGAAAACGTCCGCTTGCGTAAAGCGTTG\t[ 36, 30 ]\n",
      "\n",
      "103177\t\tATTATAGCAGATGTTTATTTTGTGTCAAACCGCAAC\tCAAATTCAGCAAGCCCTGCGACAACGCGAT\t[ 36, 30 ]\n",
      "\n",
      "103243\t\tATTATAGCAGATGTTTATTTTGTGTCAAACCGCAAC\tGTCAGTTCTGTTTCATTGTATCCGAGTTTA\t[ 36, 30 ]\n",
      "\n",
      "103309\t\tATTATAGCAGATGTTTATTTTGTGTCAAACCGCAAC\tTCGGTGAGGTTACCGTTTATTCAGCAAATT\t[ 36, 30 ]\n",
      "\n",
      "103375\t\tATTATAGCAGATGTTTATTTTGTGTCAAACCGCAAC\tACAGGAGCTTGAGAAATGACAACGTATTTT\t[ 36, 30 ]\n",
      "\n",
      "103441\t\tATTATAGCAGATGTTTATTTTGTGTCAAACCGCAAC\tATTCCCGCCGATATGGTTGGCAGGGACAGC\t[ 36, 30 ]\n",
      "\n",
      "103507\t\tATTATAGCAGATGTTTATTTTGTGTCAAACCGCAAC\tCGCGCGTTTTGTCTGTTCCTTATTGCGCCG\t[ 36, 30 ]\n",
      "\n",
      "103573\t\tATTATAGCAGATGTTTATTTTGTGTCAAACCGCAAC\tCAATTATTACACCGATTGGACACAACGAAC\t[ 36, 30 ]\n",
      "\n",
      "103639\t\tATTATAGCAGATGTTTATTTTGTGTCAAACCGCAAC\tGGCGTTTCCGTTCCGTGCCTATGCGTTGAC\t[ 36, 30 ]\n",
      "\n",
      "103705\t\tATTATAGCAGATGTTTATTTTGTGTCAAACCGCAAC\tCAGTTCGGCGGTATCGGCTTATTCTGATGA\t[ 36, 30 ]\n",
      "\n",
      "103771\t\tATTATAGCAGATGTTTATTTTGTGTCAAACCGCAAC\tCTTGTGGCGAATATGGAGATAAAACTAAG\t[ 36, 29 ]\n",
      "\n",
      "103836\t\tATTATAGCAGATGTTTATTTTGTGTCAAACCGCAAC\tAAGAGCGAAATTCTGGTATTTCAAACGTCG\t[ 36, 30 ]\n",
      "\n",
      "103902\t\tATTATAGCAGATGTTTATTTTGTGTCAAACCGCAAC\tACGGTAAGGTTCGTTATTTTGCGTGTGGCGA\t[ 36, 31 ]\n",
      "\n",
      "103969\t\tATTATAGCAGATGTTTATTTTGTGTCAAACCGCAAC\tAAGAGCATTGCACTTTCGTCACGTTAACGT\t[ 36, 30 ]\n",
      "\n",
      "104035\t\tATTATAGCAGATGTTTATTTTGTGTCAAACCGCAAC\tACGATCGCGAAGCTCATCGATATGAGCTTT\t[ 36, 30 ]\n",
      "\n",
      "104101\t\tATTATAGCAGATGTTTATTTTGTGTCAAACCGCAAC\tACGGTAAAGTGCGTTATTTTGCTTGTGGCG\t[ 36, 30 ]\n",
      "\n",
      "104167\t\tATTATAGCAGATGTTTATTTTGTGTCAAACCGCAAC\tCGGTCTTAACAAGAATGATGCCGATGGTTC\t[ 36, 30 ]\n",
      "\n",
      "104233\t\tATTATAGCAGATGTTTATTTTGTGTCAAACCGCAAC\tAAGCGGCAGAGTATTGTGATGCGGATTTGG\t[ 36, 30 ]\n",
      "\n",
      "104299\t\tATTATAGCAGATGTTTATTTTGTGTCAAACCGCAAC\tATATAGCCACTGGCGACGAATACCCTGCAT\t[ 36, 30 ]\n",
      "\n",
      "104365\t\tATTATAGCAGATGTTTATTTTGTGTCAAACCGCAAC\tTAAGGCGGTGCTTTATGGTCGGCGACAAAT\t[ 36, 30 ]\n",
      "\n",
      "104431\t\tATTATAGCAGATGTTTATTTTGTGTCAAACCGCAAC\tAGCCCTTGCCCTACAGGACATATTCCCAAC\t[ 36, 30 ]\n",
      "\n",
      "104497\t\tATTATAGCAGATGTTTATTTTGTGTCAAACCGCAAC\tAAACTGGATTTAGGTAGCGGAATAGAGAGA\t[ 36, 30 ]\n",
      "\n",
      "104563\t\tATTATAGCAGATGTTTATTTTGTGTCAAACCGCAAC\tATAGCGTCATTATTGATGATTATCCGCCTT\t[ 36, 30 ]\n",
      "\n",
      "104629\t\tATTATAGCAGATGTTTATTTTGTGTCAAACCGCAAC\tATACCTGTTGCAAGGTCTTGCTTGAGAAGC\t[ 36, 30 ]\n",
      "\n",
      "104695\t\tATTATAGCAGATGTTTATTTTGTGTCAAACCGCAAC\tACAATCTGTTTAGCTTTCGCGTGCTTTTCT\t[ 36, 30 ]\n",
      "\n",
      "104761\t\tATTATAGCAGATGTTTATTTTGTGTCAAACCGCAAC\tCGGGCGTATCGTGTAGCGAAAGCCACACTC\t[ 36, 30 ]\n",
      "\n",
      "104827\t\tATTATAGCAGATGTTTATTTTGTGTCAAACCGCAAC\tTGAATAATTATTTCGGTAAGAAAGCTGCTAAA\t[ 36, 32 ]\n",
      "\n",
      "104895\t\tATTATAGCAGATGTTTATTTTGTGTCAAACCGCAAC\tCAACTATCGGTTTACCGTTAGAGGCTTCTT\t[ 36, 30 ]\n",
      "\n",
      "104961\t\tATTATAGCAGATGTTTATTTTGTGTCAAACCGCAAC\tCATTTCATTGCATCTTCGGCAGCTTCCGTC\t[ 36, 30 ]\n",
      "\n",
      "105027\t\tATTATAGCAGATGTTTATTTTGTGTCAAACCGCAAC\tTTGTTTGTGTTGTTTGATAGGAAAGCGGAA\t[ 36, 30 ]\n",
      "\n",
      "105093\t\tATTATAGCAGATGTTTATTTTGTGTCAAACCGCAAC\tTTTGTTTGTCGTTGCGATTCATATGAATCG\t[ 36, 30 ]\n",
      "\n",
      "105159\t\tATTATAGCAGATGTTTATTTTGTGTCAAACCGCAAC\tCCGTACTTCGCGCGGAAGGATTCAACCGCC\t[ 36, 30 ]\n",
      "\n",
      "105225\t\tATTATAGCAGATGTTTATTTTGTGTCAAACCGCAAC\t\n",
      "\n",
      "--------\t------------------------------------\t------------------------------\n",
      "\n",
      "Repeats: 35\tAverage Length: 36\t\tAverage Length: 30\n",
      "\n",
      "\n",
      "\n",
      "Time to find repeats: 153 ms\n",
      "\n",
      "\n",
      "\n",
      "\n",
      "\n",
      "Retrieving locus\n",
      "CRISPR si trova 13625 14320\n",
      "Cas9 si trova [98503, 101700]\n",
      "Cas2 si trova [102599, 102928]\n",
      "Cas1 si trova [101693, 102598]\n",
      "1065.0 979\n",
      "Cas locus on minus strand\n",
      "Is Cas9 translated from the genome equal to the orignal annotation? False\n",
      "RQIRFVPHSGFDITALHR*KNWFWEI*YAKLAFVKQKKRFFHENGFQSVKRAFRHIRDAG*QIAVPPRFDAGRTGKRLYENQGFAGKRRRYGDLVRHAQTGG*HRKATRRNMDGCGRRFRLARARFRFGHGQRGHGNAAVGGTGLHSPV*NALYGRRQPLFPPDEPHHASFGANGGAV*NGAGRDFAHDRHRRESPQADYLSPARRVGASQIRRFAGGTEH*RRHDRHRTRRLEKPRSHRTHAARIRRGFGYCRRFGRRAHPHRSRQNLFDGVRFDRSRRHIVRRFSDCRRFDYPRFGAFPARHRNQPAQKRHSDGFKGHGGGHYA*KQPNRRGRTRRGHSRQIVRTARR*FARFACAVDD*RIPDSGNRRRFCRRKNDLARGVGAESQRKQPIRRDFKRTESERSRLFRPWQRHRNQGDGKKTLRRGTD*GKTGSQNCHVLFGNGHGGGKPRGGGRHIVDCDQFSELYRTDEQIGSKHS*LSRLTDRRRRAKARWRKTLPNISTTLFWTRADCTAPSDTPFCRRTKIRRMKPPRPKPPKRSTRKASTPF*KTPLCATKRQATRRPKSPSFPPCARLCWTCSAISPRTRFSRTAPPPKARCWTDATSERSFAPTRT*NSL*PPAPKSAPTAASRNCRTRTNPPTTTRF*RTSKNATNAIPNARPPP*NPRKTPAFWTRRT*TPRKCSNPRWTLSRLTTNKPICPNVSPRPSIPPAPN*FWGRCRG*NRWNKRSITPTRKTRSGGLWQSCSARPARSLRMTTS*ICSCRTILPCGT*FRPAPATAAWIPISATPSRTTLNAFSNNIRQ*RQSFSTGKKRTTAL*KRSKQHRSSTR*RLFPCRPPRPPTRICRLTTS*RRGACCCKNSICKQPRAAPYLSSRSPLGLWRSICRMPIAEAESMDCVVASLRAMTILLCFIRTDKG*DFRVTTSSLLVFSIFYLFSI**KNIQNHKEQIETPTPALGQKSAYNFSVAIHVCDFYRKGFLTPCSRFREQKKLIKLPLKRKAFLFRRKPLQNSLFSCIQSAKPQGTGGFVVFMCRPSDTTEWQVKS*RKFFNGNKKYSRRN\n",
      "start:  13625\n",
      "end:  102928\n",
      "let's now blast the repeat against  the genome\n",
      "Running blastn of query file agianst all contigs\n",
      "blastn -out /shares/CIBIO-Storage/CM/scratch/tmp_projects/signorini_cas/7tracrRNA/9311__FLJLKKHA_00012__BritoIL_2016__M1.29.ST__bin.30__Cas9.trcr.blastout -outfmt \"6  qseqid sseqid pident qlen length mismatch gapopen qseq sseq sstart send evalue sstrand\" -query temp_repeat_seq -db /shares/CIBIO-Storage/CM/scratch/tmp_projects/signorini_cas/7tracrRNA/tempblastdb -evalue 0.001 -word_size 11\n"
     ]
    }
   ],
   "source": [
    "spacers=[]\n",
    "repeats=[]\n",
    "repeat_start_pos=[]\n",
    "\n",
    "\n",
    "cas9_aa=cas_dataset[cas_dataset[\"Seq ID\"]==seqid][\"Seq\"].iloc[0]\n",
    "dataset=cas_dataset[cas_dataset[\"Seq ID\"]==seqid][\"Study\"].iloc[0]\n",
    "genomename=cas_dataset[cas_dataset[\"Seq ID\"]==seqid][\"Genome Name\"].iloc[0]\n",
    "SGB=cas_dataset[cas_dataset[\"Seq ID\"]==seqid][\"SGB ID\"].iloc[0]\n",
    "contigname=cas_dataset[cas_dataset[\"Seq ID\"]==seqid][\"Contig\"].iloc[0]\n",
    "print(\"\\n-----------------------------------------------------\\n\"+feature+\" id:\\t\"+seqid+\"\\nSGB:\\t\"+str(SGB)+\"\\nGenome Name:\\t\",\\\n",
    "      genomename+\"\\nContig:\\t\"+cas_dataset[cas_dataset[\"Seq ID\"]==seqid][\"Contig\"].iloc[0],\"\\n-----------------------------------------------------\\n\")\n",
    "\n",
    "######################################################################TODO THIS MUST BE INSIDE filename_discrepancies\n",
    "# take into account filename discrepancies\n",
    "if dataset.startswith(\"ZeeviD\"):  #TODO guarda se funziona quando finisci di girare minced_runner\n",
    "         s3_dataset=\"ZeeviD_2015\"\n",
    "         #genomename=filename_discrepancies.change_to_megahit(genomename)\n",
    "         s3_genomename=genomename\n",
    "         try:\n",
    "             genomename=genomename.replace(\"ZeeviD_2015\", \"ZeeviD_2015_B\")\n",
    "             prokkafile_ofsample=open(annodir+\"/justminced/ZeeviD_2015_B/\"+genomename+\".crisprcas.gff.minced\")\n",
    "             prokkafile_ofsample.close()\n",
    "             dataset=\"ZeeviD_2015_B\"\n",
    "         except:\n",
    "             genomename=genomename.replace(\"ZeeviD_2015_B\", \"ZeeviD_2015_A\")\n",
    "             dataset=\"ZeeviD_2015_A\"\n",
    "else:\n",
    "    s3_dataset=dataset\n",
    "    s3_genomename=genomename\n",
    "    dataset=filename_discrepancies.s3(s3_dataset,r=True) # get working dataset name from s3 dataset name\n",
    "    genomename=genomename.replace(s3_dataset, dataset)\n",
    "\n",
    "if filename_discrepancies.dataset_has_megahit(dataset,genomename):\n",
    "    genomename=filename_discrepancies.change_to_megahit(genomename)\n",
    "\n",
    "samplename = genomename.split(\"__\")[1]\n",
    "########################################################################\n",
    "\n",
    "# get CRISPR spacer and repeat sequence\n",
    "\n",
    "mincedCRISPRfilename=datadir+\"1crisprsearch/out/\"+s3_dataset+\"/\"+s3_genomename+\".fa.minced.out\"\n",
    "f=open(mincedCRISPRfilename, \"r\")\n",
    "for line in f.readlines():\n",
    "    print(line)\n",
    "    if line[0]== \"1\" or line[0]== \"2\" or line[0]== \"3\" or line[0]== \"4\" or line[0]== \"5\" or \\\n",
    "    line[0]== \"6\" or line[0]== \"7\" or line[0]== \"8\" or line[0]== \"9\" or line[0]== \"0\":\n",
    "\n",
    "        repeats.append(line.split(\"\\t\")[2])\n",
    "\n",
    "        repeat_start_pos.append(line.split(\"\\t\")[0])\n",
    "\n",
    "        if not line.split(\"\\t\")[3]==\"\\n\":\n",
    "            spacers.append(line.split(\"\\t\")[3])\n",
    "f.close()\n",
    "\n",
    "# get whole locus sequence todo this could become a function of its own, dentro utils, gli dai genomename della cas e/o seqid della cas (anzi famo solo seqid, che magari ci sn doppioni in genomi) e ti dà tt il locus\n",
    "\n",
    "# print start and stop of CRISPR\n",
    "unostranosplit=cas_dataset[cas_dataset[\"Seq ID\"]==seqid][\"minced_CRISPR\"].iloc[0].split(\"\\', \\'\")\n",
    "crispr_start, crispr_stop = int(unostranosplit[1]), int(unostranosplit[2].strip(\"\\')]\\\"\"))\n",
    "\n",
    "# > get start and stop position of all Cass. questo devi metterlo nella tabella di cas non ci sono santi.\n",
    "\n",
    "prokka_anno=tabellazza[tabellazza[\"Genome Name\"]==s3_genomename][\"prokka_cas\"].iloc[0]\n",
    "# so già che all casses inside here are on the same contig which is 'contig', xke le ho estratte per essere così\n",
    "\n",
    "prokkaslist=prokka_anno.split(\">\")\n",
    "prokkaslist.pop(0)\n",
    "# get contigname of current effectorcas   \n",
    "cas_position={}\n",
    "for casanno in prokkaslist:\n",
    "    unostranosplit=casanno.split(\"Name=\")\n",
    "    casnumber=unostranosplit[1][3] #because we know that we are loooking at 'good' loci, this is just going to be 9, 1 or 2\n",
    "    unaltrostranosplit=casanno.split(\"\\t\")\n",
    "    cas_start=unaltrostranosplit[3]\n",
    "    cas_stop=unaltrostranosplit[4]\n",
    "    cas_position[\"Cas\"+casnumber]=[int(cas_start),int(cas_stop)]\n",
    "\n",
    "genomefilename= \"/shares/CIBIO-Storage/CM/scratch/tmp_projects/epasolli_darkmatter/allcontigs/ALLreconstructedgenomes/\"+str(SGB)+\"/\"+genomename+\".fa\"\n",
    "print(\"Retrieving locus\")\n",
    "\n",
    "\n",
    "# access contig:\n",
    "\n",
    "for record in SeqIO.parse(genomefilename,\"fasta\"):  #c'è modo di non fare questo 'ciclo'?\n",
    "    if record.id.startswith(contigname):\n",
    "        #test se effettivamente la seq di cas è dove voglio io\n",
    "\n",
    "        SeqIO.write(record, \"/shares/CIBIO-Storage/CM/scratch/tmp_projects/signorini_cas/7tracrRNA/tempblastdb\", \"fasta\")\n",
    "        print(\"CRISPR si trova\", crispr_start, crispr_stop)\n",
    "        print(\"Cas9 si trova\", cas_position[\"Cas9\"])\n",
    "        print(\"Cas2 si trova\", cas_position[\"Cas2\"])\n",
    "        print(\"Cas1 si trova\", cas_position[\"Cas1\"])\n",
    "\n",
    "        #estrai la posizione di cas9 dal contig, e traducila\n",
    "        cas9start=[int(x) for x in cas_position[\"Cas9\"]][0]\n",
    "        cas9stop=[int(x) for x in cas_position[\"Cas9\"]][1]\n",
    "        cas9_nnseq=record.seq[cas9start-1:cas9stop-3] #gff should have a 1-based positional annotation (ma sto andando a occhio finchè non sono uguali, è già un oggetto Bio.Seq\n",
    "\n",
    "        my_translated_cas9=cas9_nnseq.transcribe().translate()\n",
    "\n",
    "  \n",
    "        print(len(cas9_nnseq)/3,len(cas9_aa))\n",
    "\n",
    "\n",
    "        if my_translated_cas9==cas9_aa:\n",
    "            print(\"Cas locus on plus strand\")\n",
    "            plus=True\n",
    "        if not my_translated_cas9==cas9_aa:\n",
    "            #proviamo col reverse complement\n",
    "            cas9_nnseq=record.seq[cas9start+2:cas9stop]\n",
    "            my_translated_cas9=cas9_nnseq.reverse_complement().transcribe().translate()\n",
    "            print(\"Cas locus on minus strand\")\n",
    "        print(\"Is Cas9 translated from the genome equal to the orignal annotation?\", my_translated_cas9==cas9_aa)\n",
    "        print(my_translated_cas9)\n",
    "\n",
    "        #extact a locus, 200 bp a monte e a valle dei cosi che ho:\n",
    "        starts, stops=[startstop[0]for startstop in cas_position.values()], [startstop[1]for startstop in cas_position.values() ]\n",
    "        minimo=min([crispr_start]+starts)\n",
    "        print(\"start: \", minimo)\n",
    "        massimo=max([crispr_stop]+stops)\n",
    "        print(\"end: \", massimo)\n",
    "\n",
    "        #opzione 1 blast\n",
    "      #1. salva np.uniq(repeats) in un fasta file: build temporary query file for blastn search\n",
    "\n",
    "        print(\"let's now blast the repeat against  the genome\")\n",
    "        blast_folder=\"/shares/CIBIO-Storage/CM/scratch/tmp_projects/signorini_cas/7tracrRNA/\"\n",
    "        os.chdir(blast_folder)\n",
    "        tempfile=open(\"temp_repeat_seq\", \"w\")\n",
    "        tempfile.close()\n",
    "        tempfile=open(\"temp_repeat_seq\", \"a\")\n",
    "        for n, repeat in enumerate([Seq(sequence) for sequence in np.unique(repeats)]):\n",
    "            tempfile.write(\">rpt\"+str(n+1)+\"|\"+contigname+\"|\"+genomename+\"|\"+seqid+\"\\n\"+str(repeat)+\"\\n\") \n",
    "        tempfile.close()\n",
    "\n",
    "        #2. Blast query file against db\n",
    "        print(\"Running blastn of query file agianst all contigs\")\n",
    "\n",
    "        #3. make db file\n",
    "        dbfile=\"/shares/CIBIO-Storage/CM/scratch/tmp_projects/signorini_cas/7tracrRNA/tempblastdb\"\n",
    "        os.system(\"makeblastdb -in \"+dbfile+\" -parse_seqids  -dbtype nucl\")\n",
    "\n",
    "\n",
    "\n",
    "        blastoutfile=\"/shares/CIBIO-Storage/CM/scratch/tmp_projects/signorini_cas/7tracrRNA/\"\\\n",
    "        +str(SGB)+\"__\"+seqid+\"__\"+genomename+\"__\"+feature+\".trcr.blastout\"\n",
    "        blastn_command = \"blastn -out \"+blastoutfile+\" -outfmt \\\"6  qseqid sseqid pident qlen length mismatch gapopen qseq sseq sstart send evalue sstrand\\\" -query temp_repeat_seq -db \"+dbfile+\" -evalue 0.001 -word_size 11\"\n",
    "        print(blastn_command)\n",
    "        os.system(blastn_command)\n",
    "       # os.system(\"rm /shares/CIBIO-Storage/CM/scratch/tmp_projects/signorini_cas/7tracerRNA/temp*\")\n"
   ]
  },
  {
   "cell_type": "code",
   "execution_count": 7,
   "metadata": {},
   "outputs": [
    {
     "name": "stdout",
     "output_type": "stream",
     "text": [
      "\n",
      "-----------------------------------------------------\n",
      "Parsing BLAST output, looking for hit which are NOT the same repeats\n",
      "i.e. not starting with: ['13625', '13691', '13757', '13823', '13889', '13955', '14021', '14087', '14153', '14219', '14285', '102979', '103045', '103111', '103177', '103243', '103309', '103375', '103441', '103507', '103573', '103639', '103705', '103771', '103836', '103902', '103969', '104035', '104101', '104167', '104233', '104299', '104365', '104431', '104497', '104563', '104629', '104695', '104761', '104827', '104895', '104961', '105027', '105093', '105159', '105225'] :\n",
      "-----------------------------------------------------\n",
      "\n",
      "rpt2|NODE_49_length_176785_cov_12.2725|BritoIL_2016__M1.29.ST__bin.30|FLJLKKHA_00012\tNODE_49_length_176785_cov_12.2725\t96.30\t36\t27\t1\t0\tTTATCGCTTCCTTTCCAATCAAAACGC\tTTATCGCTTCCTTTCCAATTAAAACGC\t18691\t18665\t8e-08\tminus\n",
      "\n",
      "rpt3|NODE_49_length_176785_cov_12.2725|BritoIL_2016__M1.29.ST__bin.30|FLJLKKHA_00012\tNODE_49_length_176785_cov_12.2725\t100.00\t36\t17\t0\t0\tTTATCGCTTCCTTTCCA\tTTATCGCTTCCTTTCCA\t18691\t18675\t6e-04\tminus\n",
      "\n"
     ]
    }
   ],
   "source": [
    "#4. parse blast output: only print output if it is NOT one of the old repeats.\n",
    "print(\"\\n-----------------------------------------------------\\nParsing BLAST output, looking for hit which are NOT the same repeats\\ni.e. not starting with:\", repeat_start_pos,\":\\n-----------------------------------------------------\\n\")\n",
    "f=open(blastoutfile,\"r\")\n",
    "for line in f.readlines():\n",
    "    start_pos=line.split(\"\\t\")[9]\n",
    "    if start_pos not in repeat_start_pos:\n",
    "        if str(int(start_pos)+1) not in repeat_start_pos:\n",
    "            if str(int(start_pos)-1) not in repeat_start_pos:\n",
    "                print(line) "
   ]
  },
  {
   "cell_type": "markdown",
   "metadata": {},
   "source": [
    "## extract sequences"
   ]
  },
  {
   "cell_type": "code",
   "execution_count": 13,
   "metadata": {},
   "outputs": [],
   "source": [
    "# attenzioe: strano: poiché è sul minus strand, quindi start e stop sono al contrario. ma secondo i miei calcoli, per come è fatto blast, dovrebbe hittare sul plus strand..\n",
    "#qst vuol dire che sul - c'è la repeat,ee onn lantirepeat. quindi funge male....\n",
    "# che è testimoniato piu a valle dal fatto che trovo n  terminatore la  vicino, ma lo trovo dopo...\n",
    "#omg che sia un tracrRNA NON trans?\n",
    "# D:\n",
    "\n",
    "# questo potrebbe voler dire che il crispr arraay è in realtà sullo strand opposto?\n",
    "\n",
    "matched_rep_start=18665\n",
    "matched_rep_stop=18691"
   ]
  },
  {
   "cell_type": "code",
   "execution_count": 9,
   "metadata": {},
   "outputs": [
    {
     "name": "stdout",
     "output_type": "stream",
     "text": [
      "GCGTTTTAATTGGAAAGGAAGCGATAA\n"
     ]
    },
    {
     "data": {
      "text/plain": [
       "27"
      ]
     },
     "execution_count": 9,
     "metadata": {},
     "output_type": "execute_result"
    }
   ],
   "source": [
    "# this is the sequence matching the repeat:\n",
    "matched_rep=Seq(\"TTATCGCTTCCTTTCCAATTAAAACGC\")\n",
    "\n",
    "#rpts which match:\n",
    "rpt2=Seq(\"GTTATCGCTTCCTTTCCAATCAAAACGCGGTATAAT\")\n",
    "\n",
    "# since repeat is on the + strand, and this is all on the + strand, tracrRNA should be its reverse complement:\n",
    "antirepeat=matched_rep.reverse_complement()\n",
    "#this should go frombo to bo  = x nt  (x+1)\n",
    "print(antirepeat)\n",
    "len(antirepeat)"
   ]
  },
  {
   "cell_type": "code",
   "execution_count": 49,
   "metadata": {
    "scrolled": false
   },
   "outputs": [
    {
     "name": "stdout",
     "output_type": "stream",
     "text": [
      " 18892      Both - CAATTCTTAAAGCCTTGAAGTCCGCCGCTTCAAGGCtTTTTCCGTATCAA -10.20\n",
      "\n",
      " 18895      Both + ATACGGAAAAAGCCTTGAAGCGGCGGACTTCAAGGCTTTAAGAATTGGT -10.20\n",
      "\n"
     ]
    }
   ],
   "source": [
    "# print terminators\n",
    "\n",
    "f=open(blast_folder+str(SGB)+\"__\"+seqid+\"__\"+genomename+\".terminators\")\n",
    "for line in f.readlines():\n",
    "    if line.strip().startswith(\"18\"):\n",
    "        print(line)\n",
    "f.close()"
   ]
  },
  {
   "cell_type": "code",
   "execution_count": 11,
   "metadata": {},
   "outputs": [
    {
     "name": "stdout",
     "output_type": "stream",
     "text": [
      "terminator length:  50\n"
     ]
    }
   ],
   "source": [
    "# this is the rho-independent trnascription terminator, going from 14719 or 14722 to bo (+1 perché conti il primo tipo), \n",
    "\n",
    "terminator_end=18895 -1 # qui è sbagliato, mavabbe proviamo\n",
    "terminator=Seq(\"CATACGGAAAAAGCCTTGAAGCGGCGGACTTCAAGGCTTTAAGAATTGGT\".upper())\n",
    "print(\"terminator length: \", len(terminator))\n",
    "terminator_start=terminator_end+len(terminator) #occhio che qui start e stop si riferisce al rev.compl, mentre nel antirepeat si riferisce alla direzione base\n"
   ]
  },
  {
   "cell_type": "code",
   "execution_count": 34,
   "metadata": {},
   "outputs": [
    {
     "name": "stdout",
     "output_type": "stream",
     "text": [
      "terminator length:  49\n"
     ]
    }
   ],
   "source": [
    "#se terminator on + strand:\n",
    "terminator_start=18895-1\n",
    "terminator=Seq(\"ATACGGAAAAAGCCTTGAAGCGGCGGACTTCAAGGCTTTAAGAATTGGT\".upper())\n",
    "print(\"terminator length: \", len(terminator))\n",
    "terminator_end=terminator_start+len(terminator)"
   ]
  },
  {
   "cell_type": "code",
   "execution_count": 39,
   "metadata": {},
   "outputs": [
    {
     "name": "stdout",
     "output_type": "stream",
     "text": [
      "27\n",
      "test repeat:  GCGTTTTAATTGGAAAGGAAGCGATAA 27 True\n",
      "test terminator:  ATACGGAAAAAGCCTTGAAGCGGCGGACTTCAAGGCTTTAAGAATTGGT 49 True\n",
      "pre tracrRNA: CGTTTTAATTGGAAAGGAAGCGATAATAATCGATAAATTTCGAGTGGGGCTCCGGCGATCCGGTCTTGTATCGGGGTAGCCGTCCCCTAATTTTATACGACAAAAGTATTACTTTCACGCGCTTACTTTTTTCAGTAATCCTGCAGTTTTTATCGCTTTTGTTGAGTTTTTTTGAACAAAGAAGATATAGAACGGTTCCTTTTTTGGGAAAGGATTGTGGAACCGATTGATACGGAAAAAGCCTTGAAGCGGCGGACTTCAAGGCTTTAAGAATTGGT 278\n",
      "mario sequence: TAATCGATAAATTTCGAGTGGGGCTCCGGCGATCCGGTCTTGTATCGGGGTAGCCGTCCCCTAATTTTATACGACAAAAGTATTACTTTCACGCGCTTACTTTTTTCAGTAATCCTGCAGTTTTTATCGCTTTTGTTGAGTTTTTTTGAACAAAGAAGATATAGAACGGTTCCTTTTTTGGGAAAGGATTGTGGAACCGATTG 203\n"
     ]
    }
   ],
   "source": [
    "# Open genome and extract the whole sequence\n",
    "# find this inside the genome, and link it to the thing found by ARNold:\n",
    "#solo per lui:\n",
    "contigname=\"NODE_49_length_176785_cov_12.2725\"\n",
    "for record in SeqIO.parse(\"/shares/CIBIO-Storage/CM/scratch/tmp_projects/signorini_cas/selected_loci/\"+seqid+\"/\"+genomename+\".fa\", \"fasta\"):\n",
    "    if record.id==contigname:\n",
    "        contigseq=record.seq\n",
    "print(len(contigseq[matched_rep_start-1:matched_rep_stop]))\n",
    "#check antirepeat\n",
    "print(\"test repeat: \", antirepeat, len(antirepeat), contigseq[matched_rep_start-1:matched_rep_stop]==antirepeat) # -1 why? Indexing diverso evidentemente col blastout, vbb\n",
    "# check terminator\n",
    "print(\"test terminator: \" ,terminator, len(terminator), contigseq[terminator_start:terminator_end]==terminator)\n",
    "\n",
    "\n",
    "pre_tracrRNA=contigseq[matched_rep_start:terminator_end]\n",
    "print(\"pre tracrRNA:\", pre_tracrRNA, len(pre_tracrRNA))\n",
    "\n",
    "# add mario\n",
    "mario=contigseq[matched_rep_stop:terminator_start]\n",
    "print(\"mario sequence:\",  mario, len(mario))  # ho fatto i check, il -1 sopra è giusto"
   ]
  },
  {
   "cell_type": "code",
   "execution_count": null,
   "metadata": {},
   "outputs": [],
   "source": [
    "#mario un po' lungo, ma a me mi sembra che al primo TTTTTATCG ci si possa fermare"
   ]
  },
  {
   "cell_type": "code",
   "execution_count": 48,
   "metadata": {},
   "outputs": [
    {
     "name": "stdout",
     "output_type": "stream",
     "text": [
      "TTTTTTCCATAACAGCCTCTATCAAAAATAGTTTTAATATCAGCTTGACCCATAAAAACAGTTATGGCAATATCATTTTTATCGAAAGGGCGATTATTTGCGTTTTAATTGGAAAGGAAGCGATAATAATCGATAAATTTCGAGTGGGGCTCCGGCGATCCGGTCTTGTATCGGGGTAGCCGTCCCCTAATTTTATACGACAAAAGTATTACTTTCACGCGCTTACTTTTTTCAGTAATCCTGCAGTTTTTATCGCTTTTGTTGAGTTTTTTTGAACAAAGAAGATATAGAACGGTTCCTTTTTTGGGAAAGGATTGTGGAACCGATTGATACGGAAAAAGCCTTGAAGCGGCGGACTTCAAGGCTTTAAGAATTGGTGGGCGCGACAAGGATCGAACTTGTGACCCCTACGATGTCAACGTAGTGCTCTCCCGCTGAGCTACGCGCCCGTTGTTGTTGATTATCTCAACAAGATGAT\n"
     ]
    }
   ],
   "source": [
    "print(contigseq[matched_rep_start-100:terminator_end+100])"
   ]
  },
  {
   "cell_type": "code",
   "execution_count": 44,
   "metadata": {
    "scrolled": true
   },
   "outputs": [
    {
     "name": "stdout",
     "output_type": "stream",
     "text": [
      "GTTATCGCTTCCTTTCCAATC-AAAACGCGGTATAAT\n",
      " |||||||||||||||||||  |||||||\n",
      "-TTATCGCTTCCTTTCCAAT-TAAAACGC--------\n",
      "  Score=26\n",
      "\n",
      "rpt length: 36\n"
     ]
    }
   ],
   "source": [
    "# Now, align with the rest of the stuff to see what's up\n",
    "# first up, with the repeat, lets take the rpt3, which has only got 1 mismatch\n",
    "\n",
    "alignments = pairwise2.align.localxx(rpt2, antirepeat.reverse_complement())\n",
    "print(pairwise2.format_alignment(*alignments[0]))\n",
    "print(\"rpt length:\", len(rpt2))\n"
   ]
  },
  {
   "cell_type": "code",
   "execution_count": 45,
   "metadata": {},
   "outputs": [
    {
     "name": "stdout",
     "output_type": "stream",
     "text": [
      "G-TTAT---CGCTTCCTTTCCAATC-AAAACGCGGTATAAT\n",
      "  ||||   |||||||||||||||  |||||||        \n",
      "-ATTATTATCGCTTCCTTTCCAAT-TAAAACGC--------\n",
      "  Score=26\n",
      "\n"
     ]
    }
   ],
   "source": [
    "# align antirepat + mario with repeat\n",
    "alignments = pairwise2.align.globalxx( rpt2,(antirepeat+mario[:4]).reverse_complement())\n",
    "print(pairwise2.format_alignment(*alignments[0]))"
   ]
  },
  {
   "cell_type": "code",
   "execution_count": null,
   "metadata": {},
   "outputs": [],
   "source": [
    "#no non fa nulla quel CTTT in più"
   ]
  },
  {
   "cell_type": "code",
   "execution_count": 46,
   "metadata": {},
   "outputs": [
    {
     "name": "stdout",
     "output_type": "stream",
     "text": [
      "\n",
      "----------------------------------------------------------------------\n",
      "         tracrRNA sequence for Cas9 protein id FLJLKKHA_00012\n",
      "----------------------------------------------------------------------\n",
      "\n",
      "- contig name: NODE_49_length_176785_cov_12.2725\n",
      "- Dataset:  BritoIL_2016\n",
      "- Bin:  BritoIL_2016__M1.29.ST__bin.30\n",
      "- SGB:  9311\n",
      "----------------------------------------------------------------------\n",
      "\n",
      "- Length:  278 \n",
      "- position:  18943 18691\n",
      "CGTTTTAATTGGAAAGGAAGCGATAATAATCGATAAATTTCGAGTGGGGCTCCGGCGATCCGGTCTTGTATCGGGGTAGCCGTCCCCTAATTTTATACGACAAAAGTATTACTTTCACGCGCTTACTTTTTTCAGTAATCCTGCAGTTTTTATCGCTTTTGTTGAGTTTTTTTGAACAAAGAAGATATAGAACGGTTCCTTTTTTGGGAAAGGATTGTGGAACCGATTGATACGGAAAAAGCCTTGAAGCGGCGGACTTCAAGGCTTTAAGAATTGGT\n"
     ]
    }
   ],
   "source": [
    "# I would probably say that the tracr is just, simply la parte di pre_tracrRNA la cui antirepeat si lega alla repeat, \n",
    "# che, in questo caso, è tutta.\n",
    "tracrRNA = pre_tracrRNA\n",
    "\n",
    "print(\"\\n----------------------------------------------------------------------\")\n",
    "print(\"         tracrRNA sequence for\", feature,\"protein id\", seqid)\n",
    "print(\"----------------------------------------------------------------------\\n\")\n",
    "print(\"- contig name:\", cas_dataset[cas_dataset[\"Seq ID\"]==seqid][\"Contig\"].iloc[0])\n",
    "print(\"- Dataset: \",cas_dataset[cas_dataset[\"Seq ID\"]==seqid][\"Study\"].iloc[0])\n",
    "print(\"- Bin: \",cas_dataset[cas_dataset[\"Seq ID\"]==seqid][\"Genome Name\"].iloc[0])\n",
    "print(\"- SGB: \",cas_dataset[cas_dataset[\"Seq ID\"]==seqid][\"SGB ID\"].iloc[0])\n",
    "print(\"----------------------------------------------------------------------\\n\")\n",
    "print(\"- Length: \", len(tracrRNA),\"\\n- position: \", terminator_end,matched_rep_stop)\n",
    "print(tracrRNA)"
   ]
  },
  {
   "cell_type": "code",
   "execution_count": null,
   "metadata": {},
   "outputs": [],
   "source": []
  }
 ],
 "metadata": {
  "kernelspec": {
   "display_name": "Python 3",
   "language": "python",
   "name": "python3"
  },
  "language_info": {
   "codemirror_mode": {
    "name": "ipython",
    "version": 3
   },
   "file_extension": ".py",
   "mimetype": "text/x-python",
   "name": "python",
   "nbconvert_exporter": "python",
   "pygments_lexer": "ipython3",
   "version": "3.7.3"
  }
 },
 "nbformat": 4,
 "nbformat_minor": 2
}
