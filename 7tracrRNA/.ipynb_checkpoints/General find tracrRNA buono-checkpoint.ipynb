{
 "cells": [
  {
   "cell_type": "markdown",
   "metadata": {},
   "source": [
    "# find tracerRNA\n"
   ]
  },
  {
   "cell_type": "code",
   "execution_count": 1,
   "metadata": {},
   "outputs": [],
   "source": [
    "# First created Thu Jul 11 09:51:15 CEST 2019\n",
    "# Made by L-F-S\n",
    "# At the University Of Trento, Italy\n",
    "\n",
    "import os\n",
    "import sys\n",
    "import numpy as np\n",
    "import pandas as pd\n",
    "import matplotlib.pyplot as plt\n",
    "from Bio import SeqIO\n",
    "from Bio.Seq import Seq\n",
    "from Bio.Alphabet import generic_dna, generic_protein, RNAAlphabet\n",
    "from Bio import pairwise2\n",
    "\n",
    "\n",
    "sys.path.insert(0, '/home/lorenzo.signorini/cas_mining/utils/')\n",
    "import filename_discrepancies\n",
    "sys.path.insert(0, '/home/lorenzo.signorini/cas_mining/9casminer_v2/')\n",
    "import locus\n",
    "\n",
    "feature=\"Cas9\" #WARNING!!! CHANGE THIS!!\n",
    "#outpath=\"/shares/CIBIO-Storage/CM/scratch/tmp_projects/signorini_cas/5caslocitable/out/\"+feature+\"/\"\n",
    "datadir=\"/shares/CIBIO-Storage/CM/scratch/tmp_projects/signorini_cas/7tracrRNA/\"\n",
    "\n",
    "\n"
   ]
  },
  {
   "cell_type": "code",
   "execution_count": 2,
   "metadata": {
    "scrolled": false
   },
   "outputs": [
    {
     "data": {
      "text/plain": [
       "Index(['Seq ID', 'Seq Description', 'Seq', 'Contig', 'Genome Name', 'Study',\n",
       "       'Sample Name', 'SGB ID', 'Pos', 'pilercr_CRISPR', 'minced_CRISPR',\n",
       "       'prokka_cas1', 'prokka_cas2', 'uSGB', 'Level of estimated taxonomy',\n",
       "       'Estimated taxonomy'],\n",
       "      dtype='object')"
      ]
     },
     "execution_count": 2,
     "metadata": {},
     "output_type": "execute_result"
    }
   ],
   "source": [
    "# Import data\n",
    "cas_dataset=pd.read_csv(\"/shares/CIBIO-Storage/CM/scratch/tmp_projects/signorini_cas/5caslocitable/known_\"+feature+\"_variants_table.csv\", index_col=0)\n",
    "cas_dataset.columns"
   ]
  },
  {
   "cell_type": "code",
   "execution_count": 3,
   "metadata": {},
   "outputs": [
    {
     "name": "stdout",
     "output_type": "stream",
     "text": [
      "SEQ ID:  CDGFJFMD_00819\n",
      "NODE_121_length_46647_cov_15.743\n",
      "KosticAD_2015\n",
      "KosticAD_2015__PRJNA231909.3105379__bin.4\n",
      "6927\n",
      "1064\n",
      "[('.', '17062', '18482')]\n",
      "----------------------------------------------------------------------\n"
     ]
    }
   ],
   "source": [
    "seqid =\"CDGFJFMD_00819\"\n",
    "print(\"SEQ ID: \", seqid)\n",
    "print(cas_dataset[cas_dataset[\"Seq ID\"]==seqid][\"Contig\"].iloc[0])\n",
    "print(cas_dataset[cas_dataset[\"Seq ID\"]==seqid][\"Study\"].iloc[0])\n",
    "print(cas_dataset[cas_dataset[\"Seq ID\"]==seqid][\"Genome Name\"].iloc[0])\n",
    "print(cas_dataset[cas_dataset[\"Seq ID\"]==seqid][\"SGB ID\"].iloc[0])\n",
    "print(len(cas_dataset[cas_dataset[\"Seq ID\"]==seqid][\"Seq\"].iloc[0]))\n",
    "print(cas_dataset[cas_dataset[\"Seq ID\"]==seqid][\"minced_CRISPR\"].iloc[0])\n",
    "print(\"----------------------------------------------------------------------\")\n"
   ]
  },
  {
   "cell_type": "markdown",
   "metadata": {},
   "source": [
    "## check there is only 1 Cas9 in that genome.."
   ]
  },
  {
   "cell_type": "code",
   "execution_count": 4,
   "metadata": {},
   "outputs": [
    {
     "data": {
      "text/html": [
       "<div>\n",
       "<style scoped>\n",
       "    .dataframe tbody tr th:only-of-type {\n",
       "        vertical-align: middle;\n",
       "    }\n",
       "\n",
       "    .dataframe tbody tr th {\n",
       "        vertical-align: top;\n",
       "    }\n",
       "\n",
       "    .dataframe thead th {\n",
       "        text-align: right;\n",
       "    }\n",
       "</style>\n",
       "<table border=\"1\" class=\"dataframe\">\n",
       "  <thead>\n",
       "    <tr style=\"text-align: right;\">\n",
       "      <th></th>\n",
       "      <th>Seq ID</th>\n",
       "      <th>Seq Description</th>\n",
       "      <th>Seq</th>\n",
       "      <th>Contig</th>\n",
       "      <th>Genome Name</th>\n",
       "      <th>Study</th>\n",
       "      <th>Sample Name</th>\n",
       "      <th>SGB ID</th>\n",
       "      <th>Pos</th>\n",
       "      <th>pilercr_CRISPR</th>\n",
       "      <th>minced_CRISPR</th>\n",
       "      <th>prokka_cas1</th>\n",
       "      <th>prokka_cas2</th>\n",
       "      <th>uSGB</th>\n",
       "      <th>Level of estimated taxonomy</th>\n",
       "      <th>Estimated taxonomy</th>\n",
       "    </tr>\n",
       "  </thead>\n",
       "  <tbody>\n",
       "    <tr>\n",
       "      <td>11619</td>\n",
       "      <td>CDGFJFMD_00819</td>\n",
       "      <td>CDGFJFMD_00819 CRISPR-associated endonuclease ...</td>\n",
       "      <td>MGYILGLDIGVASVGYAVIDNQYNIITSGVRLFREGTAAENADRRA...</td>\n",
       "      <td>NODE_121_length_46647_cov_15.743</td>\n",
       "      <td>KosticAD_2015__PRJNA231909.3105379__bin.4</td>\n",
       "      <td>KosticAD_2015</td>\n",
       "      <td>PRJNA231909.3105379</td>\n",
       "      <td>6927</td>\n",
       "      <td>18565 21759</td>\n",
       "      <td>[('ID=CRISPR1', '18417', '20')]</td>\n",
       "      <td>[('.', '17062', '18482')]</td>\n",
       "      <td>[('ID=CDGFJFMD_00820', '21780', '22676')]</td>\n",
       "      <td>[('ID=CDGFJFMD_00821', '22706', '23017')]</td>\n",
       "      <td>Yes</td>\n",
       "      <td>Other</td>\n",
       "      <td>-</td>\n",
       "    </tr>\n",
       "  </tbody>\n",
       "</table>\n",
       "</div>"
      ],
      "text/plain": [
       "               Seq ID                                    Seq Description  \\\n",
       "11619  CDGFJFMD_00819  CDGFJFMD_00819 CRISPR-associated endonuclease ...   \n",
       "\n",
       "                                                     Seq  \\\n",
       "11619  MGYILGLDIGVASVGYAVIDNQYNIITSGVRLFREGTAAENADRRA...   \n",
       "\n",
       "                                 Contig  \\\n",
       "11619  NODE_121_length_46647_cov_15.743   \n",
       "\n",
       "                                     Genome Name          Study  \\\n",
       "11619  KosticAD_2015__PRJNA231909.3105379__bin.4  KosticAD_2015   \n",
       "\n",
       "               Sample Name  SGB ID          Pos  \\\n",
       "11619  PRJNA231909.3105379    6927  18565 21759   \n",
       "\n",
       "                        pilercr_CRISPR              minced_CRISPR  \\\n",
       "11619  [('ID=CRISPR1', '18417', '20')]  [('.', '17062', '18482')]   \n",
       "\n",
       "                                     prokka_cas1  \\\n",
       "11619  [('ID=CDGFJFMD_00820', '21780', '22676')]   \n",
       "\n",
       "                                     prokka_cas2 uSGB  \\\n",
       "11619  [('ID=CDGFJFMD_00821', '22706', '23017')]  Yes   \n",
       "\n",
       "      Level of estimated taxonomy Estimated taxonomy  \n",
       "11619                       Other                  -  "
      ]
     },
     "execution_count": 4,
     "metadata": {},
     "output_type": "execute_result"
    }
   ],
   "source": [
    "genomename=cas_dataset[cas_dataset[\"Seq ID\"]==seqid][\"Genome Name\"].iloc[0]\n",
    "cas_dataset[cas_dataset[\"Genome Name\"]==genomename]"
   ]
  },
  {
   "cell_type": "code",
   "execution_count": 5,
   "metadata": {
    "scrolled": false
   },
   "outputs": [
    {
     "name": "stdout",
     "output_type": "stream",
     "text": [
      "\n",
      "-----------------------------------------------------\n",
      "Cas9 id:\tCDGFJFMD_00819\n",
      "SGB:\t6927\n",
      "Genome Name:\t KosticAD_2015__PRJNA231909.3105379__bin.4\n",
      "Contig:\tNODE_121_length_46647_cov_15.743 \n",
      "-----------------------------------------------------\n",
      "\n",
      "..working genomename: ('KosticAD_2015__PRJNA231909.3105379__bin.4', 'KosticAD_2015')\n",
      "\n",
      "\n",
      "CRISPR 1   Range: 17062 - 18482\n",
      "\n",
      "POSITION\tREPEAT\t\t\t\tSPACER\n",
      "\n",
      "--------\t------------------------------------\t-----------------------------\n",
      "\n",
      "17062\t\tGTTTTAGTACTCTGTAATTTTTCGCTATGATAAAAC\tTCTTCGTATTTGTTATATTTATCAATTACT\t[ 36, 30 ]\n",
      "\n",
      "17128\t\tGTTTTAGTACTCTGTAATTTTTCGCTATGATAAAAC\tTCAGTCTAGCCTATGCCAACGATTATATCG\t[ 36, 30 ]\n",
      "\n",
      "17194\t\tGTTTTAGTACTCTGTAATTTTTCGCTATGATAAAAC\tACTTTTTAATGGTCTACACGTGGTAAAATC\t[ 36, 30 ]\n",
      "\n",
      "17260\t\tGTTTTAGTACTCTGTAATTTTTCGCTATGATAAAAC\tTCGGTCAATTCGCCAGGAGTGAGCATTGCT\t[ 36, 30 ]\n",
      "\n",
      "17326\t\tGTTTTAGTACTCTGTAATTTTTCGCTATGATAAAAC\tGGCAAGCCGAGGAGCTGTGTCCGCAGGTTA\t[ 36, 30 ]\n",
      "\n",
      "17392\t\tGTTTTAGTACTCTGTAATTTTTCGCTATGATAAAAC\tCTCCGATATATCGGATAAGGTGGCTAGGCT\t[ 36, 30 ]\n",
      "\n",
      "17458\t\tGTTTTAGTACTCTGTAATTTTTCGCTATGATAAAAC\tAATTAAACCCTTATTGGGGTAACGATTCAT\t[ 36, 30 ]\n",
      "\n",
      "17524\t\tGTTTTAGTACTCTGTAATTTTTCGCTATGATAAAAC\tTGGCATGCACAAATTAATGCTATTTAATGG\t[ 36, 30 ]\n",
      "\n",
      "17590\t\tGTTTTAGTACTCTGTAATTTTTCGCTATGATAAAAC\tCATTCGAGGGCATTAAAATTCCTGAAAACT\t[ 36, 30 ]\n",
      "\n",
      "17656\t\tGTTTTAGTACTCTGTAATTTTTCGCTATGATAAAAC\tATGACGGCGAATTTCTAGTAGATACTAACT\t[ 36, 30 ]\n",
      "\n",
      "17722\t\tGTTTTAGTACTCTGTAATTTTTCGCTATGATAAAAC\tAAGAATTGGCCAAAGCAAAGCAGACCTCAA\t[ 36, 30 ]\n",
      "\n",
      "17788\t\tGTTTTAGTACTCTGTAATTTTTCGCTATGATAAAAC\tAGACGAGGGACTATGTGTTCTGTGTAATCG\t[ 36, 30 ]\n",
      "\n",
      "17854\t\tGTTTTAGTACTCTGTAATTTTTCGCTATGATAAAAC\tTGGGGTTTGTGATAATTTCAAAGCCTTCAT\t[ 36, 30 ]\n",
      "\n",
      "17920\t\tGTTTTAGTACTCTGTAATTTTTCGCTATGATAAAAC\tATAATCATTTAGAAATGTAATTAATTGATT\t[ 36, 30 ]\n",
      "\n",
      "17986\t\tGTTTTAGTACTCTGTAATTTTTCGCTATGATAAAAC\tAGTTGTCTTGTAAACAGTACTCGCATACAC\t[ 36, 30 ]\n",
      "\n",
      "18052\t\tGTTTTAGTACTCTGTAATTTTTCGCTATGATAAAAC\tTCTGCATAGTGTCTAAATACATGTAATACA\t[ 36, 30 ]\n",
      "\n",
      "18118\t\tGTTTTAGTACTCTGTAATTTTTCGCTATGATAAAAC\tAACAGAACACAAATAACGCACTCATGCGAT\t[ 36, 30 ]\n",
      "\n",
      "18184\t\tGTTTTAGTACTCTGTAATTTTTCGCTATGATAAAAC\tTAAACCACGCACCTAGTGATTTTGGTTGTC\t[ 36, 30 ]\n",
      "\n",
      "18250\t\tGTTTTAGTACTCTGTAATTTTTCGCTATGATAAAAC\tGCGTTCATGTTGATTTGTCTAATTACTACG\t[ 36, 30 ]\n",
      "\n",
      "18316\t\tGTTTTAGTACTCTGTAATTTTTCGCTATGATAAAAC\tAAAGATACAATCTAATGCACAACTGTATAA\t[ 36, 30 ]\n",
      "\n",
      "18382\t\tGTTTTAGTACTCTGTAATTTTTCGCTATGGTAAAAC\tAAAATCGGGAATCAAGGATTGTCCACTTA\t[ 36, 29 ]\n",
      "\n",
      "18447\t\tCATTTTAGTGTTCTATGATTTTCGCTATAGTAGAAT\t\n",
      "\n",
      "--------\t------------------------------------\t-----------------------------\n",
      "\n",
      "Repeats: 22\tAverage Length: 36\t\tAverage Length: 29\n",
      "\n",
      "cp /shares/CIBIO-Storage/CM/scratch/tmp_projects/signorini_cas/1crisprsearch/out/KosticAD_2015/KosticAD_2015__PRJNA231909.3105379__bin.4.fa.minced.out /shares/CIBIO-Storage/CM/scratch/tmp_projects/signorini_cas/7tracrRNA/\n",
      "Locus features and positions:  {'Cas9': [18565, 21759], 'Cas1': [21780, 22676], 'Cas2': [22706, 23017], 'CRISPR': [17062, 18482]}\n",
      "++++++++++++++++++++++++++++++++++++++++++++++++++++++++++++++++++++++++++++++++\n",
      "{'Cas9': [18565, 21759], 'Cas1': [21780, 22676], 'Cas2': [22706, 23017], 'CRISPR': [17062, 18482]}\n",
      "Retrieving locus\n",
      "Copying file ot output...\n",
      "cp /shares/CIBIO-Storage/CM/scratch/tmp_projects/epasolli_darkmatter/allcontigs/ALLreconstructedgenomes/6927/KosticAD_2015__PRJNA231909.3105379__bin.4.fa /shares/CIBIO-Storage/CM/scratch/tmp_projects/signorini_cas/7tracrRNA/\n",
      "CRISPR si trova [17062, 18482]\n",
      "Cas9 si trova [18565, 21759]\n",
      "Cas2 si trova [22706, 23017]\n",
      "Cas1 si trova [21780, 22676]\n",
      "1064.0 1064\n",
      "Cas locus on plus strand\n",
      "Is Cas9 translated from the genome equal to the orignal annotation? True\n",
      "MGYILGLDIGVASVGYAVIDNQYNIITSGVRLFREGTAAENADRRAFRSSRRGIRRSHHRLERLTALLSTALDSKDDRSYTNIYEIRVKGLSDKLEPSELKAAIIQLAKHRGIFYLSPEDLAVEDGSSQSSADIIRSNEHKLKSDIYPCHIQLEKLKTTGTVRGIDNKFTHESYRKELVKLLDVQSKFYPQLEDIRKGILDIYDSKREYYEGPGSDKSPTPYGSYQLDENGDVIKINLIDKMRGKCTYFPDELRAPKWSYSACLFNLLNDLNNLTINGEKITKTQKKDLIDEYVNKGKSVTLPAISRICGVKKEDILGYRIDSSGKPIFTKFDGYNELLKIAKSVNEESLIVGNKRLIDDISEILTKEKSLEIREEQLSKELGLSASLAKELVKATGFTAYHSLSFKAINLILNDLLQTTNNQMALYTAAGIKPCNRNWSQGNQLSANLAEWIVSPVVKRSLNETIKVFNALRKYIKKEFGEASEFSDVVVELAREKNSQDKKDHIKKILKDNEDKRHQIMELVEGRKLDSADFQRISLLMEQDFKCAYSLEPIELADVFKPGLLEVDHIIPLSISLSDAQSNKVLVYHSENQKKGQQTPFQYFSSGKAKVTFEKFKEYVNQNSNFIKAKRENLLYLGNPVEDLKGFIKRNLVDTRYASSEFYNLLKSFFDYHKLDTKVKVINGGATHYFRKKAHLSKDRNETHAHHAQDALIIAGFANTKLVKFFSKIGAFSDNFEDKNALIEVDGDIVSSETGEVLNVDLFDKKENISAYIQFLKRIEEIQPLFSHKVDRKPNRGLYDQQIKATRKFVEGNKEETYIITKYSDIYNTAAGNSGSKLKKRILESPEDLLMYHHDVKTFEIFKKIVEQYSEEANPFAAYKADYGSIRKYSKKGNGPIIESVKFRDKKLGSHRINMKQESKNASVFLKIKSLRTDIYQDGSNYLVLNVPYDMVQFTNSRYIINQGKYNEARSKQRIPASAKFVTSLYRGDYITYEESGQTVEYIFKCLNNELTHRIEVSYVDRPTDKQLLKAIKNSISNLTKYNVDVLGNKHKVSNEKLKFDVTI\n",
      "++++++++++++++++++++++++++++++++++++++++++++++++++++++++++++++++++++++++++++++++\n",
      "MGYILGLDIGVASVGYAVIDNQYNIITSGVRLFREGTAAENADRRAFRSSRRGIRRSHHRLERLTALLSTALDSKDDRSYTNIYEIRVKGLSDKLEPSELKAAIIQLAKHRGIFYLSPEDLAVEDGSSQSSADIIRSNEHKLKSDIYPCHIQLEKLKTTGTVRGIDNKFTHESYRKELVKLLDVQSKFYPQLEDIRKGILDIYDSKREYYEGPGSDKSPTPYGSYQLDENGDVIKINLIDKMRGKCTYFPDELRAPKWSYSACLFNLLNDLNNLTINGEKITKTQKKDLIDEYVNKGKSVTLPAISRICGVKKEDILGYRIDSSGKPIFTKFDGYNELLKIAKSVNEESLIVGNKRLIDDISEILTKEKSLEIREEQLSKELGLSASLAKELVKATGFTAYHSLSFKAINLILNDLLQTTNNQMALYTAAGIKPCNRNWSQGNQLSANLAEWIVSPVVKRSLNETIKVFNALRKYIKKEFGEASEFSDVVVELAREKNSQDKKDHIKKILKDNEDKRHQIMELVEGRKLDSADFQRISLLMEQDFKCAYSLEPIELADVFKPGLLEVDHIIPLSISLSDAQSNKVLVYHSENQKKGQQTPFQYFSSGKAKVTFEKFKEYVNQNSNFIKAKRENLLYLGNPVEDLKGFIKRNLVDTRYASSEFYNLLKSFFDYHKLDTKVKVINGGATHYFRKKAHLSKDRNETHAHHAQDALIIAGFANTKLVKFFSKIGAFSDNFEDKNALIEVDGDIVSSETGEVLNVDLFDKKENISAYIQFLKRIEEIQPLFSHKVDRKPNRGLYDQQIKATRKFVEGNKEETYIITKYSDIYNTAAGNSGSKLKKRILESPEDLLMYHHDVKTFEIFKKIVEQYSEEANPFAAYKADYGSIRKYSKKGNGPIIESVKFRDKKLGSHRINMKQESKNASVFLKIKSLRTDIYQDGSNYLVLNVPYDMVQFTNSRYIINQGKYNEARSKQRIPASAKFVTSLYRGDYITYEESGQTVEYIFKCLNNELTHRIEVSYVDRPTDKQLLKAIKNSISNLTKYNVDVLGNKHKVSNEKLKFDVTI\n",
      "MGYILGLDIGVASVGYAVIDNQYNIITSGVRLFREGTAAENADRRAFRSSRRGIRRSHHRLERLTALLSTALDSKDDRSYTNIYEIRVKGLSDKLEPSELKAAIIQLAKHRGIFYLSPEDLAVEDGSSQSSADIIRSNEHKLKSDIYPCHIQLEKLKTTGTVRGIDNKFTHESYRKELVKLLDVQSKFYPQLEDIRKGILDIYDSKREYYEGPGSDKSPTPYGSYQLDENGDVIKINLIDKMRGKCTYFPDELRAPKWSYSACLFNLLNDLNNLTINGEKITKTQKKDLIDEYVNKGKSVTLPAISRICGVKKEDILGYRIDSSGKPIFTKFDGYNELLKIAKSVNEESLIVGNKRLIDDISEILTKEKSLEIREEQLSKELGLSASLAKELVKATGFTAYHSLSFKAINLILNDLLQTTNNQMALYTAAGIKPCNRNWSQGNQLSANLAEWIVSPVVKRSLNETIKVFNALRKYIKKEFGEASEFSDVVVELAREKNSQDKKDHIKKILKDNEDKRHQIMELVEGRKLDSADFQRISLLMEQDFKCAYSLEPIELADVFKPGLLEVDHIIPLSISLSDAQSNKVLVYHSENQKKGQQTPFQYFSSGKAKVTFEKFKEYVNQNSNFIKAKRENLLYLGNPVEDLKGFIKRNLVDTRYASSEFYNLLKSFFDYHKLDTKVKVINGGATHYFRKKAHLSKDRNETHAHHAQDALIIAGFANTKLVKFFSKIGAFSDNFEDKNALIEVDGDIVSSETGEVLNVDLFDKKENISAYIQFLKRIEEIQPLFSHKVDRKPNRGLYDQQIKATRKFVEGNKEETYIITKYSDIYNTAAGNSGSKLKKRILESPEDLLMYHHDVKTFEIFKKIVEQYSEEANPFAAYKADYGSIRKYSKKGNGPIIESVKFRDKKLGSHRINMKQESKNASVFLKIKSLRTDIYQDGSNYLVLNVPYDMVQFTNSRYIINQGKYNEARSKQRIPASAKFVTSLYRGDYITYEESGQTVEYIFKCLNNELTHRIEVSYVDRPTDKQLLKAIKNSISNLTKYNVDVLGNKHKVSNEKLKFDVTI\n",
      "||||||||||||||||||||||||||||||||||||||||||||||||||||||||||||||||||||||||||||||||||||||||||||||||||||||||||||||||||||||||||||||||||||||||||||||||||||||||||||||||||||||||||||||||||||||||||||||||||||||||||||||||||||||||||||||||||||||||||||||||||||||||||||||||||||||||||||||||||||||||||||||||||||||||||||||||||||||||||||||||||||||||||||||||||||||||||||||||||||||||||||||||||||||||||||||||||||||||||||||||||||||||||||||||||||||||||||||||||||||||||||||||||||||||||||||||||||||||||||||||||||||||||||||||||||||||||||||||||||||||||||||||||||||||||||||||||||||||||||||||||||||||||||||||||||||||||||||||||||||||||||||||||||||||||||||||||||||||||||||||||||||||||||||||||||||||||||||||||||||||||||||||||||||||||||||||||||||||||||||||||||||||||||||||||||||||||||||||||||||||||||||||||||||||||||||||||||||||||||||||||||||||||||||||||||||||||||||||||||||||||||||||||||||||||||||||||||||||||||||||||||||||||||||||||||||||||||||||||||||||||||||||||||||||||||||||||||||||||||||||||||||||||||||||||||||||||||||||||||||||||||||||||||||||||||||||||||||||||||||||||||||||||||||||||||||||\n",
      "MGYILGLDIGVASVGYAVIDNQYNIITSGVRLFREGTAAENADRRAFRSSRRGIRRSHHRLERLTALLSTALDSKDDRSYTNIYEIRVKGLSDKLEPSELKAAIIQLAKHRGIFYLSPEDLAVEDGSSQSSADIIRSNEHKLKSDIYPCHIQLEKLKTTGTVRGIDNKFTHESYRKELVKLLDVQSKFYPQLEDIRKGILDIYDSKREYYEGPGSDKSPTPYGSYQLDENGDVIKINLIDKMRGKCTYFPDELRAPKWSYSACLFNLLNDLNNLTINGEKITKTQKKDLIDEYVNKGKSVTLPAISRICGVKKEDILGYRIDSSGKPIFTKFDGYNELLKIAKSVNEESLIVGNKRLIDDISEILTKEKSLEIREEQLSKELGLSASLAKELVKATGFTAYHSLSFKAINLILNDLLQTTNNQMALYTAAGIKPCNRNWSQGNQLSANLAEWIVSPVVKRSLNETIKVFNALRKYIKKEFGEASEFSDVVVELAREKNSQDKKDHIKKILKDNEDKRHQIMELVEGRKLDSADFQRISLLMEQDFKCAYSLEPIELADVFKPGLLEVDHIIPLSISLSDAQSNKVLVYHSENQKKGQQTPFQYFSSGKAKVTFEKFKEYVNQNSNFIKAKRENLLYLGNPVEDLKGFIKRNLVDTRYASSEFYNLLKSFFDYHKLDTKVKVINGGATHYFRKKAHLSKDRNETHAHHAQDALIIAGFANTKLVKFFSKIGAFSDNFEDKNALIEVDGDIVSSETGEVLNVDLFDKKENISAYIQFLKRIEEIQPLFSHKVDRKPNRGLYDQQIKATRKFVEGNKEETYIITKYSDIYNTAAGNSGSKLKKRILESPEDLLMYHHDVKTFEIFKKIVEQYSEEANPFAAYKADYGSIRKYSKKGNGPIIESVKFRDKKLGSHRINMKQESKNASVFLKIKSLRTDIYQDGSNYLVLNVPYDMVQFTNSRYIINQGKYNEARSKQRIPASAKFVTSLYRGDYITYEESGQTVEYIFKCLNNELTHRIEVSYVDRPTDKQLLKAIKNSISNLTKYNVDVLGNKHKVSNEKLKFDVTI\n",
      "  Score=1064\n",
      "\n",
      "let's now blast the repeat against  the genome\n",
      "Building blast database with:\n",
      "makeblastdb -in /shares/CIBIO-Storage/CM/scratch/tmp_projects/signorini_cas/7tracrRNA/tempblastdb -parse_seqids  -dbtype nucl\n",
      "Running blastn of query file agianst all contigs\n",
      "blastn -out /shares/CIBIO-Storage/CM/scratch/tmp_projects/signorini_cas/7tracrRNA/6927__CDGFJFMD_00819__KosticAD_2015__PRJNA231909.3105379__bin.4__Cas9.trcr.blastout -outfmt \"6  qseqid sseqid pident qlen length mismatch gapopen qseq sseq sstart send evalue sstrand\" -query temp_repeat_seq -db /shares/CIBIO-Storage/CM/scratch/tmp_projects/signorini_cas/7tracrRNA/tempblastdb -evalue 0.001 -word_size 11 -penalty -2\n"
     ]
    }
   ],
   "source": [
    "cas9_aa=cas_dataset[cas_dataset[\"Seq ID\"]==seqid][\"Seq\"].iloc[0]\n",
    "dataset=cas_dataset[cas_dataset[\"Seq ID\"]==seqid][\"Study\"].iloc[0]\n",
    "genomename=cas_dataset[cas_dataset[\"Seq ID\"]==seqid][\"Genome Name\"].iloc[0]\n",
    "SGB=cas_dataset[cas_dataset[\"Seq ID\"]==seqid][\"SGB ID\"].iloc[0]\n",
    "contigname=cas_dataset[cas_dataset[\"Seq ID\"]==seqid][\"Contig\"].iloc[0]\n",
    "samplename = genomename.split(\"__\")[1]\n",
    "\n",
    "print(\"\\n-----------------------------------------------------\\n\"+feature+\" id:\\t\"+seqid+\"\\nSGB:\\t\"+str(SGB)+\"\\nGenome Name:\\t\",\\\n",
    "      genomename+\"\\nContig:\\t\"+cas_dataset[cas_dataset[\"Seq ID\"]==seqid][\"Contig\"].iloc[0],\"\\n-----------------------------------------------------\\n\")\n",
    "\n",
    "print(\"..working genomename:\", filename_discrepancies.get_originalsamplename_froms3name_of_genome(genomename,dataset))\n",
    "########################################################################\n",
    "\n",
    "# get CRISPR spacer and repeat sequence\n",
    "\n",
    "cr=locus.CRISPRarray(feature=feature, contigname=contigname, genomename=genomename, datasetname=dataset)\n",
    "cr.get_CRISPR_array()\n",
    "spacers=cr.spacers\n",
    "repeats=cr.repeats\n",
    "repeat_start_pos=cr.repstartpos\n",
    "print(\"cp \"+cr.path+\" \"+datadir)\n",
    "\n",
    "\n",
    "# get whole locus sequence todo this could become a function of its own, dentro utils, gli dai seqid della cas e ti dà tt il locus\n",
    "\n",
    "# > get start and stop position of all Cass. questo devi metterlo nella tabella di cas non ci sono santi.\n",
    "cas_position={feature:[int(n) for n in cas_dataset[cas_dataset[\"Seq ID\"]==seqid][\"Pos\"].iloc[0].split()],\\\n",
    "              \"Cas1\":[int(n) for n in eval(cas_dataset[cas_dataset[\"Seq ID\"]==seqid][\"prokka_cas1\"].iloc[0])[0][1:]],\\\n",
    "              \"Cas2\":[int(n) for n in eval(cas_dataset[cas_dataset[\"Seq ID\"]==seqid][\"prokka_cas2\"].iloc[0])[0][1:]],\\\n",
    "              \"CRISPR\":[int(n) for n in eval(cas_dataset[cas_dataset[\"Seq ID\"]==seqid][\"minced_CRISPR\"].iloc[0])[0][1:]]\n",
    "             }\n",
    "print(\"Locus features and positions: \", cas_position)\n",
    "# so già che all casses inside here are on the same contig which is 'contig', xke le ho estratte per essere così\n",
    "# FALSO! è cosi in cas_dataset, non in tabellazzza! mi ero confuso! trovato il bug!\n",
    "\n",
    "genomefilename= \"/shares/CIBIO-Storage/CM/scratch/tmp_projects/epasolli_darkmatter/allcontigs/ALLreconstructedgenomes/\"+str(SGB)+\"/\"+genomename+\".fa\"\n",
    "print(\"+\"*80)\n",
    "print(cas_position)\n",
    "print(\"Retrieving locus\")\n",
    "print(\"Copying file ot output...\")\n",
    "print(\"cp \"+genomefilename+\" \"+datadir)\n",
    "\n",
    "# access contig:\n",
    "\n",
    "for record in SeqIO.parse(genomefilename,\"fasta\"):  #c'è modo di non fare questo 'ciclo'?\n",
    "    if record.id.startswith(contigname):\n",
    "        #test se effettivamente la seq di cas è dove voglio io\n",
    "\n",
    "        SeqIO.write(record, datadir+\"tempblastdb\", \"fasta\")\n",
    "        print(\"CRISPR si trova\", cas_position[\"CRISPR\"])\n",
    "        print(\"Cas9 si trova\", cas_position[feature])\n",
    "        print(\"Cas2 si trova\", cas_position[\"Cas2\"])\n",
    "        print(\"Cas1 si trova\", cas_position[\"Cas1\"])\n",
    "\n",
    "        #estrai la posizione di cas9 dal contig, e traducila\n",
    "        temp_alt_cas9start=98503\n",
    "        temp_alt_cas9stop=101700\n",
    "        cas9start=cas_position[feature][0]\n",
    "        cas9stop=cas_position[feature][1]\n",
    "        cas9_nnseq=record.seq[cas9start-1:cas9stop-3] #gff should have a 1-based positional annotation (ma sto andando a occhio finchè non sono uguali, è già un oggetto Bio.Seq\n",
    "\n",
    "        my_translated_cas9=cas9_nnseq.transcribe().translate()\n",
    "\n",
    "  \n",
    "        print(len(cas9_nnseq)/3,len(cas9_aa))\n",
    "\n",
    "\n",
    "        if my_translated_cas9==cas9_aa:\n",
    "            print(\"Cas locus on plus strand\")\n",
    "            plus=True\n",
    "        if not my_translated_cas9==cas9_aa:\n",
    "            #proviamo col reverse complement\n",
    "            cas9_nnseq=record.seq[cas9start+2:cas9stop]\n",
    "            my_translated_cas9=cas9_nnseq.reverse_complement().transcribe().translate()\n",
    "            print(\"Cas locus on minus strand\")\n",
    "        print(\"Is Cas9 translated from the genome equal to the orignal annotation?\", my_translated_cas9==cas9_aa)\n",
    "        print(my_translated_cas9)\n",
    "        print(\"+\"*80)\n",
    "        print(cas9_aa)\n",
    "        \n",
    "        alignments = pairwise2.align.localxx(my_translated_cas9,cas9_aa)\n",
    "        print(pairwise2.format_alignment(*alignments[0]))\n",
    "        \n",
    "        #save .faa aminoacid sequence to output:\n",
    "        if my_translated_cas9==cas9_aa:\n",
    "            cas9aafilename=str(SGB)+\"__\"+seqid+\"__\"+genomename+\".\"+feature+\".faa\"\n",
    "            f=open(datadir+cas9aafilename,\"w\") #TODO dir\n",
    "            f.write(\">\"+seqid+\"\\n\"+cas9_aa)\n",
    "            f.close()\n",
    "\n",
    "        #opzione 1 blast\n",
    "      #1. salva np.uniq(repeats) in un fasta file: build temporary query file for blastn search\n",
    "\n",
    "        print(\"let's now blast the repeat against  the genome\")\n",
    "        os.chdir(datadir)\n",
    "        tempfile=open(\"temp_repeat_seq\", \"w\")\n",
    "        tempfile.close()\n",
    "        tempfile=open(\"temp_repeat_seq\", \"a\")\n",
    "        unique_repeats=np.unique(repeats)\n",
    "        for n, repeat in enumerate([Seq(sequence) for sequence in np.unique(repeats)]):\n",
    "            tempfile.write(\">rpt\"+str(n+1)+\"|\"+contigname+\"|\"+genomename+\"|\"+seqid+\"\\n\"+str(repeat)+\"\\n\") \n",
    "        tempfile.close()\n",
    "\n",
    "        #2. Blast query file against db\n",
    "\n",
    "        #3. make db file\n",
    "        print(\"Building blast database with:\")\n",
    "        dbfile=datadir+\"tempblastdb\"\n",
    "        print(\"makeblastdb -in \"+dbfile+\" -parse_seqids  -dbtype nucl\")\n",
    "        os.system(\"makeblastdb -in \"+dbfile+\" -parse_seqids  -dbtype nucl\")\n",
    "\n",
    "\n",
    "        print(\"Running blastn of query file agianst all contigs\")\n",
    "        blastoutfile=datadir\\\n",
    "        +str(SGB)+\"__\"+seqid+\"__\"+genomename+\"__\"+feature+\".trcr.blastout\"\n",
    "        blastn_command = \"blastn -out \"+blastoutfile+\" -outfmt \\\"6  qseqid sseqid pident qlen length mismatch gapopen qseq sseq sstart send evalue sstrand\\\" -query temp_repeat_seq -db \"+dbfile+\" -evalue 0.001 -word_size 11 -penalty -2\"\n",
    "        print(blastn_command)\n",
    "        os.system(blastn_command)\n",
    "       # os.system(\"rm /shares/CIBIO-Storage/CM/scratch/tmp_projects/signorini_cas/7tracerRNA/temp*\")\n"
   ]
  },
  {
   "cell_type": "code",
   "execution_count": 6,
   "metadata": {},
   "outputs": [
    {
     "name": "stdout",
     "output_type": "stream",
     "text": [
      "\n",
      "-----------------------------------------------------\n",
      "Parsing BLAST output, looking for hit which are NOT the same repeats\n",
      "i.e. not starting with: ['17062', '17128', '17194', '17260', '17326', '17392', '17458', '17524', '17590', '17656', '17722', '17788', '17854', '17920', '17986', '18052', '18118', '18184', '18250', '18316', '18382', '18447'] :\n",
      "-----------------------------------------------------\n",
      "\n",
      "rpt3|NODE_121_length_46647_cov_15.743|KosticAD_2015__PRJNA231909.3105379__bin.4|CDGFJFMD_00819\tNODE_121_length_46647_cov_15.743\t86.11\t36\t36\t3\t1\tTTTTAGT--ACTCTGTAATTTTTCGCTATGGTAAAA\tTTTTAGTAGATTCTGTAACCTTTCGCTATGGTAAAA\t16873\t16838\t4e-06\tminus\n",
      "\n"
     ]
    }
   ],
   "source": [
    "#4. parse blast output: only print output if it is NOT one of the old repeats.\n",
    "print(\"\\n-----------------------------------------------------\\nParsing BLAST output, looking for hit which are NOT the same repeats\\ni.e. not starting with:\", repeat_start_pos,\":\\n-----------------------------------------------------\\n\")\n",
    "f=open(blastoutfile,\"r\")\n",
    "for line in f.readlines():\n",
    "    start_pos=line.split(\"\\t\")[9]\n",
    "    if start_pos not in repeat_start_pos:\n",
    "        if str(int(start_pos)+1) not in repeat_start_pos:\n",
    "            if str(int(start_pos)-1) not in repeat_start_pos:\n",
    "                print(line) "
   ]
  },
  {
   "cell_type": "markdown",
   "metadata": {},
   "source": [
    "## extract sequences"
   ]
  },
  {
   "cell_type": "code",
   "execution_count": 17,
   "metadata": {},
   "outputs": [],
   "source": [
    "# manual input\n",
    "matched_rep_start=16838\n",
    "matched_rep_stop=16873"
   ]
  },
  {
   "cell_type": "code",
   "execution_count": 18,
   "metadata": {},
   "outputs": [
    {
     "name": "stdout",
     "output_type": "stream",
     "text": [
      "TTTTACCATAGCGAAAGGTTACAGAATCTACTAAAA\n"
     ]
    },
    {
     "data": {
      "text/plain": [
       "36"
      ]
     },
     "execution_count": 18,
     "metadata": {},
     "output_type": "execute_result"
    }
   ],
   "source": [
    "# this is the sequence matching the repeat:\n",
    "matched_rep=Seq(\"TTTTAGTAGATTCTGTAACCTTTCGCTATGGTAAAA\")\n",
    "\n",
    "#rpts which match:\n",
    "rpt=unique_repeats[0]\n",
    "\n",
    "# since repeat is on the + strand, and this is all on the + strand, tracrRNA should be its reverse complement:\n",
    "antirepeat=matched_rep.reverse_complement()\n",
    "#this should go frombo to bo  = x nt  (x+1)\n",
    "print(antirepeat)\n",
    "len(antirepeat)"
   ]
  },
  {
   "cell_type": "code",
   "execution_count": 9,
   "metadata": {},
   "outputs": [
    {
     "name": "stdout",
     "output_type": "stream",
     "text": [
      "  16722      Both - AAATGAGGAAAGGGATACATCTAAGATGTATCCCTTGATTTCGGCA -10.80\n",
      "\n",
      "  16723      Both + GCCGAAATCAAGGGATACATCTTAGATGTATCCCtTTCCTCATTTATA -10.80\n",
      "\n",
      "  16970      Both + AGAAATTTGAGCACAGGTCTTATGATCTGTGTTTTTTTATTGT -11.40\n",
      "\n"
     ]
    }
   ],
   "source": [
    "# print terminators\n",
    "\n",
    "f=open(datadir+str(SGB)+\"__\"+seqid+\"__\"+genomename+\".terminators\")\n",
    "for line in f.readlines():\n",
    "    if line.strip().startswith(\"16\"): #manual input\n",
    "        print(line)\n",
    "f.close()"
   ]
  },
  {
   "cell_type": "code",
   "execution_count": 28,
   "metadata": {},
   "outputs": [
    {
     "name": "stdout",
     "output_type": "stream",
     "text": [
      "terminator length:  43\n",
      "terminator start and stop: 16970 17013\n"
     ]
    }
   ],
   "source": [
    "tstrand=1  #manual input, terminator strand. TODO CHECK che se lo strand è -1 allora è <matched rep (tracrRNA on - strand),e viceversa\n",
    "\n",
    "if tstrand==-1: # if terminator on - strand\n",
    "    terminator_end=16722 -1  #manual input\n",
    "    terminator=Seq(\"AAATGAGGAAAGGGATACATCTAAGATGTATCCCTTGATTTCGGCA\".upper()) #manual input\n",
    "    terminator_start=terminator_end+len(terminator) #occhio che qui start e stop si riferisce al rev.compl, mentre nel antirepeat si riferisce alla direzione base\n",
    "if tstrand==1:  # if terminator on + strand\n",
    "    terminator_start=16970-1 #manual input\n",
    "    terminator=Seq(\"AGAAATTTGAGCACAGGTCTTATGATCTGTGTTTTTTTATTGT\".upper()) #manual input\n",
    "    terminator_end=terminator_start+len(terminator)\n",
    "\n",
    "print(\"terminator length: \", len(terminator))\n",
    "print(\"terminator start and stop:\",terminator_start, terminator_end)\n"
   ]
  },
  {
   "cell_type": "code",
   "execution_count": 29,
   "metadata": {},
   "outputs": [
    {
     "name": "stdout",
     "output_type": "stream",
     "text": [
      "test antirepeat:  TTTTACCATAGCGAAAGGTTACAGAATCTACTAAAA 36 True\n",
      "test terminator:  AGAAATTTGAGCACAGGTCTTATGATCTGTGTTTTTTTATTGT 43 False\n",
      "pre tracrRNA:  0\n",
      "mario sequence:  0\n"
     ]
    }
   ],
   "source": [
    "# Open genome and extract the whole sequence\n",
    "# find this inside the genome, and link it to the thing found by ARNold:\n",
    "for record in SeqIO.parse(genomefilename, \"fasta\"):\n",
    "    if record.id==contigname:\n",
    "        contigseq=record.seq\n",
    "\n",
    "#check antirepeat\n",
    "extracted_antirepeat =  contigseq[matched_rep_start-1:matched_rep_stop] if tstrand==1 else contigseq[matched_rep_start-1:matched_rep_stop].reverse_complement()\n",
    "print(\"test antirepeat: \", antirepeat, len(antirepeat), extracted_antirepeat==antirepeat) # -1 why? Indexing diverso evidentemente col blastout, vbb\n",
    "\n",
    "# check terminator\n",
    "extracted_terminator =  contigseq[terminator_start:terminator_end] if tstrand==1 else contigseq[terminator_end:terminator_start].reverse_complement()\n",
    "print(\"test terminator: \" ,terminator, len(terminator), extracted_terminator==terminator)\n",
    "\n",
    "\n",
    "pre_tracrRNA=contigseq[terminator_end:matched_rep_stop].reverse_complement()\n",
    "print(\"pre tracrRNA:\", pre_tracrRNA, len(pre_tracrRNA))\n",
    "\n",
    "# add mario\n",
    "mario=contigseq[terminator_start:matched_rep_start-1].reverse_complement()\n",
    "print(\"mario sequence:\",  mario, len(mario))  # ho fatto i check, il -1 sopra è giusto"
   ]
  },
  {
   "cell_type": "code",
   "execution_count": 19,
   "metadata": {},
   "outputs": [
    {
     "name": "stdout",
     "output_type": "stream",
     "text": [
      "16721 16838\n"
     ]
    }
   ],
   "source": [
    "print(terminator_end, matched_rep_stop)"
   ]
  },
  {
   "cell_type": "code",
   "execution_count": 23,
   "metadata": {},
   "outputs": [
    {
     "name": "stdout",
     "output_type": "stream",
     "text": [
      "CATTTTAGT-G-TTCTATGAT----TTTCGCTATAG-TAGAAT\n",
      "  ||||||| | |||  || |    ||||||||| | || ||.\n",
      "--TTTTAGTAGATTC--TG-TAACCTTTCGCTAT-GGTA-AAA\n",
      "  Score=28\n",
      "\n",
      "rpt length: 36\n"
     ]
    }
   ],
   "source": [
    "# Now, align with the rest of the stuff to see what's up\n",
    "# first up, with the repeat, lets take the rpt3, which has only got 1 mismatch\n",
    "\n",
    "alignments = pairwise2.align.localxx(rpt, antirepeat.reverse_complement())\n",
    "print(pairwise2.format_alignment(*alignments[0]))\n",
    "print(\"rpt length:\", len(rpt))\n"
   ]
  },
  {
   "cell_type": "code",
   "execution_count": 51,
   "metadata": {},
   "outputs": [
    {
     "name": "stdout",
     "output_type": "stream",
     "text": [
      "A-TT---GTAGTT--CCCTAATTT-TTCTTGGTATGTTATAAT\n",
      "  ||   |||| |  ||| || || ||||||||||| | | ||\n",
      "-CTTTTTGTAG-TAACCC-AA-TTGTTCTTGGTATG-T-T-AT\n",
      "  Score=29\n",
      "\n"
     ]
    }
   ],
   "source": [
    "# align antirepat + mario with repeat\n",
    "alignments = pairwise2.align.globalxx( rpt3,(antirepeat+mario[:4]).reverse_complement())\n",
    "print(pairwise2.format_alignment(*alignments[0]))"
   ]
  },
  {
   "cell_type": "code",
   "execution_count": null,
   "metadata": {},
   "outputs": [],
   "source": [
    "#no non fa nulla quel CTTT in più"
   ]
  },
  {
   "cell_type": "code",
   "execution_count": 24,
   "metadata": {},
   "outputs": [
    {
     "name": "stdout",
     "output_type": "stream",
     "text": [
      "\n",
      "----------------------------------------------------------------------\n",
      "         tracrRNA sequence for Cas9 protein id CDGFJFMD_00819\n",
      "----------------------------------------------------------------------\n",
      "\n",
      "- contig name: NODE_121_length_46647_cov_15.743\n",
      "- Dataset:  KosticAD_2015\n",
      "- Bin:  KosticAD_2015__PRJNA231909.3105379__bin.4\n",
      "- SGB:  6927\n",
      "----------------------------------------------------------------------\n",
      "\n",
      "- Length:  117 \n",
      "- position:  16721 16838\n",
      "ATCTAATTACATACTAAATCAGCATAATGTATATGTCAACACTTTTATTTAAAATATAAAAAATAAAATATAAATGAGGAAAGGGATACATCTAAGATGTATCCCTTGATTTCGGCA\n"
     ]
    }
   ],
   "source": [
    "# I would probably say that the tracr is just, simply la parte di pre_tracrRNA la cui antirepeat si lega alla repeat, \n",
    "# che, in questo caso, è tutta.\n",
    "tracrRNA = pre_tracrRNA\n",
    "\n",
    "print(\"\\n----------------------------------------------------------------------\")\n",
    "print(\"         tracrRNA sequence for\", feature,\"protein id\", seqid)\n",
    "print(\"----------------------------------------------------------------------\\n\")\n",
    "print(\"- contig name:\", cas_dataset[cas_dataset[\"Seq ID\"]==seqid][\"Contig\"].iloc[0])\n",
    "print(\"- Dataset: \",cas_dataset[cas_dataset[\"Seq ID\"]==seqid][\"Study\"].iloc[0])\n",
    "print(\"- Bin: \",cas_dataset[cas_dataset[\"Seq ID\"]==seqid][\"Genome Name\"].iloc[0])\n",
    "print(\"- SGB: \",cas_dataset[cas_dataset[\"Seq ID\"]==seqid][\"SGB ID\"].iloc[0])\n",
    "print(\"----------------------------------------------------------------------\\n\")\n",
    "print(\"- Length: \", len(tracrRNA),\"\\n- position: \", terminator_end,matched_rep_stop)\n",
    "print(tracrRNA)"
   ]
  },
  {
   "cell_type": "code",
   "execution_count": null,
   "metadata": {},
   "outputs": [],
   "source": []
  }
 ],
 "metadata": {
  "kernelspec": {
   "display_name": "Python 3",
   "language": "python",
   "name": "python3"
  },
  "language_info": {
   "codemirror_mode": {
    "name": "ipython",
    "version": 3
   },
   "file_extension": ".py",
   "mimetype": "text/x-python",
   "name": "python",
   "nbconvert_exporter": "python",
   "pygments_lexer": "ipython3",
   "version": "3.7.3"
  }
 },
 "nbformat": 4,
 "nbformat_minor": 2
}
