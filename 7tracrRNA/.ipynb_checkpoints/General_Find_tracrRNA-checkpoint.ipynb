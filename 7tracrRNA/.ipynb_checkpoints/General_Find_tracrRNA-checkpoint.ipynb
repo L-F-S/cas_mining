{
 "cells": [
  {
   "cell_type": "markdown",
   "metadata": {},
   "source": [
    "# find tracerRNA\n",
    "\n",
    "03/12/2019: migliorare e vedere se si riesce a prendere in considerazione le cose giuste. \n",
    "of FLJLKKHA_00012\n",
    "problem: ha 2 active working cas loci. e il tracr mi sa che l'ha trovato in tutti e due, ma solo uno è segnato.\n",
    "l'altro (greppato a mano) è:\n",
    "TODO: qualcosa di sbagliato accade quando checcki la posizione di cas9 nel genoma, traduce male il primo aminoacido , e solo il primo parrebbe ... hm\n",
    "\n",
    "- Cas9 : NODE_49_length_176785_cov_12.2725       Prodigal:2.6    CDS     15614   18553   .       -       0       ID=FLJLKKHA_00012;Parent=FLJLKKHA_00012_gene;eC_number=3.1.-.-;Name=cas9_1;gene=cas9_1;inference=ab initio prediction:Prodigal:2.6,similar to AA sequence:UniProtKB:Q9CLT2;locus_tag=FLJLKKHA_00012;product=CRISPR-associated endonuclease Cas9;protein_id=gnl|X|FLJLKKHA_00012\n",
    "- Cas1 : NODE_49_length_176785_cov_12.2725       Prodigal:2.6    CDS     14715   15614   .       -       0       ID=FLJLKKHA_00011;Parent=FLJLKKHA_00011_gene;eC_number=3.1.-.-;Name=cas1_1;gene=cas1_1;inference=ab initio prediction:Prodigal:2.6,similar to AA sequence:UniProtKB:G3ECR2;locus_tag=FLJLKKHA_00011;product=CRISPR-associated endonuclease Cas1;protein_id=gnl|X|FLJLKKHA_00011\n",
    "- Cas2 : NODE_49_length_176785_cov_12.2725       Prodigal:2.6    CDS     14378   14707   .       -       0       ID=FLJLKKHA_00010;Parent=FLJLKKHA_00010_gene;eC_number=3.1.-.-;Name=cas2_1;gene=cas2_1;inference=ab initio prediction:Prodigal:2.6,similar to AA sequence:UniProtKB:G3ECR3;locus_tag=FLJLKKHA_00010;product=CRISPR-associated endoribonuclease Cas2;protein_id=gnl|X|FLJLKKHA_00010\n"
   ]
  },
  {
   "cell_type": "code",
   "execution_count": 1,
   "metadata": {},
   "outputs": [],
   "source": [
    "# First created Thu Jul 11 09:51:15 CEST 2019\n",
    "# Made by L-F-S\n",
    "# At the University Of Trento, Italy\n",
    "\n",
    "import os\n",
    "import sys\n",
    "import numpy as np\n",
    "import pandas as pd\n",
    "import matplotlib.pyplot as plt\n",
    "from Bio import SeqIO\n",
    "from Bio.Seq import Seq\n",
    "from Bio.Alphabet import generic_dna, generic_protein, RNAAlphabet\n",
    "from Bio import pairwise2\n",
    "\n",
    "\n",
    "sys.path.insert(0, '/home/lorenzo.signorini/cas_mining/utils/')\n",
    "import filename_discrepancies\n",
    "sys.path.insert(0, '/home/lorenzo.signorini/cas_mining/9casminer_v2/')\n",
    "import locus\n",
    "\n",
    "\n",
    "feature=\"Cas9\" #WARNING!!! CHANGE THIS!!\n",
    "#outpath=\"/shares/CIBIO-Storage/CM/scratch/tmp_projects/signorini_cas/5caslocitable/out/\"+feature+\"/\"\n",
    "datadir=\"/shares/CIBIO-Storage/CM/scratch/tmp_projects/signorini_cas/7tracrRNA/\"\n",
    "\n",
    "\n"
   ]
  },
  {
   "cell_type": "code",
   "execution_count": 2,
   "metadata": {
    "scrolled": true
   },
   "outputs": [
    {
     "data": {
      "text/plain": [
       "Index(['Seq ID', 'Seq Description', 'Seq', 'Contig', 'Genome Name', 'Study',\n",
       "       'Sample Name', 'SGB ID', 'Pos', 'pilercr_CRISPR', 'minced_CRISPR',\n",
       "       'prokka_cas1', 'prokka_cas2', 'uSGB', 'Level of estimated taxonomy',\n",
       "       'Estimated taxonomy', 'prokka_cas9'],\n",
       "      dtype='object')"
      ]
     },
     "execution_count": 2,
     "metadata": {},
     "output_type": "execute_result"
    }
   ],
   "source": [
    "# Import data\n",
    "cas_dataset=pd.read_csv(\"/shares/CIBIO-Storage/CM/scratch/tmp_projects/signorini_cas/5caslocitable/known_\"+feature+\"prokkacas9_variants_table.csv\", index_col=0)\n",
    "cas_dataset.columns"
   ]
  },
  {
   "cell_type": "markdown",
   "metadata": {},
   "source": [
    "## inspect casdataset, especially the last column.."
   ]
  },
  {
   "cell_type": "code",
   "execution_count": 8,
   "metadata": {},
   "outputs": [
    {
     "name": "stdout",
     "output_type": "stream",
     "text": [
      "SEQ ID:  AOPFDEBE_00006\n",
      "NODE_411_length_19879_cov_2.8009\n",
      "Obregon-TitoAJ_2015\n",
      "Obregon-TitoAJ_2015__SM31__bin.19\n",
      "17319\n",
      "978\n",
      "[('.', '10862', '12283')]\n",
      "----------------------------------------------------------------------\n"
     ]
    }
   ],
   "source": [
    "seqid =\"AOPFDEBE_00006\"  #00012\n",
    "print(\"SEQ ID: \", seqid)\n",
    "print(cas_dataset[cas_dataset[\"Seq ID\"]==seqid][\"Contig\"].iloc[0])\n",
    "print(cas_dataset[cas_dataset[\"Seq ID\"]==seqid][\"Study\"].iloc[0])\n",
    "print(cas_dataset[cas_dataset[\"Seq ID\"]==seqid][\"Genome Name\"].iloc[0])\n",
    "print(cas_dataset[cas_dataset[\"Seq ID\"]==seqid][\"SGB ID\"].iloc[0])\n",
    "print(len(cas_dataset[cas_dataset[\"Seq ID\"]==seqid][\"Seq\"].iloc[0]))\n",
    "print(cas_dataset[cas_dataset[\"Seq ID\"]==seqid][\"minced_CRISPR\"].iloc[0])\n",
    "print(\"----------------------------------------------------------------------\")\n"
   ]
  },
  {
   "cell_type": "markdown",
   "metadata": {},
   "source": [
    "## double cas check: check how many cas9s are there in that genome\n"
   ]
  },
  {
   "cell_type": "code",
   "execution_count": 9,
   "metadata": {},
   "outputs": [
    {
     "data": {
      "text/html": [
       "<div>\n",
       "<style scoped>\n",
       "    .dataframe tbody tr th:only-of-type {\n",
       "        vertical-align: middle;\n",
       "    }\n",
       "\n",
       "    .dataframe tbody tr th {\n",
       "        vertical-align: top;\n",
       "    }\n",
       "\n",
       "    .dataframe thead th {\n",
       "        text-align: right;\n",
       "    }\n",
       "</style>\n",
       "<table border=\"1\" class=\"dataframe\">\n",
       "  <thead>\n",
       "    <tr style=\"text-align: right;\">\n",
       "      <th></th>\n",
       "      <th>Seq ID</th>\n",
       "      <th>Seq Description</th>\n",
       "      <th>Seq</th>\n",
       "      <th>Contig</th>\n",
       "      <th>Genome Name</th>\n",
       "      <th>Study</th>\n",
       "      <th>Sample Name</th>\n",
       "      <th>SGB ID</th>\n",
       "      <th>Pos</th>\n",
       "      <th>pilercr_CRISPR</th>\n",
       "      <th>minced_CRISPR</th>\n",
       "      <th>prokka_cas1</th>\n",
       "      <th>prokka_cas2</th>\n",
       "      <th>uSGB</th>\n",
       "      <th>Level of estimated taxonomy</th>\n",
       "      <th>Estimated taxonomy</th>\n",
       "      <th>prokka_cas9</th>\n",
       "    </tr>\n",
       "  </thead>\n",
       "  <tbody>\n",
       "    <tr>\n",
       "      <td>19055</td>\n",
       "      <td>AOPFDEBE_00006</td>\n",
       "      <td>AOPFDEBE_00006 CRISPR-associated endonuclease ...</td>\n",
       "      <td>MSLIFGFDLGIASIGWAAVKMSDPTASDTDAAAPDNRPVGEILGAG...</td>\n",
       "      <td>NODE_411_length_19879_cov_2.8009</td>\n",
       "      <td>Obregon-TitoAJ_2015__SM31__bin.19</td>\n",
       "      <td>Obregon-TitoAJ_2015</td>\n",
       "      <td>SM31</td>\n",
       "      <td>17319</td>\n",
       "      <td>6519 9455</td>\n",
       "      <td>[('ID=CRISPR1', '11227', '6')]</td>\n",
       "      <td>[('.', '10862', '12283')]</td>\n",
       "      <td>[('ID=AOPFDEBE_00007', '9510', '10424')]</td>\n",
       "      <td>[('ID=AOPFDEBE_00008', '10453', '10758')]</td>\n",
       "      <td>Yes</td>\n",
       "      <td>Other</td>\n",
       "      <td>-</td>\n",
       "      <td>('ID=AOPFDEBE_00006', '6519', '9455')</td>\n",
       "    </tr>\n",
       "  </tbody>\n",
       "</table>\n",
       "</div>"
      ],
      "text/plain": [
       "               Seq ID                                    Seq Description  \\\n",
       "19055  AOPFDEBE_00006  AOPFDEBE_00006 CRISPR-associated endonuclease ...   \n",
       "\n",
       "                                                     Seq  \\\n",
       "19055  MSLIFGFDLGIASIGWAAVKMSDPTASDTDAAAPDNRPVGEILGAG...   \n",
       "\n",
       "                                 Contig                        Genome Name  \\\n",
       "19055  NODE_411_length_19879_cov_2.8009  Obregon-TitoAJ_2015__SM31__bin.19   \n",
       "\n",
       "                     Study Sample Name  SGB ID        Pos  \\\n",
       "19055  Obregon-TitoAJ_2015        SM31   17319  6519 9455   \n",
       "\n",
       "                       pilercr_CRISPR              minced_CRISPR  \\\n",
       "19055  [('ID=CRISPR1', '11227', '6')]  [('.', '10862', '12283')]   \n",
       "\n",
       "                                    prokka_cas1  \\\n",
       "19055  [('ID=AOPFDEBE_00007', '9510', '10424')]   \n",
       "\n",
       "                                     prokka_cas2 uSGB  \\\n",
       "19055  [('ID=AOPFDEBE_00008', '10453', '10758')]  Yes   \n",
       "\n",
       "      Level of estimated taxonomy Estimated taxonomy  \\\n",
       "19055                       Other                  -   \n",
       "\n",
       "                                 prokka_cas9  \n",
       "19055  ('ID=AOPFDEBE_00006', '6519', '9455')  "
      ]
     },
     "execution_count": 9,
     "metadata": {},
     "output_type": "execute_result"
    }
   ],
   "source": [
    "genomename=cas_dataset[cas_dataset[\"Seq ID\"]==seqid][\"Genome Name\"].iloc[0]\n",
    "cas_dataset[cas_dataset[\"Genome Name\"]==genomename]"
   ]
  },
  {
   "cell_type": "code",
   "execution_count": 17,
   "metadata": {
    "scrolled": false
   },
   "outputs": [
    {
     "name": "stdout",
     "output_type": "stream",
     "text": [
      "\n",
      "-----------------------------------------------------\n",
      "Cas9 id:\tAOPFDEBE_00006\n",
      "SGB:\t17319\n",
      "Genome Name:\t Obregon-TitoAJ_2015__SM31__bin.19\n",
      "Contig:\tNODE_411_length_19879_cov_2.8009 \n",
      "-----------------------------------------------------\n",
      "\n",
      "\n",
      "\n",
      "CRISPR 1   Range: 10862 - 12283\n",
      "\n",
      "POSITION\tREPEAT\t\t\t\tSPACER\n",
      "\n",
      "--------\t------------------------------------\t------------------------------\n",
      "\n",
      "10862\t\tATTATACCAAAGACGATTTGAGAAGCAACCTATAAC\tAAGACGCACTCAACAGCACCAATATGCAGG\t[ 36, 30 ]\n",
      "\n",
      "10928\t\tATTATACCAAAGACGATTTGAGAAGCAACCTATAAC\tAACAAGTATACGCAATGTTTAACCAAATCA\t[ 36, 30 ]\n",
      "\n",
      "10994\t\tATTATACCAAAGACGATTTGAGAAGCAACCTATAAC\tAGGTCAGGATTATCAACCACGTATCGATTC\t[ 36, 30 ]\n",
      "\n",
      "11060\t\tATTATACCAAAGACGATTTGAGAAGCAACCTATAAC\tCTATACTAAGGGCATATCAATAAGGACATA\t[ 36, 30 ]\n",
      "\n",
      "11126\t\tATTATACCAAAGACGATTTGAGAAGCAACCTATAAC\tATGTATATTTCATTGTTGATATTTTCTTTG\t[ 36, 30 ]\n",
      "\n",
      "11192\t\tATTATACCAAAGACGATTTGAGAAGCAACCTATAAC\tCCAGCCATGTTATATATTTGTGCCGCTTGT\t[ 36, 30 ]\n",
      "\n",
      "11258\t\tATTATACCAAAGACGATTTGAGAAGCAACCTATAAC\tTGTAGTTGCTGTCGTAATACCCGACCGTCA\t[ 36, 30 ]\n",
      "\n",
      "11324\t\tATTATACCAAAGACGATTTGAGAAGCAACCTATAAC\tCCATTCTGTGGATTTACCCACGTTTCTTTT\t[ 36, 30 ]\n",
      "\n",
      "11390\t\tATTATACCAAAGACGATTTGAGAAGCAACCTATAAC\tTCCAAAATGCAACCTATGCATTTACCACAT\t[ 36, 30 ]\n",
      "\n",
      "11456\t\tATTATACCAAAGACGATTTGAGAAGCAACCTATAAC\tTGGTATGTCCAGAAATTCGTTGCCGATGGT\t[ 36, 30 ]\n",
      "\n",
      "11522\t\tATTATACCAAAGACGATTTGAGAAGCAACCTATAAC\tTGCCGTTGCCGGTTATGTTGGGTGGAAAAA\t[ 36, 30 ]\n",
      "\n",
      "11588\t\tATTATACCAAAGACGATTTGAGAAGCAACCTATAAC\tGAACCGCGCCGCATTGCAACCATTATGCGA\t[ 36, 30 ]\n",
      "\n",
      "11654\t\tATTATACCAAAGACGATTTGAGAAGCAACCTATAAC\tAATGTGTCAAGGATTATGTTGAGTGCGTCA\t[ 36, 30 ]\n",
      "\n",
      "11720\t\tATTATACCAAAGACGATTTGAGAAGCAACCTATAAC\tAGTGATTCCATACTAAACGGTGTGGAACTG\t[ 36, 30 ]\n",
      "\n",
      "11786\t\tATTATACCAAAGACGATTTGAGAAGCAACCTATAAC\tTTGCTAACGCTTGCTCGCACACACGCCGAT\t[ 36, 30 ]\n",
      "\n",
      "11852\t\tATTATACCAAAGACGATTTGAGAAGCAACCTATAAC\tCAAAATTACGTTCAATAAACGTATTGCGAA\t[ 36, 30 ]\n",
      "\n",
      "11918\t\tATTATACCAAAGACGATTTGAGAAGCAACCTATAAC\tGGGCGATGCTTCTGTATTTATTATTGACTT\t[ 36, 30 ]\n",
      "\n",
      "11984\t\tATTATACCAAAGACGATTTGAGAAGCAACCTATAAC\tCTTTATGGTATGGCAACCGCGCCGCCCCTG\t[ 36, 30 ]\n",
      "\n",
      "12050\t\tATTATACCAAAGACGATTTGAGAAGCAACCTATAAC\tGGCTATGCAACGGGGAACACTCGCGGGCGC\t[ 36, 30 ]\n",
      "\n",
      "12116\t\tATTATACCAAAGACGATTTGAGAAGCAACCTATAAC\tTGTATTGAATTGATTCGGGCAAGCAGATGA\t[ 36, 30 ]\n",
      "\n",
      "12182\t\tATTATACCAAAGACGATTTGAGAAGCAACCTATAAC\tGGAGTAATTTCCAACGTTTCAGTGTTGATT\t[ 36, 30 ]\n",
      "\n",
      "12248\t\tATTATACCAAAAATGACAGAGGCCTTTGAAACAATT\t\n",
      "\n",
      "--------\t------------------------------------\t------------------------------\n",
      "\n",
      "Repeats: 22\tAverage Length: 36\t\tAverage Length: 30\n",
      "\n",
      "Locus features and positions:  {'Cas9': [6519, 9455], 'Cas1': [9510, 10424], 'Cas2': [10453, 10758], 'CRISPR': [10862, 12283]}\n",
      "++++++++++++++++++++++++++++++++++++++++++++++++++++++++++++++++++++++++++++++++\n",
      "{'Cas9': [6519, 9455], 'Cas1': [9510, 10424], 'Cas2': [10453, 10758], 'CRISPR': [10862, 12283]}\n",
      "Retrieving locus\n",
      "CRISPR si trova [10862, 12283]\n",
      "Cas9 si trova [6519, 9455]\n",
      "Cas2 si trova [10453, 10758]\n",
      "Cas1 si trova [9510, 10424]\n",
      "978.0 978\n",
      "Cas locus on plus strand\n",
      "Is Cas9 translated from the genome equal to the orignal annotation? True\n",
      "MSLIFGFDLGIASIGWAAVKMSDPTASDTDAAAPDNRPVGEILGAGVRCFDQAQNAVDRRVARGARRRIRHRAQRMRDIRKILRQYNLIDIPEPKFNGQNNFYLNRDTDINIWQLRAVDAFTRKLTPRETGRILYHLAKHRGYDDITYPVLTGAVPEKADDAEAKEELKAIGAIKDNFAKLHNENPDQTMCQMLYATEHGQMRNGRKSVIKITKDGTQRTEEQSSYSNSIPRSEIKREAEMILHAQCGFGNDFSDVFKKWCVVAFHQLKFNESKSPLAKSIEKMRGKCPFTNKPVAPKESPTAQMFVALTKCRQNGFTVAETNAIIDALYKKKTGLKYADVRKLLKWDDDSQFKTLNYSRTYDKENKKWIEPDVKKIENSKFYAFTGWHKLAKYTTDVATMDKIFDIIVTQKTPENIERAVSGILPEHAAAIAQITSSEFIKLSISALQKIIPEMAAGKKYNEAVADGLGKDFRVQNVSYIDRDNGVSAGCLHQINWNALGNRITSPVAKRTLGQLRKVYNAMVYRFGAPDRIHLEIGRELKNSPDDIARMNREQERNRQATEEARKEYGKNYFKYKLYMEQGGKCPYCGATLVAGDWAAYEIDHILPYSRSLDNSQSNKVLVCHECNQRKGNKTPYEFLTTEQFHDMAVRARALHNPAKFKKLTNTELPQSSDEQNGFIERNANDNATIARFATEYLEYGIDWPESDNIKKRVLVRTGSLTDYLRHQWGLVKNRDESDKHHAQDAIVIACATQGMVKYLSTLSARFENKYTLIEKYGQAWYNVLKTSVQEPWAGFRTAVFSLLDNIIVSRPPRCNATGAAHKETIYANPKSYRSKRGLNKNRDKGSMKIRHGRVERGDMFRFDIWRDARGKYMCVPIFVADTKGKDDNNFKVPDSEFICSLHKDDYVRLTTADAVYEGYITQMDHGTNFILYRQDNSQIQVVKKSVGKCTNIEKFAMSLLGTPKPIKLPEQRTPVVK\n",
      "++++++++++++++++++++++++++++++++++++++++++++++++++++++++++++++++++++++++++++++++\n",
      "MSLIFGFDLGIASIGWAAVKMSDPTASDTDAAAPDNRPVGEILGAGVRCFDQAQNAVDRRVARGARRRIRHRAQRMRDIRKILRQYNLIDIPEPKFNGQNNFYLNRDTDINIWQLRAVDAFTRKLTPRETGRILYHLAKHRGYDDITYPVLTGAVPEKADDAEAKEELKAIGAIKDNFAKLHNENPDQTMCQMLYATEHGQMRNGRKSVIKITKDGTQRTEEQSSYSNSIPRSEIKREAEMILHAQCGFGNDFSDVFKKWCVVAFHQLKFNESKSPLAKSIEKMRGKCPFTNKPVAPKESPTAQMFVALTKCRQNGFTVAETNAIIDALYKKKTGLKYADVRKLLKWDDDSQFKTLNYSRTYDKENKKWIEPDVKKIENSKFYAFTGWHKLAKYTTDVATMDKIFDIIVTQKTPENIERAVSGILPEHAAAIAQITSSEFIKLSISALQKIIPEMAAGKKYNEAVADGLGKDFRVQNVSYIDRDNGVSAGCLHQINWNALGNRITSPVAKRTLGQLRKVYNAMVYRFGAPDRIHLEIGRELKNSPDDIARMNREQERNRQATEEARKEYGKNYFKYKLYMEQGGKCPYCGATLVAGDWAAYEIDHILPYSRSLDNSQSNKVLVCHECNQRKGNKTPYEFLTTEQFHDMAVRARALHNPAKFKKLTNTELPQSSDEQNGFIERNANDNATIARFATEYLEYGIDWPESDNIKKRVLVRTGSLTDYLRHQWGLVKNRDESDKHHAQDAIVIACATQGMVKYLSTLSARFENKYTLIEKYGQAWYNVLKTSVQEPWAGFRTAVFSLLDNIIVSRPPRCNATGAAHKETIYANPKSYRSKRGLNKNRDKGSMKIRHGRVERGDMFRFDIWRDARGKYMCVPIFVADTKGKDDNNFKVPDSEFICSLHKDDYVRLTTADAVYEGYITQMDHGTNFILYRQDNSQIQVVKKSVGKCTNIEKFAMSLLGTPKPIKLPEQRTPVVK\n",
      "MSLIFGFDLGIASIGWAAVKMSDPTASDTDAAAPDNRPVGEILGAGVRCFDQAQNAVDRRVARGARRRIRHRAQRMRDIRKILRQYNLIDIPEPKFNGQNNFYLNRDTDINIWQLRAVDAFTRKLTPRETGRILYHLAKHRGYDDITYPVLTGAVPEKADDAEAKEELKAIGAIKDNFAKLHNENPDQTMCQMLYATEHGQMRNGRKSVIKITKDGTQRTEEQSSYSNSIPRSEIKREAEMILHAQCGFGNDFSDVFKKWCVVAFHQLKFNESKSPLAKSIEKMRGKCPFTNKPVAPKESPTAQMFVALTKCRQNGFTVAETNAIIDALYKKKTGLKYADVRKLLKWDDDSQFKTLNYSRTYDKENKKWIEPDVKKIENSKFYAFTGWHKLAKYTTDVATMDKIFDIIVTQKTPENIERAVSGILPEHAAAIAQITSSEFIKLSISALQKIIPEMAAGKKYNEAVADGLGKDFRVQNVSYIDRDNGVSAGCLHQINWNALGNRITSPVAKRTLGQLRKVYNAMVYRFGAPDRIHLEIGRELKNSPDDIARMNREQERNRQATEEARKEYGKNYFKYKLYMEQGGKCPYCGATLVAGDWAAYEIDHILPYSRSLDNSQSNKVLVCHECNQRKGNKTPYEFLTTEQFHDMAVRARALHNPAKFKKLTNTELPQSSDEQNGFIERNANDNATIARFATEYLEYGIDWPESDNIKKRVLVRTGSLTDYLRHQWGLVKNRDESDKHHAQDAIVIACATQGMVKYLSTLSARFENKYTLIEKYGQAWYNVLKTSVQEPWAGFRTAVFSLLDNIIVSRPPRCNATGAAHKETIYANPKSYRSKRGLNKNRDKGSMKIRHGRVERGDMFRFDIWRDARGKYMCVPIFVADTKGKDDNNFKVPDSEFICSLHKDDYVRLTTADAVYEGYITQMDHGTNFILYRQDNSQIQVVKKSVGKCTNIEKFAMSLLGTPKPIKLPEQRTPVVK\n",
      "||||||||||||||||||||||||||||||||||||||||||||||||||||||||||||||||||||||||||||||||||||||||||||||||||||||||||||||||||||||||||||||||||||||||||||||||||||||||||||||||||||||||||||||||||||||||||||||||||||||||||||||||||||||||||||||||||||||||||||||||||||||||||||||||||||||||||||||||||||||||||||||||||||||||||||||||||||||||||||||||||||||||||||||||||||||||||||||||||||||||||||||||||||||||||||||||||||||||||||||||||||||||||||||||||||||||||||||||||||||||||||||||||||||||||||||||||||||||||||||||||||||||||||||||||||||||||||||||||||||||||||||||||||||||||||||||||||||||||||||||||||||||||||||||||||||||||||||||||||||||||||||||||||||||||||||||||||||||||||||||||||||||||||||||||||||||||||||||||||||||||||||||||||||||||||||||||||||||||||||||||||||||||||||||||||||||||||||||||||||||||||||||||||||||||||||||||||||||||||||||||||||||||||||||||||||||||||||||||||||||||||||||||||||||||||||||||||||||||||||||||||||||||||||||||||||||||||||||||||||||||||||||||||||||||||||||||||||||||||||||||||||||||||||||||\n",
      "MSLIFGFDLGIASIGWAAVKMSDPTASDTDAAAPDNRPVGEILGAGVRCFDQAQNAVDRRVARGARRRIRHRAQRMRDIRKILRQYNLIDIPEPKFNGQNNFYLNRDTDINIWQLRAVDAFTRKLTPRETGRILYHLAKHRGYDDITYPVLTGAVPEKADDAEAKEELKAIGAIKDNFAKLHNENPDQTMCQMLYATEHGQMRNGRKSVIKITKDGTQRTEEQSSYSNSIPRSEIKREAEMILHAQCGFGNDFSDVFKKWCVVAFHQLKFNESKSPLAKSIEKMRGKCPFTNKPVAPKESPTAQMFVALTKCRQNGFTVAETNAIIDALYKKKTGLKYADVRKLLKWDDDSQFKTLNYSRTYDKENKKWIEPDVKKIENSKFYAFTGWHKLAKYTTDVATMDKIFDIIVTQKTPENIERAVSGILPEHAAAIAQITSSEFIKLSISALQKIIPEMAAGKKYNEAVADGLGKDFRVQNVSYIDRDNGVSAGCLHQINWNALGNRITSPVAKRTLGQLRKVYNAMVYRFGAPDRIHLEIGRELKNSPDDIARMNREQERNRQATEEARKEYGKNYFKYKLYMEQGGKCPYCGATLVAGDWAAYEIDHILPYSRSLDNSQSNKVLVCHECNQRKGNKTPYEFLTTEQFHDMAVRARALHNPAKFKKLTNTELPQSSDEQNGFIERNANDNATIARFATEYLEYGIDWPESDNIKKRVLVRTGSLTDYLRHQWGLVKNRDESDKHHAQDAIVIACATQGMVKYLSTLSARFENKYTLIEKYGQAWYNVLKTSVQEPWAGFRTAVFSLLDNIIVSRPPRCNATGAAHKETIYANPKSYRSKRGLNKNRDKGSMKIRHGRVERGDMFRFDIWRDARGKYMCVPIFVADTKGKDDNNFKVPDSEFICSLHKDDYVRLTTADAVYEGYITQMDHGTNFILYRQDNSQIQVVKKSVGKCTNIEKFAMSLLGTPKPIKLPEQRTPVVK\n",
      "  Score=978\n",
      "\n",
      "let's now blast the repeat against  the genome\n",
      "Running blastn of query file agianst all contigs\n",
      "blastn -out /shares/CIBIO-Storage/CM/scratch/tmp_projects/signorini_cas/7tracrRNA/17319__AOPFDEBE_00006__Obregon-TitoAJ_2015__SM31__bin.19__Cas9.trcr.blastout -outfmt \"6  qseqid sseqid pident qlen length mismatch gapopen qseq sseq sstart send evalue sstrand\" -query temp_repeat_seq -db /shares/CIBIO-Storage/CM/scratch/tmp_projects/signorini_cas/7tracrRNA/tempblastdb -evalue 0.001 -word_size 11 -penalty -2\n"
     ]
    }
   ],
   "source": [
    "spacers=[]\n",
    "repeats=[]\n",
    "repeat_start_pos=[]\n",
    "\n",
    "\n",
    "cas9_aa=cas_dataset[cas_dataset[\"Seq ID\"]==seqid][\"Seq\"].iloc[0]\n",
    "dataset=cas_dataset[cas_dataset[\"Seq ID\"]==seqid][\"Study\"].iloc[0]\n",
    "genomename=cas_dataset[cas_dataset[\"Seq ID\"]==seqid][\"Genome Name\"].iloc[0]\n",
    "SGB=cas_dataset[cas_dataset[\"Seq ID\"]==seqid][\"SGB ID\"].iloc[0]\n",
    "contigname=cas_dataset[cas_dataset[\"Seq ID\"]==seqid][\"Contig\"].iloc[0]\n",
    "samplename = genomename.split(\"__\")[1]\n",
    "\n",
    "print(\"\\n-----------------------------------------------------\\n\"+feature+\" id:\\t\"+seqid+\"\\nSGB:\\t\"+str(SGB)+\"\\nGenome Name:\\t\",\\\n",
    "      genomename+\"\\nContig:\\t\"+cas_dataset[cas_dataset[\"Seq ID\"]==seqid][\"Contig\"].iloc[0],\"\\n-----------------------------------------------------\\n\")\n",
    "\n",
    "\n",
    "########################################################################\n",
    "\n",
    "# get CRISPR spacer and repeat sequence\n",
    "\n",
    "cr=locus.CRISPRarray(feature=feature, contigname=contigname, genomename=genomename, datasetname=dataset)\n",
    "cr.get_CRISPR_array()\n",
    "spacers=cr.spacers\n",
    "repeats=cr.repeats\n",
    "repeat_start_pos=cr.repstartpos\n",
    "\n",
    "# get whole locus sequence todo this could become a function of its own, dentro utils, gli dai seqid della cas e ti dà tt il locus\n",
    "\n",
    "# > get start and stop position of all Cass. questo devi metterlo nella tabella di cas non ci sono santi.\n",
    "cas_position={feature:[int(n) for n in cas_dataset[cas_dataset[\"Seq ID\"]==seqid][\"Pos\"].iloc[0].split()],\\\n",
    "              \"Cas1\":[int(n) for n in eval(cas_dataset[cas_dataset[\"Seq ID\"]==seqid][\"prokka_cas1\"].iloc[0])[0][1:]],\\\n",
    "              \"Cas2\":[int(n) for n in eval(cas_dataset[cas_dataset[\"Seq ID\"]==seqid][\"prokka_cas2\"].iloc[0])[0][1:]],\\\n",
    "              \"CRISPR\":[int(n) for n in eval(cas_dataset[cas_dataset[\"Seq ID\"]==seqid][\"minced_CRISPR\"].iloc[0])[0][1:]]\n",
    "             }\n",
    "print(\"Locus features and positions: \", cas_position)\n",
    "# so già che all casses inside here are on the same contig which is 'contig', xke le ho estratte per essere così\n",
    "# FALSO! è cosi in cas_dataset, non in tabellazzza! mi ero confuso! trovato il bug!\n",
    "\n",
    "genomefilename= \"/shares/CIBIO-Storage/CM/scratch/tmp_projects/epasolli_darkmatter/allcontigs/ALLreconstructedgenomes/\"+str(SGB)+\"/\"+genomename+\".fa\"\n",
    "print(\"+\"*80)\n",
    "print(cas_position)\n",
    "print(\"Retrieving locus\")\n",
    "\n",
    "\n",
    "# access contig:\n",
    "\n",
    "for record in SeqIO.parse(genomefilename,\"fasta\"):  #c'è modo di non fare questo 'ciclo'?\n",
    "    if record.id.startswith(contigname):\n",
    "        #test se effettivamente la seq di cas è dove voglio io\n",
    "\n",
    "        SeqIO.write(record, \"/shares/CIBIO-Storage/CM/scratch/tmp_projects/signorini_cas/7tracrRNA/tempblastdb\", \"fasta\")\n",
    "        print(\"CRISPR si trova\", cas_position[\"CRISPR\"])\n",
    "        print(\"Cas9 si trova\", cas_position[feature])\n",
    "        print(\"Cas2 si trova\", cas_position[\"Cas2\"])\n",
    "        print(\"Cas1 si trova\", cas_position[\"Cas1\"])\n",
    "\n",
    "        #estrai la posizione di cas9 dal contig, e traducila\n",
    "        temp_alt_cas9start=98503\n",
    "        temp_alt_cas9stop=101700\n",
    "        cas9start=cas_position[feature][0]\n",
    "        cas9stop=cas_position[feature][1]\n",
    "        cas9_nnseq=record.seq[cas9start-1:cas9stop-3] #gff should have a 1-based positional annotation (ma sto andando a occhio finchè non sono uguali, è già un oggetto Bio.Seq\n",
    "\n",
    "        my_translated_cas9=cas9_nnseq.transcribe().translate()\n",
    "\n",
    "  \n",
    "        print(len(cas9_nnseq)/3,len(cas9_aa))\n",
    "\n",
    "\n",
    "        if my_translated_cas9==cas9_aa:\n",
    "            print(\"Cas locus on plus strand\")\n",
    "            plus=True\n",
    "        if not my_translated_cas9==cas9_aa:\n",
    "            #proviamo col reverse complement\n",
    "            cas9_nnseq=record.seq[cas9start+2:cas9stop]\n",
    "            my_translated_cas9=cas9_nnseq.reverse_complement().transcribe().translate()\n",
    "            print(\"Cas locus on minus strand\")\n",
    "        print(\"Is Cas9 translated from the genome equal to the orignal annotation?\", my_translated_cas9==cas9_aa)\n",
    "        print(my_translated_cas9)\n",
    "        print(\"+\"*80)\n",
    "        print(cas9_aa)\n",
    "        \n",
    "        alignments = pairwise2.align.localxx(my_translated_cas9,cas9_aa)\n",
    "        print(pairwise2.format_alignment(*alignments[0]))\n",
    "\n",
    "        #opzione 1 blast\n",
    "      #1. salva np.uniq(repeats) in un fasta file: build temporary query file for blastn search\n",
    "\n",
    "        print(\"let's now blast the repeat against  the genome\")\n",
    "        blast_folder=\"/shares/CIBIO-Storage/CM/scratch/tmp_projects/signorini_cas/7tracrRNA/\"\n",
    "        os.chdir(blast_folder)\n",
    "        tempfile=open(\"temp_repeat_seq\", \"w\")\n",
    "        tempfile.close()\n",
    "        tempfile=open(\"temp_repeat_seq\", \"a\")\n",
    "        for n, repeat in enumerate([Seq(sequence) for sequence in np.unique(repeats)]):\n",
    "            tempfile.write(\">rpt\"+str(n+1)+\"|\"+contigname+\"|\"+genomename+\"|\"+seqid+\"\\n\"+str(repeat)+\"\\n\") \n",
    "        tempfile.close()\n",
    "\n",
    "        #2. Blast query file against db\n",
    "        print(\"Running blastn of query file agianst all contigs\")\n",
    "\n",
    "        #3. make db file\n",
    "        dbfile=\"/shares/CIBIO-Storage/CM/scratch/tmp_projects/signorini_cas/7tracrRNA/tempblastdb\"\n",
    "        os.system(\"makeblastdb -in \"+dbfile+\" -parse_seqids  -dbtype nucl\")\n",
    "\n",
    "\n",
    "\n",
    "        blastoutfile=\"/shares/CIBIO-Storage/CM/scratch/tmp_projects/signorini_cas/7tracrRNA/\"\\\n",
    "        +str(SGB)+\"__\"+seqid+\"__\"+genomename+\"__\"+feature+\".trcr.blastout\"\n",
    "        blastn_command = \"blastn -out \"+blastoutfile+\" -outfmt \\\"6  qseqid sseqid pident qlen length mismatch gapopen qseq sseq sstart send evalue sstrand\\\" -query temp_repeat_seq -db \"+dbfile+\" -evalue 0.001 -word_size 11 -penalty -2\"\n",
    "        print(blastn_command)\n",
    "        os.system(blastn_command)\n",
    "       # os.system(\"rm /shares/CIBIO-Storage/CM/scratch/tmp_projects/signorini_cas/7tracerRNA/temp*\")\n"
   ]
  },
  {
   "cell_type": "markdown",
   "metadata": {},
   "source": [
    "## write Cas9 protein aa sequence"
   ]
  },
  {
   "cell_type": "code",
   "execution_count": 13,
   "metadata": {},
   "outputs": [],
   "source": [
    "f=open(\"/shares/CIBIO-Storage/CM/scratch/tmp_projects/signorini_cas/to_give_to_sixnis/\"+seqid+\".faa\",\"w\")\n",
    "f.write(\">\"+seqid+\"\\n\"+cas9_aa)\n",
    "f.close()"
   ]
  },
  {
   "cell_type": "markdown",
   "metadata": {},
   "source": [
    "## 4 parse blast output"
   ]
  },
  {
   "cell_type": "code",
   "execution_count": 20,
   "metadata": {},
   "outputs": [
    {
     "name": "stdout",
     "output_type": "stream",
     "text": [
      "\n",
      "-----------------------------------------------------\n",
      "Parsing BLAST output, looking for hit which are NOT the same repeats\n",
      "i.e. not starting with: ['10862', '10928', '10994', '11060', '11126', '11192', '11258', '11324', '11390', '11456', '11522', '11588', '11654', '11720', '11786', '11852', '11918', '11984', '12050', '12116', '12182', '12248'] :\n",
      "-----------------------------------------------------\n",
      "\n"
     ]
    }
   ],
   "source": [
    "#4. parse blast output: only print output if it is NOT one of the old repeats.\n",
    "print(\"\\n-----------------------------------------------------\\nParsing BLAST output, looking for hit which are NOT the same repeats\\ni.e. not starting with:\", repeat_start_pos,\":\\n-----------------------------------------------------\\n\")\n",
    "f=open(blastoutfile,\"r\")\n",
    "for line in f.readlines():\n",
    "    start_pos=line.split(\"\\t\")[9]\n",
    "    if start_pos not in repeat_start_pos:\n",
    "        if str(int(start_pos)+1) not in repeat_start_pos:\n",
    "            if str(int(start_pos)-1) not in repeat_start_pos:\n",
    "                print(line) "
   ]
  },
  {
   "cell_type": "markdown",
   "metadata": {},
   "source": [
    "## extract sequences"
   ]
  },
  {
   "cell_type": "code",
   "execution_count": 22,
   "metadata": {},
   "outputs": [],
   "source": [
    "# attenzioe: strano: poiché è sul minus strand, quindi start e stop sono al contrario. ma secondo i miei calcoli, per come è fatto blast, dovrebbe hittare sul plus strand..\n",
    "#qst vuol dire che sul - c'è la repeat,ee onn lantirepeat. quindi funge male....\n",
    "# che è testimoniato piu a valle dal fatto che trovo n  terminatore la  vicino, ma lo trovo dopo...\n",
    "#omg che sia un tracrRNA NON trans?\n",
    "# D:\n",
    "\n",
    "# questo potrebbe voler dire che il crispr arraay è in realtà sullo strand opposto?\n",
    "\n",
    "matched_rep_start=98407#18665\n",
    "matched_rep_stop=98430#18691"
   ]
  },
  {
   "cell_type": "code",
   "execution_count": 23,
   "metadata": {},
   "outputs": [
    {
     "name": "stdout",
     "output_type": "stream",
     "text": [
      "ACACAAAATAATCATCTGCTAAAT\n"
     ]
    },
    {
     "data": {
      "text/plain": [
       "24"
      ]
     },
     "execution_count": 23,
     "metadata": {},
     "output_type": "execute_result"
    }
   ],
   "source": [
    "# this is the sequence matching the repeat:\n",
    "matched_rep=Seq(\"ATTTAGCAGATGATTATTTTGTGT\")#\"TTATCGCTTCCTTTCCAATTAAAACGC\")\n",
    "\n",
    "#rpts which match:\n",
    "rpt2=Seq(\"ATTATAGCAGATGTTTATTTTGTGTCAAACCGCAAC\")#\"GTTATCGCTTCCTTTCCAGCCTAAACGCGGTATAAT\")\n",
    "\n",
    "# since repeat is on the + strand, and this is all on the + strand, tracrRNA should be its reverse complement:\n",
    "antirepeat=matched_rep.reverse_complement()\n",
    "#this should go frombo to bo  = x nt  (x+1)\n",
    "print(antirepeat)\n",
    "len(antirepeat)"
   ]
  },
  {
   "cell_type": "code",
   "execution_count": 28,
   "metadata": {
    "scrolled": false
   },
   "outputs": [
    {
     "name": "stdout",
     "output_type": "stream",
     "text": [
      "   9877      Both + TCGTTCAACAGCCCGCAGACGCGTTTGACGTCCGCGGGTTTTCCTTTGATA NA\n",
      "\n",
      "  98331     Erpin - ACACAAAATTAAGGGGGCTGACTGCGCGTCGCCCCCTTTTCATTTAAAAA NA\n",
      "\n",
      "  98334     Erpin + TTAAATGAAAAGGGGGCGACGCGCAGTCAGCCCCCTTAATTTTGTGTG NA\n",
      "\n",
      "  98428      Both + AATGATAGAAACATCTTGCCACATCTATCCTAATAGTGCAAGATATTTTTAGTTGATT NA\n",
      "\n"
     ]
    }
   ],
   "source": [
    "# print terminators\n",
    "\n",
    "f=open(blast_folder+str(SGB)+\"__\"+seqid+\"__\"+genomename+\".terminators\")\n",
    "for line in f.readlines():\n",
    "    if line.strip().startswith(\"98\"): #18  <--------------------------------------------------\n",
    "        print(line)\n",
    "f.close()"
   ]
  },
  {
   "cell_type": "code",
   "execution_count": 7,
   "metadata": {},
   "outputs": [
    {
     "name": "stdout",
     "output_type": "stream",
     "text": [
      "terminator length:  49\n"
     ]
    }
   ],
   "source": [
    "# this is the rho-independent trnascription terminator,\n",
    "# going from 14719 or 14722 to bo (+1 perché conti il primo tipo), \n",
    "\n",
    "terminator_end=18895 -1 # qui è sbagliato, mavabbe proviamo\n",
    "terminator=Seq(\"ATACGGAAAAAGCCTTGAAGCGGCGGACTTCAAGGCTTTAAGAATTGGT\".upper())\n",
    "print(\"terminator length: \", len(terminator))\n",
    "terminator_start=terminator_end+len(terminator) # occhio che qui start e stop si riferisce al rev.compl,\n",
    "                                                # mentre nel antirepeat si riferisce alla direzione base\n"
   ]
  },
  {
   "cell_type": "code",
   "execution_count": 29,
   "metadata": {},
   "outputs": [
    {
     "name": "stdout",
     "output_type": "stream",
     "text": [
      "terminator length:  49\n"
     ]
    }
   ],
   "source": [
    "#se terminator on + strand:\n",
    "terminator_start=98428#18895-1\n",
    "terminator=Seq(\"ATACGGAAAAAGCCTTGAAGCGGCGGACTTCAAGGCTTTAAGAATTGGT\".upper())\n",
    "print(\"terminator length: \", len(terminator))\n",
    "terminator_end=terminator_start+len(terminator)"
   ]
  },
  {
   "cell_type": "code",
   "execution_count": 31,
   "metadata": {},
   "outputs": [
    {
     "name": "stdout",
     "output_type": "stream",
     "text": [
      "24\n",
      "test repeat:  ACACAAAATAATCATCTGCTAAAT 24 False\n",
      "test terminator:  ATACGGAAAAAGCCTTGAAGCGGCGGACTTCAAGGCTTTAAGAATTGGT 49 False\n",
      "pre tracrRNA: AAGCGACGATGGTTCCTTTGACGACGGAACCTTCCAATCCTTTGTCTTCACCGAACATTTCGTTGAACAG 70\n",
      "mario sequence:  0\n"
     ]
    }
   ],
   "source": [
    "# Open genome and extract the whole sequence\n",
    "# find this inside the genome, and link it to the thing found by ARNold:\n",
    "#solo per lui:\n",
    "contigname=\"NODE_49_length_176785_cov_12.2725\"\n",
    "for record in SeqIO.parse(\"/shares/CIBIO-Storage/CM/scratch/tmp_projects/signorini_cas/selected_loci/\"+seqid+\"/\"+genomename+\".fa\", \"fasta\"):\n",
    "    if record.id==contigname:\n",
    "        contigseq=record.seq\n",
    "print(len(contigseq[matched_rep_start-1:matched_rep_stop]))\n",
    "#check antirepeat\n",
    "print(\"test repeat: \", antirepeat, len(antirepeat), contigseq[matched_rep_start-1:matched_rep_stop]==antirepeat) # -1 why? Indexing diverso evidentemente col blastout, vbb\n",
    "# check terminator\n",
    "print(\"test terminator: \" ,terminator, len(terminator), contigseq[terminator_start:terminator_end]==terminator)\n",
    "\n",
    "\n",
    "pre_tracrRNA=contigseq[matched_rep_start:terminator_end]\n",
    "print(\"pre tracrRNA:\", pre_tracrRNA, len(pre_tracrRNA))\n",
    "\n",
    "# add mario\n",
    "mario=contigseq[matched_rep_stop:terminator_start]\n",
    "print(\"mario sequence:\",  mario, len(mario))  # ho fatto i check, il -1 sopra è giusto"
   ]
  },
  {
   "cell_type": "code",
   "execution_count": null,
   "metadata": {},
   "outputs": [],
   "source": [
    "#mario un po' lungo, ma a me mi sembra che al primo TTTTTATCG ci si possa fermare"
   ]
  },
  {
   "cell_type": "code",
   "execution_count": 32,
   "metadata": {},
   "outputs": [
    {
     "name": "stdout",
     "output_type": "stream",
     "text": [
      "TGATCGCCGACTTTCATTTCGGCGTTAAAGCCGAATTCACGGCGCGCGATGCGACCTTCGGATTTCAAACCGACGTCGATTGTCGCAAAATCGTCGGACAAAGCGACGATGGTTCCTTTGACGACGGAACCTTCCAATCCTTTGTCTTCACCGAACATTTCGTTGAACAGTTCGGCAAAGTTTTCTTTCATAGCCGGGATTTCGGCGGCTGTATTTTTTGTTGCCATTAAAAAACTTCCTTTAAGACTTTACTTGCCATTCGGTTGTATC\n"
     ]
    }
   ],
   "source": [
    "print(contigseq[matched_rep_start-100:terminator_end+100])"
   ]
  },
  {
   "cell_type": "code",
   "execution_count": 33,
   "metadata": {
    "scrolled": true
   },
   "outputs": [
    {
     "name": "stdout",
     "output_type": "stream",
     "text": [
      "ATTATAGCAGATGT-TTATTTTGTGTCAAACCGCAAC\n",
      "||| |||||||||  |||||||||||\n",
      "ATT-TAGCAGATG-ATTATTTTGTGT-----------\n",
      "  Score=23\n",
      "\n",
      "rpt length: 36\n"
     ]
    }
   ],
   "source": [
    "# Now, align with the rest of the stuff to see what's up\n",
    "# first up, with the repeat, lets take the rpt3, which has only got 1 mismatch\n",
    "\n",
    "alignments = pairwise2.align.localxx(rpt2, antirepeat.reverse_complement())\n",
    "print(pairwise2.format_alignment(*alignments[0]))\n",
    "print(\"rpt length:\", len(rpt2))\n"
   ]
  },
  {
   "cell_type": "code",
   "execution_count": 34,
   "metadata": {},
   "outputs": [
    {
     "name": "stdout",
     "output_type": "stream",
     "text": [
      "ATTATAGCAGATGT-TTATTTTGTGTCAAACCGCAAC\n",
      "||| |||||||||  |||||||||||           \n",
      "ATT-TAGCAGATG-ATTATTTTGTGT-----------\n",
      "  Score=23\n",
      "\n"
     ]
    }
   ],
   "source": [
    "# align antirepat + mario with repeat\n",
    "alignments = pairwise2.align.globalxx( rpt2,(antirepeat+mario[:4]).reverse_complement())\n",
    "print(pairwise2.format_alignment(*alignments[0]))"
   ]
  },
  {
   "cell_type": "code",
   "execution_count": 35,
   "metadata": {},
   "outputs": [],
   "source": [
    "#no non fa nulla quel CTTT in più"
   ]
  },
  {
   "cell_type": "code",
   "execution_count": 36,
   "metadata": {},
   "outputs": [
    {
     "name": "stdout",
     "output_type": "stream",
     "text": [
      "\n",
      "----------------------------------------------------------------------\n",
      "         tracrRNA sequence for Cas9 protein id FLJLKKHA_00273\n",
      "----------------------------------------------------------------------\n",
      "\n",
      "- contig name: NODE_56_length_167430_cov_15.277\n",
      "- Dataset:  BritoIL_2016\n",
      "- Bin:  BritoIL_2016__M1.29.ST__bin.30\n",
      "- SGB:  9311\n",
      "----------------------------------------------------------------------\n",
      "\n",
      "- Length:  70 \n",
      "- position:  98477 98430\n",
      "AAGCGACGATGGTTCCTTTGACGACGGAACCTTCCAATCCTTTGTCTTCACCGAACATTTCGTTGAACAG\n"
     ]
    }
   ],
   "source": [
    "# I would probably say that the tracr is just, simply la parte di pre_tracrRNA la cui antirepeat si lega alla repeat, \n",
    "# che, in questo caso, è tutta.\n",
    "tracrRNA = pre_tracrRNA\n",
    "\n",
    "print(\"\\n----------------------------------------------------------------------\")\n",
    "print(\"         tracrRNA sequence for\", feature,\"protein id\", seqid)\n",
    "print(\"----------------------------------------------------------------------\\n\")\n",
    "print(\"- contig name:\", cas_dataset[cas_dataset[\"Seq ID\"]==seqid][\"Contig\"].iloc[0])\n",
    "print(\"- Dataset: \",cas_dataset[cas_dataset[\"Seq ID\"]==seqid][\"Study\"].iloc[0])\n",
    "print(\"- Bin: \",cas_dataset[cas_dataset[\"Seq ID\"]==seqid][\"Genome Name\"].iloc[0])\n",
    "print(\"- SGB: \",cas_dataset[cas_dataset[\"Seq ID\"]==seqid][\"SGB ID\"].iloc[0])\n",
    "print(\"----------------------------------------------------------------------\\n\")\n",
    "print(\"- Length: \", len(tracrRNA),\"\\n- position: \", terminator_end,matched_rep_stop)\n",
    "print(tracrRNA)"
   ]
  },
  {
   "cell_type": "markdown",
   "metadata": {},
   "source": [
    "# Print output\n"
   ]
  },
  {
   "cell_type": "code",
   "execution_count": null,
   "metadata": {},
   "outputs": [],
   "source": [
    "# write file to write output:\n",
    "strand=-1\n",
    "n_bases_after_TTTT=4  #to check\n",
    "#\n",
    "\n",
    "f=open(datadir+\"8outputv1/\"+seqid+\"/\"+seqid+\"inputforoutput\",\"w\")\n",
    "f.write(str(matched_rep)+\"\\n\")\n",
    "f.write(str(rpt3)+\"\\n\")    #check\n",
    "f.write(str(matched_rep_start)+\"\\n\")\n",
    "f.write(str(matched_rep_stop)+\"\\n\")\n",
    "f.write(str(strand)+\"\\n\")  #strand\n",
    "f.write(str(14653-1-(strand*n_bases_after_TTTT))+\"\\n\")  #terminator end from ARNold # -1, for indexing reasons. This position is the stop if strand = -1, the start, if strand = +1\n",
    "f.write(str(terminator[:-n_bases_after_TTTT])+\"\\n\")  # to change if n_bases_after_TTTT \n",
    "f.write(feature+\"\\n\")\n",
    "f.write(str(Cas9_strand))\n",
    "f.close()"
   ]
  }
 ],
 "metadata": {
  "kernelspec": {
   "display_name": "Python 3",
   "language": "python",
   "name": "python3"
  },
  "language_info": {
   "codemirror_mode": {
    "name": "ipython",
    "version": 3
   },
   "file_extension": ".py",
   "mimetype": "text/x-python",
   "name": "python",
   "nbconvert_exporter": "python",
   "pygments_lexer": "ipython3",
   "version": "3.7.3"
  }
 },
 "nbformat": 4,
 "nbformat_minor": 2
}
