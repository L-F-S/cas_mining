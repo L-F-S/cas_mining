{
 "cells": [
  {
   "cell_type": "markdown",
   "metadata": {},
   "source": [
    "# find tracerRNA\n",
    "\n",
    "doveva essere CPMHNJAN_01529 ma siccome ha il contig troppo piccolo e non trovo il tracrRNA, uso un altro del gruppo87:\n",
    "LDKIAEDK_00494"
   ]
  },
  {
   "cell_type": "code",
   "execution_count": 1,
   "metadata": {},
   "outputs": [],
   "source": [
    "# First created Thu Jul 11 09:51:15 CEST 2019\n",
    "# Made by L-F-S\n",
    "# At the University Of Trento, Italy\n",
    "\n",
    "import os\n",
    "import sys\n",
    "import numpy as np\n",
    "import pandas as pd\n",
    "import matplotlib.pyplot as plt\n",
    "from Bio import SeqIO\n",
    "from Bio.Seq import Seq\n",
    "from Bio.Alphabet import generic_dna, generic_protein, RNAAlphabet\n",
    "from Bio import pairwise2\n",
    "\n",
    "\n",
    "sys.path.insert(0, '/home/lorenzo.signorini/cas_mining/utils/')\n",
    "import filename_discrepancies\n",
    "\n",
    "feature=\"Cas9\" #WARNING!!! CHANGE THIS!!\n",
    "#outpath=\"/shares/CIBIO-Storage/CM/scratch/tmp_projects/signorini_cas/5caslocitable/out/\"+feature+\"/\"\n",
    "datadir=\"/shares/CIBIO-Storage/CM/scratch/tmp_projects/signorini_cas/\"\n",
    "\n",
    "\n"
   ]
  },
  {
   "cell_type": "code",
   "execution_count": 2,
   "metadata": {
    "scrolled": true
   },
   "outputs": [
    {
     "data": {
      "text/plain": [
       "Index(['Seq ID', 'Seq Description', 'Seq', 'Contig', 'Genome Name', 'Study',\n",
       "       'Sample Name', 'SGB ID', 'Pos', 'pilercr_CRISPR', 'minced_CRISPR',\n",
       "       'prokka_cas1', 'prokka_cas2', 'uSGB', 'Level of estimated taxonomy',\n",
       "       'Estimated taxonomy'],\n",
       "      dtype='object')"
      ]
     },
     "execution_count": 2,
     "metadata": {},
     "output_type": "execute_result"
    }
   ],
   "source": [
    "# Import data\n",
    "cas_dataset=pd.read_csv(\"/shares/CIBIO-Storage/CM/scratch/tmp_projects/signorini_cas/5caslocitable/known_\"+feature+\"_variants_table.csv\", index_col=0)\n",
    "cas_dataset.columns"
   ]
  },
  {
   "cell_type": "code",
   "execution_count": 3,
   "metadata": {},
   "outputs": [
    {
     "name": "stdout",
     "output_type": "stream",
     "text": [
      "SEQ ID:  CPMHNJAN_01529\n",
      "NODE_8014_length_5265_cov_2.43301\n",
      "LiJ_2014\n",
      "LiJ_2014__O2.UC47-1__bin.10\n",
      "8767\n",
      "1059\n",
      "[('.', '6', '637')]\n",
      "----------------------------------------------------------------------\n"
     ]
    }
   ],
   "source": [
    "seqid =\"CPMHNJAN_01529\"\n",
    "print(\"SEQ ID: \", seqid)\n",
    "print(cas_dataset[cas_dataset[\"Seq ID\"]==seqid][\"Contig\"].iloc[0])\n",
    "print(cas_dataset[cas_dataset[\"Seq ID\"]==seqid][\"Study\"].iloc[0])\n",
    "print(cas_dataset[cas_dataset[\"Seq ID\"]==seqid][\"Genome Name\"].iloc[0])\n",
    "print(cas_dataset[cas_dataset[\"Seq ID\"]==seqid][\"SGB ID\"].iloc[0])\n",
    "print(len(cas_dataset[cas_dataset[\"Seq ID\"]==seqid][\"Seq\"].iloc[0]))\n",
    "print(cas_dataset[cas_dataset[\"Seq ID\"]==seqid][\"minced_CRISPR\"].iloc[0])\n",
    "print(\"----------------------------------------------------------------------\")\n"
   ]
  },
  {
   "cell_type": "markdown",
   "metadata": {},
   "source": [
    "## Double cas check: (for all genomes in that SGB...)"
   ]
  },
  {
   "cell_type": "code",
   "execution_count": 15,
   "metadata": {
    "scrolled": false
   },
   "outputs": [
    {
     "name": "stdout",
     "output_type": "stream",
     "text": [
      "**************** Bengtsson-PalmeJ_2015__TRAVELRES9__bin.13\n",
      "2185    MNDFNDJP_00621\n",
      "Name: Seq ID, dtype: object\n",
      "**************** CosteaPI_2017__alien2-11-0-0__bin.28\n",
      "4893    IPDGBKKL_01611\n",
      "Name: Seq ID, dtype: object\n",
      "**************** CosteaPI_2017__mickey1-11-0-0__bin.50\n",
      "5169    OJLECMNO_01146\n",
      "Name: Seq ID, dtype: object\n",
      "**************** CosteaPI_2017__mickey1-11-30-0__bin.15\n",
      "5172    EEPNNEGI_01393\n",
      "Name: Seq ID, dtype: object\n",
      "**************** CosteaPI_2017__mickey1-11-7-0__bin.59\n",
      "5182    GJKMHNKI_01419\n",
      "Name: Seq ID, dtype: object\n",
      "**************** CosteaPI_2017__SID713A053-11-0-0__bin.68\n",
      "5842    FBCFNPGC_01140\n",
      "Name: Seq ID, dtype: object\n",
      "**************** LeChatelierE_2013__MH0033__bin.19\n",
      "11941    KEIMOGLL_00435\n",
      "Name: Seq ID, dtype: object\n",
      "**************** LeChatelierE_2013__MH0100__bin.2\n",
      "12220    NDJGDJNP_00859\n",
      "12221    NDJGDJNP_00953\n",
      "Name: Seq ID, dtype: object\n",
      "**************** LeChatelierE_2013__MH0100__bin.2\n",
      "12220    NDJGDJNP_00859\n",
      "12221    NDJGDJNP_00953\n",
      "Name: Seq ID, dtype: object\n",
      "**************** LeChatelierE_2013__MH0157__bin.2\n",
      "12574    EPHPDKKD_00513\n",
      "Name: Seq ID, dtype: object\n",
      "**************** LeChatelierE_2013__MH0318__bin.65\n",
      "13199    POJFNHJN_00916\n",
      "Name: Seq ID, dtype: object\n",
      "**************** LeChatelierE_2013__MH0434__bin.9\n",
      "13525    OKHEBMJF_00932\n",
      "Name: Seq ID, dtype: object\n",
      "**************** LeChatelierE_2013__MH0442__bin.118\n",
      "13591    BOMIECFM_00706\n",
      "Name: Seq ID, dtype: object\n",
      "**************** LiJ_2014__MH0280__bin.21\n",
      "13923    OABNPGJN_01697\n",
      "Name: Seq ID, dtype: object\n",
      "**************** LiJ_2014__MH0303__bin.78\n",
      "13994    AGBJFNJL_01550\n",
      "Name: Seq ID, dtype: object\n",
      "**************** LiJ_2014__MH0355__bin.95\n",
      "14254    BPCLDNHI_00912\n",
      "Name: Seq ID, dtype: object\n",
      "**************** LiJ_2014__MH0374__bin.65\n",
      "14396    DIEJAHEA_01305\n",
      "Name: Seq ID, dtype: object\n",
      "**************** LiJ_2014__MH0390__bin.67\n",
      "14555    BKCCBPNE_00670\n",
      "Name: Seq ID, dtype: object\n",
      "**************** LiJ_2014__MH0399__bin.3\n",
      "14624    HFAGCDLF_01818\n",
      "Name: Seq ID, dtype: object\n",
      "**************** LiJ_2014__MH0402__bin.78\n",
      "14646    GLLELLHD_01247\n",
      "Name: Seq ID, dtype: object\n",
      "**************** LiJ_2014__O2.UC47-1__bin.10\n",
      "14981    CPMHNJAN_01529\n",
      "Name: Seq ID, dtype: object\n",
      "**************** LiJ_2014__V1.CD6-0-PT__bin.62\n",
      "15264    BGIHMOIK_01756\n",
      "Name: Seq ID, dtype: object\n",
      "**************** LiuW_2016__SRR3992973__bin.102\n",
      "16210    LAAOLKME_01842\n",
      "Name: Seq ID, dtype: object\n",
      "**************** LiuW_2016__SRR3993023__bin.97\n",
      "16414    NIMKPGBN_00431\n",
      "Name: Seq ID, dtype: object\n",
      "**************** NielsenHB_2014__O2_UC49_2__bin.36\n",
      "18034    ALLBJHNC_01771\n",
      "Name: Seq ID, dtype: object\n",
      "**************** NielsenHB_2014__O2_UC51_2__bin.47\n",
      "18065    GKKCJGKL_01807\n",
      "Name: Seq ID, dtype: object\n",
      "**************** NielsenHB_2014__O2_UC52_0__bin.18\n",
      "18072    AMPLIFDM_00196\n",
      "Name: Seq ID, dtype: object\n",
      "**************** NielsenHB_2014__O2_UC58_2__bin.37\n",
      "18166    EIIIKOJJ_00725\n",
      "Name: Seq ID, dtype: object\n",
      "**************** VatanenT_2016__G78599__bin.6\n",
      "23104    ACHEGGLH_00849\n",
      "Name: Seq ID, dtype: object\n",
      "**************** VogtmannE_2016__MMRS34569532ST-27-0-0__bin.54\n",
      "24095    AKFDHKCG_01938\n",
      "Name: Seq ID, dtype: object\n",
      "**************** VogtmannE_2016__MMRS88581325ST-27-0-0__bin.13\n",
      "24534    CLDKOAPF_01950\n",
      "Name: Seq ID, dtype: object\n",
      "**************** XieH_2016__YSZC12003_35552__bin.29\n",
      "25526    JPDCKLBH_01656\n",
      "Name: Seq ID, dtype: object\n",
      "**************** XieH_2016__YSZC12003_35561__bin.42\n",
      "25543    KDHCHMOC_01163\n",
      "Name: Seq ID, dtype: object\n",
      "**************** XieH_2016__YSZC12003_35991__bin.81\n",
      "25965    OCBCPLDK_00794\n",
      "Name: Seq ID, dtype: object\n",
      "**************** XieH_2016__YSZC12003_36008__bin.12\n",
      "26049    DDFFFFDB_01104\n",
      "Name: Seq ID, dtype: object\n",
      "**************** XieH_2016__YSZC12003_37101__bin.3\n",
      "26692    DPGNKJAL_01677\n",
      "Name: Seq ID, dtype: object\n",
      "**************** XieH_2016__YSZC12003_37182R1__bin.3\n",
      "26885    JGHIDLGB_01440\n",
      "Name: Seq ID, dtype: object\n",
      "**************** XieH_2016__YSZC12003_37228__bin.121\n",
      "27097    JMJIFFLL_01639\n",
      "Name: Seq ID, dtype: object\n",
      "**************** XieH_2016__YSZC12003_37255__bin.52\n",
      "27153    IBFLAOEK_00350\n",
      "Name: Seq ID, dtype: object\n",
      "**************** ZeeviD_2015__PNP_Main_136__bin.31\n",
      "29019    GBDGCOIB_00324\n",
      "Name: Seq ID, dtype: object\n",
      "**************** ZeeviD_2015__PNP_Main_140__bin.19\n",
      "29049    CCONCBLC_01975\n",
      "Name: Seq ID, dtype: object\n",
      "**************** ZeeviD_2015__PNP_Main_238__bin.18\n",
      "29635    CLPEEFPC_00533\n",
      "Name: Seq ID, dtype: object\n",
      "**************** ZeeviD_2015__PNP_Main_256__bin.56\n",
      "29731    EONKAIHA_00422\n",
      "Name: Seq ID, dtype: object\n",
      "**************** ZeeviD_2015__PNP_Main_345__bin.25\n",
      "30260    PLJLNHJP_01001\n",
      "Name: Seq ID, dtype: object\n",
      "**************** ZeeviD_2015__PNP_Main_4__bin.1\n",
      "30572    GJEDNFPO_01155\n",
      "Name: Seq ID, dtype: object\n",
      "**************** ZeeviD_2015__PNP_Main_499__bin.23\n",
      "31112    PALIBFKN_01809\n",
      "Name: Seq ID, dtype: object\n",
      "**************** ZeeviD_2015__PNP_Main_531__bin.47\n",
      "31309    GJCPLJEF_01445\n",
      "31310    GJCPLJEF_01984\n",
      "Name: Seq ID, dtype: object\n",
      "**************** ZeeviD_2015__PNP_Main_531__bin.47\n",
      "31309    GJCPLJEF_01445\n",
      "31310    GJCPLJEF_01984\n",
      "Name: Seq ID, dtype: object\n",
      "**************** ZeeviD_2015__PNP_Main_548__bin.38\n",
      "31376    EEKALJKA_01394\n",
      "Name: Seq ID, dtype: object\n",
      "**************** ZeeviD_2015__PNP_Main_553__bin.14\n",
      "31396    PAHNACDO_01956\n",
      "Name: Seq ID, dtype: object\n",
      "**************** ZeeviD_2015__PNP_Main_586__bin.44\n",
      "31538    HGIBFNDF_00945\n",
      "Name: Seq ID, dtype: object\n",
      "**************** ZeeviD_2015__PNP_Main_597__bin.13\n",
      "31597    DMAFEDDE_01363\n",
      "Name: Seq ID, dtype: object\n",
      "**************** ZeeviD_2015__PNP_Main_63__bin.27\n",
      "31718    MKMLGOKJ_01700\n",
      "Name: Seq ID, dtype: object\n",
      "**************** ZeeviD_2015__PNP_Main_666__bin.38\n",
      "31870    NPFMMMGL_00822\n",
      "Name: Seq ID, dtype: object\n",
      "**************** ZeeviD_2015__PNP_Main_671__bin.27\n",
      "31896    MLAALOCI_01755\n",
      "Name: Seq ID, dtype: object\n",
      "**************** ZeeviD_2015__PNP_Validation_66__bin.5\n",
      "32723    GJFFJILC_02079\n",
      "Name: Seq ID, dtype: object\n",
      "**************** ZeeviD_2015__PNP_Validation_72__bin.6\n",
      "32752    LMDDGLDO_01674\n",
      "Name: Seq ID, dtype: object\n",
      "**************** ZellerG_2014__CCIS41548810ST-4-0__bin.18\n",
      "33126    KGDELBHF_00869\n",
      "33127    KGDELBHF_01106\n",
      "Name: Seq ID, dtype: object\n",
      "**************** ZellerG_2014__CCIS41548810ST-4-0__bin.18\n",
      "33126    KGDELBHF_00869\n",
      "33127    KGDELBHF_01106\n",
      "Name: Seq ID, dtype: object\n",
      "**************** ZellerG_2014__CCIS53043478ST-4-0__bin.43\n",
      "33270    NHHIAKFA_00376\n",
      "Name: Seq ID, dtype: object\n",
      "**************** ZellerG_2014__CCIS90164298ST-4-0__bin.46\n",
      "33559    CBBDPKIC_00964\n",
      "Name: Seq ID, dtype: object\n"
     ]
    }
   ],
   "source": [
    "for n,casIDdata in cas_dataset[cas_dataset[\"SGB ID\"]==8767].iterrows():\n",
    "    genomename=casIDdata[\"Genome Name\"]\n",
    "    print(\"****************\",genomename)\n",
    "    print(cas_dataset[cas_dataset[\"Genome Name\"]==genomename][\"Seq ID\"])"
   ]
  },
  {
   "cell_type": "code",
   "execution_count": 7,
   "metadata": {
    "scrolled": false
   },
   "outputs": [
    {
     "name": "stdout",
     "output_type": "stream",
     "text": [
      "\n",
      "-----------------------------------------------------\n",
      "Cas9 id:\tCPMHNJAN_01529\n",
      "SGB:\t8767\n",
      "Genome Name:\t LiJ_2014__O2.UC47-1__bin.10\n",
      "Contig:\tNODE_8014_length_5265_cov_2.43301 \n",
      "-----------------------------------------------------\n",
      "\n",
      "Sequence 'NODE_8014_length_5265_cov_2.43301' (5265 bp)\n",
      "\n",
      "\n",
      "\n",
      "CRISPR 1   Range: 6 - 637\n",
      "\n",
      "POSITION\tREPEAT\t\t\t\tSPACER\n",
      "\n",
      "--------\t------------------------------------\t------------------------------\n",
      "\n",
      "6\t\tGTTTTGACTTTACAACAAATTGTTCTTTCTAAAAAT\tTTTAAGCACTTATCTTGGGAAATGCAAAACG\t[ 36, 31 ]\n",
      "\n",
      "73\t\tGTTTTGACTTTACAACAAATTGTTCTTTCTAAAAAT\tGGGCAAAATCGAGGAGTCTTTGCAAGAAAA\t[ 36, 30 ]\n",
      "\n",
      "139\t\tGTTTTGACTTTACAACAAATTGTTCTTTCTAAAAAT\tGCGCGTATTATTGGGGCGGATACGACGCGA\t[ 36, 30 ]\n",
      "\n",
      "205\t\tGTTTTGACTTTACAACAAATTGTTCTTTCTAAAAAT\tTGCCTTCCTGTTTTAAGTGATGTTGCTGCT\t[ 36, 30 ]\n",
      "\n",
      "271\t\tGTTTTGACTTTACAACAAATTGTTCTTTCTAAAAAT\tAGTTGACATCGTATATCCGCTGACATTTTT\t[ 36, 30 ]\n",
      "\n",
      "337\t\tGTTTTGACTTTACAACAAATTGTTCTTTCTAAAAAT\tAAGTCGAAGAGTGTCATCTTCGCTCTTTAT\t[ 36, 30 ]\n",
      "\n",
      "403\t\tGTTTTGACTTTACAACAAATTGTTCTTTCTAAAAAT\tGAAAAATTTAGGGATTACAAAGGTTGTGCG\t[ 36, 30 ]\n",
      "\n",
      "469\t\tGTTTTGACTTTACAACAAATTGTTCTTTCTAAAAAT\tAAAGATAAGCATTTCGCAGAATGTCTTTGAT\t[ 36, 31 ]\n",
      "\n",
      "536\t\tGTTTTGACTTTACAACAAATTGTTCTTTCTAAAAAT\tCAAGTGGACACCTATAATTCCATTCTTCTT\t[ 36, 30 ]\n",
      "\n",
      "602\t\tGTTTTGACTTTACAACAAATTGTTCTTTCTAAAAAT\t\n",
      "\n",
      "--------\t------------------------------------\t------------------------------\n",
      "\n",
      "Repeats: 10\tAverage Length: 36\t\tAverage Length: 30\n",
      "\n",
      "\n",
      "\n",
      "Time to find repeats: 33 ms\n",
      "\n",
      "\n",
      "\n",
      "\n",
      "\n",
      "Locus features and positions:  {'Cas9': [2023, 5202], 'Cas1': [1130, 2026], 'Cas2': [731, 1099], 'CRISPR': [6, 637]}\n",
      "++++++++++++++++++++++++++++++++++++++++++++++++++++++++++++++++++++++++++++++++\n",
      "{'Cas9': [2023, 5202], 'Cas1': [1130, 2026], 'Cas2': [731, 1099], 'CRISPR': [6, 637]}\n",
      "Retrieving locus\n",
      "CRISPR si trova [6, 637]\n",
      "Cas9 si trova [2023, 5202]\n",
      "Cas2 si trova [731, 1099]\n",
      "Cas1 si trova [1130, 2026]\n",
      "1059.0 1059\n",
      "Cas locus on minus strand\n",
      "Is Cas9 translated from the genome equal to the orignal annotation? True\n",
      "MEKEKNNHVWGFDIGKGSLGEAVRIGGDFKHIASVLLDPEFGEIKTAALARRQMRTRKAHKAREKWLEECLEGTGVEILKRREVGIVDGQWQLISKGDERLEREFPPSGEDVCYNSIALRCKLLLGEKLEGWQVFKALNSAIQKRGYDENIPWGEAEEKSSKKDDDDYAQKLSQYEKEKSELFESFADGEKYDFPCFFKAYKMGLWSPENPTRVEVRIDCRAQKAKSYVIARKYVEREFECLVEAAAKFFPKLKGRAKFILYGVSETPYASYYGNMRKKFGLKRGAESDWTALGQKVPRFDNRIIDKCRFIPRMNVCKIRPLNEARNEKDLLYYEVTLALKLLNLRFFRNSNIEQLTFEEFKKAFEIAAGAKYKMTKTAMKKFLKSISATALGDDYAEIEPPKESGRASFSRPAMEILKELIFSGMPPREFYGRKISEISNTDKNKGVVSSDLDFIKLMGDCPWGGIFIPDGQTYQFANAAFPDPDAQINKLIGSQNNPIVRHRLTFFFERIKFLESKYGVPDKVVLEFVRDDFMGEKEKKEMRIAMKKRAEEKMRIAKDLDEHGFKGGNLLLKMELYRKQNGICLYTGDALPLSELATLEIEHIVPRSRGGPDAQYNYVITREKTNKLKGDKTPYEWLSSDAKEWASYTDRVNACAKGLGKKRCRLLLEKDAEELVEKYTALAETAHIAKLAQKIVCMHFGFQFGGLSGTKRVFTVPGALTSRIRKFYGLDRILHNSASESENLSFEEFLKFSEDLEKKNRKNKKHHALDAMCLCFAPTGVDSRRAKLGEILPEKLRSEKAAREFFKSYLEKIMPVDVAPKKPRLEDGIYSKRIIGGKACMVKRNNLVDLAYKSGLKPVFDIPTLIKLVDKKEKGIINPQIRKMIGEFAATNPDESAWRKWCEEVRLPSKSGLGARIMRVLVYYGEADEYKDLSKDGYGAYRKGDGHKGQVIWESVDGKYYVEPVYVHASKAGVMAALNANPKKKRICGMFNSHCTVDVGDVYNDKGEFILPAGRYMVNTIRSDNQCVLTNADGEKRNPININYLMRAGMRRVDLSEL\n",
      "++++++++++++++++++++++++++++++++++++++++++++++++++++++++++++++++++++++++++++++++\n",
      "MEKEKNNHVWGFDIGKGSLGEAVRIGGDFKHIASVLLDPEFGEIKTAALARRQMRTRKAHKAREKWLEECLEGTGVEILKRREVGIVDGQWQLISKGDERLEREFPPSGEDVCYNSIALRCKLLLGEKLEGWQVFKALNSAIQKRGYDENIPWGEAEEKSSKKDDDDYAQKLSQYEKEKSELFESFADGEKYDFPCFFKAYKMGLWSPENPTRVEVRIDCRAQKAKSYVIARKYVEREFECLVEAAAKFFPKLKGRAKFILYGVSETPYASYYGNMRKKFGLKRGAESDWTALGQKVPRFDNRIIDKCRFIPRMNVCKIRPLNEARNEKDLLYYEVTLALKLLNLRFFRNSNIEQLTFEEFKKAFEIAAGAKYKMTKTAMKKFLKSISATALGDDYAEIEPPKESGRASFSRPAMEILKELIFSGMPPREFYGRKISEISNTDKNKGVVSSDLDFIKLMGDCPWGGIFIPDGQTYQFANAAFPDPDAQINKLIGSQNNPIVRHRLTFFFERIKFLESKYGVPDKVVLEFVRDDFMGEKEKKEMRIAMKKRAEEKMRIAKDLDEHGFKGGNLLLKMELYRKQNGICLYTGDALPLSELATLEIEHIVPRSRGGPDAQYNYVITREKTNKLKGDKTPYEWLSSDAKEWASYTDRVNACAKGLGKKRCRLLLEKDAEELVEKYTALAETAHIAKLAQKIVCMHFGFQFGGLSGTKRVFTVPGALTSRIRKFYGLDRILHNSASESENLSFEEFLKFSEDLEKKNRKNKKHHALDAMCLCFAPTGVDSRRAKLGEILPEKLRSEKAAREFFKSYLEKIMPVDVAPKKPRLEDGIYSKRIIGGKACMVKRNNLVDLAYKSGLKPVFDIPTLIKLVDKKEKGIINPQIRKMIGEFAATNPDESAWRKWCEEVRLPSKSGLGARIMRVLVYYGEADEYKDLSKDGYGAYRKGDGHKGQVIWESVDGKYYVEPVYVHASKAGVMAALNANPKKKRICGMFNSHCTVDVGDVYNDKGEFILPAGRYMVNTIRSDNQCVLTNADGEKRNPININYLMRAGMRRVDLSEL\n",
      "MEKEKNNHVWGFDIGKGSLGEAVRIGGDFKHIASVLLDPEFGEIKTAALARRQMRTRKAHKAREKWLEECLEGTGVEILKRREVGIVDGQWQLISKGDERLEREFPPSGEDVCYNSIALRCKLLLGEKLEGWQVFKALNSAIQKRGYDENIPWGEAEEKSSKKDDDDYAQKLSQYEKEKSELFESFADGEKYDFPCFFKAYKMGLWSPENPTRVEVRIDCRAQKAKSYVIARKYVEREFECLVEAAAKFFPKLKGRAKFILYGVSETPYASYYGNMRKKFGLKRGAESDWTALGQKVPRFDNRIIDKCRFIPRMNVCKIRPLNEARNEKDLLYYEVTLALKLLNLRFFRNSNIEQLTFEEFKKAFEIAAGAKYKMTKTAMKKFLKSISATALGDDYAEIEPPKESGRASFSRPAMEILKELIFSGMPPREFYGRKISEISNTDKNKGVVSSDLDFIKLMGDCPWGGIFIPDGQTYQFANAAFPDPDAQINKLIGSQNNPIVRHRLTFFFERIKFLESKYGVPDKVVLEFVRDDFMGEKEKKEMRIAMKKRAEEKMRIAKDLDEHGFKGGNLLLKMELYRKQNGICLYTGDALPLSELATLEIEHIVPRSRGGPDAQYNYVITREKTNKLKGDKTPYEWLSSDAKEWASYTDRVNACAKGLGKKRCRLLLEKDAEELVEKYTALAETAHIAKLAQKIVCMHFGFQFGGLSGTKRVFTVPGALTSRIRKFYGLDRILHNSASESENLSFEEFLKFSEDLEKKNRKNKKHHALDAMCLCFAPTGVDSRRAKLGEILPEKLRSEKAAREFFKSYLEKIMPVDVAPKKPRLEDGIYSKRIIGGKACMVKRNNLVDLAYKSGLKPVFDIPTLIKLVDKKEKGIINPQIRKMIGEFAATNPDESAWRKWCEEVRLPSKSGLGARIMRVLVYYGEADEYKDLSKDGYGAYRKGDGHKGQVIWESVDGKYYVEPVYVHASKAGVMAALNANPKKKRICGMFNSHCTVDVGDVYNDKGEFILPAGRYMVNTIRSDNQCVLTNADGEKRNPININYLMRAGMRRVDLSEL\n",
      "|||||||||||||||||||||||||||||||||||||||||||||||||||||||||||||||||||||||||||||||||||||||||||||||||||||||||||||||||||||||||||||||||||||||||||||||||||||||||||||||||||||||||||||||||||||||||||||||||||||||||||||||||||||||||||||||||||||||||||||||||||||||||||||||||||||||||||||||||||||||||||||||||||||||||||||||||||||||||||||||||||||||||||||||||||||||||||||||||||||||||||||||||||||||||||||||||||||||||||||||||||||||||||||||||||||||||||||||||||||||||||||||||||||||||||||||||||||||||||||||||||||||||||||||||||||||||||||||||||||||||||||||||||||||||||||||||||||||||||||||||||||||||||||||||||||||||||||||||||||||||||||||||||||||||||||||||||||||||||||||||||||||||||||||||||||||||||||||||||||||||||||||||||||||||||||||||||||||||||||||||||||||||||||||||||||||||||||||||||||||||||||||||||||||||||||||||||||||||||||||||||||||||||||||||||||||||||||||||||||||||||||||||||||||||||||||||||||||||||||||||||||||||||||||||||||||||||||||||||||||||||||||||||||||||||||||||||||||||||||||||||||||||||||||||||||||||||||||||||||||||||||||||||||||||||||||||||||||||||||||||||||||||||||||||||\n",
      "MEKEKNNHVWGFDIGKGSLGEAVRIGGDFKHIASVLLDPEFGEIKTAALARRQMRTRKAHKAREKWLEECLEGTGVEILKRREVGIVDGQWQLISKGDERLEREFPPSGEDVCYNSIALRCKLLLGEKLEGWQVFKALNSAIQKRGYDENIPWGEAEEKSSKKDDDDYAQKLSQYEKEKSELFESFADGEKYDFPCFFKAYKMGLWSPENPTRVEVRIDCRAQKAKSYVIARKYVEREFECLVEAAAKFFPKLKGRAKFILYGVSETPYASYYGNMRKKFGLKRGAESDWTALGQKVPRFDNRIIDKCRFIPRMNVCKIRPLNEARNEKDLLYYEVTLALKLLNLRFFRNSNIEQLTFEEFKKAFEIAAGAKYKMTKTAMKKFLKSISATALGDDYAEIEPPKESGRASFSRPAMEILKELIFSGMPPREFYGRKISEISNTDKNKGVVSSDLDFIKLMGDCPWGGIFIPDGQTYQFANAAFPDPDAQINKLIGSQNNPIVRHRLTFFFERIKFLESKYGVPDKVVLEFVRDDFMGEKEKKEMRIAMKKRAEEKMRIAKDLDEHGFKGGNLLLKMELYRKQNGICLYTGDALPLSELATLEIEHIVPRSRGGPDAQYNYVITREKTNKLKGDKTPYEWLSSDAKEWASYTDRVNACAKGLGKKRCRLLLEKDAEELVEKYTALAETAHIAKLAQKIVCMHFGFQFGGLSGTKRVFTVPGALTSRIRKFYGLDRILHNSASESENLSFEEFLKFSEDLEKKNRKNKKHHALDAMCLCFAPTGVDSRRAKLGEILPEKLRSEKAAREFFKSYLEKIMPVDVAPKKPRLEDGIYSKRIIGGKACMVKRNNLVDLAYKSGLKPVFDIPTLIKLVDKKEKGIINPQIRKMIGEFAATNPDESAWRKWCEEVRLPSKSGLGARIMRVLVYYGEADEYKDLSKDGYGAYRKGDGHKGQVIWESVDGKYYVEPVYVHASKAGVMAALNANPKKKRICGMFNSHCTVDVGDVYNDKGEFILPAGRYMVNTIRSDNQCVLTNADGEKRNPININYLMRAGMRRVDLSEL\n",
      "  Score=1059\n",
      "\n",
      "let's now blast the repeat against  the genome\n",
      "Running blastn of query file agianst all contigs\n",
      "blastn -out /shares/CIBIO-Storage/CM/scratch/tmp_projects/signorini_cas/7tracrRNA/8767__CPMHNJAN_01529__LiJ_2014__O2.UC47-1__bin.10__Cas9.trcr.blastout -outfmt \"6  qseqid sseqid pident qlen length mismatch gapopen qseq sseq sstart send evalue sstrand\" -query temp_repeat_seq -db /shares/CIBIO-Storage/CM/scratch/tmp_projects/signorini_cas/7tracrRNA/tempblastdb -evalue 0.001 -word_size 11 -penalty -2\n"
     ]
    }
   ],
   "source": [
    "spacers=[]\n",
    "repeats=[]\n",
    "repeat_start_pos=[]\n",
    "\n",
    "\n",
    "cas9_aa=cas_dataset[cas_dataset[\"Seq ID\"]==seqid][\"Seq\"].iloc[0]\n",
    "dataset=cas_dataset[cas_dataset[\"Seq ID\"]==seqid][\"Study\"].iloc[0]\n",
    "genomename=cas_dataset[cas_dataset[\"Seq ID\"]==seqid][\"Genome Name\"].iloc[0]\n",
    "SGB=cas_dataset[cas_dataset[\"Seq ID\"]==seqid][\"SGB ID\"].iloc[0]\n",
    "contigname=cas_dataset[cas_dataset[\"Seq ID\"]==seqid][\"Contig\"].iloc[0]\n",
    "samplename = genomename.split(\"__\")[1]\n",
    "\n",
    "print(\"\\n-----------------------------------------------------\\n\"+feature+\" id:\\t\"+seqid+\"\\nSGB:\\t\"+str(SGB)+\"\\nGenome Name:\\t\",\\\n",
    "      genomename+\"\\nContig:\\t\"+cas_dataset[cas_dataset[\"Seq ID\"]==seqid][\"Contig\"].iloc[0],\"\\n-----------------------------------------------------\\n\")\n",
    "\n",
    "\n",
    "########################################################################\n",
    "\n",
    "# get CRISPR spacer and repeat sequence\n",
    "\n",
    "s3_genomename, s3_dataset=filename_discrepancies.get_originalsamplename_froms3name_of_genome(genomename,dataset)\n",
    "mincedCRISPRfilename=datadir+\"1crisprsearch/out/\"+s3_dataset+\"/\"+s3_genomename+\".fa.minced.out\"\n",
    "f=open(mincedCRISPRfilename, \"r\")\n",
    "\n",
    "is_the_right_contig=False\n",
    "for line in f.readlines():\n",
    "    if line.startswith(\"Sequence \\'\"): #identifiy line of contigname\n",
    "        if line.startswith(\"Sequence \\'\"+contigname): #check which contig we're on (if there is more than one)\n",
    "            is_the_right_contig=True\n",
    "        else:\n",
    "            is_the_right_contig=False\n",
    "    if is_the_right_contig:\n",
    "        print(line)\n",
    "        if line[0]== \"1\" or line[0]== \"2\" or line[0]== \"3\" or line[0]== \"4\" or line[0]== \"5\" or \\\n",
    "        line[0]== \"6\" or line[0]== \"7\" or line[0]== \"8\" or line[0]== \"9\" or line[0]== \"0\":\n",
    "\n",
    "            repeats.append(line.split(\"\\t\")[2])\n",
    "\n",
    "            repeat_start_pos.append(line.split(\"\\t\")[0])\n",
    "\n",
    "            if not line.split(\"\\t\")[3]==\"\\n\":\n",
    "                spacers.append(line.split(\"\\t\")[3])\n",
    "f.close()\n",
    "\n",
    "# get whole locus sequence todo this could become a function of its own, dentro utils, gli dai seqid della cas e ti dà tt il locus\n",
    "\n",
    "# > get start and stop position of all Cass. questo devi metterlo nella tabella di cas non ci sono santi.\n",
    "cas_position={feature:[int(n) for n in cas_dataset[cas_dataset[\"Seq ID\"]==seqid][\"Pos\"].iloc[0].split()],\\\n",
    "              \"Cas1\":[int(n) for n in eval(cas_dataset[cas_dataset[\"Seq ID\"]==seqid][\"prokka_cas1\"].iloc[0])[0][1:]],\\\n",
    "              \"Cas2\":[int(n) for n in eval(cas_dataset[cas_dataset[\"Seq ID\"]==seqid][\"prokka_cas2\"].iloc[0])[0][1:]],\\\n",
    "              \"CRISPR\":[int(n) for n in eval(cas_dataset[cas_dataset[\"Seq ID\"]==seqid][\"minced_CRISPR\"].iloc[0])[0][1:]]\n",
    "             }\n",
    "print(\"Locus features and positions: \", cas_position)\n",
    "# so già che all casses inside here are on the same contig which is 'contig', xke le ho estratte per essere così\n",
    "# FALSO! è cosi in cas_dataset, non in tabellazzza! mi ero confuso! trovato il bug!\n",
    "\n",
    "genomefilename= \"/shares/CIBIO-Storage/CM/scratch/tmp_projects/epasolli_darkmatter/allcontigs/ALLreconstructedgenomes/\"+str(SGB)+\"/\"+genomename+\".fa\"\n",
    "print(\"+\"*80)\n",
    "print(cas_position)\n",
    "print(\"Retrieving locus\")\n",
    "\n",
    "\n",
    "# access contig:\n",
    "\n",
    "for record in SeqIO.parse(genomefilename,\"fasta\"):  #c'è modo di non fare questo 'ciclo'?\n",
    "    if record.id.startswith(contigname):\n",
    "        #test se effettivamente la seq di cas è dove voglio io\n",
    "\n",
    "        SeqIO.write(record, \"/shares/CIBIO-Storage/CM/scratch/tmp_projects/signorini_cas/7tracrRNA/tempblastdb\", \"fasta\")\n",
    "        print(\"CRISPR si trova\", cas_position[\"CRISPR\"])\n",
    "        print(\"Cas9 si trova\", cas_position[feature])\n",
    "        print(\"Cas2 si trova\", cas_position[\"Cas2\"])\n",
    "        print(\"Cas1 si trova\", cas_position[\"Cas1\"])\n",
    "\n",
    "        #estrai la posizione di cas9 dal contig, e traducila\n",
    "        temp_alt_cas9start=98503\n",
    "        temp_alt_cas9stop=101700\n",
    "        cas9start=cas_position[feature][0]\n",
    "        cas9stop=cas_position[feature][1]\n",
    "        cas9_nnseq=record.seq[cas9start-1:cas9stop-3] #gff should have a 1-based positional annotation (ma sto andando a occhio finchè non sono uguali, è già un oggetto Bio.Seq\n",
    "\n",
    "        my_translated_cas9=cas9_nnseq.transcribe().translate()\n",
    "\n",
    "  \n",
    "        print(len(cas9_nnseq)/3,len(cas9_aa))\n",
    "\n",
    "\n",
    "        if my_translated_cas9==cas9_aa:\n",
    "            print(\"Cas locus on plus strand\")\n",
    "            plus=True\n",
    "        if not my_translated_cas9==cas9_aa:\n",
    "            #proviamo col reverse complement\n",
    "            cas9_nnseq=record.seq[cas9start+2:cas9stop]\n",
    "            my_translated_cas9=cas9_nnseq.reverse_complement().transcribe().translate()\n",
    "            print(\"Cas locus on minus strand\")\n",
    "        print(\"Is Cas9 translated from the genome equal to the orignal annotation?\", my_translated_cas9==cas9_aa)\n",
    "        print(my_translated_cas9)\n",
    "        print(\"+\"*80)\n",
    "        print(cas9_aa)\n",
    "        \n",
    "        alignments = pairwise2.align.localxx(my_translated_cas9,cas9_aa)\n",
    "        print(pairwise2.format_alignment(*alignments[0]))\n",
    "\n",
    "        #opzione 1 blast\n",
    "      #1. salva np.uniq(repeats) in un fasta file: build temporary query file for blastn search\n",
    "\n",
    "        print(\"let's now blast the repeat against  the genome\")\n",
    "        blast_folder=\"/shares/CIBIO-Storage/CM/scratch/tmp_projects/signorini_cas/7tracrRNA/\"\n",
    "        os.chdir(blast_folder)\n",
    "        tempfile=open(\"temp_repeat_seq\", \"w\")\n",
    "        tempfile.close()\n",
    "        tempfile=open(\"temp_repeat_seq\", \"a\")\n",
    "        for n, repeat in enumerate([Seq(sequence) for sequence in np.unique(repeats)]):\n",
    "            tempfile.write(\">rpt\"+str(n+1)+\"|\"+contigname+\"|\"+genomename+\"|\"+seqid+\"\\n\"+str(repeat)+\"\\n\") \n",
    "        tempfile.close()\n",
    "\n",
    "        #2. Blast query file against db\n",
    "        print(\"Running blastn of query file agianst all contigs\")\n",
    "\n",
    "        #3. make db file\n",
    "        dbfile=\"/shares/CIBIO-Storage/CM/scratch/tmp_projects/signorini_cas/7tracrRNA/tempblastdb\"\n",
    "        os.system(\"makeblastdb -in \"+dbfile+\" -parse_seqids  -dbtype nucl\")\n",
    "\n",
    "\n",
    "\n",
    "        blastoutfile=\"/shares/CIBIO-Storage/CM/scratch/tmp_projects/signorini_cas/7tracrRNA/\"\\\n",
    "        +str(SGB)+\"__\"+seqid+\"__\"+genomename+\"__\"+feature+\".trcr.blastout\"\n",
    "        blastn_command = \"blastn -out \"+blastoutfile+\" -outfmt \\\"6  qseqid sseqid pident qlen length mismatch gapopen qseq sseq sstart send evalue sstrand\\\" -query temp_repeat_seq -db \"+dbfile+\" -evalue 0.001 -word_size 11 -penalty -2\"\n",
    "        print(blastn_command)\n",
    "        os.system(blastn_command)\n",
    "       # os.system(\"rm /shares/CIBIO-Storage/CM/scratch/tmp_projects/signorini_cas/7tracerRNA/temp*\")\n"
   ]
  },
  {
   "cell_type": "code",
   "execution_count": 8,
   "metadata": {
    "scrolled": true
   },
   "outputs": [
    {
     "name": "stdout",
     "output_type": "stream",
     "text": [
      "\n",
      "-----------------------------------------------------\n",
      "Parsing BLAST output, looking for hit which are NOT the same repeats\n",
      "i.e. not starting with: ['6', '73', '139', '205', '271', '337', '403', '469', '536', '602'] :\n",
      "-----------------------------------------------------\n",
      "\n"
     ]
    }
   ],
   "source": [
    "#4. parse blast output: only print output if it is NOT one of the old repeats.\n",
    "print(\"\\n-----------------------------------------------------\\nParsing BLAST output, looking for hit which are NOT the same repeats\\ni.e. not starting with:\", repeat_start_pos,\":\\n-----------------------------------------------------\\n\")\n",
    "f=open(blastoutfile,\"r\")\n",
    "for line in f.readlines():\n",
    "    start_pos=line.split(\"\\t\")[9]\n",
    "    if start_pos not in repeat_start_pos:\n",
    "        if str(int(start_pos)+1) not in repeat_start_pos:\n",
    "            if str(int(start_pos)-1) not in repeat_start_pos:\n",
    "                print(line) "
   ]
  },
  {
   "cell_type": "markdown",
   "metadata": {},
   "source": [
    "## extract sequences NISBA\n",
    "ma non c'è un cazzo"
   ]
  },
  {
   "cell_type": "code",
   "execution_count": 8,
   "metadata": {},
   "outputs": [],
   "source": [
    "#matched_rep_start=14242 #could just be a  crisprarray\n",
    "#matched_rep_stop=14270 "
   ]
  },
  {
   "cell_type": "code",
   "execution_count": 13,
   "metadata": {},
   "outputs": [
    {
     "name": "stdout",
     "output_type": "stream",
     "text": [
      "TCACCTTGGGGAAGGGCGCGGCTCCAGAC\n"
     ]
    },
    {
     "data": {
      "text/plain": [
       "29"
      ]
     },
     "execution_count": 13,
     "metadata": {},
     "output_type": "execute_result"
    }
   ],
   "source": [
    "# this is the sequence matching the repeat:\n",
    "matched_rep=Seq(\"GTCTGGAGCCGCGCCCTTCCCCAAGGTGA\") #dropped one gap\n",
    "\n",
    "#rpts which match:\n",
    "rpt1=Seq(unique_repeats[0])\n",
    "rpt2=Seq(unique_repeats[1])\n",
    "\n",
    "# since repeat is on the + strand, and this is all on the + strand, tracrRNA should be its reverse complement:\n",
    "antirepeat=matched_rep.reverse_complement()\n",
    "#this should go frombo to bo  = x nt  (x+1)\n",
    "print(antirepeat)\n",
    "len(antirepeat)"
   ]
  },
  {
   "cell_type": "code",
   "execution_count": 9,
   "metadata": {},
   "outputs": [
    {
     "name": "stdout",
     "output_type": "stream",
     "text": [
      " 625  Rnamotif - CCAAATAATCGCGTGGAAATACCGCGaTTTTTAGAAAGA -6.30\n",
      "\n"
     ]
    }
   ],
   "source": [
    "# print terminators\n",
    "\n",
    "f=open(blast_folder+str(SGB)+\"__\"+seqid+\"__\"+genomename+\".terminators\")\n",
    "for line in f.readlines():\n",
    "    if line.strip().startswith(\"6\"):\n",
    "        print(line)\n",
    "f.close()"
   ]
  },
  {
   "cell_type": "markdown",
   "metadata": {},
   "source": [
    "nn ce nnt manco di questi"
   ]
  },
  {
   "cell_type": "code",
   "execution_count": 17,
   "metadata": {},
   "outputs": [
    {
     "name": "stdout",
     "output_type": "stream",
     "text": [
      "40\n"
     ]
    }
   ],
   "source": [
    "\n",
    "terminatorend=13890-1 # (sarebe 1463-1, for indexing reasons) sarebbe la fine xke prendiamo il rev comp remembra. che ha senso xke l'antirepeat è a 14729, che è dopo\n",
    " #oppure, ce n'è uno con TTTTTTT a 14653...\n",
    "terminator=Seq(\"GAAACAGAAAAGCCCCTGTTAAAGGGGCTTTTCTGTGCGC\".upper()) # da aggiuntere .reverse_complement() se lo strand indicato è + ?\n",
    "print(len(terminator))\n",
    "terminator_start=terminator_end+len(terminator) #occhio che qui start e stop si riferisce al rev.compl, mentre nel antirepeat si riferisce alla direzione base"
   ]
  },
  {
   "cell_type": "code",
   "execution_count": 18,
   "metadata": {},
   "outputs": [
    {
     "name": "stdout",
     "output_type": "stream",
     "text": [
      "test repeat:  TCACCTTGGGGAAGGGCGCGGCTCCAGAC 29 True\n",
      "test terminator:  GAAACAGAAAAGCCCCTGTTAAAGGGGCTTTTCTGTGCGC 40 True\n",
      "pre tracrRNA: TCACCTTGGGGAAGGGCGCGGCTCCAGACAAGGGGAGCCACTTAAGTGGCTTACCCGTAAAGTAACCCCCGTTCAATCTTCGGATTGGGCGGGGCGAACTTTTTTGGGCGAGTGTTAGCCAGTATTCCGTAAACGGTAGCTATGAATAGCATTTAGGCGGGTCCTTTTGAGCAATTTTATGCCTAAGGATTGATTCGATTGTGAAGAAAAGTACATAAATCTCTGTGCCGAATACGGCTCTTTTCTTGCGTGAAGCGCGACGTGCCGGCGCATTTCGTCTCGAAAAAAATGAATCGCAGATGTAGATCTGAGGTCGAATCAGTCTTCTTTTTTTGAGGCTTGAAACAGAAAAGCCCCTGTTAAAGGGGCTTTTCTGTGCGC 381\n",
      "mario sequence: AAGGGGAGCCACTTAAGTGGCTTACCCGTAAAGTAACCCCCGTTCAATCTTCGGATTGGGCGGGGCGAACTTTTTTGGGCGAGTGTTAGCCAGTATTCCGTAAACGGTAGCTATGAATAGCATTTAGGCGGGTCCTTTTGAGCAATTTTATGCCTAAGGATTGATTCGATTGTGAAGAAAAGTACATAAATCTCTGTGCCGAATACGGCTCTTTTCTTGCGTGAAGCGCGACGTGCCGGCGCATTTCGTCTCGAAAAAAATGAATCGCAGATGTAGATCTGAGGTCGAATCAGTCTTCTTTTTTTGAGGCTT 312\n"
     ]
    }
   ],
   "source": [
    "# Open genome and extract the whole sequence\n",
    "# find this inside the genome, and link it to the thing found by ARNold:\n",
    "for record in SeqIO.parse(\"/shares/CIBIO-Storage/CM/scratch/tmp_projects/signorini_cas/selected_loci/\"+seqid+\"/\"+genomename+\".fa\", \"fasta\"):\n",
    "    if record.id==contigname:\n",
    "        contigseq=record.seq\n",
    "\n",
    "#check antirepeat\n",
    "print(\"test repeat: \", antirepeat, len(antirepeat), contigseq[matched_rep_start-1:matched_rep_stop].reverse_complement()==antirepeat) # -1 why? Indexing diverso evidentemente col blastout, vbb\n",
    "\n",
    "# check terminator\n",
    "print(\"test terminator: \" ,terminator, len(terminator), contigseq[terminator_end:terminator_start].reverse_complement()==terminator)\n",
    "\n",
    "\n",
    "pre_tracrRNA=contigseq[terminator_end:matched_rep_stop].reverse_complement()\n",
    "print(\"pre tracrRNA:\", pre_tracrRNA, len(pre_tracrRNA))\n",
    "\n",
    "# add mario\n",
    "mario=contigseq[terminator_start:matched_rep_start-1].reverse_complement()\n",
    "print(\"mario sequence:\",  mario, len(mario))  # ho fatto i check, il -1 sopra è giusto"
   ]
  },
  {
   "cell_type": "markdown",
   "metadata": {},
   "source": [
    "hmmm"
   ]
  },
  {
   "cell_type": "code",
   "execution_count": 22,
   "metadata": {},
   "outputs": [
    {
     "name": "stdout",
     "output_type": "stream",
     "text": [
      "GCCT-TG-AGCACGCA-CCCTTCCCCAAGGTGATACGCT\n",
      "|  | || ||| |||  |||||||||||||||  |\n",
      "G--TCTGGAGC-CGC-GCCCTTCCCCAAGGTG--A----\n",
      "  Score=26\n",
      "\n",
      "rpt length: 36\n"
     ]
    }
   ],
   "source": [
    "# Now, align with the rest of the stuff to see what's up\n",
    "# first up, with the repeat, lets take the rpt3, which has only got 1 mismatch\n",
    "\n",
    "alignments = pairwise2.align.localxx(rpt1, antirepeat.reverse_complement())\n",
    "print(pairwise2.format_alignment(*alignments[0]))\n",
    "print(\"rpt length:\", len(rpt1))\n"
   ]
  },
  {
   "cell_type": "code",
   "execution_count": 24,
   "metadata": {},
   "outputs": [
    {
     "name": "stdout",
     "output_type": "stream",
     "text": [
      "AAGCCTCAAAAAAAGAAGACTGATTCGACCTCAGATCTACATCTGCGATTCATTTTTTTCGAGACGAAATGCGCCGGCACGTCGCGCTTCACGCAAGAAAAGAGCCGTATTCGGCACAGAGATTTATGTACTTTTCTTCACAATCGAATCAATCCTTAGGCATAAAATTGCTCAAAAGGACCCGCCTAAATGCTATTCATAGCTACCGTTTACGGAATACTGGCTAACACTCGCCCAAAAAAGTTCGCCCCGCCCAATCCGAAGATTGAACGGGGGTTACTTTACGGGTAAGCCACTTAAGTGGCTCCCCTT\n",
      "                                                                                                                                                                                       | |      |   |  | |  |  |    |     ||  |    ||    |||       ||     | |||||   |  |  |        |       |    |     ||       |     | |\n",
      "---------------------------------------------------------------------------------------------------------------------------------------------------------------------------------------G-C------C---T--T-G--A--G----C-----AC--G----CA----CCC-------TT-----C-CCCAA---G--G--T--------G-------A----T-----AC-------G-----C-T\n",
      "  Score=36\n",
      "\n"
     ]
    }
   ],
   "source": [
    "# align antirepat + mario with repeat\n",
    "alignments = pairwise2.align.globalxx((mario).reverse_complement(), rpt1)\n",
    "print(pairwise2.format_alignment(*alignments[0]))"
   ]
  },
  {
   "cell_type": "code",
   "execution_count": 25,
   "metadata": {},
   "outputs": [
    {
     "name": "stdout",
     "output_type": "stream",
     "text": [
      "\n",
      "----------------------------------------------------------------------\n",
      "         tracrRNA sequence for Cas9 protein id LJKGNKPJ_00564\n",
      "----------------------------------------------------------------------\n",
      "\n",
      "- contig name: NODE_211_length_45519_cov_7.71687\n",
      "- Dataset:  KarlssonFH_2013\n",
      "- Bin:  KarlssonFH_2013__S420__bin.8\n",
      "- SGB:  14454\n",
      "----------------------------------------------------------------------\n",
      "\n",
      "- Length:  381 \n",
      "- position:  13889 14270\n",
      "TCACCTTGGGGAAGGGCGCGGCTCCAGACAAGGGGAGCCACTTAAGTGGCTTACCCGTAAAGTAACCCCCGTTCAATCTTCGGATTGGGCGGGGCGAACTTTTTTGGGCGAGTGTTAGCCAGTATTCCGTAAACGGTAGCTATGAATAGCATTTAGGCGGGTCCTTTTGAGCAATTTTATGCCTAAGGATTGATTCGATTGTGAAGAAAAGTACATAAATCTCTGTGCCGAATACGGCTCTTTTCTTGCGTGAAGCGCGACGTGCCGGCGCATTTCGTCTCGAAAAAAATGAATCGCAGATGTAGATCTGAGGTCGAATCAGTCTTCTTTTTTTGAGGCTTGAAACAGAAAAGCCCCTGTTAAAGGGGCTTTTCTGTGCGC\n"
     ]
    }
   ],
   "source": [
    "# I would probably say that the tracr is just, simply la parte di pre_tracrRNA la cui antirepeat si lega alla repeat, \n",
    "# che, in questo caso, è tutta.\n",
    "tracrRNA = pre_tracrRNA\n",
    "\n",
    "print(\"\\n----------------------------------------------------------------------\")\n",
    "print(\"         tracrRNA sequence for\", feature,\"protein id\", seqid)\n",
    "print(\"----------------------------------------------------------------------\\n\")\n",
    "print(\"- contig name:\", cas_dataset[cas_dataset[\"Seq ID\"]==seqid][\"Contig\"].iloc[0])\n",
    "print(\"- Dataset: \",cas_dataset[cas_dataset[\"Seq ID\"]==seqid][\"Study\"].iloc[0])\n",
    "print(\"- Bin: \",cas_dataset[cas_dataset[\"Seq ID\"]==seqid][\"Genome Name\"].iloc[0])\n",
    "print(\"- SGB: \",cas_dataset[cas_dataset[\"Seq ID\"]==seqid][\"SGB ID\"].iloc[0])\n",
    "print(\"----------------------------------------------------------------------\\n\")\n",
    "print(\"- Length: \", len(tracrRNA),\"\\n- position: \", terminator_end,matched_rep_stop)\n",
    "print(tracrRNA)"
   ]
  },
  {
   "cell_type": "code",
   "execution_count": null,
   "metadata": {},
   "outputs": [],
   "source": []
  }
 ],
 "metadata": {
  "kernelspec": {
   "display_name": "Python 3",
   "language": "python",
   "name": "python3"
  },
  "language_info": {
   "codemirror_mode": {
    "name": "ipython",
    "version": 3
   },
   "file_extension": ".py",
   "mimetype": "text/x-python",
   "name": "python",
   "nbconvert_exporter": "python",
   "pygments_lexer": "ipython3",
   "version": "3.7.3"
  }
 },
 "nbformat": 4,
 "nbformat_minor": 2
}
