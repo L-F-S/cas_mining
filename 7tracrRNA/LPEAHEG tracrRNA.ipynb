{
 "cells": [
  {
   "cell_type": "markdown",
   "metadata": {},
   "source": [
    "# find tracerRNA\n",
    "\n",
    "example id:\n",
    "8774__OBKKDPJE_00146__BritoIL_2016__M2.46.ST__bin.47;length1073;#sequences1 "
   ]
  },
  {
   "cell_type": "code",
   "execution_count": 1,
   "metadata": {},
   "outputs": [],
   "source": [
    "# First created Thu Jul 11 09:51:15 CEST 2019\n",
    "# Made by L-F-S\n",
    "# At the University Of Trento, Italy\n",
    "\n",
    "import os\n",
    "import sys\n",
    "import numpy as np\n",
    "import pandas as pd\n",
    "from Bio import SeqIO\n",
    "from Bio.Seq import Seq\n",
    "from Bio.Alphabet import generic_dna, generic_protein, RNAAlphabet\n",
    "from Bio import pairwise2\n",
    "\n",
    "\n",
    "sys.path.insert(0, '/home/lorenzo.signorini/cas_mining/utils/')\n",
    "import filename_discrepancies\n",
    "\n",
    "feature=\"Cas9\" #WARNING!!! CHANGE THIS!!\n",
    "#outpath=\"/shares/CIBIO-Storage/CM/scratch/tmp_projects/signorini_cas/5caslocitable/out/\"+feature+\"/\"\n",
    "datadir=\"/shares/CIBIO-Storage/CM/scratch/tmp_projects/signorini_cas/\"\n",
    "\n",
    "\n"
   ]
  },
  {
   "cell_type": "code",
   "execution_count": 2,
   "metadata": {
    "scrolled": true
   },
   "outputs": [
    {
     "data": {
      "text/plain": [
       "Index(['Seq ID', 'Seq Description', 'Seq', 'Contig', 'Genome Name', 'Study',\n",
       "       'Sample Name', 'SGB ID', 'pilercr_CRISPR', 'minced_CRISPR',\n",
       "       'prokka_cas1', 'prokka_cas2', 'uSGB', 'Level of estimated taxonomy',\n",
       "       'Estimated taxonomy'],\n",
       "      dtype='object')"
      ]
     },
     "execution_count": 2,
     "metadata": {},
     "output_type": "execute_result"
    }
   ],
   "source": [
    "# Import data\n",
    "cas_dataset=pd.read_csv(\"/shares/CIBIO-Storage/CM/scratch/tmp_projects/signorini_cas/5caslocitable/known_\"+feature+\"_variants_table.csv\", index_col=0)\n",
    "cas_dataset.columns"
   ]
  },
  {
   "cell_type": "code",
   "execution_count": 3,
   "metadata": {},
   "outputs": [
    {
     "data": {
      "text/plain": [
       "Index(['Unnamed: 0.1', 'Genome Name', 'Study', 'Sample Name', 'Assembler',\n",
       "       'Genome Size', 'N50', '# Contigs', 'Completeness', 'Contamination',\n",
       "       'Strain Heterogeneity', 'SGB ID', 'pilercr_CRISPR', 'minced_CRISPR',\n",
       "       'prokka_CRISPR', 'prokka_cas', 'uniref_cas'],\n",
       "      dtype='object')"
      ]
     },
     "execution_count": 3,
     "metadata": {},
     "output_type": "execute_result"
    }
   ],
   "source": [
    "tabellazza=pd.read_csv(datadir+\"/3tabellazza/crisprcas_hits_table.csv\", index_col=0)\n",
    "tabellazza.columns"
   ]
  },
  {
   "cell_type": "code",
   "execution_count": 4,
   "metadata": {},
   "outputs": [
    {
     "name": "stdout",
     "output_type": "stream",
     "text": [
      "SEQ ID:  LPEAHEHG_01071\n",
      "NODE_190_length_65757_cov_25.3876\n",
      "ChengpingW_2017\n",
      "ChengpingW_2017__AS43raw__bin.51\n",
      "1074\n",
      "[('.', '9802', '10102')]\n",
      "----------------------------------------------------------------------\n"
     ]
    }
   ],
   "source": [
    "seqid =\"LPEAHEHG_01071\"\n",
    "print(\"SEQ ID: \", seqid)\n",
    "print(cas_dataset[cas_dataset[\"Seq ID\"]==seqid][\"Contig\"].iloc[0])\n",
    "print(cas_dataset[cas_dataset[\"Seq ID\"]==seqid][\"Study\"].iloc[0])\n",
    "print(cas_dataset[cas_dataset[\"Seq ID\"]==seqid][\"Genome Name\"].iloc[0])\n",
    "print(len(cas_dataset[cas_dataset[\"Seq ID\"]==seqid][\"Seq\"].iloc[0]))\n",
    "print(cas_dataset[cas_dataset[\"Seq ID\"]==seqid][\"minced_CRISPR\"].iloc[0])\n",
    "print(\"----------------------------------------------------------------------\")\n"
   ]
  },
  {
   "cell_type": "markdown",
   "metadata": {},
   "source": [
    "# LPEAHEHG_01071"
   ]
  },
  {
   "cell_type": "code",
   "execution_count": 5,
   "metadata": {},
   "outputs": [
    {
     "name": "stdout",
     "output_type": "stream",
     "text": [
      "\n",
      "-----------------------------------------------------\n",
      "Cas9 id:\tLPEAHEHG_01071\n",
      "SGB:\t15299\n",
      "Genome Name:\t ChengpingW_2017__AS43raw__bin.51\n",
      "Contig:\tNODE_190_length_65757_cov_25.3876 \n",
      "-----------------------------------------------------\n",
      "\n",
      "Sequence 'NODE_190_length_65757_cov_25.3876' (65757 bp)\n",
      "\n",
      "\n",
      "\n",
      "CRISPR 1   Range: 9802 - 10102\n",
      "\n",
      "POSITION\tREPEAT\t\t\t\tSPACER\n",
      "\n",
      "--------\t------------------------------------\t------------------------------\n",
      "\n",
      "9802\t\tGGGATGATTTACTAATAGCTCTTGGTATGGTATAAT\tCTTCCGTGCCATTTCCTCTATGACAGAATC\t[ 36, 30 ]\n",
      "\n",
      "9868\t\tGTCATAGTTCCCTAACAGCTCTTGGTATGGTATAAT\tCTGCCCGGCGACGTGCGTGTGAGCGATACG\t[ 36, 30 ]\n",
      "\n",
      "9934\t\tGTCATAGTTCCCTAATAGCTCTTGGTATGGTATAAT\tCCTGCCGCCCAATGCCCAGGACAACGAACT\t[ 36, 30 ]\n",
      "\n",
      "10000\t\tGTCATAGTTCCCTAATAGCTCTTGGTATGGTATAAT\tAACGACTATTCAACGCACGGTAATAGCGCCT\t[ 36, 31 ]\n",
      "\n",
      "10067\t\tGTCATAGTTCCCTAATAGCTCTTGGTATGGTATAAT\t\n",
      "\n",
      "--------\t------------------------------------\t------------------------------\n",
      "\n",
      "Repeats: 5\tAverage Length: 36\t\tAverage Length: 30\n",
      "\n",
      "\n",
      "\n",
      "Time to find repeats: 106 ms\n",
      "\n",
      "\n",
      "\n",
      "\n",
      "\n",
      "Retrieving locus\n",
      "CRISPR si trova 9802 10102\n",
      "Cas9 si trova [11349, 14573]\n",
      "Cas2 si trova [10151, 10459]\n",
      "Cas1 si trova [10464, 11345]\n",
      "1074.0 1074\n",
      "Cas9 locus on minus strand\n",
      "Is Cas9 translated from the genome equal to the orignal annotation? True\n",
      "MKHPYGIGLDIGIASVGWAVVALNENAEPYGLIRCGSRIFDAAEQPNTGESLAAPRREARSTRRRLRRRSLRKADLYELMAQNGLPGRAEIEEAVQAGHLPDIYALRVQALDGPVTAMDFARILLHLMQRRGFRSNRKADDAQKDGKLLQAIDANTRRMEENHYRTVGEMMYRDPVFAEHKRNKSENYLSTVRRDQIVEEAVQLFAAQRQYGAAWASPKMEAEYLTILTRQRSFAEGPGGDSPYRGMQKVGPCALEGKSERRAPKATFAFEYFTLLQKINHIRIAENGVNRILTAEERQELLSACYRTDKLDFARIRKLLALPGEARFNMVRYRENQTAEECEKKEKITVLPCYHKMRKVLNTLRKDHIRSISREQLDAAATALTNPENEEKLRAALEEAQFEPLEVDALMALPSFSGFGHISVKACRKLIPYLEQGLNYNDACKEAGYDFQGNYRGEKSQFLPASTEEMEDITSPVVRRAVAQTIKVVNAIIREQGESPVNIHLELAREMSKNYKQRNELADAMEKNQAENARLMEKLHDLFRGRTITGQTLVKYRLWKEQKEVCAYSLQMMKLDSVITDSSYAEVDHIVPYSRSFDDRRTNKVLVLTSENRKKGDRLPLEYLQGKRREDFIVYTKANVKNYRKRQNLLKEGLSKEESREFIQRNLQDTQYSASFMLNYIRNHLAFADCSAAGKQRVVAVNGAVTAFLRKRWGLSKVRADGDLHHAVDATVIACTTPSMVKRVTEFCKQEETNHVRNEYFPEPWPRFRDELMQRLSACPQENLMQINPVYYQNVDIASIRPVFVSRMPRHKMTGAAHKETIKGRLDDAHTVQRRSITDLKLDKEGEIAGYFNPSSDTLLYNALKEQLTAFGGDGKKAFAEPFFKPRADGTPGAQVRKVKVYDKATSMVAVHEGKGVADNDTMVRIDVYFMPGDGYYWVPIYVADTVKPELPNKAVIAHKNYAEWKEMDEKDFLFSLCPNDLIRVESKRTMKFKVQNKDSTLEKEMQTNGDMVYFEGGNISGGSITVATHDGAYMVESLGLKTLQKVQKYQVDALGNYTLVKKEKRQYFPAQRR\n",
      "start:  9802\n",
      "end:  14573\n",
      "let's now blast the repeat against  the genome\n",
      "Running blastn of query file agianst all contigs\n",
      "blastn -out /shares/CIBIO-Storage/CM/scratch/tmp_projects/signorini_cas/7tracrRNA/15299__LPEAHEHG_01071__ChengpingW_2017__AS43raw__bin.51__Cas9.trcr.blastout -outfmt \"6  qseqid sseqid pident qlen length mismatch gapopen qseq sseq sstart send evalue sstrand\" -query temp_repeat_seq -db /shares/CIBIO-Storage/CM/scratch/tmp_projects/signorini_cas/7tracrRNA/tempblastdb -evalue 0.001 -word_size 11\n"
     ]
    }
   ],
   "source": [
    "seqid = \"LPEAHEHG_01071\"\n",
    "spacers=[]\n",
    "repeats=[]\n",
    "repeat_start_pos=[]\n",
    "\n",
    "\n",
    "cas9_aa=cas_dataset[cas_dataset[\"Seq ID\"]==seqid][\"Seq\"].iloc[0]\n",
    "dataset=cas_dataset[cas_dataset[\"Seq ID\"]==seqid][\"Study\"].iloc[0]\n",
    "genomename=cas_dataset[cas_dataset[\"Seq ID\"]==seqid][\"Genome Name\"].iloc[0]\n",
    "SGB=cas_dataset[cas_dataset[\"Seq ID\"]==seqid][\"SGB ID\"].iloc[0]\n",
    "contigname=cas_dataset[cas_dataset[\"Seq ID\"]==seqid][\"Contig\"].iloc[0]\n",
    "print(\"\\n-----------------------------------------------------\\n\"+feature+\" id:\\t\"+seqid+\"\\nSGB:\\t\"+str(SGB)+\"\\nGenome Name:\\t\",\\\n",
    "      genomename+\"\\nContig:\\t\"+cas_dataset[cas_dataset[\"Seq ID\"]==seqid][\"Contig\"].iloc[0],\"\\n-----------------------------------------------------\\n\")\n",
    "\n",
    "######################################################################TODO THIS MUST BE INSIDE filename_discrepancies\n",
    "# take into account filename discrepancies\n",
    "if dataset.startswith(\"ZeeviD\"):  #TODO guarda se funziona quando finisci di girare minced_runner\n",
    "         s3_dataset=\"ZeeviD_2015\"\n",
    "         #genomename=filename_discrepancies.change_to_megahit(genomename)\n",
    "         s3_genomename=genomename\n",
    "         try:\n",
    "             genomename=genomename.replace(\"ZeeviD_2015\", \"ZeeviD_2015_B\")\n",
    "             prokkafile_ofsample=open(annodir+\"/justminced/ZeeviD_2015_B/\"+genomename+\".crisprcas.gff.minced\")\n",
    "             prokkafile_ofsample.close()\n",
    "             dataset=\"ZeeviD_2015_B\"\n",
    "         except:\n",
    "             genomename=genomename.replace(\"ZeeviD_2015_B\", \"ZeeviD_2015_A\")\n",
    "             dataset=\"ZeeviD_2015_A\"\n",
    "else:\n",
    "    s3_dataset=dataset\n",
    "    s3_genomename=genomename\n",
    "    dataset=filename_discrepancies.s3(s3_dataset,r=True) # get working dataset name from s3 dataset name\n",
    "    genomename=genomename.replace(s3_dataset, dataset)\n",
    "\n",
    "if filename_discrepancies.dataset_has_megahit(dataset,genomename):\n",
    "    genomename=filename_discrepancies.change_to_megahit(genomename)\n",
    "\n",
    "samplename = genomename.split(\"__\")[1]\n",
    "########################################################################\n",
    "\n",
    "# get CRISPR spacer and repeat sequence\n",
    "\n",
    "mincedCRISPRfilename=datadir+\"1crisprsearch/out/\"+s3_dataset+\"/\"+s3_genomename+\".fa.minced.out\"\n",
    "f=open(mincedCRISPRfilename, \"r\")\n",
    "for line in f.readlines():\n",
    "    print(line)\n",
    "    if line[0]== \"1\" or line[0]== \"2\" or line[0]== \"3\" or line[0]== \"4\" or line[0]== \"5\" or \\\n",
    "    line[0]== \"6\" or line[0]== \"7\" or line[0]== \"8\" or line[0]== \"9\" or line[0]== \"0\":\n",
    "\n",
    "        repeats.append(line.split(\"\\t\")[2])\n",
    "\n",
    "        repeat_start_pos.append(line.split(\"\\t\")[0])\n",
    "\n",
    "        if not line.split(\"\\t\")[3]==\"\\n\":\n",
    "            spacers.append(line.split(\"\\t\")[3])\n",
    "f.close()\n",
    "\n",
    "# get whole locus sequence todo this could become a function of its own, dentro utils, gli dai genomename della cas e/o seqid della cas (anzi famo solo seqid, che magari ci sn doppioni in genomi) e ti dà tt il locus\n",
    "\n",
    "# print start and stop of CRISPR\n",
    "unostranosplit=cas_dataset[cas_dataset[\"Seq ID\"]==seqid][\"minced_CRISPR\"].iloc[0].split(\"\\', \\'\")\n",
    "crispr_start, crispr_stop = int(unostranosplit[1]), int(unostranosplit[2].strip(\"\\')]\\\"\"))\n",
    "\n",
    "# > get start and stop position of all Cass. questo devi metterlo nella tabella di cas non ci sono santi.\n",
    "\n",
    "prokka_anno=tabellazza[tabellazza[\"Genome Name\"]==s3_genomename][\"prokka_cas\"].iloc[0]\n",
    "# so già che all casses inside here are on the same contig which is 'contig', xke le ho estratte per essere così\n",
    "\n",
    "prokkaslist=prokka_anno.split(\">\")\n",
    "prokkaslist.pop(0)\n",
    "# get contigname of current effectorcas   \n",
    "cas_position={}\n",
    "for casanno in prokkaslist:\n",
    "    unostranosplit=casanno.split(\"Name=\")\n",
    "    casnumber=unostranosplit[1][3] #because we know that we are loooking at 'good' loci, this is just going to be 9, 1 or 2\n",
    "    unaltrostranosplit=casanno.split(\"\\t\")\n",
    "    cas_start=unaltrostranosplit[3]\n",
    "    cas_stop=unaltrostranosplit[4]\n",
    "    cas_position[\"Cas\"+casnumber]=[int(cas_start),int(cas_stop)]\n",
    "\n",
    "genomefilename= \"/shares/CIBIO-Storage/CM/scratch/tmp_projects/epasolli_darkmatter/allcontigs/ALLreconstructedgenomes/\"+str(SGB)+\"/\"+genomename+\".fa\"\n",
    "print(\"Retrieving locus\")\n",
    "\n",
    "\n",
    "# access contig:\n",
    "\n",
    "for record in SeqIO.parse(genomefilename,\"fasta\"):  #c'è modo di non fare questo 'ciclo'?\n",
    "    if record.id.startswith(contigname):\n",
    "        #test se effettivamente la seq di cas è dove voglio io\n",
    "\n",
    "        SeqIO.write(record, \"/shares/CIBIO-Storage/CM/scratch/tmp_projects/signorini_cas/7tracrRNA/tempblastdb\", \"fasta\")\n",
    "        print(\"CRISPR si trova\", crispr_start, crispr_stop)\n",
    "        print(\"Cas9 si trova\", cas_position[\"Cas9\"])\n",
    "        print(\"Cas2 si trova\", cas_position[\"Cas2\"])\n",
    "        print(\"Cas1 si trova\", cas_position[\"Cas1\"])\n",
    "\n",
    "        #estrai la posizione di cas9 dal contig, e traducila\n",
    "        cas9start=[int(x) for x in cas_position[\"Cas9\"]][0]\n",
    "        cas9stop=[int(x) for x in cas_position[\"Cas9\"]][1]\n",
    "        cas9_nnseq=record.seq[cas9start-1:cas9stop-3] #gff should have a 1-based positional annotation (ma sto andando a occhio finchè non sono uguali, è già un oggetto Bio.Seq\n",
    "\n",
    "        my_translated_cas9=cas9_nnseq.transcribe().translate()\n",
    " \n",
    "  \n",
    "        print(len(cas9_nnseq)/3,len(cas9_aa))\n",
    "\n",
    "        # check strand for all Cas9s (scriveresti ben meno codice a metterlo in una funzioncina, ma ok)\n",
    "        if my_translated_cas9==cas9_aa:\n",
    "            print(\"Cas9 locus on plus strand\")\n",
    "            plus=True\n",
    "        else:\n",
    "            #proviamo col reverse complement\n",
    "            cas9_nnseq=record.seq[cas9start+2:cas9stop]\n",
    "            my_translated_cas9=cas9_nnseq.reverse_complement().transcribe().translate()\n",
    "            print(\"Cas9 locus on minus strand\")\n",
    "        print(\"Is Cas9 translated from the genome equal to the orignal annotation?\", my_translated_cas9==cas9_aa)\n",
    "        print(my_translated_cas9)\n",
    "\n",
    "        #extact a locus, 200 bp a monte e a valle dei cosi che ho:\n",
    "        starts, stops=[startstop[0]for startstop in cas_position.values()], [startstop[1]for startstop in cas_position.values() ]\n",
    "        minimo=min([crispr_start]+starts)\n",
    "        print(\"start: \", minimo)\n",
    "        massimo=max([crispr_stop]+stops)\n",
    "        print(\"end: \", massimo)\n",
    "\n",
    "        #opzione 1 blast\n",
    "      #1. salva np.uniq(repeats) in un fasta file: build temporary query file for blastn search\n",
    "\n",
    "        print(\"let's now blast the repeat against  the genome\")\n",
    "        blast_folder=\"/shares/CIBIO-Storage/CM/scratch/tmp_projects/signorini_cas/7tracrRNA/\"\n",
    "        os.chdir(blast_folder)\n",
    "        tempfile=open(\"temp_repeat_seq\", \"w\")\n",
    "        tempfile.close()\n",
    "        tempfile=open(\"temp_repeat_seq\", \"a\")\n",
    "        for n, repeat in enumerate([Seq(sequence) for sequence in np.unique(repeats)]):\n",
    "            tempfile.write(\">rpt\"+str(n+1)+\"|\"+contigname+\"|\"+genomename+\"|\"+seqid+\"\\n\"+str(repeat)+\"\\n\") \n",
    "        tempfile.close()\n",
    "\n",
    "        #2. Blast query file against db\n",
    "        print(\"Running blastn of query file agianst all contigs\")\n",
    "\n",
    "        #3. make db file\n",
    "        dbfile=\"/shares/CIBIO-Storage/CM/scratch/tmp_projects/signorini_cas/7tracrRNA/tempblastdb\"\n",
    "        os.system(\"makeblastdb -in \"+dbfile+\" -parse_seqids  -dbtype nucl\")\n",
    "\n",
    "\n",
    "\n",
    "        blastoutfile=\"/shares/CIBIO-Storage/CM/scratch/tmp_projects/signorini_cas/7tracrRNA/\"\\\n",
    "        +str(SGB)+\"__\"+seqid+\"__\"+genomename+\"__\"+feature+\".trcr.blastout\"\n",
    "        blastn_command = \"blastn -out \"+blastoutfile+\" -outfmt \\\"6  qseqid sseqid pident qlen length mismatch gapopen qseq sseq sstart send evalue sstrand\\\" -query temp_repeat_seq -db \"+dbfile+\" -evalue 0.001 -word_size 11\"\n",
    "        print(blastn_command)\n",
    "        os.system(blastn_command)\n",
    "       # os.system(\"rm /shares/CIBIO-Storage/CM/scratch/tmp_projects/signorini_cas/7tracerRNA/temp*\")\n"
   ]
  },
  {
   "cell_type": "code",
   "execution_count": 6,
   "metadata": {},
   "outputs": [
    {
     "name": "stdout",
     "output_type": "stream",
     "text": [
      "\n",
      "-----------------------------------------------------\n",
      "Parsing BLAST output, looking for hit which are NOT the same repeats\n",
      "i.e. not starting with: ['9802', '9868', '9934', '10000', '10067'] :\n",
      "-----------------------------------------------------\n",
      "\n",
      "rpt1|NODE_190_length_65757_cov_25.3876|ChengpingW_2017__AS43raw__bin.51|LPEAHEHG_01071\tNODE_190_length_65757_cov_25.3876\t100.00\t36\t25\t0\t0\tCTAATAGCTCTTGGTATGGTATAAT\tCTAATAGCTCTTGGTATGGTATAAT\t9945\t9969\t9e-09\tplus\n",
      "\n",
      "rpt1|NODE_190_length_65757_cov_25.3876|ChengpingW_2017__AS43raw__bin.51|LPEAHEHG_01071\tNODE_190_length_65757_cov_25.3876\t100.00\t36\t25\t0\t0\tCTAATAGCTCTTGGTATGGTATAAT\tCTAATAGCTCTTGGTATGGTATAAT\t10011\t10035\t9e-09\tplus\n",
      "\n",
      "rpt1|NODE_190_length_65757_cov_25.3876|ChengpingW_2017__AS43raw__bin.51|LPEAHEHG_01071\tNODE_190_length_65757_cov_25.3876\t100.00\t36\t25\t0\t0\tCTAATAGCTCTTGGTATGGTATAAT\tCTAATAGCTCTTGGTATGGTATAAT\t10078\t10102\t9e-09\tplus\n",
      "\n",
      "rpt1|NODE_190_length_65757_cov_25.3876|ChengpingW_2017__AS43raw__bin.51|LPEAHEHG_01071\tNODE_190_length_65757_cov_25.3876\t96.00\t36\t25\t1\t0\tCTAATAGCTCTTGGTATGGTATAAT\tCTAACAGCTCTTGGTATGGTATAAT\t9879\t9903\t4e-07\tplus\n",
      "\n",
      "rpt1|NODE_190_length_65757_cov_25.3876|ChengpingW_2017__AS43raw__bin.51|LPEAHEHG_01071\tNODE_190_length_65757_cov_25.3876\t95.65\t36\t23\t1\t0\tTAATAGCTCTTGGTATGGTATAA\tTAATAGTTCTTGGTATGGTATAA\t14729\t14751\t5e-06\tplus\n",
      "\n",
      "rpt2|NODE_190_length_65757_cov_25.3876|ChengpingW_2017__AS43raw__bin.51|LPEAHEHG_01071\tNODE_190_length_65757_cov_25.3876\t96.00\t36\t25\t1\t0\tCTAACAGCTCTTGGTATGGTATAAT\tCTAATAGCTCTTGGTATGGTATAAT\t9813\t9837\t4e-07\tplus\n",
      "\n",
      "rpt2|NODE_190_length_65757_cov_25.3876|ChengpingW_2017__AS43raw__bin.51|LPEAHEHG_01071\tNODE_190_length_65757_cov_25.3876\t91.30\t36\t23\t2\t0\tTAACAGCTCTTGGTATGGTATAA\tTAATAGTTCTTGGTATGGTATAA\t14729\t14751\t2e-04\tplus\n",
      "\n",
      "rpt3|NODE_190_length_65757_cov_25.3876|ChengpingW_2017__AS43raw__bin.51|LPEAHEHG_01071\tNODE_190_length_65757_cov_25.3876\t100.00\t36\t25\t0\t0\tCTAATAGCTCTTGGTATGGTATAAT\tCTAATAGCTCTTGGTATGGTATAAT\t9813\t9837\t9e-09\tplus\n",
      "\n",
      "rpt3|NODE_190_length_65757_cov_25.3876|ChengpingW_2017__AS43raw__bin.51|LPEAHEHG_01071\tNODE_190_length_65757_cov_25.3876\t95.65\t36\t23\t1\t0\tTAATAGCTCTTGGTATGGTATAA\tTAATAGTTCTTGGTATGGTATAA\t14729\t14751\t5e-06\tplus\n",
      "\n"
     ]
    }
   ],
   "source": [
    "#4. parse blast output: only print output if it is NOT one of the old repeats.\n",
    "print(\"\\n-----------------------------------------------------\\nParsing BLAST output, looking for hit which are NOT the same repeats\\ni.e. not starting with:\", repeat_start_pos,\":\\n-----------------------------------------------------\\n\")\n",
    "f=open(blastoutfile,\"r\")\n",
    "for line in f.readlines():\n",
    "    start_pos=line.split(\"\\t\")[9]\n",
    "    if start_pos not in repeat_start_pos:\n",
    "        if str(int(start_pos)+1) not in repeat_start_pos:\n",
    "            if str(int(start_pos)-1) not in repeat_start_pos:\n",
    "                print(line) "
   ]
  },
  {
   "cell_type": "markdown",
   "metadata": {},
   "source": [
    "## extract sequences"
   ]
  },
  {
   "cell_type": "code",
   "execution_count": 7,
   "metadata": {},
   "outputs": [],
   "source": [
    "matched_rep_start=14729\n",
    "matched_rep_stop=14751"
   ]
  },
  {
   "cell_type": "code",
   "execution_count": 8,
   "metadata": {},
   "outputs": [
    {
     "name": "stdout",
     "output_type": "stream",
     "text": [
      "TTATACCATACCAAGAACTATTA\n"
     ]
    },
    {
     "data": {
      "text/plain": [
       "23"
      ]
     },
     "execution_count": 8,
     "metadata": {},
     "output_type": "execute_result"
    }
   ],
   "source": [
    "# this is the sequence matching the repeat:\n",
    "matched_rep=Seq(\"TAATAGTTCTTGGTATGGTATAA\")\n",
    "\n",
    "#rpts which match:\n",
    "rpt2=Seq(\"GTCATAGTTCCCTAACAGCTCTTGGTATGGTATAAT\")\n",
    "rpt3=Seq(\"GTCATAGTTCCCTAATAGCTCTTGGTATGGTATAAT\")\n",
    "\n",
    "# since repeat is on the + strand, and this is all on the + strand, tracrRNA should be its reverse complement:\n",
    "antirepeat=matched_rep.reverse_complement()\n",
    "#this should go frombo to bo  = x nt  (x+1)\n",
    "print(antirepeat)\n",
    "len(antirepeat)"
   ]
  },
  {
   "cell_type": "code",
   "execution_count": 9,
   "metadata": {},
   "outputs": [],
   "source": [
    "rpt1=Seq(\"GGGATGATTTACTAATAGCTCTTGGTATGGTATAAT\")"
   ]
  },
  {
   "cell_type": "code",
   "execution_count": 10,
   "metadata": {},
   "outputs": [],
   "source": [
    "maturerpt3=rpt3[12:]  #sono gli ultimi 24 nt (see paper Processing-Independent CRISPR RNAs limit natural transformation in N. meningitidis)\n",
    "# update: non è veramente il mature repeat. il mature repat sarebbero i PRIMI 24...)\n",
    "realmaturerpt3=rpt3[:24]"
   ]
  },
  {
   "cell_type": "code",
   "execution_count": 11,
   "metadata": {},
   "outputs": [
    {
     "data": {
      "text/plain": [
       "(Seq('GTCATAGTTCCCTAATAGCTCTTG'), 24)"
      ]
     },
     "execution_count": 11,
     "metadata": {},
     "output_type": "execute_result"
    }
   ],
   "source": [
    "realmaturerpt3, len(realmaturerpt3)"
   ]
  },
  {
   "cell_type": "code",
   "execution_count": 12,
   "metadata": {},
   "outputs": [
    {
     "data": {
      "text/plain": [
       "Seq('CAAGAGCTATTAGGGAACTATGAC')"
      ]
     },
     "execution_count": 12,
     "metadata": {},
     "output_type": "execute_result"
    }
   ],
   "source": [
    "realmaturerpt3.reverse_complement()"
   ]
  },
  {
   "cell_type": "code",
   "execution_count": 13,
   "metadata": {},
   "outputs": [
    {
     "name": "stdout",
     "output_type": "stream",
     "text": [
      "14653      Both - CGTAAAGCTCTGACGCCCTGTCCTAGGACAGGGCGTCaTCTTTTTTGTCA -14.40\n",
      "\n",
      "14719     Erpin - TATACTATAAACAGTTCTTATACCATACCAAGAACTATTATGGTTGCTAT NA\n",
      "\n",
      "14722      Both + GCAACCATAATAGTTCTTGGTATGGTATAAGAACTgTTTATAGTATACA -7.40\n",
      "\n"
     ]
    }
   ],
   "source": [
    "# print terminators\n",
    "\n",
    "f=open(blast_folder+str(SGB)+\"__\"+seqid+\"__\"+genomename+\".terminators\")\n",
    "for line in f.readlines():\n",
    "    if line.strip().startswith(\"14\"):\n",
    "        print(line)\n",
    "f.close()"
   ]
  },
  {
   "cell_type": "code",
   "execution_count": 14,
   "metadata": {},
   "outputs": [
    {
     "name": "stdout",
     "output_type": "stream",
     "text": [
      "50\n"
     ]
    }
   ],
   "source": [
    "# this is the rho-independent trnascription terminator, going from 14719 or 14722 to bo (+1 perché conti il primo tipo), \n",
    "\n",
    "terminator_end=14652 # (sarebe 1463-1, for indexing reasons) sarebbe la fine xke prendiamo il rev comp remembra. che ha senso xke l'antirepeat è a 14729, che è dopo\n",
    " #oppure, ce n'è uno con TTTTTTT a 14653... \n",
    "terminator=Seq(\"CGTAAAGCTCTGACGCCCTGTCCTAGGACAGGGCGTCaTCTTTTTT\".upper())\n",
    "print(len(terminator))\n",
    "terminator_start=terminator_end+len(terminator) #occhio che qui start e stop si riferisce al rev.compl, mentre nel antirepeat si riferisce alla direzione base"
   ]
  },
  {
   "cell_type": "code",
   "execution_count": 3,
   "metadata": {},
   "outputs": [
    {
     "data": {
      "text/plain": [
       "'1234'"
      ]
     },
     "execution_count": 3,
     "metadata": {},
     "output_type": "execute_result"
    }
   ],
   "source": [
    "a=\"123456789\"\n",
    "a[:8-4]"
   ]
  },
  {
   "cell_type": "code",
   "execution_count": 15,
   "metadata": {},
   "outputs": [
    {
     "name": "stdout",
     "output_type": "stream",
     "text": [
      "test repeat:  TTATACCATACCAAGAACTATTA 23 True\n",
      "test terminator:  CGTAAAGCTCTGACGCCCTGTCCTAGGACAGGGCGTCATCTTTTTTGTCA 50 True\n",
      "pre tracrRNA: TTATACCATACCAAGAACTATTATGGTTGCTATGATAAGGTCATAGGACCGTAAAGCTCTGACGCCCTGTCCTAGGACAGGGCGTCATCTTTTTTGTCA 99\n",
      "mario sequence: TGGTTGCTATGATAAGGTCATAGGAC 26\n"
     ]
    }
   ],
   "source": [
    "# Open genome and extract the whole sequence\n",
    "# find this inside the genome, and link it to the thing found by ARNold:\n",
    "for record in SeqIO.parse(\"/shares/CIBIO-Storage/CM/scratch/tmp_projects/signorini_cas/selected_loci/\"+seqid+\"/\"+genomename+\".fa\", \"fasta\"):\n",
    "    if record.id==contigname:\n",
    "        contigseq=record.seq\n",
    "\n",
    "#check antirepeat\n",
    "print(\"test repeat: \", antirepeat, len(antirepeat), contigseq[matched_rep_start-1:matched_rep_stop].reverse_complement()==antirepeat) # -1 why? Indexing diverso evidentemente col blastout, vbb\n",
    "\n",
    "# check terminator\n",
    "print(\"test terminator: \" ,terminator, len(terminator), contigseq[terminator_end:terminator_start].reverse_complement()==terminator)\n",
    "\n",
    "\n",
    "pre_tracrRNA=contigseq[terminator_end:matched_rep_stop].reverse_complement()\n",
    "print(\"pre tracrRNA:\", pre_tracrRNA, len(pre_tracrRNA))\n",
    "\n",
    "# add mario\n",
    "mario=contigseq[terminator_start:matched_rep_start-1].reverse_complement()\n",
    "print(\"mario sequence:\",  mario, len(mario))  # ho fatto i check, il -1 sopra è giusto"
   ]
  },
  {
   "cell_type": "code",
   "execution_count": 16,
   "metadata": {},
   "outputs": [],
   "source": [
    "#mario sequence, conta fino a che antirepeatè+mario=36 nt, e prendi quelli dopo, guarda caso cominciano per AA. è un bell'indicatore che sia una mario sequence."
   ]
  },
  {
   "cell_type": "markdown",
   "metadata": {},
   "source": [
    "ora ha una lunghezza simile, e finisce in modo simile a quello di _S. pyogenes_  TTTTTTTaltre"
   ]
  },
  {
   "cell_type": "code",
   "execution_count": 18,
   "metadata": {},
   "outputs": [
    {
     "name": "stdout",
     "output_type": "stream",
     "text": [
      "GTCATAGTTC--CC-TAATAGCT-CTTGGTATGGTATAAT\n",
      " ||||||  |  || |||||| | |||||||||||||||\n",
      "-TCATAG--CAACCATAATAG-TTCTTGGTATGGTATAA-\n",
      "  Score=31\n",
      "\n",
      "rpt length: 36\n"
     ]
    }
   ],
   "source": [
    "alignments = pairwise2.align.localxx(rpt3, (antirepeat+mario[:12]).reverse_complement())\n",
    "print(pairwise2.format_alignment(*alignments[0]))\n",
    "print(\"rpt length:\", len(rpt3))\n"
   ]
  },
  {
   "cell_type": "code",
   "execution_count": 17,
   "metadata": {},
   "outputs": [
    {
     "name": "stdout",
     "output_type": "stream",
     "text": [
      "TAATAGCT-CTTGGTATGGTATAAT\n",
      "|||||| | |||||||||||||||\n",
      "TAATAG-TTCTTGGTATGGTATAA-\n",
      "  Score=22\n",
      "\n",
      "rpt length: 36\n"
     ]
    }
   ],
   "source": [
    "# Now, align with the rest of the stuff to see what's up\n",
    "# first up, with the repeat, lets take the rpt3, which has only got 1 mismatch\n",
    "\n",
    "alignments = pairwise2.align.localxx(maturerpt3, antirepeat.reverse_complement())\n",
    "print(pairwise2.format_alignment(*alignments[0]))\n",
    "print(\"rpt length:\", len(rpt3))\n"
   ]
  },
  {
   "cell_type": "code",
   "execution_count": 124,
   "metadata": {},
   "outputs": [
    {
     "name": "stdout",
     "output_type": "stream",
     "text": [
      "CAAG-AG--CTAT--TAG-GGAACTATGAC\n",
      " ||  ||  || |  ||  ||   ||| |.\n",
      "TAA-TAGTTCT-TGGTA-TGG---TAT-AA\n",
      "  Score=15\n",
      "\n",
      "rpt length: 36\n"
     ]
    }
   ],
   "source": [
    "# Now, align with the rest of the stuff to see what's up\n",
    "# first up, with the repeat, lets take the rpt3, which has only got 1 mismatch\n",
    "\n",
    "alignments = pairwise2.align.localxx(realmaturerpt3.reverse_complement(), antirepeat.reverse_complement())\n",
    "print(pairwise2.format_alignment(*alignments[0]))\n",
    "print(\"rpt length:\", len(rpt3))\n"
   ]
  },
  {
   "cell_type": "code",
   "execution_count": 115,
   "metadata": {},
   "outputs": [
    {
     "data": {
      "text/plain": [
       "Seq('ATTATACCATACCAAGAGCTATTA')"
      ]
     },
     "execution_count": 115,
     "metadata": {},
     "output_type": "execute_result"
    }
   ],
   "source": [
    "maturerpt3.reverse_complement()"
   ]
  },
  {
   "cell_type": "code",
   "execution_count": 103,
   "metadata": {
    "scrolled": true
   },
   "outputs": [
    {
     "name": "stdout",
     "output_type": "stream",
     "text": [
      "-T---A--A--T-A-----GC-----T-------CTTGGTATGGTATAAT\n",
      " |   |  |  | |     ||     |       ||||||||||||||| \n",
      "GTCCTATGACCTTATCATAGCAACCATAATAGTTCTTGGTATGGTATAA-\n",
      "  Score=23\n",
      "\n"
     ]
    }
   ],
   "source": [
    "# align antirepat + mario with repeat\n",
    "alignments = pairwise2.align.globalxx(maturerpt3, (antirepeat+mario).reverse_complement())\n",
    "print(pairwise2.format_alignment(*alignments[0]))"
   ]
  },
  {
   "cell_type": "markdown",
   "metadata": {},
   "source": [
    "### compare with known spCas9 sgRNA"
   ]
  },
  {
   "cell_type": "code",
   "execution_count": 7,
   "metadata": {},
   "outputs": [],
   "source": [
    "#allignment with official sgRNA\n",
    "spCas9_sgRNA=Seq(\"GTTTTAGAGCTAGAAATAGCAAGTTAAAATAAGGCTAGTCCGTTATCAACTTGAAAAAGTGGCACCGAGTCGGTGCTTTTTTT\")\n",
    "\n",
    "#which is made by:\n",
    "spCas9_tracrRNA=spCas9_sgRNA[16:]\n",
    "spCas9_tetraloop=spCas9_sgRNA[12:16]\n",
    "spCas9_repeat=spCas9_sgRNA[:12]"
   ]
  },
  {
   "cell_type": "code",
   "execution_count": 17,
   "metadata": {
    "scrolled": true
   },
   "outputs": [
    {
     "name": "stdout",
     "output_type": "stream",
     "text": [
      "T-AGC-A--AGTTA--AA-A--TA--A-GGCTAGTCCG-T-T-ATCAAC--T--TGA--A----AAAG-T--G--GCACC-G----AGT--C-GGTGC-T--T-TTTT---T--\n",
      "| |   |  |  ||  || |  ||  | || |  |  | | | || ||   |  | |  |    |||| |  |  || || |    ||   | || || |  | ||||   |\n",
      "TTA--TACCA--TACCAAGAACTATTATGG-T--T--GCTATGAT-AA-GGTCAT-AGGACCGTAAAGCTCTGACGC-CCTGTCCTAG-GACAGG-GCGTCATCTTTTTTGTCA\n",
      "  Score=52\n",
      "\n"
     ]
    }
   ],
   "source": [
    "alignments = pairwise2.align.localxx(spCas9_tracrRNA, pre_tracrRNA)\n",
    "print(pairwise2.format_alignment(*alignments[0]))\n"
   ]
  },
  {
   "cell_type": "markdown",
   "metadata": {},
   "source": [
    "### compar ewoith known NMCas9 sgRNA"
   ]
  },
  {
   "cell_type": "code",
   "execution_count": 65,
   "metadata": {},
   "outputs": [
    {
     "name": "stdout",
     "output_type": "stream",
     "text": [
      "repeat 24\n",
      "unprocessed:  107\n",
      "processed:  91\n",
      "AUAUUGUCGCACUGCGAAAUGAGAACCGUUGCUACAAUAAGGCCGUCUGAAAAGAUGUGCCGCAACGCUCUGCCCCUUAAAGCUUCUGCUUUAAGGGGCAUCGUUUA\n",
      "                |||||||||||||||||||||||||||||||||||||||||||||||||||||||||||||||||||||||||||||||||||||||||||\n",
      "----------------AAAUGAGAACCGUUGCUACAAUAAGGCCGUCUGAAAAGAUGUGCCGCAACGCUCUGCCCCUUAAAGCUUCUGCUUUAAGGGGCAUCGUUUA\n",
      "  Score=91\n",
      "\n"
     ]
    }
   ],
   "source": [
    "#allignment with official  stuff (efficient gene editing balbla cs9 neisseria meningitidis, Hou et al. 2013)\n",
    "nmCas9_repeat=Seq(\"GTTGTAGCTCCCTTTCTCATTTCG\")\n",
    "nmCas9_unprocessed_tracrRNA=Seq(\"AUAUUGUCGCACUGCGAAAUGAGAACCGUUGCUACAAUAAGGCCGUCUGAAAAGAUGUGCCGCAACGCUCUGCCCCUUAAAGCUUCUGCUUUAAGGGGCAUCGUUUA\")\n",
    "nmCas9_proc_tracrRNA=Seq(\"AAAUGAGAACCGUUGCUACAAUAAGGCCGUCUGAAAAGAUGUGCCGCAACGCUCUGCCCCUUAAAGCUUCUGCUUUAAGGGGCAUCGUUUA\")\n",
    "print(\"repeat\", len(nmCas9_repeat))\n",
    "print(\"unprocessed: \", len(nmCas9_unprocessed_tracrRNA))\n",
    "print(\"processed: \", len(nmCas9_proc_tracrRNA))\n",
    "alignments = pairwise2.align.localxx(nmCas9_unprocessed_tracrRNA, nmCas9_proc_tracrRNA)\n",
    "print(pairwise2.format_alignment(*alignments[0]))\n"
   ]
  },
  {
   "cell_type": "code",
   "execution_count": 52,
   "metadata": {},
   "outputs": [
    {
     "data": {
      "text/plain": [
       "76"
      ]
     },
     "execution_count": 52,
     "metadata": {},
     "output_type": "execute_result"
    }
   ],
   "source": [
    "len(mario+terminator)"
   ]
  },
  {
   "cell_type": "code",
   "execution_count": 64,
   "metadata": {},
   "outputs": [
    {
     "name": "stdout",
     "output_type": "stream",
     "text": [
      "-TG-C-T-TTGTAGTCTA-ATGG-GAC-GCGT-CGGG--CCCTA-ACTG-C-GCCACAGCCT-TTACC--T-A---TC-CCATGTGCGACTGATA---G-A-\n",
      " || | | || ||  ||  | || | | ||   |     |||   |||  | ||| ||   | ||  |  | |   || |||     ||||| ||   | |\n",
      "GTGTCGTCTT-TA--CT-GA-GGTG-CAGC--AC---TTCCC--GACT-TCCGCC-CA---TGTT--CGGTTAAAATCGCCA-----GACTG-TAACTGGAT\n",
      "  Score=50\n",
      "\n"
     ]
    }
   ],
   "source": [
    "alignments = pairwise2.align.localxx(randomDNA(76), randomDNA(76))\n",
    "print(pairwise2.format_alignment(*alignments[0]))"
   ]
  },
  {
   "cell_type": "code",
   "execution_count": 60,
   "metadata": {},
   "outputs": [],
   "source": [
    "# geanerate a random N nucleotides sequence\n",
    "def randomDNA(N):\n",
    "    s=\"\"\n",
    "    d={1:\"A\",2:\"C\",3:\"G\",4:\"T\"}\n",
    "    for n in range(N):\n",
    "        s+=str(d[np.random.randint(1,5)])\n",
    "    return s\n"
   ]
  },
  {
   "cell_type": "code",
   "execution_count": 88,
   "metadata": {},
   "outputs": [
    {
     "data": {
      "text/plain": [
       "'CAGTGTTAATCCCAAATTCAATGCTATATAGAATACTCCTAGCGCAAGGACCCGGATCCAGGGCTCTGATGCGCAA'"
      ]
     },
     "execution_count": 88,
     "metadata": {},
     "output_type": "execute_result"
    }
   ],
   "source": [
    "randomDNA(76)"
   ]
  },
  {
   "cell_type": "code",
   "execution_count": 109,
   "metadata": {},
   "outputs": [
    {
     "name": "stdout",
     "output_type": "stream",
     "text": [
      "number TT sequnces: 1\n",
      "number TT sequnces: 1\n",
      "number TT sequnces: 0\n",
      "number TT sequnces: 2\n",
      "number TT sequnces: 1\n",
      "number TT sequnces: 1\n",
      "number TT sequnces: 2\n",
      "number TT sequnces: 1\n",
      "number TT sequnces: 1\n",
      "number TT sequnces: 1\n",
      "mean n of TTTT sequences for 4^4 throws: 1.1\n"
     ]
    }
   ],
   "source": [
    "# just un check pratico per vedere che effettivamente la probabilità di avere una precisa sequenza di lunghezza N è (1/4)^N\n",
    "mean=[]\n",
    "lungh_seq=2 \n",
    "# in teoria, deve uscire 1\n",
    "for tentativo in range(10):\n",
    "    n=0\n",
    "    for i in range(4**lungh_seq):\n",
    "        if randomDNA(lungh_seq)==\"T\"*lungh_seq:\n",
    "            n+=1\n",
    "    print(\"number \"+\"T\"*lungh_seq+\" sequnces:\", n)\n",
    "    mean.append(n)\n",
    "print(\"mean n of TTTT sequences for 4^4 throws:\", np.mean(mean))"
   ]
  },
  {
   "cell_type": "code",
   "execution_count": 104,
   "metadata": {},
   "outputs": [
    {
     "name": "stdout",
     "output_type": "stream",
     "text": [
      "AAAUG-AG--A-ACCGUUGCUACA-AUA--A----GGCC--GUCUG-A--A-AAG---AU--GUG-CCGC-AAC-GCU-CU-G-C-CCCUUAAA-G-CUUCU--GCUUU-A-AGGG-G-CAU-C------GUUU--A\n",
      "  |   |   | | |    | | | | |  |    ||    | |   |  | |||   |   | | |||  ||  ||  |  | | |||      | |  |   |     | |||| | ||  |      |     |\n",
      "TTA--TA-CCATA-C----C-A-AGA-ACTATTATGG--TTG-C--TATGATAAGGTCA-TAG-GACCG-TAA-AGC-TC-TGACGCCC-----TGTC--C-TAG----GACAGGGCGTCA-TCTTTTTTG---TCA\n",
      "  Score=51\n",
      "\n"
     ]
    }
   ],
   "source": [
    "alignments = pairwise2.align.localxx(nmCas9_proc_tracrRNA.transcribe(), pre_tracrRNA)\n",
    "print(pairwise2.format_alignment(*alignments[0]))\n"
   ]
  },
  {
   "cell_type": "markdown",
   "metadata": {},
   "source": [
    "## Final tracrRNA"
   ]
  },
  {
   "cell_type": "code",
   "execution_count": 125,
   "metadata": {
    "scrolled": false
   },
   "outputs": [
    {
     "name": "stdout",
     "output_type": "stream",
     "text": [
      "\n",
      "----------------------------------------------------------------------\n",
      "         tracrRNA sequence for Cas9 protein id LPEAHEHG_01071\n",
      "----------------------------------------------------------------------\n",
      "\n",
      "- contig name: NODE_190_length_65757_cov_25.3876\n",
      "- Dataset:  ChengpingW_2017\n",
      "- Bin:  ChengpingW_2017__AS43raw__bin.51\n",
      "- SGB:  15299\n",
      "----------------------------------------------------------------------\n",
      "\n",
      "- Length:  99 \n",
      "- position:  14652 14751\n",
      "TTATACCATACCAAGAACTATTATGGTTGCTATGATAAGGTCATAGGACCGTAAAGCTCTGACGCCCTGTCCTAGGACAGGGCGTCATCTTTTTTGTCA\n"
     ]
    }
   ],
   "source": [
    "# I would probably say that the tracr is just, simply la parte di pre_tracrRNA la cui antirepeat si lega alla repeat, \n",
    "# che, in questo caso, è tutta.\n",
    "tracrRNA = pre_tracrRNA\n",
    "\n",
    "print(\"\\n----------------------------------------------------------------------\")\n",
    "print(\"         tracrRNA sequence for\", feature,\"protein id\", seqid)\n",
    "print(\"----------------------------------------------------------------------\\n\")\n",
    "print(\"- contig name:\", cas_dataset[cas_dataset[\"Seq ID\"]==seqid][\"Contig\"].iloc[0])\n",
    "print(\"- Dataset: \",cas_dataset[cas_dataset[\"Seq ID\"]==seqid][\"Study\"].iloc[0])\n",
    "print(\"- Bin: \",cas_dataset[cas_dataset[\"Seq ID\"]==seqid][\"Genome Name\"].iloc[0])\n",
    "print(\"- SGB: \",cas_dataset[cas_dataset[\"Seq ID\"]==seqid][\"SGB ID\"].iloc[0])\n",
    "print(\"----------------------------------------------------------------------\\n\")\n",
    "print(\"- Length: \", len(tracrRNA),\"\\n- position: \", terminator_end,matched_rep_stop)\n",
    "print(tracrRNA)"
   ]
  },
  {
   "cell_type": "markdown",
   "metadata": {},
   "source": [
    "se pensi di Do the same, ma sullo strand opposto, xke non sappiamol'orientamento di CRISPR array, ma sappiam oche i cas9 è sul - , quindi se anche crispr fosse su-, tracr dovrebbe essere su +.\n",
    "it's on the same strand as  Cas9... quindi se  facessi le stesse analisi di cui sopra, ma senza prendere nessun reverse comple,ent (poiché Cas9 and friends sono sullo strand - (anche se non è dettoxke CRISPR su che strand è??) )\n",
    "orientation of CRISPR is not so easy to decide, e nel nostro caso direi che non possiamo saperla. quindi bella.\n",
    "\n",
    "ma NO! perché il terminator viene prima dell'antirepeat, quindi la sequenza ddev'essere reverse complement per forza!"
   ]
  },
  {
   "cell_type": "code",
   "execution_count": 22,
   "metadata": {},
   "outputs": [],
   "source": [
    "#altra cosa a supporto del mio oso: 'g23' guide sequence format per la cosa. belllllla (citazione da IL paper, chje cita altri 3 papers (ctrl+f guide))"
   ]
  },
  {
   "cell_type": "code",
   "execution_count": 23,
   "metadata": {},
   "outputs": [],
   "source": [
    "# se riuscissi atrovare tutti i tracrRNA, che siano abbastranza per allenare una rete? O:"
   ]
  },
  {
   "cell_type": "markdown",
   "metadata": {},
   "source": [
    "## print output"
   ]
  },
  {
   "cell_type": "code",
   "execution_count": 131,
   "metadata": {},
   "outputs": [],
   "source": [
    "outputdir=datadir+\"8outputv1/\"+seqid+\"/\"\n",
    "os.system(\"mkdir \"+outputdir)\n",
    "f=open(outputdir+seqid+\"_tracr_nt.txt\",\"w\")\n",
    "f.write(\">\"+sequid+\"SGB=\"+SGB+\" len=\"+length+\"\\n\"+tracrRNA)\n",
    "f.close()"
   ]
  },
  {
   "cell_type": "code",
   "execution_count": 132,
   "metadata": {},
   "outputs": [
    {
     "data": {
      "text/plain": [
       "15299"
      ]
     },
     "execution_count": 132,
     "metadata": {},
     "output_type": "execute_result"
    }
   ],
   "source": [
    "SGB"
   ]
  },
  {
   "cell_type": "code",
   "execution_count": null,
   "metadata": {},
   "outputs": [],
   "source": []
  }
 ],
 "metadata": {
  "kernelspec": {
   "display_name": "Python 3",
   "language": "python",
   "name": "python3"
  },
  "language_info": {
   "codemirror_mode": {
    "name": "ipython",
    "version": 3
   },
   "file_extension": ".py",
   "mimetype": "text/x-python",
   "name": "python",
   "nbconvert_exporter": "python",
   "pygments_lexer": "ipython3",
   "version": "3.7.3"
  }
 },
 "nbformat": 4,
 "nbformat_minor": 2
}
