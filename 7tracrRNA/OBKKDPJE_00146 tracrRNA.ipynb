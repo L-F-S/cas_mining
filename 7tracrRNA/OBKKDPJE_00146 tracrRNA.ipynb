{
 "cells": [
  {
   "cell_type": "markdown",
   "metadata": {},
   "source": [
    "# find tracerRNA\n",
    "\n",
    "example id:\n",
    "8774__OBKKDPJE_00146__BritoIL_2016__M2.46.ST__bin.47;length1073;#sequences1 "
   ]
  },
  {
   "cell_type": "code",
   "execution_count": 4,
   "metadata": {},
   "outputs": [],
   "source": [
    "# First created Thu Jul 11 09:51:15 CEST 2019\n",
    "# Made by L-F-S\n",
    "# At the University Of Trento, Italy\n",
    "\n",
    "import os\n",
    "import sys\n",
    "import numpy as np\n",
    "import pandas as pd\n",
    "import matplotlib.pyplot as plt\n",
    "from Bio import SeqIO\n",
    "from Bio.Seq import Seq\n",
    "from Bio.Alphabet import generic_dna, generic_protein, RNAAlphabet\n",
    "from Bio import pairwise2\n",
    "\n",
    "\n",
    "sys.path.insert(0, '/home/lorenzo.signorini/cas_mining/utils/')\n",
    "import filename_discrepancies\n",
    "\n",
    "feature=\"Cas9\" #WARNING!!! CHANGE THIS!!\n",
    "#outpath=\"/shares/CIBIO-Storage/CM/scratch/tmp_projects/signorini_cas/5caslocitable/out/\"+feature+\"/\"\n",
    "datadir=\"/shares/CIBIO-Storage/CM/scratch/tmp_projects/signorini_cas/\"\n",
    "\n",
    "\n"
   ]
  },
  {
   "cell_type": "code",
   "execution_count": 5,
   "metadata": {
    "scrolled": true
   },
   "outputs": [
    {
     "data": {
      "text/plain": [
       "Index(['Seq ID', 'Seq Description', 'Seq', 'Contig', 'Genome Name', 'Study',\n",
       "       'Sample Name', 'SGB ID', 'Pos', 'pilercr_CRISPR', 'minced_CRISPR',\n",
       "       'prokka_cas1', 'prokka_cas2', 'uSGB', 'Level of estimated taxonomy',\n",
       "       'Estimated taxonomy'],\n",
       "      dtype='object')"
      ]
     },
     "execution_count": 5,
     "metadata": {},
     "output_type": "execute_result"
    }
   ],
   "source": [
    "# Import data\n",
    "cas_dataset=pd.read_csv(\"/shares/CIBIO-Storage/CM/scratch/tmp_projects/signorini_cas/5caslocitable/known_\"+feature+\"_variants_table.csv\", index_col=0)\n",
    "cas_dataset.columns"
   ]
  },
  {
   "cell_type": "code",
   "execution_count": 6,
   "metadata": {},
   "outputs": [
    {
     "name": "stdout",
     "output_type": "stream",
     "text": [
      "SEQ ID:  OBKKDPJE_00146\n",
      "NODE_3_length_470079_cov_10.1699\n",
      "BritoIL_2016\n",
      "BritoIL_2016__M2.46.ST__bin.47\n",
      "1073\n",
      "[('.', '179452', '179677')]\n",
      "----------------------------------------------------------------------\n"
     ]
    }
   ],
   "source": [
    "seqid =\"OBKKDPJE_00146\"\n",
    "print(\"SEQ ID: \", seqid)\n",
    "print(cas_dataset[cas_dataset[\"Seq ID\"]==seqid][\"Contig\"].iloc[0])\n",
    "print(cas_dataset[cas_dataset[\"Seq ID\"]==seqid][\"Study\"].iloc[0])\n",
    "print(cas_dataset[cas_dataset[\"Seq ID\"]==seqid][\"Genome Name\"].iloc[0])\n",
    "print(len(cas_dataset[cas_dataset[\"Seq ID\"]==seqid][\"Seq\"].iloc[0]))\n",
    "print(cas_dataset[cas_dataset[\"Seq ID\"]==seqid][\"minced_CRISPR\"].iloc[0])\n",
    "print(\"----------------------------------------------------------------------\")\n"
   ]
  },
  {
   "cell_type": "markdown",
   "metadata": {},
   "source": [
    "## Double cas check:"
   ]
  },
  {
   "cell_type": "code",
   "execution_count": 11,
   "metadata": {
    "scrolled": true
   },
   "outputs": [
    {
     "data": {
      "text/html": [
       "<div>\n",
       "<style scoped>\n",
       "    .dataframe tbody tr th:only-of-type {\n",
       "        vertical-align: middle;\n",
       "    }\n",
       "\n",
       "    .dataframe tbody tr th {\n",
       "        vertical-align: top;\n",
       "    }\n",
       "\n",
       "    .dataframe thead th {\n",
       "        text-align: right;\n",
       "    }\n",
       "</style>\n",
       "<table border=\"1\" class=\"dataframe\">\n",
       "  <thead>\n",
       "    <tr style=\"text-align: right;\">\n",
       "      <th></th>\n",
       "      <th>Seq ID</th>\n",
       "      <th>Seq Description</th>\n",
       "      <th>Seq</th>\n",
       "      <th>Contig</th>\n",
       "      <th>Genome Name</th>\n",
       "      <th>Study</th>\n",
       "      <th>Sample Name</th>\n",
       "      <th>SGB ID</th>\n",
       "      <th>Pos</th>\n",
       "      <th>pilercr_CRISPR</th>\n",
       "      <th>minced_CRISPR</th>\n",
       "      <th>prokka_cas1</th>\n",
       "      <th>prokka_cas2</th>\n",
       "      <th>uSGB</th>\n",
       "      <th>Level of estimated taxonomy</th>\n",
       "      <th>Estimated taxonomy</th>\n",
       "    </tr>\n",
       "  </thead>\n",
       "  <tbody>\n",
       "    <tr>\n",
       "      <td>2652</td>\n",
       "      <td>OBKKDPJE_00146</td>\n",
       "      <td>OBKKDPJE_00146 CRISPR-associated endonuclease ...</td>\n",
       "      <td>MYTKEIIWGFDIGKGSLGEAVRVGNEFKHVQSLEIAPDFAETKTTA...</td>\n",
       "      <td>NODE_3_length_470079_cov_10.1699</td>\n",
       "      <td>BritoIL_2016__M2.46.ST__bin.47</td>\n",
       "      <td>BritoIL_2016</td>\n",
       "      <td>M2.46.ST</td>\n",
       "      <td>8774</td>\n",
       "      <td>174787 178008</td>\n",
       "      <td>[('ID=CRISPR1', '179620', '3')]</td>\n",
       "      <td>[('.', '179452', '179677')]</td>\n",
       "      <td>[('ID=OBKKDPJE_00147', '178008', '178898')]</td>\n",
       "      <td>[('ID=OBKKDPJE_00148', '178941', '179336')]</td>\n",
       "      <td>Yes</td>\n",
       "      <td>Other</td>\n",
       "      <td>-</td>\n",
       "    </tr>\n",
       "  </tbody>\n",
       "</table>\n",
       "</div>"
      ],
      "text/plain": [
       "              Seq ID                                    Seq Description  \\\n",
       "2652  OBKKDPJE_00146  OBKKDPJE_00146 CRISPR-associated endonuclease ...   \n",
       "\n",
       "                                                    Seq  \\\n",
       "2652  MYTKEIIWGFDIGKGSLGEAVRVGNEFKHVQSLEIAPDFAETKTTA...   \n",
       "\n",
       "                                Contig                     Genome Name  \\\n",
       "2652  NODE_3_length_470079_cov_10.1699  BritoIL_2016__M2.46.ST__bin.47   \n",
       "\n",
       "             Study Sample Name  SGB ID            Pos  \\\n",
       "2652  BritoIL_2016    M2.46.ST    8774  174787 178008   \n",
       "\n",
       "                       pilercr_CRISPR                minced_CRISPR  \\\n",
       "2652  [('ID=CRISPR1', '179620', '3')]  [('.', '179452', '179677')]   \n",
       "\n",
       "                                      prokka_cas1  \\\n",
       "2652  [('ID=OBKKDPJE_00147', '178008', '178898')]   \n",
       "\n",
       "                                      prokka_cas2 uSGB  \\\n",
       "2652  [('ID=OBKKDPJE_00148', '178941', '179336')]  Yes   \n",
       "\n",
       "     Level of estimated taxonomy Estimated taxonomy  \n",
       "2652                       Other                  -  "
      ]
     },
     "execution_count": 11,
     "metadata": {},
     "output_type": "execute_result"
    }
   ],
   "source": [
    "genomename=cas_dataset[cas_dataset[\"Seq ID\"]==seqid][\"Genome Name\"].iloc[0]\n",
    "cas_dataset[cas_dataset[\"Genome Name\"]==genomename]"
   ]
  },
  {
   "cell_type": "code",
   "execution_count": 7,
   "metadata": {
    "scrolled": false
   },
   "outputs": [
    {
     "name": "stdout",
     "output_type": "stream",
     "text": [
      "\n",
      "-----------------------------------------------------\n",
      "Cas9 id:\tOBKKDPJE_00146\n",
      "SGB:\t8774\n",
      "Genome Name:\t BritoIL_2016__M2.46.ST__bin.47\n",
      "Contig:\tNODE_3_length_470079_cov_10.1699 \n",
      "-----------------------------------------------------\n",
      "\n",
      "Sequence 'NODE_3_length_470079_cov_10.1699' (470079 bp)\n",
      "\n",
      "\n",
      "\n",
      "CRISPR 1   Range: 179452 - 179677\n",
      "\n",
      "POSITION\tREPEAT\t\t\t\tSPACER\n",
      "\n",
      "--------\t----------------------------\t--------------------------------------\n",
      "\n",
      "179452\t\tAATCTAAGAAAGAACACTTTGCTGTAAA\tGTCAAAACTAATACGTTATAATCGGGGCGCGCCAGATG\t[ 28, 38 ]\n",
      "\n",
      "179518\t\tAATCTAAGAAAGAACACTTTGCTGTAAA\tGTCAAAACTTATGGCAAAATCTACAAAAATCGCAAACG\t[ 28, 38 ]\n",
      "\n",
      "179584\t\tAATCTAAGAAAGAACACTTTGCTGTAAA\tCTCAAAACTGGTTGCCATTTGGTTTGAAATTCCTCTGC\t[ 28, 38 ]\n",
      "\n",
      "179650\t\tAATCTAAGGAAGGTTAGTTTGCTAAATA\t\n",
      "\n",
      "--------\t----------------------------\t--------------------------------------\n",
      "\n",
      "Repeats: 4\tAverage Length: 28\t\tAverage Length: 38\n",
      "\n",
      "\n",
      "\n",
      "Time to find repeats: 613 ms\n",
      "\n",
      "\n",
      "\n",
      "\n",
      "\n",
      "Locus features and positions:  {'Cas9': [174787, 178008], 'Cas1': [178008, 178898], 'Cas2': [178941, 179336], 'CRISPR': [179452, 179677]}\n",
      "++++++++++++++++++++++++++++++++++++++++++++++++++++++++++++++++++++++++++++++++\n",
      "{'Cas9': [174787, 178008], 'Cas1': [178008, 178898], 'Cas2': [178941, 179336], 'CRISPR': [179452, 179677]}\n",
      "Retrieving locus\n",
      "CRISPR si trova [179452, 179677]\n",
      "Cas9 si trova [174787, 178008]\n",
      "Cas2 si trova [178941, 179336]\n",
      "Cas1 si trova [178008, 178898]\n",
      "1073.0 1073\n",
      "Cas locus on plus strand\n",
      "Is Cas9 translated from the genome equal to the orignal annotation? True\n",
      "MYTKEIIWGFDIGKGSLGEAVRVGNEFKHVQSLEIAPDFAETKTTAAARRAWRTREAHKARELWLEKCLSEAGIEVLLRRKVGVVDGAWKLVSKGDVRLEREFPPAGEDLCYNSIALRCKLLLGEKLESWQVFKALNSAIQNRGYDANIPWGDEDAADGGDGSSRKSSDSDASGDGESYAEKLAHYEREFDGILAELDNREKYEFPCFFKAAKMGLWSPENPDFVGVRIDNTAEKAKGYVMPREAVVREFRALVNAAALQYPNLKGKADFIMFGRACEPYASYNPELRKRFGLKRGAATDWTALGQKTPRFDNRVIDKCKLIPRLNVCKIKPLDECKTDDDFLSYTITLSLKLLNLRFFRGAGVDSLSFDEFLRAFELAKNSKFKLGKAALKKFFKTIGAEVMDESQSEIEQPRNGGRAAFSRPAMRILRDLIFSGKSPAEFYATAIENIANTDKNKGLVAGDLDFLKLMGDAPWSGIFIPDVGLSDFADASAAAREAQINKLIGSQNDPIVRHRLSFFYERIKSLEAKFGVPDKIVLEFVRDDFLGKKAKSDLNKAIKTRFDEKKKLAEDLDSKREEFGFKYASKKMLLKFELYKKQGGECVYTGNALPLSELESLEIEHIVPRSRGGPDAMYNYVLTDEKTNKEKGDRTPFEWRSTMGAEWESYCERVRKLTKELGAKRCKLLLSPNAAELVEKYTALAETAWISKLAQRICCLHFGFQFGGLAGAKKVWTVSGNTTAMIRGRYGLNRLLHDEESAEDLSLFDRICMEKKFEEKNRKNKKHHALDAMCLCFAPTSNAKKASAYKNILPEEITRNPESDEARKFFGKYLASVIPNKVAVKKSALEQTIYALRKGRIVKKCNVRDLAYTGINPKYNYSTLVKSIKSIVGEVPKRIVSDFVLSNSDLSESEWEDWCKNNAAIPSKNGAPTKLLRVLCDAGNPEEYKDLSKDGCGAYRKGDSHKGQFIWKTKQGRYVVAPVYAHASKAKVLAALKNNPDCAEVCGFFRQNCLVEIPNDVIDKSGKMLLKSGIYKSNTIMSDGRAKFTNSDGISTNPISIQYLMPAGMKRIKLDTV\n",
      "++++++++++++++++++++++++++++++++++++++++++++++++++++++++++++++++++++++++++++++++\n",
      "MYTKEIIWGFDIGKGSLGEAVRVGNEFKHVQSLEIAPDFAETKTTAAARRAWRTREAHKARELWLEKCLSEAGIEVLLRRKVGVVDGAWKLVSKGDVRLEREFPPAGEDLCYNSIALRCKLLLGEKLESWQVFKALNSAIQNRGYDANIPWGDEDAADGGDGSSRKSSDSDASGDGESYAEKLAHYEREFDGILAELDNREKYEFPCFFKAAKMGLWSPENPDFVGVRIDNTAEKAKGYVMPREAVVREFRALVNAAALQYPNLKGKADFIMFGRACEPYASYNPELRKRFGLKRGAATDWTALGQKTPRFDNRVIDKCKLIPRLNVCKIKPLDECKTDDDFLSYTITLSLKLLNLRFFRGAGVDSLSFDEFLRAFELAKNSKFKLGKAALKKFFKTIGAEVMDESQSEIEQPRNGGRAAFSRPAMRILRDLIFSGKSPAEFYATAIENIANTDKNKGLVAGDLDFLKLMGDAPWSGIFIPDVGLSDFADASAAAREAQINKLIGSQNDPIVRHRLSFFYERIKSLEAKFGVPDKIVLEFVRDDFLGKKAKSDLNKAIKTRFDEKKKLAEDLDSKREEFGFKYASKKMLLKFELYKKQGGECVYTGNALPLSELESLEIEHIVPRSRGGPDAMYNYVLTDEKTNKEKGDRTPFEWRSTMGAEWESYCERVRKLTKELGAKRCKLLLSPNAAELVEKYTALAETAWISKLAQRICCLHFGFQFGGLAGAKKVWTVSGNTTAMIRGRYGLNRLLHDEESAEDLSLFDRICMEKKFEEKNRKNKKHHALDAMCLCFAPTSNAKKASAYKNILPEEITRNPESDEARKFFGKYLASVIPNKVAVKKSALEQTIYALRKGRIVKKCNVRDLAYTGINPKYNYSTLVKSIKSIVGEVPKRIVSDFVLSNSDLSESEWEDWCKNNAAIPSKNGAPTKLLRVLCDAGNPEEYKDLSKDGCGAYRKGDSHKGQFIWKTKQGRYVVAPVYAHASKAKVLAALKNNPDCAEVCGFFRQNCLVEIPNDVIDKSGKMLLKSGIYKSNTIMSDGRAKFTNSDGISTNPISIQYLMPAGMKRIKLDTV\n",
      "MYTKEIIWGFDIGKGSLGEAVRVGNEFKHVQSLEIAPDFAETKTTAAARRAWRTREAHKARELWLEKCLSEAGIEVLLRRKVGVVDGAWKLVSKGDVRLEREFPPAGEDLCYNSIALRCKLLLGEKLESWQVFKALNSAIQNRGYDANIPWGDEDAADGGDGSSRKSSDSDASGDGESYAEKLAHYEREFDGILAELDNREKYEFPCFFKAAKMGLWSPENPDFVGVRIDNTAEKAKGYVMPREAVVREFRALVNAAALQYPNLKGKADFIMFGRACEPYASYNPELRKRFGLKRGAATDWTALGQKTPRFDNRVIDKCKLIPRLNVCKIKPLDECKTDDDFLSYTITLSLKLLNLRFFRGAGVDSLSFDEFLRAFELAKNSKFKLGKAALKKFFKTIGAEVMDESQSEIEQPRNGGRAAFSRPAMRILRDLIFSGKSPAEFYATAIENIANTDKNKGLVAGDLDFLKLMGDAPWSGIFIPDVGLSDFADASAAAREAQINKLIGSQNDPIVRHRLSFFYERIKSLEAKFGVPDKIVLEFVRDDFLGKKAKSDLNKAIKTRFDEKKKLAEDLDSKREEFGFKYASKKMLLKFELYKKQGGECVYTGNALPLSELESLEIEHIVPRSRGGPDAMYNYVLTDEKTNKEKGDRTPFEWRSTMGAEWESYCERVRKLTKELGAKRCKLLLSPNAAELVEKYTALAETAWISKLAQRICCLHFGFQFGGLAGAKKVWTVSGNTTAMIRGRYGLNRLLHDEESAEDLSLFDRICMEKKFEEKNRKNKKHHALDAMCLCFAPTSNAKKASAYKNILPEEITRNPESDEARKFFGKYLASVIPNKVAVKKSALEQTIYALRKGRIVKKCNVRDLAYTGINPKYNYSTLVKSIKSIVGEVPKRIVSDFVLSNSDLSESEWEDWCKNNAAIPSKNGAPTKLLRVLCDAGNPEEYKDLSKDGCGAYRKGDSHKGQFIWKTKQGRYVVAPVYAHASKAKVLAALKNNPDCAEVCGFFRQNCLVEIPNDVIDKSGKMLLKSGIYKSNTIMSDGRAKFTNSDGISTNPISIQYLMPAGMKRIKLDTV\n",
      "|||||||||||||||||||||||||||||||||||||||||||||||||||||||||||||||||||||||||||||||||||||||||||||||||||||||||||||||||||||||||||||||||||||||||||||||||||||||||||||||||||||||||||||||||||||||||||||||||||||||||||||||||||||||||||||||||||||||||||||||||||||||||||||||||||||||||||||||||||||||||||||||||||||||||||||||||||||||||||||||||||||||||||||||||||||||||||||||||||||||||||||||||||||||||||||||||||||||||||||||||||||||||||||||||||||||||||||||||||||||||||||||||||||||||||||||||||||||||||||||||||||||||||||||||||||||||||||||||||||||||||||||||||||||||||||||||||||||||||||||||||||||||||||||||||||||||||||||||||||||||||||||||||||||||||||||||||||||||||||||||||||||||||||||||||||||||||||||||||||||||||||||||||||||||||||||||||||||||||||||||||||||||||||||||||||||||||||||||||||||||||||||||||||||||||||||||||||||||||||||||||||||||||||||||||||||||||||||||||||||||||||||||||||||||||||||||||||||||||||||||||||||||||||||||||||||||||||||||||||||||||||||||||||||||||||||||||||||||||||||||||||||||||||||||||||||||||||||||||||||||||||||||||||||||||||||||||||||||||||||||||||||||||||||||||||||||||||||||\n",
      "MYTKEIIWGFDIGKGSLGEAVRVGNEFKHVQSLEIAPDFAETKTTAAARRAWRTREAHKARELWLEKCLSEAGIEVLLRRKVGVVDGAWKLVSKGDVRLEREFPPAGEDLCYNSIALRCKLLLGEKLESWQVFKALNSAIQNRGYDANIPWGDEDAADGGDGSSRKSSDSDASGDGESYAEKLAHYEREFDGILAELDNREKYEFPCFFKAAKMGLWSPENPDFVGVRIDNTAEKAKGYVMPREAVVREFRALVNAAALQYPNLKGKADFIMFGRACEPYASYNPELRKRFGLKRGAATDWTALGQKTPRFDNRVIDKCKLIPRLNVCKIKPLDECKTDDDFLSYTITLSLKLLNLRFFRGAGVDSLSFDEFLRAFELAKNSKFKLGKAALKKFFKTIGAEVMDESQSEIEQPRNGGRAAFSRPAMRILRDLIFSGKSPAEFYATAIENIANTDKNKGLVAGDLDFLKLMGDAPWSGIFIPDVGLSDFADASAAAREAQINKLIGSQNDPIVRHRLSFFYERIKSLEAKFGVPDKIVLEFVRDDFLGKKAKSDLNKAIKTRFDEKKKLAEDLDSKREEFGFKYASKKMLLKFELYKKQGGECVYTGNALPLSELESLEIEHIVPRSRGGPDAMYNYVLTDEKTNKEKGDRTPFEWRSTMGAEWESYCERVRKLTKELGAKRCKLLLSPNAAELVEKYTALAETAWISKLAQRICCLHFGFQFGGLAGAKKVWTVSGNTTAMIRGRYGLNRLLHDEESAEDLSLFDRICMEKKFEEKNRKNKKHHALDAMCLCFAPTSNAKKASAYKNILPEEITRNPESDEARKFFGKYLASVIPNKVAVKKSALEQTIYALRKGRIVKKCNVRDLAYTGINPKYNYSTLVKSIKSIVGEVPKRIVSDFVLSNSDLSESEWEDWCKNNAAIPSKNGAPTKLLRVLCDAGNPEEYKDLSKDGCGAYRKGDSHKGQFIWKTKQGRYVVAPVYAHASKAKVLAALKNNPDCAEVCGFFRQNCLVEIPNDVIDKSGKMLLKSGIYKSNTIMSDGRAKFTNSDGISTNPISIQYLMPAGMKRIKLDTV\n",
      "  Score=1073\n",
      "\n",
      "let's now blast the repeat against  the genome\n",
      "Running blastn of query file agianst all contigs\n",
      "blastn -out /shares/CIBIO-Storage/CM/scratch/tmp_projects/signorini_cas/7tracrRNA/8774__OBKKDPJE_00146__BritoIL_2016__M2.46.ST__bin.47__Cas9.trcr.blastout -outfmt \"6  qseqid sseqid pident qlen length mismatch gapopen qseq sseq sstart send evalue sstrand\" -query temp_repeat_seq -db /shares/CIBIO-Storage/CM/scratch/tmp_projects/signorini_cas/7tracrRNA/tempblastdb -evalue 0.001 -word_size 11 -penalty -2\n"
     ]
    }
   ],
   "source": [
    "spacers=[]\n",
    "repeats=[]\n",
    "repeat_start_pos=[]\n",
    "\n",
    "\n",
    "cas9_aa=cas_dataset[cas_dataset[\"Seq ID\"]==seqid][\"Seq\"].iloc[0]\n",
    "dataset=cas_dataset[cas_dataset[\"Seq ID\"]==seqid][\"Study\"].iloc[0]\n",
    "genomename=cas_dataset[cas_dataset[\"Seq ID\"]==seqid][\"Genome Name\"].iloc[0]\n",
    "SGB=cas_dataset[cas_dataset[\"Seq ID\"]==seqid][\"SGB ID\"].iloc[0]\n",
    "contigname=cas_dataset[cas_dataset[\"Seq ID\"]==seqid][\"Contig\"].iloc[0]\n",
    "samplename = genomename.split(\"__\")[1]\n",
    "\n",
    "print(\"\\n-----------------------------------------------------\\n\"+feature+\" id:\\t\"+seqid+\"\\nSGB:\\t\"+str(SGB)+\"\\nGenome Name:\\t\",\\\n",
    "      genomename+\"\\nContig:\\t\"+cas_dataset[cas_dataset[\"Seq ID\"]==seqid][\"Contig\"].iloc[0],\"\\n-----------------------------------------------------\\n\")\n",
    "\n",
    "\n",
    "########################################################################\n",
    "\n",
    "# get CRISPR spacer and repeat sequence\n",
    "\n",
    "s3_genomename, s3_dataset=filename_discrepancies.get_originalsamplename_froms3name_of_genome(genomename,dataset)\n",
    "mincedCRISPRfilename=datadir+\"1crisprsearch/out/\"+s3_dataset+\"/\"+s3_genomename+\".fa.minced.out\"\n",
    "f=open(mincedCRISPRfilename, \"r\")\n",
    "\n",
    "is_the_right_contig=False\n",
    "for line in f.readlines():\n",
    "    if line.startswith(\"Sequence \\'\"): #identifiy line of contigname\n",
    "        if line.startswith(\"Sequence \\'\"+contigname): #check which contig we're on (if there is more than one)\n",
    "            is_the_right_contig=True\n",
    "        else:\n",
    "            is_the_right_contig=False\n",
    "    if is_the_right_contig:\n",
    "        print(line)\n",
    "        if line[0]== \"1\" or line[0]== \"2\" or line[0]== \"3\" or line[0]== \"4\" or line[0]== \"5\" or \\\n",
    "        line[0]== \"6\" or line[0]== \"7\" or line[0]== \"8\" or line[0]== \"9\" or line[0]== \"0\":\n",
    "\n",
    "            repeats.append(line.split(\"\\t\")[2])\n",
    "\n",
    "            repeat_start_pos.append(line.split(\"\\t\")[0])\n",
    "\n",
    "            if not line.split(\"\\t\")[3]==\"\\n\":\n",
    "                spacers.append(line.split(\"\\t\")[3])\n",
    "f.close()\n",
    "\n",
    "# get whole locus sequence todo this could become a function of its own, dentro utils, gli dai seqid della cas e ti dà tt il locus\n",
    "\n",
    "# > get start and stop position of all Cass. questo devi metterlo nella tabella di cas non ci sono santi.\n",
    "cas_position={feature:[int(n) for n in cas_dataset[cas_dataset[\"Seq ID\"]==seqid][\"Pos\"].iloc[0].split()],\\\n",
    "              \"Cas1\":[int(n) for n in eval(cas_dataset[cas_dataset[\"Seq ID\"]==seqid][\"prokka_cas1\"].iloc[0])[0][1:]],\\\n",
    "              \"Cas2\":[int(n) for n in eval(cas_dataset[cas_dataset[\"Seq ID\"]==seqid][\"prokka_cas2\"].iloc[0])[0][1:]],\\\n",
    "              \"CRISPR\":[int(n) for n in eval(cas_dataset[cas_dataset[\"Seq ID\"]==seqid][\"minced_CRISPR\"].iloc[0])[0][1:]]\n",
    "             }\n",
    "print(\"Locus features and positions: \", cas_position)\n",
    "# so già che all casses inside here are on the same contig which is 'contig', xke le ho estratte per essere così\n",
    "# FALSO! è cosi in cas_dataset, non in tabellazzza! mi ero confuso! trovato il bug!\n",
    "\n",
    "genomefilename= \"/shares/CIBIO-Storage/CM/scratch/tmp_projects/epasolli_darkmatter/allcontigs/ALLreconstructedgenomes/\"+str(SGB)+\"/\"+genomename+\".fa\"\n",
    "print(\"+\"*80)\n",
    "print(cas_position)\n",
    "print(\"Retrieving locus\")\n",
    "\n",
    "\n",
    "# access contig:\n",
    "\n",
    "for record in SeqIO.parse(genomefilename,\"fasta\"):  #c'è modo di non fare questo 'ciclo'?\n",
    "    if record.id.startswith(contigname):\n",
    "        #test se effettivamente la seq di cas è dove voglio io\n",
    "\n",
    "        SeqIO.write(record, \"/shares/CIBIO-Storage/CM/scratch/tmp_projects/signorini_cas/7tracrRNA/tempblastdb\", \"fasta\")\n",
    "        print(\"CRISPR si trova\", cas_position[\"CRISPR\"])\n",
    "        print(\"Cas9 si trova\", cas_position[feature])\n",
    "        print(\"Cas2 si trova\", cas_position[\"Cas2\"])\n",
    "        print(\"Cas1 si trova\", cas_position[\"Cas1\"])\n",
    "\n",
    "        #estrai la posizione di cas9 dal contig, e traducila\n",
    "        temp_alt_cas9start=98503\n",
    "        temp_alt_cas9stop=101700\n",
    "        cas9start=cas_position[feature][0]\n",
    "        cas9stop=cas_position[feature][1]\n",
    "        cas9_nnseq=record.seq[cas9start-1:cas9stop-3] #gff should have a 1-based positional annotation (ma sto andando a occhio finchè non sono uguali, è già un oggetto Bio.Seq\n",
    "\n",
    "        my_translated_cas9=cas9_nnseq.transcribe().translate()\n",
    "\n",
    "  \n",
    "        print(len(cas9_nnseq)/3,len(cas9_aa))\n",
    "\n",
    "\n",
    "        if my_translated_cas9==cas9_aa:\n",
    "            print(\"Cas locus on plus strand\")\n",
    "            plus=True\n",
    "        if not my_translated_cas9==cas9_aa:\n",
    "            #proviamo col reverse complement\n",
    "            cas9_nnseq=record.seq[cas9start+2:cas9stop]\n",
    "            my_translated_cas9=cas9_nnseq.reverse_complement().transcribe().translate()\n",
    "            print(\"Cas locus on minus strand\")\n",
    "        print(\"Is Cas9 translated from the genome equal to the orignal annotation?\", my_translated_cas9==cas9_aa)\n",
    "        print(my_translated_cas9)\n",
    "        print(\"+\"*80)\n",
    "        print(cas9_aa)\n",
    "        \n",
    "        alignments = pairwise2.align.localxx(my_translated_cas9,cas9_aa)\n",
    "        print(pairwise2.format_alignment(*alignments[0]))\n",
    "\n",
    "        #opzione 1 blast\n",
    "      #1. salva np.uniq(repeats) in un fasta file: build temporary query file for blastn search\n",
    "\n",
    "        print(\"let's now blast the repeat against  the genome\")\n",
    "        blast_folder=\"/shares/CIBIO-Storage/CM/scratch/tmp_projects/signorini_cas/7tracrRNA/\"\n",
    "        os.chdir(blast_folder)\n",
    "        tempfile=open(\"temp_repeat_seq\", \"w\")\n",
    "        tempfile.close()\n",
    "        tempfile=open(\"temp_repeat_seq\", \"a\")\n",
    "        for n, repeat in enumerate([Seq(sequence) for sequence in np.unique(repeats)]):\n",
    "            tempfile.write(\">rpt\"+str(n+1)+\"|\"+contigname+\"|\"+genomename+\"|\"+seqid+\"\\n\"+str(repeat)+\"\\n\") \n",
    "        tempfile.close()\n",
    "\n",
    "        #2. Blast query file against db\n",
    "        print(\"Running blastn of query file agianst all contigs\")\n",
    "\n",
    "        #3. make db file\n",
    "        dbfile=\"/shares/CIBIO-Storage/CM/scratch/tmp_projects/signorini_cas/7tracrRNA/tempblastdb\"\n",
    "        os.system(\"makeblastdb -in \"+dbfile+\" -parse_seqids  -dbtype nucl\")\n",
    "\n",
    "\n",
    "\n",
    "        blastoutfile=\"/shares/CIBIO-Storage/CM/scratch/tmp_projects/signorini_cas/7tracrRNA/\"\\\n",
    "        +str(SGB)+\"__\"+seqid+\"__\"+genomename+\"__\"+feature+\".trcr.blastout\"\n",
    "        blastn_command = \"blastn -out \"+blastoutfile+\" -outfmt \\\"6  qseqid sseqid pident qlen length mismatch gapopen qseq sseq sstart send evalue sstrand\\\" -query temp_repeat_seq -db \"+dbfile+\" -evalue 0.001 -word_size 11 -penalty -2\"\n",
    "        print(blastn_command)\n",
    "        os.system(blastn_command)\n",
    "       # os.system(\"rm /shares/CIBIO-Storage/CM/scratch/tmp_projects/signorini_cas/7tracerRNA/temp*\")\n"
   ]
  },
  {
   "cell_type": "code",
   "execution_count": 8,
   "metadata": {
    "scrolled": false
   },
   "outputs": [
    {
     "name": "stdout",
     "output_type": "stream",
     "text": [
      "\n",
      "-----------------------------------------------------\n",
      "Parsing BLAST output, looking for hit which are NOT the same repeats\n",
      "i.e. not starting with: ['179452', '179518', '179584', '179650'] :\n",
      "-----------------------------------------------------\n",
      "\n"
     ]
    }
   ],
   "source": [
    "#4. parse blast output: only print output if it is NOT one of the old repeats.\n",
    "print(\"\\n-----------------------------------------------------\\nParsing BLAST output, looking for hit which are NOT the same repeats\\ni.e. not starting with:\", repeat_start_pos,\":\\n-----------------------------------------------------\\n\")\n",
    "f=open(blastoutfile,\"r\")\n",
    "for line in f.readlines():\n",
    "    start_pos=line.split(\"\\t\")[9]\n",
    "    if start_pos not in repeat_start_pos:\n",
    "        if str(int(start_pos)+1) not in repeat_start_pos:\n",
    "            if str(int(start_pos)-1) not in repeat_start_pos:\n",
    "                print(line) "
   ]
  },
  {
   "cell_type": "markdown",
   "metadata": {},
   "source": [
    "## extract sequences NISBA"
   ]
  },
  {
   "cell_type": "code",
   "execution_count": 12,
   "metadata": {},
   "outputs": [],
   "source": [
    "matched_rep_start=\n",
    "matched_rep_stop="
   ]
  },
  {
   "cell_type": "code",
   "execution_count": 39,
   "metadata": {},
   "outputs": [
    {
     "name": "stdout",
     "output_type": "stream",
     "text": [
      "TTATACCATACCAAGAACTATTA\n"
     ]
    },
    {
     "data": {
      "text/plain": [
       "23"
      ]
     },
     "execution_count": 39,
     "metadata": {},
     "output_type": "execute_result"
    }
   ],
   "source": [
    "# this is the sequence matching the repeat:\n",
    "matched_rep=Seq(\"\")\n",
    "\n",
    "#rpts which match:\n",
    "rpt2=Seq(\"\")\n",
    "rpt3=Seq(\"\")\n",
    "\n",
    "# since repeat is on the + strand, and this is all on the + strand, tracrRNA should be its reverse complement:\n",
    "antirepeat=matched_rep.reverse_complement()\n",
    "#this should go frombo to bo  = x nt  (x+1)\n",
    "print(antirepeat)\n",
    "len(antirepeat)"
   ]
  },
  {
   "cell_type": "code",
   "execution_count": 9,
   "metadata": {},
   "outputs": [
    {
     "name": "stdout",
     "output_type": "stream",
     "text": [
      "141093  Rnamotif + TACGCGCTGCTTTTCCCGCGCGACGTCGGGGGATTTTTCGAATAC -7.60\n",
      "\n",
      "141561  Rnamotif - ACCGACGGAGGCGAGTTTTGCAAGCTCGaTTTTTTTCAGCT -6.30\n",
      "\n",
      "141733  Rnamotif - GTTGCGGACAAGCGGCAGGGGCAGAAGCTGCTTTTGGAGAAAG -6.30\n",
      "\n",
      "143219  Rnamotif + CGGGCGGCGGGCGAGTGTTTTTTGTTGACGCTCGaTTTTTTAAGTCC -10.50\n",
      "\n",
      "143277  Rnamotif - AAATCCGTTTGGCGCAGCTGAAAGCGCgTTTTAAATTAAG -6.80\n",
      "\n",
      "143433  Rnamotif - TGACGGGAGCTTTTCCGGGGCGGAAGCCGGGAATTTTCGCGCTCT -9.70\n",
      "\n",
      "144012  Rnamotif - ACTTCGTACTGCGCGGTCTTGCCCGCGaTTTTGTCGTTCT -8.40\n",
      "\n",
      "145147  Rnamotif - TTCGTTAATTTTTTTGCGCCAGCGCAGAATTTCGTTCGCGG -6.50\n",
      "\n",
      "145654  Rnamotif - GTAGGCCCTATGAGCAGCACGTTGCTCTTTTCGATTTCC -6.30\n",
      "\n",
      "146008      Both - GCGGGTGTTTACCCTGATGTACTCTTGGTCGGGGTGTTTTCTTCCG -9.70\n",
      "\n",
      "146563      Both - GGCAACAAAAAACCGCGCCGTTTCGGGCGCGGTtTTGCGTTTTGCGC -17.60\n",
      "\n",
      "146566      Both + CAAAACGCAAAACCGCGCCCGAAACGGCGCGGTTTTTTGTTGCCCA -16.30\n",
      "\n",
      "148823  Rnamotif - TACGATTTTCTTTTGCGGAAGCTTGCCCGCGAGcgTTTTTTCGAACG -8.60\n",
      "\n",
      "149302  Rnamotif - GGCAAGCTCGGTGCCGTCGAGTCCGCGGTATTTTTTGGGAAC -5.90\n",
      "\n",
      "149944  Rnamotif - GGTTTGCCCCAGCGCGTCGGATTGTCGCGCagTTTTTCGAAATA -8.30\n",
      "\n"
     ]
    }
   ],
   "source": [
    "# print terminators\n",
    "\n",
    "f=open(blast_folder+str(SGB)+\"__\"+seqid+\"__\"+genomename+\".terminators\")\n",
    "for line in f.readlines():\n",
    "    if line.strip().startswith(\"14\"):\n",
    "        print(line)\n",
    "f.close()"
   ]
  },
  {
   "cell_type": "code",
   "execution_count": 10,
   "metadata": {},
   "outputs": [
    {
     "name": "stdout",
     "output_type": "stream",
     "text": [
      "50\n"
     ]
    }
   ],
   "source": [
    "# this is the rho-independent trnascription terminator, going from 14719 or 14722 to bo (+1 perché conti il primo tipo), \n",
    "\n",
    "terminator_end=14652 # (sarebe 1463-1, for indexing reasons) sarebbe la fine xke prendiamo il rev comp remembra. che ha senso xke l'antirepeat è a 14729, che è dopo\n",
    " #oppure, ce n'è uno con TTTTTTT a 14653...\n",
    "terminator=Seq(\"CGTAAAGCTCTGACGCCCTGTCCTAGGACAGGGCGTCaTCTTTTTTGTCA\".upper())\n",
    "print(len(terminator))\n",
    "terminator_start=terminator_end+len(terminator) #occhio che qui start e stop si riferisce al rev.compl, mentre nel antirepeat si riferisce alla direzione base"
   ]
  },
  {
   "cell_type": "code",
   "execution_count": 104,
   "metadata": {},
   "outputs": [
    {
     "name": "stdout",
     "output_type": "stream",
     "text": [
      "test repeat:  TTATACCATACCAAGAACTATTA 23 True\n",
      "test terminator:  CGTAAAGCTCTGACGCCCTGTCCTAGGACAGGGCGTCATCTTTTTTGTCA 50 True\n",
      "pre tracrRNA: TTATACCATACCAAGAACTATTATGGTTGCTATGATAAGGTCATAGGACCGTAAAGCTCTGACGCCCTGTCCTAGGACAGGGCGTCATCTTTTTTGTCA 99\n",
      "mario sequence: TGGTTGCTATGATAAGGTCATAGGAC 26\n"
     ]
    }
   ],
   "source": [
    "# Open genome and extract the whole sequence\n",
    "# find this inside the genome, and link it to the thing found by ARNold:\n",
    "for record in SeqIO.parse(\"/shares/CIBIO-Storage/CM/scratch/tmp_projects/signorini_cas/selected_loci/\"+seqid+\"/\"+genomename+\".fa\", \"fasta\"):\n",
    "    if record.id==contigname:\n",
    "        contigseq=record.seq\n",
    "\n",
    "#check antirepeat\n",
    "print(\"test repeat: \", antirepeat, len(antirepeat), contigseq[matched_rep_start-1:matched_rep_stop].reverse_complement()==antirepeat) # -1 why? Indexing diverso evidentemente col blastout, vbb\n",
    "\n",
    "# check terminator\n",
    "print(\"test terminator: \" ,terminator, len(terminator), contigseq[terminator_end:terminator_start].reverse_complement()==terminator)\n",
    "\n",
    "\n",
    "pre_tracrRNA=contigseq[terminator_end:matched_rep_stop].reverse_complement()\n",
    "print(\"pre tracrRNA:\", pre_tracrRNA, len(pre_tracrRNA))\n",
    "\n",
    "# add mario\n",
    "mario=contigseq[terminator_start:matched_rep_start-1].reverse_complement()\n",
    "print(\"mario sequence:\",  mario, len(mario))  # ho fatto i check, il -1 sopra è giusto"
   ]
  },
  {
   "cell_type": "markdown",
   "metadata": {},
   "source": [
    "ora ha una lunghezza simile, e finisce in modo simile a quello di _S. pyogenes_  TTTTTTTaltre"
   ]
  },
  {
   "cell_type": "code",
   "execution_count": 65,
   "metadata": {},
   "outputs": [
    {
     "name": "stdout",
     "output_type": "stream",
     "text": [
      "GTCATAGTTCCCTAATAGCT-CTTGGTATGGTATAAT\n",
      "            |||||| | |||||||||||||||\n",
      "------------TAATAG-TTCTTGGTATGGTATAA-\n",
      "  Score=22\n",
      "\n",
      "rpt length: 36\n"
     ]
    }
   ],
   "source": [
    "# Now, align with the rest of the stuff to see what's up\n",
    "# first up, with the repeat, lets take the rpt3, which has only got 1 mismatch\n",
    "\n",
    "alignments = pairwise2.align.localxx(rpt3, antirepeat.reverse_complement())\n",
    "print(pairwise2.format_alignment(*alignments[0]))\n",
    "print(\"rpt length:\", len(rpt3))\n"
   ]
  },
  {
   "cell_type": "code",
   "execution_count": 87,
   "metadata": {},
   "outputs": [
    {
     "name": "stdout",
     "output_type": "stream",
     "text": [
      "GTCCTATGA---CC-T--TA--TCAT----A-GC--A-ACCA-\n",
      "|| | || |   || |  ||  || |    | |   | |  | \n",
      "GT-C-AT-AGTTCCCTAATAGCTC-TTGGTATG-GTATA--AT\n",
      "  Score=19\n",
      "\n"
     ]
    }
   ],
   "source": [
    "# align antirepat + mario with repeat\n",
    "alignments = pairwise2.align.globalxx((mario).reverse_complement(), rpt3)\n",
    "print(pairwise2.format_alignment(*alignments[0]))"
   ]
  },
  {
   "cell_type": "code",
   "execution_count": 105,
   "metadata": {},
   "outputs": [
    {
     "name": "stdout",
     "output_type": "stream",
     "text": [
      "\n",
      "----------------------------------------------------------------------\n",
      "         tracrRNA sequence for Cas9 protein id LPEAHEHG_01071\n",
      "----------------------------------------------------------------------\n",
      "\n",
      "- contig name: NODE_190_length_65757_cov_25.3876\n",
      "- Dataset:  ChengpingW_2017\n",
      "- Bin:  ChengpingW_2017__AS43raw__bin.51\n",
      "- SGB:  15299\n",
      "----------------------------------------------------------------------\n",
      "\n",
      "- Length:  99 \n",
      "- position:  14652 14751\n",
      "TTATACCATACCAAGAACTATTATGGTTGCTATGATAAGGTCATAGGACCGTAAAGCTCTGACGCCCTGTCCTAGGACAGGGCGTCATCTTTTTTGTCA\n"
     ]
    }
   ],
   "source": [
    "# I would probably say that the tracr is just, simply la parte di pre_tracrRNA la cui antirepeat si lega alla repeat, \n",
    "# che, in questo caso, è tutta.\n",
    "tracrRNA = pre_tracrRNA\n",
    "\n",
    "print(\"\\n----------------------------------------------------------------------\")\n",
    "print(\"         tracrRNA sequence for\", feature,\"protein id\", seqid)\n",
    "print(\"----------------------------------------------------------------------\\n\")\n",
    "print(\"- contig name:\", cas_dataset[cas_dataset[\"Seq ID\"]==seqid][\"Contig\"].iloc[0])\n",
    "print(\"- Dataset: \",cas_dataset[cas_dataset[\"Seq ID\"]==seqid][\"Study\"].iloc[0])\n",
    "print(\"- Bin: \",cas_dataset[cas_dataset[\"Seq ID\"]==seqid][\"Genome Name\"].iloc[0])\n",
    "print(\"- SGB: \",cas_dataset[cas_dataset[\"Seq ID\"]==seqid][\"SGB ID\"].iloc[0])\n",
    "print(\"----------------------------------------------------------------------\\n\")\n",
    "print(\"- Length: \", len(tracrRNA),\"\\n- position: \", terminator_end,matched_rep_stop)\n",
    "print(tracrRNA)"
   ]
  },
  {
   "cell_type": "code",
   "execution_count": null,
   "metadata": {},
   "outputs": [],
   "source": []
  }
 ],
 "metadata": {
  "kernelspec": {
   "display_name": "Python 3",
   "language": "python",
   "name": "python3"
  },
  "language_info": {
   "codemirror_mode": {
    "name": "ipython",
    "version": 3
   },
   "file_extension": ".py",
   "mimetype": "text/x-python",
   "name": "python",
   "nbconvert_exporter": "python",
   "pygments_lexer": "ipython3",
   "version": "3.7.3"
  }
 },
 "nbformat": 4,
 "nbformat_minor": 2
}
