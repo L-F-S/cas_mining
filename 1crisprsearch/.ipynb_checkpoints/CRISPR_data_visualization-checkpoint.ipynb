{
 "cells": [
  {
   "cell_type": "markdown",
   "metadata": {},
   "source": [
    "<right>L-F-S<right>\n",
    "<right>12/06/2019<right>\n",
    "# Data visualization of CRISPR across the datasets\n",
    "\n",
    "I still don't know how I'm gonna do it, but it should be a fun and informative way to show where I'm at."
   ]
  },
  {
   "cell_type": "code",
   "execution_count": 1,
   "metadata": {},
   "outputs": [],
   "source": [
    "import pandas as pd\n",
    "import matplotlib.pyplot as plt\n",
    "import seaborn\n",
    "import os"
   ]
  },
  {
   "cell_type": "code",
   "execution_count": 3,
   "metadata": {},
   "outputs": [],
   "source": [
    "data_path=\"/home/lorenzo/server/data/1crisprsearch/test/out\" #TODO change with full dataset\n",
    "scripts_path=\"/home/lorenzo/server/home\"\n",
    "datasetname=\"sampledata\" # TODO remove\n",
    "os.chdir(data_path)"
   ]
  },
  {
   "cell_type": "markdown",
   "metadata": {},
   "source": [
    "## 1. Extract summary features from output data"
   ]
  },
  {
   "cell_type": "code",
   "execution_count": 95,
   "metadata": {},
   "outputs": [],
   "source": [
    "# Useful funcitons for next cell\n",
    "# every item in the bin dictionary should be of the shape:\n",
    "# [full_samplename, #CRpl, #CRmin, Tpl, Tmin]\n",
    "\n",
    "def add_ncrispr_from_pilercr(bins, filename):\n",
    "    f=open(filename)\n",
    "    for line in f.readlines():\n",
    "        if \"putative CRISPR\" in line:\n",
    "            bins[filename.rstrip(\".fa.pilercr.out\")][1]= int(line.split(\" \")[1])       \n",
    "    f.close()\n",
    "    return bins\n",
    "\n",
    "def add_ncrispr_from_minced(bins, filename):\n",
    "    f=open(filename)\n",
    "    n=0\n",
    "    for line in f.readlines():\n",
    "        if line.startswith(\"NODE\"):\n",
    "            n+=1\n",
    "    bins[filename.rstrip(\".fa.minced.out.gff\")][2]= n\n",
    "    f.close()\n",
    "    return bins"
   ]
  },
  {
   "cell_type": "code",
   "execution_count": 50,
   "metadata": {},
   "outputs": [],
   "source": [
    "def add_pilercr_time(bins, filename):\n",
    "    f=open(filename)\n",
    "    bins[filename.rstrip(\".fa.pilercr.time\")][3]= float(f.readline().split(\" \")[1].rstrip(\"\\n\"))        \n",
    "    f.close()\n",
    "    return bins\n",
    "\n",
    "def add_minced_time(bins,filename):\n",
    "    f=open(filename)\n",
    "    n=0\n",
    "    for line in f.readlines():\n",
    "        if line.startswith(\"Sequence\"):\n",
    "            n+=1\n",
    "        if line.startswith(\"Time\"):\n",
    "            bins[filename.rstrip(\".fa.minced.out\")][4] = float(line.split(\" \")[4])/1000\n",
    "    f.close()\n",
    "    return bins"
   ]
  },
  {
   "cell_type": "code",
   "execution_count": 96,
   "metadata": {},
   "outputs": [],
   "source": [
    "\n",
    "# this will likely be in a bigger for cycle of the datasets\n",
    "bins={}\n",
    "for filename in os.listdir():\n",
    "    if filename.startswith(\"bin\"): # TODO : this is a check, nel futuro, dovrà essere .startswith(datasetname)\n",
    "       # binnumber=filename[4:6] #attenzione che i numeri a una cifra saranno 4. e vabbe. speriamo non ci siano bin a 3 cifre loool\n",
    "        #if not binnumber in bins.keys{}\n",
    "         #   bins[filename[4:6]] = \"\"\n",
    "     \n",
    "        if \"pilercr\" in filename:\n",
    "            if not \"time\" in filename: # it's the pilercr output file \n",
    "                if not filename.rstrip(\".fa.pilercr.out\") in bins.keys(): # add binname to dictionary  \n",
    "                    bins[filename.rstrip(\".fa.pilercr.out\")]=[filename.rstrip(\".fa.pilercr.out\"),0,0,0,0]\n",
    "                bins=add_ncrispr_from_pilercr(bins, filename)\n",
    "                    \n",
    "            else:                  # it's the pilercr execution time\n",
    "                if not filename.rstrip(\".fa.pilercr.time\") in bins.keys(): # add binname to dictionary  \n",
    "                    bins[filename.rstrip(\".fa.pilercr.time\")]=[filename.rstrip(\".fa.pilercr.time\"),0,0,0,0]\n",
    "                bins=add_pilercr_time(bins, filename)\n",
    "        \n",
    "        else:   \n",
    "            if \".gff\" in filename: # it's the minced .gff file\n",
    "                if not filename.rstrip(\".fa.minced.out.gff\") in bins.keys():  # add binname to dictionary #TODO : leva il .txt dalle estensioni file finali\n",
    "                    bins[filename.rstrip(\".fa.minced.out.gff\")]=[filename.rstrip(\".fa.minced.out.gff\"),0,0,0,0]\n",
    "                bins=add_ncrispr_from_minced(bins, filename)\n",
    "            \n",
    "            else:                  # it's the minced output file\n",
    "                if not filename.rstrip(\".fa.minced.out\") in bins.keys():  # add binname to dictionary #TODO : leva il .txt dalle estensioni file finali\n",
    "                    bins[filename.rstrip(\".fa.minced.out\")]=[filename.rstrip(\".fa.minced.out\"),0,0,0,0]\n",
    "                bins=add_minced_time(bins, filename)\n",
    "\n",
    "f=open(\"../crispr_summary_table\", \"w\")\n",
    "f.close()"
   ]
  },
  {
   "cell_type": "code",
   "execution_count": 97,
   "metadata": {},
   "outputs": [
    {
     "data": {
      "text/html": [
       "<div>\n",
       "<style scoped>\n",
       "    .dataframe tbody tr th:only-of-type {\n",
       "        vertical-align: middle;\n",
       "    }\n",
       "\n",
       "    .dataframe tbody tr th {\n",
       "        vertical-align: top;\n",
       "    }\n",
       "\n",
       "    .dataframe thead th {\n",
       "        text-align: right;\n",
       "    }\n",
       "</style>\n",
       "<table border=\"1\" class=\"dataframe\">\n",
       "  <thead>\n",
       "    <tr style=\"text-align: right;\">\n",
       "      <th></th>\n",
       "      <th>name</th>\n",
       "      <th>nCRISPR_pilercr</th>\n",
       "      <th>nCRISPR_minced</th>\n",
       "      <th>t_pilercr</th>\n",
       "      <th>t_minced</th>\n",
       "    </tr>\n",
       "  </thead>\n",
       "  <tbody>\n",
       "    <tr>\n",
       "      <th>bin.46</th>\n",
       "      <td>bin.46</td>\n",
       "      <td>0</td>\n",
       "      <td>0</td>\n",
       "      <td>0.19</td>\n",
       "      <td>0.000</td>\n",
       "    </tr>\n",
       "    <tr>\n",
       "      <th>bin.33</th>\n",
       "      <td>bin.33</td>\n",
       "      <td>1</td>\n",
       "      <td>1</td>\n",
       "      <td>0.74</td>\n",
       "      <td>0.002</td>\n",
       "    </tr>\n",
       "    <tr>\n",
       "      <th>bin.18</th>\n",
       "      <td>bin.18</td>\n",
       "      <td>3</td>\n",
       "      <td>3</td>\n",
       "      <td>0.23</td>\n",
       "      <td>0.013</td>\n",
       "    </tr>\n",
       "    <tr>\n",
       "      <th>bin.13</th>\n",
       "      <td>bin.13</td>\n",
       "      <td>0</td>\n",
       "      <td>0</td>\n",
       "      <td>0.71</td>\n",
       "      <td>0.000</td>\n",
       "    </tr>\n",
       "    <tr>\n",
       "      <th>bin.16</th>\n",
       "      <td>bin.16</td>\n",
       "      <td>0</td>\n",
       "      <td>0</td>\n",
       "      <td>0.15</td>\n",
       "      <td>0.000</td>\n",
       "    </tr>\n",
       "    <tr>\n",
       "      <th>bin.28</th>\n",
       "      <td>bin.28</td>\n",
       "      <td>0</td>\n",
       "      <td>0</td>\n",
       "      <td>0.95</td>\n",
       "      <td>0.000</td>\n",
       "    </tr>\n",
       "    <tr>\n",
       "      <th>bin.44</th>\n",
       "      <td>bin.44</td>\n",
       "      <td>0</td>\n",
       "      <td>0</td>\n",
       "      <td>0.12</td>\n",
       "      <td>0.000</td>\n",
       "    </tr>\n",
       "    <tr>\n",
       "      <th>bin.17</th>\n",
       "      <td>bin.17</td>\n",
       "      <td>0</td>\n",
       "      <td>0</td>\n",
       "      <td>0.11</td>\n",
       "      <td>0.000</td>\n",
       "    </tr>\n",
       "    <tr>\n",
       "      <th>bin.23</th>\n",
       "      <td>bin.23</td>\n",
       "      <td>0</td>\n",
       "      <td>0</td>\n",
       "      <td>0.15</td>\n",
       "      <td>0.000</td>\n",
       "    </tr>\n",
       "    <tr>\n",
       "      <th>bin.37</th>\n",
       "      <td>bin.37</td>\n",
       "      <td>0</td>\n",
       "      <td>0</td>\n",
       "      <td>0.86</td>\n",
       "      <td>0.000</td>\n",
       "    </tr>\n",
       "    <tr>\n",
       "      <th>bin.20</th>\n",
       "      <td>bin.20</td>\n",
       "      <td>0</td>\n",
       "      <td>0</td>\n",
       "      <td>0.46</td>\n",
       "      <td>0.000</td>\n",
       "    </tr>\n",
       "    <tr>\n",
       "      <th>bin.24</th>\n",
       "      <td>bin.24</td>\n",
       "      <td>0</td>\n",
       "      <td>0</td>\n",
       "      <td>0.19</td>\n",
       "      <td>0.000</td>\n",
       "    </tr>\n",
       "    <tr>\n",
       "      <th>bin.36</th>\n",
       "      <td>bin.36</td>\n",
       "      <td>4</td>\n",
       "      <td>3</td>\n",
       "      <td>1.12</td>\n",
       "      <td>0.012</td>\n",
       "    </tr>\n",
       "    <tr>\n",
       "      <th>bin.26</th>\n",
       "      <td>bin.26</td>\n",
       "      <td>0</td>\n",
       "      <td>0</td>\n",
       "      <td>0.68</td>\n",
       "      <td>0.000</td>\n",
       "    </tr>\n",
       "    <tr>\n",
       "      <th>bin.3</th>\n",
       "      <td>bin.3</td>\n",
       "      <td>0</td>\n",
       "      <td>0</td>\n",
       "      <td>0.53</td>\n",
       "      <td>0.000</td>\n",
       "    </tr>\n",
       "    <tr>\n",
       "      <th>bin.43</th>\n",
       "      <td>bin.43</td>\n",
       "      <td>0</td>\n",
       "      <td>0</td>\n",
       "      <td>0.11</td>\n",
       "      <td>0.000</td>\n",
       "    </tr>\n",
       "    <tr>\n",
       "      <th>bin.30</th>\n",
       "      <td>bin.30</td>\n",
       "      <td>0</td>\n",
       "      <td>0</td>\n",
       "      <td>0.20</td>\n",
       "      <td>0.000</td>\n",
       "    </tr>\n",
       "    <tr>\n",
       "      <th>bin.41</th>\n",
       "      <td>bin.41</td>\n",
       "      <td>0</td>\n",
       "      <td>0</td>\n",
       "      <td>0.95</td>\n",
       "      <td>0.000</td>\n",
       "    </tr>\n",
       "    <tr>\n",
       "      <th>bin.38</th>\n",
       "      <td>bin.38</td>\n",
       "      <td>1</td>\n",
       "      <td>1</td>\n",
       "      <td>0.89</td>\n",
       "      <td>0.007</td>\n",
       "    </tr>\n",
       "    <tr>\n",
       "      <th>bin.34</th>\n",
       "      <td>bin.34</td>\n",
       "      <td>0</td>\n",
       "      <td>0</td>\n",
       "      <td>0.97</td>\n",
       "      <td>0.000</td>\n",
       "    </tr>\n",
       "    <tr>\n",
       "      <th>bin.31</th>\n",
       "      <td>bin.31</td>\n",
       "      <td>0</td>\n",
       "      <td>0</td>\n",
       "      <td>0.69</td>\n",
       "      <td>0.000</td>\n",
       "    </tr>\n",
       "    <tr>\n",
       "      <th>bin.4</th>\n",
       "      <td>bin.4</td>\n",
       "      <td>0</td>\n",
       "      <td>0</td>\n",
       "      <td>0.14</td>\n",
       "      <td>0.000</td>\n",
       "    </tr>\n",
       "    <tr>\n",
       "      <th>bin.14</th>\n",
       "      <td>bin.14</td>\n",
       "      <td>0</td>\n",
       "      <td>0</td>\n",
       "      <td>0.12</td>\n",
       "      <td>0.000</td>\n",
       "    </tr>\n",
       "    <tr>\n",
       "      <th>bin.15</th>\n",
       "      <td>bin.15</td>\n",
       "      <td>0</td>\n",
       "      <td>0</td>\n",
       "      <td>0.51</td>\n",
       "      <td>0.000</td>\n",
       "    </tr>\n",
       "    <tr>\n",
       "      <th>bin.12</th>\n",
       "      <td>bin.12</td>\n",
       "      <td>1</td>\n",
       "      <td>1</td>\n",
       "      <td>0.14</td>\n",
       "      <td>0.029</td>\n",
       "    </tr>\n",
       "    <tr>\n",
       "      <th>bin.42</th>\n",
       "      <td>bin.42</td>\n",
       "      <td>2</td>\n",
       "      <td>2</td>\n",
       "      <td>0.81</td>\n",
       "      <td>0.010</td>\n",
       "    </tr>\n",
       "    <tr>\n",
       "      <th>bin.11</th>\n",
       "      <td>bin.11</td>\n",
       "      <td>0</td>\n",
       "      <td>0</td>\n",
       "      <td>0.20</td>\n",
       "      <td>0.000</td>\n",
       "    </tr>\n",
       "    <tr>\n",
       "      <th>bin.1</th>\n",
       "      <td>bin.1</td>\n",
       "      <td>3</td>\n",
       "      <td>4</td>\n",
       "      <td>0.74</td>\n",
       "      <td>0.001</td>\n",
       "    </tr>\n",
       "    <tr>\n",
       "      <th>bin.25</th>\n",
       "      <td>bin.25</td>\n",
       "      <td>0</td>\n",
       "      <td>0</td>\n",
       "      <td>0.73</td>\n",
       "      <td>0.000</td>\n",
       "    </tr>\n",
       "    <tr>\n",
       "      <th>bin.40</th>\n",
       "      <td>bin.40</td>\n",
       "      <td>0</td>\n",
       "      <td>0</td>\n",
       "      <td>1.07</td>\n",
       "      <td>0.000</td>\n",
       "    </tr>\n",
       "    <tr>\n",
       "      <th>bin.35</th>\n",
       "      <td>bin.35</td>\n",
       "      <td>0</td>\n",
       "      <td>0</td>\n",
       "      <td>0.15</td>\n",
       "      <td>0.000</td>\n",
       "    </tr>\n",
       "    <tr>\n",
       "      <th>bin.45</th>\n",
       "      <td>bin.45</td>\n",
       "      <td>0</td>\n",
       "      <td>0</td>\n",
       "      <td>0.50</td>\n",
       "      <td>0.000</td>\n",
       "    </tr>\n",
       "    <tr>\n",
       "      <th>bin.10</th>\n",
       "      <td>bin.10</td>\n",
       "      <td>1</td>\n",
       "      <td>1</td>\n",
       "      <td>0.54</td>\n",
       "      <td>0.004</td>\n",
       "    </tr>\n",
       "    <tr>\n",
       "      <th>bin.21</th>\n",
       "      <td>bin.21</td>\n",
       "      <td>1</td>\n",
       "      <td>1</td>\n",
       "      <td>0.99</td>\n",
       "      <td>0.023</td>\n",
       "    </tr>\n",
       "    <tr>\n",
       "      <th>bin.32</th>\n",
       "      <td>bin.32</td>\n",
       "      <td>3</td>\n",
       "      <td>1</td>\n",
       "      <td>0.39</td>\n",
       "      <td>0.008</td>\n",
       "    </tr>\n",
       "    <tr>\n",
       "      <th>bin.27</th>\n",
       "      <td>bin.27</td>\n",
       "      <td>0</td>\n",
       "      <td>0</td>\n",
       "      <td>0.54</td>\n",
       "      <td>0.000</td>\n",
       "    </tr>\n",
       "    <tr>\n",
       "      <th>bin.47</th>\n",
       "      <td>bin.47</td>\n",
       "      <td>0</td>\n",
       "      <td>0</td>\n",
       "      <td>0.32</td>\n",
       "      <td>0.000</td>\n",
       "    </tr>\n",
       "    <tr>\n",
       "      <th>bin.22</th>\n",
       "      <td>bin.22</td>\n",
       "      <td>0</td>\n",
       "      <td>0</td>\n",
       "      <td>0.87</td>\n",
       "      <td>0.000</td>\n",
       "    </tr>\n",
       "    <tr>\n",
       "      <th>bin.19</th>\n",
       "      <td>bin.19</td>\n",
       "      <td>0</td>\n",
       "      <td>0</td>\n",
       "      <td>0.15</td>\n",
       "      <td>0.000</td>\n",
       "    </tr>\n",
       "    <tr>\n",
       "      <th>bin.39</th>\n",
       "      <td>bin.39</td>\n",
       "      <td>1</td>\n",
       "      <td>1</td>\n",
       "      <td>0.87</td>\n",
       "      <td>0.003</td>\n",
       "    </tr>\n",
       "    <tr>\n",
       "      <th>bin.2</th>\n",
       "      <td>bin.2</td>\n",
       "      <td>3</td>\n",
       "      <td>3</td>\n",
       "      <td>0.70</td>\n",
       "      <td>0.011</td>\n",
       "    </tr>\n",
       "    <tr>\n",
       "      <th>bin.29</th>\n",
       "      <td>bin.29</td>\n",
       "      <td>2</td>\n",
       "      <td>2</td>\n",
       "      <td>0.63</td>\n",
       "      <td>0.028</td>\n",
       "    </tr>\n",
       "  </tbody>\n",
       "</table>\n",
       "</div>"
      ],
      "text/plain": [
       "          name  nCRISPR_pilercr  nCRISPR_minced  t_pilercr  t_minced\n",
       "bin.46  bin.46                0               0       0.19     0.000\n",
       "bin.33  bin.33                1               1       0.74     0.002\n",
       "bin.18  bin.18                3               3       0.23     0.013\n",
       "bin.13  bin.13                0               0       0.71     0.000\n",
       "bin.16  bin.16                0               0       0.15     0.000\n",
       "bin.28  bin.28                0               0       0.95     0.000\n",
       "bin.44  bin.44                0               0       0.12     0.000\n",
       "bin.17  bin.17                0               0       0.11     0.000\n",
       "bin.23  bin.23                0               0       0.15     0.000\n",
       "bin.37  bin.37                0               0       0.86     0.000\n",
       "bin.20  bin.20                0               0       0.46     0.000\n",
       "bin.24  bin.24                0               0       0.19     0.000\n",
       "bin.36  bin.36                4               3       1.12     0.012\n",
       "bin.26  bin.26                0               0       0.68     0.000\n",
       "bin.3    bin.3                0               0       0.53     0.000\n",
       "bin.43  bin.43                0               0       0.11     0.000\n",
       "bin.30  bin.30                0               0       0.20     0.000\n",
       "bin.41  bin.41                0               0       0.95     0.000\n",
       "bin.38  bin.38                1               1       0.89     0.007\n",
       "bin.34  bin.34                0               0       0.97     0.000\n",
       "bin.31  bin.31                0               0       0.69     0.000\n",
       "bin.4    bin.4                0               0       0.14     0.000\n",
       "bin.14  bin.14                0               0       0.12     0.000\n",
       "bin.15  bin.15                0               0       0.51     0.000\n",
       "bin.12  bin.12                1               1       0.14     0.029\n",
       "bin.42  bin.42                2               2       0.81     0.010\n",
       "bin.11  bin.11                0               0       0.20     0.000\n",
       "bin.1    bin.1                3               4       0.74     0.001\n",
       "bin.25  bin.25                0               0       0.73     0.000\n",
       "bin.40  bin.40                0               0       1.07     0.000\n",
       "bin.35  bin.35                0               0       0.15     0.000\n",
       "bin.45  bin.45                0               0       0.50     0.000\n",
       "bin.10  bin.10                1               1       0.54     0.004\n",
       "bin.21  bin.21                1               1       0.99     0.023\n",
       "bin.32  bin.32                3               1       0.39     0.008\n",
       "bin.27  bin.27                0               0       0.54     0.000\n",
       "bin.47  bin.47                0               0       0.32     0.000\n",
       "bin.22  bin.22                0               0       0.87     0.000\n",
       "bin.19  bin.19                0               0       0.15     0.000\n",
       "bin.39  bin.39                1               1       0.87     0.003\n",
       "bin.2    bin.2                3               3       0.70     0.011\n",
       "bin.29  bin.29                2               2       0.63     0.028"
      ]
     },
     "execution_count": 97,
     "metadata": {},
     "output_type": "execute_result"
    }
   ],
   "source": [
    "df = pd.DataFrame.from_dict(bins, orient='index', columns = [\"name\",\"nCRISPR_pilercr\",\"nCRISPR_minced\",\"t_pilercr\",\"t_minced\"])\n",
    "df"
   ]
  },
  {
   "cell_type": "markdown",
   "metadata": {},
   "source": [
    "### Total CRISPR sequences found:"
   ]
  },
  {
   "cell_type": "code",
   "execution_count": 102,
   "metadata": {},
   "outputs": [
    {
     "name": "stdout",
     "output_type": "stream",
     "text": [
      "42 bins (=reconstructed genomes) analyzed\n",
      "24  CRISPR sequences found with minced\n",
      "26  CRISPR sequences founf with pilercr\n"
     ]
    }
   ],
   "source": [
    "print(df.shape[0], \"bins (=reconstructed genomes) analyzed\")\n",
    "print(sum(df[\"nCRISPR_minced\"]), \" CRISPR sequences found with minced\")\n",
    "print(sum(df[\"nCRISPR_pilercr\"]), \" CRISPR sequences founf with pilercr\")"
   ]
  },
  {
   "cell_type": "markdown",
   "metadata": {},
   "source": [
    "### Plot histogram of number of CRISPR per bin"
   ]
  },
  {
   "cell_type": "code",
   "execution_count": 93,
   "metadata": {},
   "outputs": [
    {
     "data": {
      "text/plain": [
       "<matplotlib.legend.Legend at 0x7fb8f8f0df28>"
      ]
     },
     "execution_count": 93,
     "metadata": {},
     "output_type": "execute_result"
    },
    {
     "data": {
      "image/png": "[encoded data removed]",
      "text/plain": [
       "<Figure size 432x288 with 1 Axes>"
      ]
     },
     "metadata": {
      "needs_background": "light"
     },
     "output_type": "display_data"
    }
   ],
   "source": [
    "\n",
    "plt.figure()\n",
    "plt.hist(df[\"nCRISPR_minced\"], color=\"orange\", alpha=0.4, label=\"minced\")\n",
    "plt.hist(list(df[\"nCRISPR_pilercr\"]), color=\"teal\", alpha=0.4, label=\"pilercr\")\n",
    "plt.legend()"
   ]
  },
  {
   "cell_type": "markdown",
   "metadata": {},
   "source": [
    "## Plot Genome Length vs Time"
   ]
  },
  {
   "cell_type": "code",
   "execution_count": 2,
   "metadata": {},
   "outputs": [
    {
     "data": {
      "text/plain": [
       "<seaborn.axisgrid.FacetGrid at 0x7f65dd4a86d8>"
      ]
     },
     "execution_count": 2,
     "metadata": {},
     "output_type": "execute_result"
    },
    {
     "data": {
      "image/png": "[encoded data removed]",
      "text/plain": [
       "<Figure size 420.635x216 with 1 Axes>"
      ]
     },
     "metadata": {
      "needs_background": "light"
     },
     "output_type": "display_data"
    }
   ],
   "source": [
    "fig = seaborn.FacetGrid(data=df, hue='algorithm', aspect=1.61)\n",
    "fig.map(plt.scatter, '#Mbp', 'time(s)').add_legend()"
   ]
  },
  {
   "cell_type": "markdown",
   "metadata": {},
   "source": [
    "pilercr exhibits a definitely nonlinear behaviour"
   ]
  },
  {
   "cell_type": "markdown",
   "metadata": {},
   "source": [
    "## Plot number of CRISPR found for each genome"
   ]
  },
  {
   "cell_type": "code",
   "execution_count": 3,
   "metadata": {},
   "outputs": [
    {
     "data": {
      "text/plain": [
       "<seaborn.axisgrid.FacetGrid at 0x7f65dd1c4c50>"
      ]
     },
     "execution_count": 3,
     "metadata": {},
     "output_type": "execute_result"
    },
    {
     "data": {
      "image/png": "[encoded data removed]",
      "text/plain": [
       "<Figure size 420.635x216 with 1 Axes>"
      ]
     },
     "metadata": {
      "needs_background": "light"
     },
     "output_type": "display_data"
    }
   ],
   "source": [
    "fig = seaborn.FacetGrid(data=df, hue='algorithm', aspect=1.61)\n",
    "fig.map(plt.scatter, \"data\", \"#CRISPR\").add_legend()"
   ]
  },
  {
   "cell_type": "markdown",
   "metadata": {},
   "source": [
    "X-axis are the separate genomes, y-axis are the # Crispr found for each genome. If only one color is present, then both algorithms have found the same CRISPRs"
   ]
  },
  {
   "cell_type": "markdown",
   "metadata": {},
   "source": [
    "## Test against known annotations\n",
    "\n",
    "Results should be comparable with CRISPR (direct_spacer in RefSeq) in relative annotated genomes.\n",
    "\n",
    "input: .gff files of the same genomes"
   ]
  },
  {
   "cell_type": "code",
   "execution_count": 4,
   "metadata": {},
   "outputs": [
    {
     "name": "stdout",
     "output_type": "stream",
     "text": [
      "        data  #Mbp  #CRISPR_with_pilercr  #CRISPR_with_minced  \\\n",
      "0        Spy   1.8                     2                    4   \n",
      "1       Mlac   4.2                     9                    9   \n",
      "2   NC006449   1.8                     1                    1   \n",
      "3  NC_015847   1.7                     1                    1   \n",
      "4  NC_023011   1.3                     1                    1   \n",
      "5  NC_023060   1.1                     0                    0   \n",
      "6       Scel  13.2                     8                    7   \n",
      "7        Buk   8.7                     0                    1   \n",
      "\n",
      "   #CRISPR_Genbank_anno  \n",
      "0                     2  \n",
      "1                     9  \n",
      "2                     3  \n",
      "3                     1  \n",
      "4                     1  \n",
      "5                     0  \n",
      "6                     7  \n",
      "7                     0  \n"
     ]
    }
   ],
   "source": [
    "df = pd.read_csv(\"/home/lorenzo/Cas_mining/test1/pos_test\")\n",
    "print(df)"
   ]
  },
  {
   "cell_type": "code",
   "execution_count": 61,
   "metadata": {},
   "outputs": [
    {
     "data": {
      "image/png": "[encoded data removed]",
      "text/plain": [
       "<Figure size 432x288 with 1 Axes>"
      ]
     },
     "metadata": {
      "needs_background": "light"
     },
     "output_type": "display_data"
    }
   ],
   "source": [
    "plt.figure()\n",
    "plt.scatter(df.data, df[df.columns[2]], alpha = 1, marker=(3,2,0), s=30)\n",
    "plt.scatter(df.data, df[df.columns[3]], alpha = 1, marker=(3,2,40), s=30)\n",
    "plt.scatter(df.data ,df[df.columns[4]], alpha = 1, marker=(3,2,80), s=30)\n",
    "plt.legend(loc=\"upper left\")\n",
    "plt.show()"
   ]
  }
 ],
 "metadata": {
  "kernelspec": {
   "display_name": "Python 3",
   "language": "python",
   "name": "python3"
  },
  "language_info": {
   "codemirror_mode": {
    "name": "ipython",
    "version": 3
   },
   "file_extension": ".py",
   "mimetype": "text/x-python",
   "name": "python",
   "nbconvert_exporter": "python",
   "pygments_lexer": "ipython3",
   "version": "3.7.3"
  }
 },
 "nbformat": 4,
 "nbformat_minor": 2
}
